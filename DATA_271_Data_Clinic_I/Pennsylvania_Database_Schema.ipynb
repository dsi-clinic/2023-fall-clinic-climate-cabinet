{
 "cells": [
  {
   "cell_type": "code",
   "execution_count": 1,
   "metadata": {},
   "outputs": [],
   "source": [
    "import pandas as pd\n",
    "import sqlalchemy\n",
    "\n",
    "engine = sqlalchemy.create_engine(\"sqlite:///Pennsylvania_Database_Schema.sqlite\")\n",
    "connection = engine.connect()"
   ]
  },
  {
   "cell_type": "code",
   "execution_count": 2,
   "metadata": {},
   "outputs": [
    {
     "ename": "AttributeError",
     "evalue": "'Engine' object has no attribute 'execute'",
     "output_type": "error",
     "traceback": [
      "\u001b[0;31m---------------------------------------------------------------------------\u001b[0m",
      "\u001b[0;31mAttributeError\u001b[0m                            Traceback (most recent call last)",
      "\u001b[1;32m/project/DATA_271_Data_Clinic_I/Pennsylvania_Database_Schema.ipynb Cell 2\u001b[0m line \u001b[0;36m4\n\u001b[1;32m      <a href='vscode-notebook-cell://dev-container%2B7b22686f737450617468223a225c5c5c5c77736c2e6c6f63616c686f73745c5c5562756e74755c5c686f6d655c5c616c616e6b61676972695c5c323032332d66616c6c2d636c696e69632d636c696d6174652d636162696e6574222c226c6f63616c446f636b6572223a66616c73652c22636f6e66696746696c65223a7b22246d6964223a312c2270617468223a222f686f6d652f616c616e6b61676972692f323032332d66616c6c2d636c696e69632d636c696d6174652d636162696e65742f2e646576636f6e7461696e65722f646576636f6e7461696e65722e6a736f6e222c22736368656d65223a227673636f64652d66696c65486f7374227d7d/project/DATA_271_Data_Clinic_I/Pennsylvania_Database_Schema.ipynb#W1sdnNjb2RlLXJlbW90ZQ%3D%3D?line=0'>1</a>\u001b[0m sql_expr \u001b[39m=\u001b[39m \u001b[39m\"\"\"\u001b[39m\n\u001b[1;32m      <a href='vscode-notebook-cell://dev-container%2B7b22686f737450617468223a225c5c5c5c77736c2e6c6f63616c686f73745c5c5562756e74755c5c686f6d655c5c616c616e6b61676972695c5c323032332d66616c6c2d636c696e69632d636c696d6174652d636162696e6574222c226c6f63616c446f636b6572223a66616c73652c22636f6e66696746696c65223a7b22246d6964223a312c2270617468223a222f686f6d652f616c616e6b61676972692f323032332d66616c6c2d636c696e69632d636c696d6174652d636162696e65742f2e646576636f6e7461696e65722f646576636f6e7461696e65722e6a736f6e222c22736368656d65223a227673636f64652d66696c65486f7374227d7d/project/DATA_271_Data_Clinic_I/Pennsylvania_Database_Schema.ipynb#W1sdnNjb2RlLXJlbW90ZQ%3D%3D?line=1'>2</a>\u001b[0m \u001b[39mDROP TABLE IF EXISTS contributors;\u001b[39m\n\u001b[1;32m      <a href='vscode-notebook-cell://dev-container%2B7b22686f737450617468223a225c5c5c5c77736c2e6c6f63616c686f73745c5c5562756e74755c5c686f6d655c5c616c616e6b61676972695c5c323032332d66616c6c2d636c696e69632d636c696d6174652d636162696e6574222c226c6f63616c446f636b6572223a66616c73652c22636f6e66696746696c65223a7b22246d6964223a312c2270617468223a222f686f6d652f616c616e6b61676972692f323032332d66616c6c2d636c696e69632d636c696d6174652d636162696e65742f2e646576636f6e7461696e65722f646576636f6e7461696e65722e6a736f6e222c22736368656d65223a227673636f64652d66696c65486f7374227d7d/project/DATA_271_Data_Clinic_I/Pennsylvania_Database_Schema.ipynb#W1sdnNjb2RlLXJlbW90ZQ%3D%3D?line=2'>3</a>\u001b[0m \u001b[39m\"\"\"\u001b[39m\n\u001b[0;32m----> <a href='vscode-notebook-cell://dev-container%2B7b22686f737450617468223a225c5c5c5c77736c2e6c6f63616c686f73745c5c5562756e74755c5c686f6d655c5c616c616e6b61676972695c5c323032332d66616c6c2d636c696e69632d636c696d6174652d636162696e6574222c226c6f63616c446f636b6572223a66616c73652c22636f6e66696746696c65223a7b22246d6964223a312c2270617468223a222f686f6d652f616c616e6b61676972692f323032332d66616c6c2d636c696e69632d636c696d6174652d636162696e65742f2e646576636f6e7461696e65722f646576636f6e7461696e65722e6a736f6e222c22736368656d65223a227673636f64652d66696c65486f7374227d7d/project/DATA_271_Data_Clinic_I/Pennsylvania_Database_Schema.ipynb#W1sdnNjb2RlLXJlbW90ZQ%3D%3D?line=3'>4</a>\u001b[0m result \u001b[39m=\u001b[39m engine\u001b[39m.\u001b[39;49mexecute(sql_expr)\n\u001b[1;32m      <a href='vscode-notebook-cell://dev-container%2B7b22686f737450617468223a225c5c5c5c77736c2e6c6f63616c686f73745c5c5562756e74755c5c686f6d655c5c616c616e6b61676972695c5c323032332d66616c6c2d636c696e69632d636c696d6174652d636162696e6574222c226c6f63616c446f636b6572223a66616c73652c22636f6e66696746696c65223a7b22246d6964223a312c2270617468223a222f686f6d652f616c616e6b61676972692f323032332d66616c6c2d636c696e69632d636c696d6174652d636162696e65742f2e646576636f6e7461696e65722f646576636f6e7461696e65722e6a736f6e222c22736368656d65223a227673636f64652d66696c65486f7374227d7d/project/DATA_271_Data_Clinic_I/Pennsylvania_Database_Schema.ipynb#W1sdnNjb2RlLXJlbW90ZQ%3D%3D?line=5'>6</a>\u001b[0m sql_expr \u001b[39m=\u001b[39m \u001b[39m\"\"\"\u001b[39m\n\u001b[1;32m      <a href='vscode-notebook-cell://dev-container%2B7b22686f737450617468223a225c5c5c5c77736c2e6c6f63616c686f73745c5c5562756e74755c5c686f6d655c5c616c616e6b61676972695c5c323032332d66616c6c2d636c696e69632d636c696d6174652d636162696e6574222c226c6f63616c446f636b6572223a66616c73652c22636f6e66696746696c65223a7b22246d6964223a312c2270617468223a222f686f6d652f616c616e6b61676972692f323032332d66616c6c2d636c696e69632d636c696d6174652d636162696e65742f2e646576636f6e7461696e65722f646576636f6e7461696e65722e6a736f6e222c22736368656d65223a227673636f64652d66696c65486f7374227d7d/project/DATA_271_Data_Clinic_I/Pennsylvania_Database_Schema.ipynb#W1sdnNjb2RlLXJlbW90ZQ%3D%3D?line=6'>7</a>\u001b[0m \u001b[39mDROP TABLE IF EXISTS recipients;\u001b[39m\n\u001b[1;32m      <a href='vscode-notebook-cell://dev-container%2B7b22686f737450617468223a225c5c5c5c77736c2e6c6f63616c686f73745c5c5562756e74755c5c686f6d655c5c616c616e6b61676972695c5c323032332d66616c6c2d636c696e69632d636c696d6174652d636162696e6574222c226c6f63616c446f636b6572223a66616c73652c22636f6e66696746696c65223a7b22246d6964223a312c2270617468223a222f686f6d652f616c616e6b61676972692f323032332d66616c6c2d636c696e69632d636c696d6174652d636162696e65742f2e646576636f6e7461696e65722f646576636f6e7461696e65722e6a736f6e222c22736368656d65223a227673636f64652d66696c65486f7374227d7d/project/DATA_271_Data_Clinic_I/Pennsylvania_Database_Schema.ipynb#W1sdnNjb2RlLXJlbW90ZQ%3D%3D?line=7'>8</a>\u001b[0m \u001b[39m\"\"\"\u001b[39m\n\u001b[1;32m      <a href='vscode-notebook-cell://dev-container%2B7b22686f737450617468223a225c5c5c5c77736c2e6c6f63616c686f73745c5c5562756e74755c5c686f6d655c5c616c616e6b61676972695c5c323032332d66616c6c2d636c696e69632d636c696d6174652d636162696e6574222c226c6f63616c446f636b6572223a66616c73652c22636f6e66696746696c65223a7b22246d6964223a312c2270617468223a222f686f6d652f616c616e6b61676972692f323032332d66616c6c2d636c696e69632d636c696d6174652d636162696e65742f2e646576636f6e7461696e65722f646576636f6e7461696e65722e6a736f6e222c22736368656d65223a227673636f64652d66696c65486f7374227d7d/project/DATA_271_Data_Clinic_I/Pennsylvania_Database_Schema.ipynb#W1sdnNjb2RlLXJlbW90ZQ%3D%3D?line=8'>9</a>\u001b[0m result \u001b[39m=\u001b[39m engine\u001b[39m.\u001b[39mexecute(sql_expr)\n",
      "\u001b[0;31mAttributeError\u001b[0m: 'Engine' object has no attribute 'execute'"
     ]
    }
   ],
   "source": [
    "sql_expr = \"\"\"\n",
    "DROP TABLE IF EXISTS contributors;\n",
    "\"\"\"\n",
    "result = engine.execute(sql_expr)\n",
    "\n",
    "sql_expr = \"\"\"\n",
    "DROP TABLE IF EXISTS recipients;\n",
    "\"\"\"\n",
    "result = engine.execute(sql_expr)\n",
    "\n",
    "sql_expr = \"\"\"\n",
    "DROP TABLE IF EXISTS transactions;\n",
    "\"\"\"\n",
    "result = engine.execute(sql_expr)\n",
    "\n",
    "sql_expr = \"\"\"\n",
    "CREATE TABLE contributors (\n",
    "    CONTID   INT                 NOT NULL,                 \n",
    "    FIRST_NAME    VARCHAR (256)  NOT NULL, \n",
    "    LAST_NAME     VARCHAR(256)   NOT NULL,\n",
    "    FULL_NAME     VARCHAR(256)   NOT NULL,\n",
    "    STATE         CHAR(2)        NOT NULL,\n",
    "    ENTITY_TYPE   ENUM           NOT NULL,\n",
    "    PRIMARY KEY (CONTID)\n",
    ");\n",
    "\"\"\"\n",
    "result = engine.execute(sql_expr)\n",
    "\n",
    "sql_expr = \"\"\"\n",
    "CREATE TABLE recipients (\n",
    "    RECEPID   INT                 NOT NULL,                 \n",
    "    FIRST_NAME    VARCHAR (256)  NOT NULL, \n",
    "    LAST_NAME     VARCHAR(256)   NOT NULL,\n",
    "    FULL_NAME     VARCHAR(256)   NOT NULL,\n",
    "    STATE         CHAR(2)        NOT NULL,\n",
    "    ENTITY_TYPE   ENUM           NOT NULL,\n",
    "    PRIMARY KEY (RECEPID)\n",
    ");\n",
    "\"\"\"\n",
    "result = engine.execute(sql_expr)\n",
    "\n",
    "sql_expr = \"\"\"\n",
    "CREATE TABLE transactions (\n",
    "    CONTID   INT                 NOT NULL,                 \n",
    "    YEAR     INT   NOT NULL, \n",
    "    AMOUNT   FLOAT   NOT NULL,\n",
    "    RECEPID     VARCHAR(256)   NOT NULL,\n",
    "    PRIMARY KEY (CONTID)\n",
    ");\n",
    "\"\"\"\n",
    "result = engine.execute(sql_expr)\n"
   ]
  },
  {
   "cell_type": "code",
   "execution_count": null,
   "metadata": {},
   "outputs": [],
   "source": []
  }
 ],
 "metadata": {
  "kernelspec": {
   "display_name": "base",
   "language": "python",
   "name": "python3"
  },
  "language_info": {
   "codemirror_mode": {
    "name": "ipython",
    "version": 3
   },
   "file_extension": ".py",
   "mimetype": "text/x-python",
   "name": "python",
   "nbconvert_exporter": "python",
   "pygments_lexer": "ipython3",
   "version": "3.11.6"
  }
 },
 "nbformat": 4,
 "nbformat_minor": 2
}
