{
 "cells": [
  {
   "cell_type": "markdown",
   "metadata": {},
   "source": [
    "## Harvard Dataset EDA\n",
    "The Harvard dataset, which contains information on individual candidates, aims to enrich the exiting individual dataset (`individuals_table.csv`) from various states. (However, as Sarah suggested, it's still uncertain whether a new table for candidates should be created. If so, it could include more variables.) For now, I've selected variables that could 1) help match individuals within the two datasets and 2) provide additional information in addition to the individual's table, such as election outcomes and candidate party affiliations.\n",
    "\n",
    "This Markdown document is designed to explain the rationale behind the selection of variables within the Harvard dataset and to describe the basic nature of these variables."
   ]
  },
  {
   "cell_type": "code",
   "execution_count": 88,
   "metadata": {},
   "outputs": [],
   "source": [
    "import pandas as pd\n",
    "import numpy as np"
   ]
  },
  {
   "cell_type": "code",
   "execution_count": 37,
   "metadata": {},
   "outputs": [
    {
     "name": "stderr",
     "output_type": "stream",
     "text": [
      "/tmp/ipykernel_11723/900020906.py:1: DtypeWarning: Columns (1,9,12,13,17,22,27,31,39,40,43,47,55,66,70,71,74,75,76,77,78,79,80,81,82,83,84,85,86,87,91) have mixed types. Specify dtype option on import or set low_memory=False.\n",
      "  hv_df = pd.read_csv(\"harvard.csv\")\n"
     ]
    }
   ],
   "source": [
    "hv_df = pd.read_csv(\"harvard.csv\")"
   ]
  },
  {
   "cell_type": "code",
   "execution_count": 85,
   "metadata": {},
   "outputs": [],
   "source": [
    "HV_INDIVIDUAL_COLS = [\n",
    "    \"caseid\",\n",
    "    \"year\",\n",
    "    \"month\",\n",
    "    \"day\",\n",
    "    \"sab\",\n",
    "    \"cname\",\n",
    "    \"candid\",\n",
    "    \"cand\",\n",
    "    \"sen\",\n",
    "    \"partyz\",\n",
    "    \"partyt\",\n",
    "    \"outcome\",\n",
    "    \"last\",\n",
    "    \"first\",\n",
    "    \"v19_20171211\",\n",
    "    \"v19_20160217\"\n",
    "\n",
    "]\n",
    "raw_df = hv_df[HV_INDIVIDUAL_COLS]"
   ]
  },
  {
   "cell_type": "markdown",
   "metadata": {},
   "source": [
    "1. Name columns (`v19_20171211`,`v19_20160217`,`cand`,\n",
    "`last` and `first`)  \n",
    "`cand`\tStandardized Candidate Name  \n",
    "`v19_20171211`\tStandardized Candidate Name from December 11, 2017  \n",
    "`v19_20160217`\tStandardized Candidate Name from February 17, 2016  \n"
   ]
  },
  {
   "cell_type": "code",
   "execution_count": 64,
   "metadata": {},
   "outputs": [
    {
     "data": {
      "text/html": [
       "<div>\n",
       "<style scoped>\n",
       "    .dataframe tbody tr th:only-of-type {\n",
       "        vertical-align: middle;\n",
       "    }\n",
       "\n",
       "    .dataframe tbody tr th {\n",
       "        vertical-align: top;\n",
       "    }\n",
       "\n",
       "    .dataframe thead th {\n",
       "        text-align: right;\n",
       "    }\n",
       "</style>\n",
       "<table border=\"1\" class=\"dataframe\">\n",
       "  <thead>\n",
       "    <tr style=\"text-align: right;\">\n",
       "      <th></th>\n",
       "      <th>v19_20171211</th>\n",
       "      <th>v19_20160217</th>\n",
       "    </tr>\n",
       "  </thead>\n",
       "  <tbody>\n",
       "  </tbody>\n",
       "</table>\n",
       "</div>"
      ],
      "text/plain": [
       "Empty DataFrame\n",
       "Columns: [v19_20171211, v19_20160217]\n",
       "Index: []"
      ]
     },
     "execution_count": 64,
     "metadata": {},
     "output_type": "execute_result"
    }
   ],
   "source": [
    "# if two standardized candidate columns match\n",
    "# What is the pattern for update, any correction of just update from NaN.\n",
    "raw_df[\n",
    "    (raw_df[\"v19_20171211\"].str.strip() != raw_df[\"v19_20160217\"].str.strip()) &\n",
    "    ~raw_df[\"v19_20160217\"].isna()\n",
    "][[\"v19_20171211\", \"v19_20160217\"]]\n"
   ]
  },
  {
   "cell_type": "markdown",
   "metadata": {},
   "source": [
    "We thus know that v19_20171211 is a update of v19_20160217, there is no additional information within the v19_20160217 volumn. "
   ]
  },
  {
   "cell_type": "code",
   "execution_count": 90,
   "metadata": {},
   "outputs": [
    {
     "name": "stderr",
     "output_type": "stream",
     "text": [
      "/tmp/ipykernel_11723/3528258281.py:1: SettingWithCopyWarning: \n",
      "A value is trying to be set on a copy of a slice from a DataFrame.\n",
      "Try using .loc[row_indexer,col_indexer] = value instead\n",
      "\n",
      "See the caveats in the documentation: https://pandas.pydata.org/pandas-docs/stable/user_guide/indexing.html#returning-a-view-versus-a-copy\n",
      "  raw_df[\"v19_20171211\"] = raw_df[\"v19_20171211\"].str.lower()\n"
     ]
    },
    {
     "data": {
      "text/html": [
       "<div>\n",
       "<style scoped>\n",
       "    .dataframe tbody tr th:only-of-type {\n",
       "        vertical-align: middle;\n",
       "    }\n",
       "\n",
       "    .dataframe tbody tr th {\n",
       "        vertical-align: top;\n",
       "    }\n",
       "\n",
       "    .dataframe thead th {\n",
       "        text-align: right;\n",
       "    }\n",
       "</style>\n",
       "<table border=\"1\" class=\"dataframe\">\n",
       "  <thead>\n",
       "    <tr style=\"text-align: right;\">\n",
       "      <th></th>\n",
       "      <th>v19_20171211</th>\n",
       "      <th>cand</th>\n",
       "      <th>first</th>\n",
       "      <th>last</th>\n",
       "    </tr>\n",
       "  </thead>\n",
       "  <tbody>\n",
       "    <tr>\n",
       "      <th>50551</th>\n",
       "      <td>NaN</td>\n",
       "      <td>fullwood, reggie</td>\n",
       "      <td>reggie</td>\n",
       "      <td>fullwood</td>\n",
       "    </tr>\n",
       "    <tr>\n",
       "      <th>50552</th>\n",
       "      <td>NaN</td>\n",
       "      <td>jefferson, lawrence m. (jeff)</td>\n",
       "      <td>lawrence</td>\n",
       "      <td>jefferson</td>\n",
       "    </tr>\n",
       "    <tr>\n",
       "      <th>50553</th>\n",
       "      <td>NaN</td>\n",
       "      <td>grant, james</td>\n",
       "      <td>james</td>\n",
       "      <td>grant</td>\n",
       "    </tr>\n",
       "    <tr>\n",
       "      <th>50554</th>\n",
       "      <td>NaN</td>\n",
       "      <td>matthews, daniel john</td>\n",
       "      <td>daniel</td>\n",
       "      <td>matthews</td>\n",
       "    </tr>\n",
       "    <tr>\n",
       "      <th>73338</th>\n",
       "      <td>NaN</td>\n",
       "      <td>mcalister, kate</td>\n",
       "      <td>kate</td>\n",
       "      <td>mcalister</td>\n",
       "    </tr>\n",
       "    <tr>\n",
       "      <th>...</th>\n",
       "      <td>...</td>\n",
       "      <td>...</td>\n",
       "      <td>...</td>\n",
       "      <td>...</td>\n",
       "    </tr>\n",
       "    <tr>\n",
       "      <th>168820</th>\n",
       "      <td>NaN</td>\n",
       "      <td>namemissing7</td>\n",
       "      <td>NaN</td>\n",
       "      <td>NaN</td>\n",
       "    </tr>\n",
       "    <tr>\n",
       "      <th>168862</th>\n",
       "      <td>NaN</td>\n",
       "      <td>namemissing8</td>\n",
       "      <td>NaN</td>\n",
       "      <td>NaN</td>\n",
       "    </tr>\n",
       "    <tr>\n",
       "      <th>168867</th>\n",
       "      <td>NaN</td>\n",
       "      <td>namemissing9</td>\n",
       "      <td>NaN</td>\n",
       "      <td>NaN</td>\n",
       "    </tr>\n",
       "    <tr>\n",
       "      <th>168868</th>\n",
       "      <td>NaN</td>\n",
       "      <td>namemissing10</td>\n",
       "      <td>NaN</td>\n",
       "      <td>NaN</td>\n",
       "    </tr>\n",
       "    <tr>\n",
       "      <th>168881</th>\n",
       "      <td>NaN</td>\n",
       "      <td>namemissing11</td>\n",
       "      <td>NaN</td>\n",
       "      <td>NaN</td>\n",
       "    </tr>\n",
       "  </tbody>\n",
       "</table>\n",
       "<p>369 rows × 4 columns</p>\n",
       "</div>"
      ],
      "text/plain": [
       "       v19_20171211                           cand     first       last\n",
       "50551           NaN               fullwood, reggie    reggie   fullwood\n",
       "50552           NaN  jefferson, lawrence m. (jeff)  lawrence  jefferson\n",
       "50553           NaN                   grant, james     james      grant\n",
       "50554           NaN          matthews, daniel john    daniel   matthews\n",
       "73338           NaN                mcalister, kate      kate  mcalister\n",
       "...             ...                            ...       ...        ...\n",
       "168820          NaN                   namemissing7       NaN        NaN\n",
       "168862          NaN                   namemissing8       NaN        NaN\n",
       "168867          NaN                   namemissing9       NaN        NaN\n",
       "168868          NaN                  namemissing10       NaN        NaN\n",
       "168881          NaN                  namemissing11       NaN        NaN\n",
       "\n",
       "[369 rows x 4 columns]"
      ]
     },
     "execution_count": 90,
     "metadata": {},
     "output_type": "execute_result"
    }
   ],
   "source": [
    "raw_df[\"v19_20171211\"] = raw_df[\"v19_20171211\"].str.lower()\n",
    "raw_df[\n",
    "    (raw_df[\"cand\"].str.strip() != raw_df[\"v19_20171211\"].str.strip()) & \n",
    "    raw_df[\"v19_20171211\"].isna()\n",
    "][[\"v19_20171211\", \"cand\",\"first\",\"last\"]]"
   ]
  },
  {
   "cell_type": "markdown",
   "metadata": {},
   "source": [
    "So, there are two things to do 1) update the `cand` column that use the non-empty v19 values to replace the cand (full_name) column; 2) delete all rows with missingnames. "
   ]
  },
  {
   "cell_type": "code",
   "execution_count": 87,
   "metadata": {},
   "outputs": [
    {
     "data": {
      "text/html": [
       "<div>\n",
       "<style scoped>\n",
       "    .dataframe tbody tr th:only-of-type {\n",
       "        vertical-align: middle;\n",
       "    }\n",
       "\n",
       "    .dataframe tbody tr th {\n",
       "        vertical-align: top;\n",
       "    }\n",
       "\n",
       "    .dataframe thead th {\n",
       "        text-align: right;\n",
       "    }\n",
       "</style>\n",
       "<table border=\"1\" class=\"dataframe\">\n",
       "  <thead>\n",
       "    <tr style=\"text-align: right;\">\n",
       "      <th></th>\n",
       "      <th>caseid</th>\n",
       "      <th>year</th>\n",
       "      <th>month</th>\n",
       "      <th>day</th>\n",
       "      <th>sab</th>\n",
       "      <th>cname</th>\n",
       "      <th>candid</th>\n",
       "      <th>cand</th>\n",
       "      <th>sen</th>\n",
       "      <th>partyz</th>\n",
       "      <th>partyt</th>\n",
       "      <th>outcome</th>\n",
       "      <th>last</th>\n",
       "      <th>first</th>\n",
       "      <th>v19_20171211</th>\n",
       "      <th>v19_20160217</th>\n",
       "    </tr>\n",
       "  </thead>\n",
       "  <tbody>\n",
       "  </tbody>\n",
       "</table>\n",
       "</div>"
      ],
      "text/plain": [
       "Empty DataFrame\n",
       "Columns: [caseid, year, month, day, sab, cname, candid, cand, sen, partyz, partyt, outcome, last, first, v19_20171211, v19_20160217]\n",
       "Index: []"
      ]
     },
     "execution_count": 87,
     "metadata": {},
     "output_type": "execute_result"
    }
   ],
   "source": [
    "raw_df[raw_df[\"cand\"].isna()]"
   ]
  },
  {
   "cell_type": "code",
   "execution_count": 93,
   "metadata": {},
   "outputs": [],
   "source": [
    "raw_df['cand'] = np.where(raw_df['v19_20171211'].notna(),raw_df[\"v19_20171211\"],raw_df[\"cand\"])\n",
    "raw_df = raw_df[~raw_df['cand'].str.startswith('namemissing')]\n"
   ]
  },
  {
   "cell_type": "code",
   "execution_count": 94,
   "metadata": {},
   "outputs": [
    {
     "data": {
      "text/html": [
       "<div>\n",
       "<style scoped>\n",
       "    .dataframe tbody tr th:only-of-type {\n",
       "        vertical-align: middle;\n",
       "    }\n",
       "\n",
       "    .dataframe tbody tr th {\n",
       "        vertical-align: top;\n",
       "    }\n",
       "\n",
       "    .dataframe thead th {\n",
       "        text-align: right;\n",
       "    }\n",
       "</style>\n",
       "<table border=\"1\" class=\"dataframe\">\n",
       "  <thead>\n",
       "    <tr style=\"text-align: right;\">\n",
       "      <th></th>\n",
       "      <th>caseid</th>\n",
       "      <th>year</th>\n",
       "      <th>month</th>\n",
       "      <th>day</th>\n",
       "      <th>sab</th>\n",
       "      <th>cname</th>\n",
       "      <th>candid</th>\n",
       "      <th>cand</th>\n",
       "      <th>sen</th>\n",
       "      <th>partyz</th>\n",
       "      <th>partyt</th>\n",
       "      <th>outcome</th>\n",
       "      <th>last</th>\n",
       "      <th>first</th>\n",
       "      <th>v19_20171211</th>\n",
       "      <th>v19_20160217</th>\n",
       "    </tr>\n",
       "  </thead>\n",
       "  <tbody>\n",
       "  </tbody>\n",
       "</table>\n",
       "</div>"
      ],
      "text/plain": [
       "Empty DataFrame\n",
       "Columns: [caseid, year, month, day, sab, cname, candid, cand, sen, partyz, partyt, outcome, last, first, v19_20171211, v19_20160217]\n",
       "Index: []"
      ]
     },
     "execution_count": 94,
     "metadata": {},
     "output_type": "execute_result"
    }
   ],
   "source": [
    "raw_df[(raw_df[\"last\"].isna() & raw_df[\"first\"].isna())]"
   ]
  },
  {
   "cell_type": "markdown",
   "metadata": {},
   "source": [
    "2. `sab` column (state)  \n",
    "We only need to uppercase every value here."
   ]
  },
  {
   "cell_type": "code",
   "execution_count": 99,
   "metadata": {},
   "outputs": [
    {
     "name": "stdout",
     "output_type": "stream",
     "text": [
      "['AL' 'AK' 'AZ' 'AR' 'CA' 'CO' 'CT' 'DE' 'FL' 'GA' 'HI' 'ID' 'IL' 'IN'\n",
      " 'IA' 'KS' 'KY' 'LA' 'ME' 'MD' 'MA' 'MI' 'MN' 'MS' 'MO' 'MT' 'NE' 'NV'\n",
      " 'NH' 'NJ' 'NM' 'NY' 'NC' 'ND' 'OH' 'OK' 'OR' 'PA' 'RI' 'SC' 'SD' 'TN'\n",
      " 'TX' 'UT' 'VT' 'VA' 'WA' 'WV' 'WI' 'WY']\n"
     ]
    }
   ],
   "source": [
    "raw_df[\"sab\"] = raw_df[\"sab\"].str.upper()\n",
    "print(raw_df[\"sab\"].unique())"
   ]
  },
  {
   "cell_type": "markdown",
   "metadata": {},
   "source": [
    "3. Candidate uniqueness?\n",
    "In order to merge the datasets, we need to ensure the uniqueness of each individual. That is, name/id of each observation is unique. "
   ]
  },
  {
   "cell_type": "code",
   "execution_count": 96,
   "metadata": {},
   "outputs": [
    {
     "data": {
      "text/plain": [
       "candid\n",
       "167521    100\n",
       "168980     77\n",
       "167044     73\n",
       "165078     72\n",
       "166643     66\n",
       "         ... \n",
       "5236        1\n",
       "5264        1\n",
       "357547      1\n",
       "357550      1\n",
       "357552      1\n",
       "Name: count, Length: 160377, dtype: int64"
      ]
     },
     "execution_count": 96,
     "metadata": {},
     "output_type": "execute_result"
    }
   ],
   "source": [
    "# not unique? \n",
    "raw_df[\"candid\"].value_counts()"
   ]
  },
  {
   "cell_type": "code",
   "execution_count": 109,
   "metadata": {},
   "outputs": [
    {
     "data": {
      "text/html": [
       "<div>\n",
       "<style scoped>\n",
       "    .dataframe tbody tr th:only-of-type {\n",
       "        vertical-align: middle;\n",
       "    }\n",
       "\n",
       "    .dataframe tbody tr th {\n",
       "        vertical-align: top;\n",
       "    }\n",
       "\n",
       "    .dataframe thead th {\n",
       "        text-align: right;\n",
       "    }\n",
       "</style>\n",
       "<table border=\"1\" class=\"dataframe\">\n",
       "  <thead>\n",
       "    <tr style=\"text-align: right;\">\n",
       "      <th></th>\n",
       "      <th>candid</th>\n",
       "      <th>unique_partyt_count</th>\n",
       "    </tr>\n",
       "  </thead>\n",
       "  <tbody>\n",
       "    <tr>\n",
       "      <th>7</th>\n",
       "      <td>8</td>\n",
       "      <td>2</td>\n",
       "    </tr>\n",
       "    <tr>\n",
       "      <th>20</th>\n",
       "      <td>21</td>\n",
       "      <td>2</td>\n",
       "    </tr>\n",
       "    <tr>\n",
       "      <th>29</th>\n",
       "      <td>30</td>\n",
       "      <td>2</td>\n",
       "    </tr>\n",
       "    <tr>\n",
       "      <th>52</th>\n",
       "      <td>53</td>\n",
       "      <td>2</td>\n",
       "    </tr>\n",
       "    <tr>\n",
       "      <th>58</th>\n",
       "      <td>60</td>\n",
       "      <td>2</td>\n",
       "    </tr>\n",
       "    <tr>\n",
       "      <th>...</th>\n",
       "      <td>...</td>\n",
       "      <td>...</td>\n",
       "    </tr>\n",
       "    <tr>\n",
       "      <th>153452</th>\n",
       "      <td>354159</td>\n",
       "      <td>2</td>\n",
       "    </tr>\n",
       "    <tr>\n",
       "      <th>153609</th>\n",
       "      <td>354938</td>\n",
       "      <td>2</td>\n",
       "    </tr>\n",
       "    <tr>\n",
       "      <th>155438</th>\n",
       "      <td>363848</td>\n",
       "      <td>2</td>\n",
       "    </tr>\n",
       "    <tr>\n",
       "      <th>155445</th>\n",
       "      <td>363876</td>\n",
       "      <td>2</td>\n",
       "    </tr>\n",
       "    <tr>\n",
       "      <th>155497</th>\n",
       "      <td>364001</td>\n",
       "      <td>2</td>\n",
       "    </tr>\n",
       "  </tbody>\n",
       "</table>\n",
       "<p>4635 rows × 2 columns</p>\n",
       "</div>"
      ],
      "text/plain": [
       "        candid  unique_partyt_count\n",
       "7            8                    2\n",
       "20          21                    2\n",
       "29          30                    2\n",
       "52          53                    2\n",
       "58          60                    2\n",
       "...        ...                  ...\n",
       "153452  354159                    2\n",
       "153609  354938                    2\n",
       "155438  363848                    2\n",
       "155445  363876                    2\n",
       "155497  364001                    2\n",
       "\n",
       "[4635 rows x 2 columns]"
      ]
     },
     "execution_count": 109,
     "metadata": {},
     "output_type": "execute_result"
    }
   ],
   "source": [
    "unique_party_counts = raw_df.groupby(\"candid\")[\"partyt\"].nunique().reset_index(name=\"unique_partyt_count\")\n",
    "\n",
    "unique_party_counts[unique_party_counts[\"unique_partyt_count\"] > 1]"
   ]
  },
  {
   "cell_type": "code",
   "execution_count": 110,
   "metadata": {},
   "outputs": [
    {
     "data": {
      "text/html": [
       "<div>\n",
       "<style scoped>\n",
       "    .dataframe tbody tr th:only-of-type {\n",
       "        vertical-align: middle;\n",
       "    }\n",
       "\n",
       "    .dataframe tbody tr th {\n",
       "        vertical-align: top;\n",
       "    }\n",
       "\n",
       "    .dataframe thead th {\n",
       "        text-align: right;\n",
       "    }\n",
       "</style>\n",
       "<table border=\"1\" class=\"dataframe\">\n",
       "  <thead>\n",
       "    <tr style=\"text-align: right;\">\n",
       "      <th></th>\n",
       "      <th>caseid</th>\n",
       "      <th>year</th>\n",
       "      <th>month</th>\n",
       "      <th>day</th>\n",
       "      <th>sab</th>\n",
       "      <th>cname</th>\n",
       "      <th>candid</th>\n",
       "      <th>cand</th>\n",
       "      <th>sen</th>\n",
       "      <th>partyz</th>\n",
       "      <th>partyt</th>\n",
       "      <th>outcome</th>\n",
       "      <th>last</th>\n",
       "      <th>first</th>\n",
       "      <th>v19_20171211</th>\n",
       "      <th>v19_20160217</th>\n",
       "    </tr>\n",
       "  </thead>\n",
       "  <tbody>\n",
       "    <tr>\n",
       "      <th>6730</th>\n",
       "      <td>779</td>\n",
       "      <td>1986</td>\n",
       "      <td>11.0</td>\n",
       "      <td>4.0</td>\n",
       "      <td>AK</td>\n",
       "      <td>NaN</td>\n",
       "      <td>8</td>\n",
       "      <td>donley, dave</td>\n",
       "      <td>0</td>\n",
       "      <td>d</td>\n",
       "      <td>d</td>\n",
       "      <td>w</td>\n",
       "      <td>donley</td>\n",
       "      <td>dave</td>\n",
       "      <td>donley, dave</td>\n",
       "      <td>DONLEY, DAVE</td>\n",
       "    </tr>\n",
       "    <tr>\n",
       "      <th>6841</th>\n",
       "      <td>783</td>\n",
       "      <td>1988</td>\n",
       "      <td>11.0</td>\n",
       "      <td>8.0</td>\n",
       "      <td>AK</td>\n",
       "      <td>NaN</td>\n",
       "      <td>8</td>\n",
       "      <td>donley, dave</td>\n",
       "      <td>0</td>\n",
       "      <td>d</td>\n",
       "      <td>d</td>\n",
       "      <td>w</td>\n",
       "      <td>donley</td>\n",
       "      <td>dave</td>\n",
       "      <td>donley, dave</td>\n",
       "      <td>DONLEY, DAVE</td>\n",
       "    </tr>\n",
       "    <tr>\n",
       "      <th>6946</th>\n",
       "      <td>732</td>\n",
       "      <td>1990</td>\n",
       "      <td>11.0</td>\n",
       "      <td>6.0</td>\n",
       "      <td>AK</td>\n",
       "      <td>NaN</td>\n",
       "      <td>8</td>\n",
       "      <td>donley, dave</td>\n",
       "      <td>0</td>\n",
       "      <td>d</td>\n",
       "      <td>d</td>\n",
       "      <td>w</td>\n",
       "      <td>donley</td>\n",
       "      <td>dave</td>\n",
       "      <td>donley, dave</td>\n",
       "      <td>DONLEY, DAVE</td>\n",
       "    </tr>\n",
       "    <tr>\n",
       "      <th>8544</th>\n",
       "      <td>90</td>\n",
       "      <td>1992</td>\n",
       "      <td>11.0</td>\n",
       "      <td>3.0</td>\n",
       "      <td>AK</td>\n",
       "      <td>NaN</td>\n",
       "      <td>8</td>\n",
       "      <td>donley, dave</td>\n",
       "      <td>1</td>\n",
       "      <td>d</td>\n",
       "      <td>d</td>\n",
       "      <td>w</td>\n",
       "      <td>donley</td>\n",
       "      <td>dave</td>\n",
       "      <td>donley, dave</td>\n",
       "      <td>DONLEY, DAVE</td>\n",
       "    </tr>\n",
       "    <tr>\n",
       "      <th>8580</th>\n",
       "      <td>160</td>\n",
       "      <td>1994</td>\n",
       "      <td>11.0</td>\n",
       "      <td>8.0</td>\n",
       "      <td>AK</td>\n",
       "      <td>NaN</td>\n",
       "      <td>8</td>\n",
       "      <td>donley, dave</td>\n",
       "      <td>1</td>\n",
       "      <td>d</td>\n",
       "      <td>d</td>\n",
       "      <td>w</td>\n",
       "      <td>donley</td>\n",
       "      <td>dave</td>\n",
       "      <td>donley, dave</td>\n",
       "      <td>DONLEY, DAVE</td>\n",
       "    </tr>\n",
       "    <tr>\n",
       "      <th>8620</th>\n",
       "      <td>161</td>\n",
       "      <td>1998</td>\n",
       "      <td>11.0</td>\n",
       "      <td>3.0</td>\n",
       "      <td>AK</td>\n",
       "      <td>NaN</td>\n",
       "      <td>8</td>\n",
       "      <td>donley, dave</td>\n",
       "      <td>1</td>\n",
       "      <td>r</td>\n",
       "      <td>r</td>\n",
       "      <td>w</td>\n",
       "      <td>donley</td>\n",
       "      <td>dave</td>\n",
       "      <td>donley, dave</td>\n",
       "      <td>DONLEY, DAVE</td>\n",
       "    </tr>\n",
       "    <tr>\n",
       "      <th>8685</th>\n",
       "      <td>8</td>\n",
       "      <td>2002</td>\n",
       "      <td>11.0</td>\n",
       "      <td>5.0</td>\n",
       "      <td>AK</td>\n",
       "      <td>NaN</td>\n",
       "      <td>8</td>\n",
       "      <td>donley, dave</td>\n",
       "      <td>1</td>\n",
       "      <td>r</td>\n",
       "      <td>r</td>\n",
       "      <td>l</td>\n",
       "      <td>donley</td>\n",
       "      <td>dave</td>\n",
       "      <td>donley, dave</td>\n",
       "      <td>DONLEY, DAVE</td>\n",
       "    </tr>\n",
       "  </tbody>\n",
       "</table>\n",
       "</div>"
      ],
      "text/plain": [
       "      caseid  year  month  day sab cname  candid          cand  sen partyz  \\\n",
       "6730     779  1986   11.0  4.0  AK   NaN       8  donley, dave    0      d   \n",
       "6841     783  1988   11.0  8.0  AK   NaN       8  donley, dave    0      d   \n",
       "6946     732  1990   11.0  6.0  AK   NaN       8  donley, dave    0      d   \n",
       "8544      90  1992   11.0  3.0  AK   NaN       8  donley, dave    1      d   \n",
       "8580     160  1994   11.0  8.0  AK   NaN       8  donley, dave    1      d   \n",
       "8620     161  1998   11.0  3.0  AK   NaN       8  donley, dave    1      r   \n",
       "8685       8  2002   11.0  5.0  AK   NaN       8  donley, dave    1      r   \n",
       "\n",
       "     partyt outcome    last first  v19_20171211  v19_20160217  \n",
       "6730      d       w  donley  dave  donley, dave  DONLEY, DAVE  \n",
       "6841      d       w  donley  dave  donley, dave  DONLEY, DAVE  \n",
       "6946      d       w  donley  dave  donley, dave  DONLEY, DAVE  \n",
       "8544      d       w  donley  dave  donley, dave  DONLEY, DAVE  \n",
       "8580      d       w  donley  dave  donley, dave  DONLEY, DAVE  \n",
       "8620      r       w  donley  dave  donley, dave  DONLEY, DAVE  \n",
       "8685      r       l  donley  dave  donley, dave  DONLEY, DAVE  "
      ]
     },
     "execution_count": 110,
     "metadata": {},
     "output_type": "execute_result"
    }
   ],
   "source": [
    "raw_df[raw_df[\"candid\"] == 8]"
   ]
  },
  {
   "cell_type": "markdown",
   "metadata": {},
   "source": [
    "For one candidate, they may have several election records. They may have several election results at different counties. Throughout their career, they may have different parties."
   ]
  },
  {
   "cell_type": "markdown",
   "metadata": {},
   "source": [
    "4. Other variables"
   ]
  },
  {
   "cell_type": "markdown",
   "metadata": {},
   "source": [
    "`partyt` Assigns just one party to a candidate in one election season (i.e., the primary and general election in one year), using the same seven codes used in partyz.  \n",
    "\tFor example, a candidate running in NY with fusion as a Democrat and a Republican is assigned the party they are expected to caucus with in the state legislature, measured by how the end up caucusing in the state legislature.  \n",
    "\tFor example, a candidate who files in a state primary as a Democrat, and then is written in by voters in the Republican primary, has “d” designated as their “true” party.  \n"
   ]
  },
  {
   "cell_type": "code",
   "execution_count": 111,
   "metadata": {},
   "outputs": [
    {
     "data": {
      "text/plain": [
       "partyt\n",
       "d            183874\n",
       "r            151981\n",
       "nonmaj        22189\n",
       "writein       17574\n",
       "nonpart        2431\n",
       "partymiss       268\n",
       "Name: count, dtype: int64"
      ]
     },
     "execution_count": 111,
     "metadata": {},
     "output_type": "execute_result"
    }
   ],
   "source": [
    "raw_df[\"partyt\"].value_counts()"
   ]
  },
  {
   "cell_type": "code",
   "execution_count": 28,
   "metadata": {},
   "outputs": [],
   "source": [
    "mini_df = pd.read_csv(\"/project/data/transformed/inds_mini.csv\")"
   ]
  },
  {
   "cell_type": "code",
   "execution_count": 34,
   "metadata": {},
   "outputs": [
    {
     "data": {
      "text/plain": [
       "party\n",
       "republican    2\n",
       "democratic    1\n",
       "DELETE        1\n",
       "Name: count, dtype: int64"
      ]
     },
     "execution_count": 34,
     "metadata": {},
     "output_type": "execute_result"
    }
   ],
   "source": [
    "mini_df[\"party\"].value_counts()"
   ]
  },
  {
   "cell_type": "markdown",
   "metadata": {},
   "source": [
    "We rename thed party categories to align with the individual file."
   ]
  }
 ],
 "metadata": {
  "kernelspec": {
   "display_name": "base",
   "language": "python",
   "name": "python3"
  },
  "language_info": {
   "codemirror_mode": {
    "name": "ipython",
    "version": 3
   },
   "file_extension": ".py",
   "mimetype": "text/x-python",
   "name": "python",
   "nbconvert_exporter": "python",
   "pygments_lexer": "ipython3",
   "version": "3.11.6"
  }
 },
 "nbformat": 4,
 "nbformat_minor": 2
}
