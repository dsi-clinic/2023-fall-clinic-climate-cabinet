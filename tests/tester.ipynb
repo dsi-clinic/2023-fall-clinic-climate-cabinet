{
 "cells": [
  {
   "cell_type": "code",
   "execution_count": 1,
   "metadata": {},
   "outputs": [],
   "source": [
    "from utils.linkage import deduplicate_perfect_matches\n",
    "from utils.constants import BASE_FILEPATH\n",
    "import pandas as pd"
   ]
  },
  {
   "cell_type": "code",
   "execution_count": 2,
   "metadata": {},
   "outputs": [
    {
     "data": {
      "text/html": [
       "<div>\n",
       "<style scoped>\n",
       "    .dataframe tbody tr th:only-of-type {\n",
       "        vertical-align: middle;\n",
       "    }\n",
       "\n",
       "    .dataframe tbody tr th {\n",
       "        vertical-align: top;\n",
       "    }\n",
       "\n",
       "    .dataframe thead th {\n",
       "        text-align: right;\n",
       "    }\n",
       "</style>\n",
       "<table border=\"1\" class=\"dataframe\">\n",
       "  <thead>\n",
       "    <tr style=\"text-align: right;\">\n",
       "      <th></th>\n",
       "      <th>id</th>\n",
       "      <th>first_name</th>\n",
       "      <th>last_name</th>\n",
       "      <th>full_name</th>\n",
       "      <th>entity_type</th>\n",
       "      <th>state</th>\n",
       "      <th>party</th>\n",
       "      <th>company</th>\n",
       "    </tr>\n",
       "  </thead>\n",
       "  <tbody>\n",
       "    <tr>\n",
       "      <th>0</th>\n",
       "      <td>1869727</td>\n",
       "      <td>NaN</td>\n",
       "      <td>NaN</td>\n",
       "      <td>william  \bstoner</td>\n",
       "      <td>individual</td>\n",
       "      <td>NaN</td>\n",
       "      <td>NaN</td>\n",
       "      <td>NaN</td>\n",
       "    </tr>\n",
       "    <tr>\n",
       "      <th>1</th>\n",
       "      <td>1779679</td>\n",
       "      <td>NaN</td>\n",
       "      <td>NaN</td>\n",
       "      <td>rm  coulon</td>\n",
       "      <td>individual</td>\n",
       "      <td>NaN</td>\n",
       "      <td>NaN</td>\n",
       "      <td>area agency on aging</td>\n",
       "    </tr>\n",
       "    <tr>\n",
       "      <th>2</th>\n",
       "      <td>2277221</td>\n",
       "      <td>NaN</td>\n",
       "      <td>NaN</td>\n",
       "      <td>james  engelson</td>\n",
       "      <td>individual</td>\n",
       "      <td>NaN</td>\n",
       "      <td>NaN</td>\n",
       "      <td>retired</td>\n",
       "    </tr>\n",
       "    <tr>\n",
       "      <th>3</th>\n",
       "      <td>2277156</td>\n",
       "      <td>NaN</td>\n",
       "      <td>NaN</td>\n",
       "      <td>marivic  franciaskinner</td>\n",
       "      <td>individual</td>\n",
       "      <td>NaN</td>\n",
       "      <td>NaN</td>\n",
       "      <td>fibre source international corp</td>\n",
       "    </tr>\n",
       "    <tr>\n",
       "      <th>4</th>\n",
       "      <td>2341373</td>\n",
       "      <td>NaN</td>\n",
       "      <td>NaN</td>\n",
       "      <td>anthony  grindle</td>\n",
       "      <td>individual</td>\n",
       "      <td>NaN</td>\n",
       "      <td>NaN</td>\n",
       "      <td>zimmerbiomet</td>\n",
       "    </tr>\n",
       "  </tbody>\n",
       "</table>\n",
       "</div>"
      ],
      "text/plain": [
       "        id first_name last_name                full_name entity_type state  \\\n",
       "0  1869727        NaN       NaN         william  \bstoner  individual   NaN   \n",
       "1  1779679        NaN       NaN               rm  coulon  individual   NaN   \n",
       "2  2277221        NaN       NaN          james  engelson  individual   NaN   \n",
       "3  2277156        NaN       NaN  marivic  franciaskinner  individual   NaN   \n",
       "4  2341373        NaN       NaN         anthony  grindle  individual   NaN   \n",
       "\n",
       "  party                          company  \n",
       "0   NaN                              NaN  \n",
       "1   NaN             area agency on aging  \n",
       "2   NaN                          retired  \n",
       "3   NaN  fibre source international corp  \n",
       "4   NaN                     zimmerbiomet  "
      ]
     },
     "execution_count": 2,
     "metadata": {},
     "output_type": "execute_result"
    }
   ],
   "source": [
    "inds_sample = pd.read_csv(BASE_FILEPATH / \"output\" / \"complete_individuals_table.csv\", index_col=0, low_memory=False)\n",
    "orgs_sample = pd.read_csv(BASE_FILEPATH / \"output\" / \"complete_organizations_table.csv\", index_col=0)\n",
    "inds_sample.head(5)"
   ]
  },
  {
   "cell_type": "code",
   "execution_count": 3,
   "metadata": {},
   "outputs": [],
   "source": [
    "deduplicated_inds = deduplicate_perfect_matches(inds_sample)\n",
    "deduplicated_orgs = deduplicate_perfect_matches(orgs_sample)"
   ]
  },
  {
   "cell_type": "code",
   "execution_count": 4,
   "metadata": {},
   "outputs": [
    {
     "data": {
      "text/html": [
       "<div>\n",
       "<style scoped>\n",
       "    .dataframe tbody tr th:only-of-type {\n",
       "        vertical-align: middle;\n",
       "    }\n",
       "\n",
       "    .dataframe tbody tr th {\n",
       "        vertical-align: top;\n",
       "    }\n",
       "\n",
       "    .dataframe thead th {\n",
       "        text-align: right;\n",
       "    }\n",
       "</style>\n",
       "<table border=\"1\" class=\"dataframe\">\n",
       "  <thead>\n",
       "    <tr style=\"text-align: right;\">\n",
       "      <th></th>\n",
       "      <th>duplicated_uuids</th>\n",
       "      <th>mapped_uuids</th>\n",
       "    </tr>\n",
       "  </thead>\n",
       "  <tbody>\n",
       "    <tr>\n",
       "      <th>0</th>\n",
       "      <td>af6dd8b5-21d4-4ab3-b0e9-b6e617e4837b</td>\n",
       "      <td>af6dd8b5-21d4-4ab3-b0e9-b6e617e4837b</td>\n",
       "    </tr>\n",
       "    <tr>\n",
       "      <th>1</th>\n",
       "      <td>d2ed5639-be25-40aa-bfbc-7b8bb3bba62a</td>\n",
       "      <td>d2ed5639-be25-40aa-bfbc-7b8bb3bba62a</td>\n",
       "    </tr>\n",
       "    <tr>\n",
       "      <th>2</th>\n",
       "      <td>054e4f1d-aec7-4188-968d-4429748f2fe6</td>\n",
       "      <td>054e4f1d-aec7-4188-968d-4429748f2fe6</td>\n",
       "    </tr>\n",
       "    <tr>\n",
       "      <th>3</th>\n",
       "      <td>c0a31a0d-fc53-42e5-9dfc-23dfbf8c3b74</td>\n",
       "      <td>c0a31a0d-fc53-42e5-9dfc-23dfbf8c3b74</td>\n",
       "    </tr>\n",
       "    <tr>\n",
       "      <th>4</th>\n",
       "      <td>81125483-336e-4d48-9f4b-5708e91c3835</td>\n",
       "      <td>81125483-336e-4d48-9f4b-5708e91c3835</td>\n",
       "    </tr>\n",
       "  </tbody>\n",
       "</table>\n",
       "</div>"
      ],
      "text/plain": [
       "                       duplicated_uuids                          mapped_uuids\n",
       "0  af6dd8b5-21d4-4ab3-b0e9-b6e617e4837b  af6dd8b5-21d4-4ab3-b0e9-b6e617e4837b\n",
       "1  d2ed5639-be25-40aa-bfbc-7b8bb3bba62a  d2ed5639-be25-40aa-bfbc-7b8bb3bba62a\n",
       "2  054e4f1d-aec7-4188-968d-4429748f2fe6  054e4f1d-aec7-4188-968d-4429748f2fe6\n",
       "3  c0a31a0d-fc53-42e5-9dfc-23dfbf8c3b74  c0a31a0d-fc53-42e5-9dfc-23dfbf8c3b74\n",
       "4  81125483-336e-4d48-9f4b-5708e91c3835  81125483-336e-4d48-9f4b-5708e91c3835"
      ]
     },
     "execution_count": 4,
     "metadata": {},
     "output_type": "execute_result"
    }
   ],
   "source": [
    "test = pd.read_csv(BASE_FILEPATH / \"output\" / \"deduplicated_UUIDs.csv\")\n",
    "test.head(5)"
   ]
  },
  {
   "cell_type": "code",
   "execution_count": 5,
   "metadata": {},
   "outputs": [
    {
     "data": {
      "text/plain": [
       "True"
      ]
     },
     "execution_count": 5,
     "metadata": {},
     "output_type": "execute_result"
    }
   ],
   "source": [
    "dedup_inds_id = set(deduplicated_inds.id.tolist())\n",
    "dedup_orgs_id = set(deduplicated_orgs.id.tolist())\n",
    "test_ids = set(test.duplicated_uuids.tolist())\n",
    "\n",
    "dedup_orgs_id.issubset(test_ids)"
   ]
  },
  {
   "cell_type": "code",
   "execution_count": 10,
   "metadata": {},
   "outputs": [
    {
     "data": {
      "text/plain": [
       "(612181, 526145)"
      ]
     },
     "execution_count": 10,
     "metadata": {},
     "output_type": "execute_result"
    }
   ],
   "source": [
    "len(deduplicated_inds.id.tolist()), len(dedup_inds_id)"
   ]
  },
  {
   "cell_type": "code",
   "execution_count": null,
   "metadata": {},
   "outputs": [],
   "source": []
  }
 ],
 "metadata": {
  "kernelspec": {
   "display_name": "climate_cabinet",
   "language": "python",
   "name": "python3"
  },
  "language_info": {
   "codemirror_mode": {
    "name": "ipython",
    "version": 3
   },
   "file_extension": ".py",
   "mimetype": "text/x-python",
   "name": "python",
   "nbconvert_exporter": "python",
   "pygments_lexer": "ipython3",
   "version": "3.11.7"
  }
 },
 "nbformat": 4,
 "nbformat_minor": 2
}
