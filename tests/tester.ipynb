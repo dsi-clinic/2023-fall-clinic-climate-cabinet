{
 "cells": [
  {
   "cell_type": "code",
   "execution_count": 2,
   "metadata": {},
   "outputs": [],
   "source": [
    "from utils.linkage import deduplicate_perfect_matches, convert_duplicates_to_dict\n",
    "from utils.constants import BASE_FILEPATH\n",
    "import pandas as pd"
   ]
  },
  {
   "cell_type": "code",
   "execution_count": 6,
   "metadata": {},
   "outputs": [
    {
     "data": {
      "text/html": [
       "<div>\n",
       "<style scoped>\n",
       "    .dataframe tbody tr th:only-of-type {\n",
       "        vertical-align: middle;\n",
       "    }\n",
       "\n",
       "    .dataframe tbody tr th {\n",
       "        vertical-align: top;\n",
       "    }\n",
       "\n",
       "    .dataframe thead th {\n",
       "        text-align: right;\n",
       "    }\n",
       "</style>\n",
       "<table border=\"1\" class=\"dataframe\">\n",
       "  <thead>\n",
       "    <tr style=\"text-align: right;\">\n",
       "      <th></th>\n",
       "      <th>id</th>\n",
       "      <th>first_name</th>\n",
       "      <th>last_name</th>\n",
       "      <th>full_name</th>\n",
       "      <th>entity_type</th>\n",
       "      <th>state</th>\n",
       "      <th>party</th>\n",
       "      <th>company</th>\n",
       "    </tr>\n",
       "  </thead>\n",
       "  <tbody>\n",
       "    <tr>\n",
       "      <th>724734</th>\n",
       "      <td>c87d5ea3-0000-4cae-ab4c-febce5b17fc2</td>\n",
       "      <td>KIRSTIN</td>\n",
       "      <td>BRODERICK</td>\n",
       "      <td>KIRSTIN              BRODERICK                ...</td>\n",
       "      <td>Individual</td>\n",
       "      <td>NY</td>\n",
       "      <td>NaN</td>\n",
       "      <td>NaN</td>\n",
       "    </tr>\n",
       "    <tr>\n",
       "      <th>1187237</th>\n",
       "      <td>9af092ab-9e88-456f-9a27-5fa561d615eb</td>\n",
       "      <td>SARAH</td>\n",
       "      <td>LEVINE</td>\n",
       "      <td>SARAH                LEVINE                   ...</td>\n",
       "      <td>Individual</td>\n",
       "      <td>NY</td>\n",
       "      <td>NaN</td>\n",
       "      <td>NaN</td>\n",
       "    </tr>\n",
       "    <tr>\n",
       "      <th>320448</th>\n",
       "      <td>89078c2f-964a-4044-a760-c0ea28e71c6e</td>\n",
       "      <td>DUSTIN</td>\n",
       "      <td>DEMLOW</td>\n",
       "      <td>DUSTIN               DEMLOW                   ...</td>\n",
       "      <td>Individual</td>\n",
       "      <td>MI</td>\n",
       "      <td>NaN</td>\n",
       "      <td>NaN</td>\n",
       "    </tr>\n",
       "    <tr>\n",
       "      <th>238953</th>\n",
       "      <td>e9b9112d-7927-4cc1-b316-0beb55e9c47a</td>\n",
       "      <td>BRIAN</td>\n",
       "      <td>BARBAS</td>\n",
       "      <td>BRIAN                BARBAS                   ...</td>\n",
       "      <td>Individual</td>\n",
       "      <td>IL</td>\n",
       "      <td>NaN</td>\n",
       "      <td>NaN</td>\n",
       "    </tr>\n",
       "    <tr>\n",
       "      <th>38632</th>\n",
       "      <td>a22c70ab-464c-4d89-a473-7c97931e0155</td>\n",
       "      <td>SUSAN MASSARO</td>\n",
       "      <td>MCFARLAND</td>\n",
       "      <td>SUSAN MASSARO        MCFARLAND                ...</td>\n",
       "      <td>Individual</td>\n",
       "      <td>MI</td>\n",
       "      <td>NaN</td>\n",
       "      <td>NaN</td>\n",
       "    </tr>\n",
       "  </tbody>\n",
       "</table>\n",
       "</div>"
      ],
      "text/plain": [
       "                                           id            first_name  \\\n",
       "724734   c87d5ea3-0000-4cae-ab4c-febce5b17fc2  KIRSTIN                \n",
       "1187237  9af092ab-9e88-456f-9a27-5fa561d615eb  SARAH                  \n",
       "320448   89078c2f-964a-4044-a760-c0ea28e71c6e  DUSTIN                 \n",
       "238953   e9b9112d-7927-4cc1-b316-0beb55e9c47a  BRIAN                  \n",
       "38632    a22c70ab-464c-4d89-a473-7c97931e0155  SUSAN MASSARO          \n",
       "\n",
       "                                    last_name  \\\n",
       "724734   BRODERICK                              \n",
       "1187237  LEVINE                                 \n",
       "320448   DEMLOW                                 \n",
       "238953   BARBAS                                 \n",
       "38632    MCFARLAND                              \n",
       "\n",
       "                                                 full_name entity_type state  \\\n",
       "724734   KIRSTIN              BRODERICK                ...  Individual    NY   \n",
       "1187237  SARAH                LEVINE                   ...  Individual    NY   \n",
       "320448   DUSTIN               DEMLOW                   ...  Individual    MI   \n",
       "238953   BRIAN                BARBAS                   ...  Individual    IL   \n",
       "38632    SUSAN MASSARO        MCFARLAND                ...  Individual    MI   \n",
       "\n",
       "        party company  \n",
       "724734    NaN     NaN  \n",
       "1187237   NaN     NaN  \n",
       "320448    NaN     NaN  \n",
       "238953    NaN     NaN  \n",
       "38632     NaN     NaN  "
      ]
     },
     "execution_count": 6,
     "metadata": {},
     "output_type": "execute_result"
    }
   ],
   "source": [
    "inds_sample = pd.read_csv(BASE_FILEPATH / \"output\" / \"complete_individuals_table.csv\", index_col=0, low_memory=False).sample(10000)\n",
    "orgs_sample = pd.read_csv(BASE_FILEPATH / \"output\" / \"complete_organizations_table.csv\", index_col=0).sample(10000)\n",
    "inds_sample.head(5)"
   ]
  },
  {
   "cell_type": "code",
   "execution_count": 7,
   "metadata": {},
   "outputs": [],
   "source": [
    "deduplicated_inds = deduplicate_perfect_matches(inds_sample)\n",
    "deduplicated_orgs = deduplicate_perfect_matches(orgs_sample)"
   ]
  },
  {
   "cell_type": "code",
   "execution_count": 9,
   "metadata": {},
   "outputs": [
    {
     "data": {
      "text/html": [
       "<div>\n",
       "<style scoped>\n",
       "    .dataframe tbody tr th:only-of-type {\n",
       "        vertical-align: middle;\n",
       "    }\n",
       "\n",
       "    .dataframe tbody tr th {\n",
       "        vertical-align: top;\n",
       "    }\n",
       "\n",
       "    .dataframe thead th {\n",
       "        text-align: right;\n",
       "    }\n",
       "</style>\n",
       "<table border=\"1\" class=\"dataframe\">\n",
       "  <thead>\n",
       "    <tr style=\"text-align: right;\">\n",
       "      <th></th>\n",
       "      <th>duplicated_uuids</th>\n",
       "      <th>mapped_uuids</th>\n",
       "    </tr>\n",
       "  </thead>\n",
       "  <tbody>\n",
       "    <tr>\n",
       "      <th>0</th>\n",
       "      <td>28557e06-b13b-46e1-ab44-768bd8b4ff16</td>\n",
       "      <td>28557e06-b13b-46e1-ab44-768bd8b4ff16</td>\n",
       "    </tr>\n",
       "    <tr>\n",
       "      <th>1</th>\n",
       "      <td>66978565-4c37-432e-9c61-bb0ca1254850</td>\n",
       "      <td>66978565-4c37-432e-9c61-bb0ca1254850</td>\n",
       "    </tr>\n",
       "    <tr>\n",
       "      <th>2</th>\n",
       "      <td>51ca5ecb-6c20-4380-8562-36048ca72f46</td>\n",
       "      <td>51ca5ecb-6c20-4380-8562-36048ca72f46</td>\n",
       "    </tr>\n",
       "    <tr>\n",
       "      <th>3</th>\n",
       "      <td>735f45fd-4859-4285-a63c-29399250d20e</td>\n",
       "      <td>735f45fd-4859-4285-a63c-29399250d20e</td>\n",
       "    </tr>\n",
       "    <tr>\n",
       "      <th>4</th>\n",
       "      <td>5130157e-1c68-4529-9638-d5727e8feb07</td>\n",
       "      <td>5130157e-1c68-4529-9638-d5727e8feb07</td>\n",
       "    </tr>\n",
       "  </tbody>\n",
       "</table>\n",
       "</div>"
      ],
      "text/plain": [
       "                       duplicated_uuids                          mapped_uuids\n",
       "0  28557e06-b13b-46e1-ab44-768bd8b4ff16  28557e06-b13b-46e1-ab44-768bd8b4ff16\n",
       "1  66978565-4c37-432e-9c61-bb0ca1254850  66978565-4c37-432e-9c61-bb0ca1254850\n",
       "2  51ca5ecb-6c20-4380-8562-36048ca72f46  51ca5ecb-6c20-4380-8562-36048ca72f46\n",
       "3  735f45fd-4859-4285-a63c-29399250d20e  735f45fd-4859-4285-a63c-29399250d20e\n",
       "4  5130157e-1c68-4529-9638-d5727e8feb07  5130157e-1c68-4529-9638-d5727e8feb07"
      ]
     },
     "execution_count": 9,
     "metadata": {},
     "output_type": "execute_result"
    }
   ],
   "source": [
    "test = pd.read_csv(BASE_FILEPATH / \"output\" / \"deduplicated_UUIDs.csv\")\n",
    "test.head(5)"
   ]
  },
  {
   "cell_type": "code",
   "execution_count": 11,
   "metadata": {},
   "outputs": [
    {
     "name": "stdout",
     "output_type": "stream",
     "text": [
      "Yes\n",
      "Yes\n"
     ]
    }
   ],
   "source": [
    "dedup_inds_id = deduplicated_inds.id.tolist()\n",
    "dedup_orgs_id = deduplicated_orgs.id.tolist()\n",
    "test_ids = test.duplicated_uuids.tolist()\n",
    "\n",
    "if all(x in test_ids for x in dedup_inds_id):\n",
    "    print(\"Yes\")\n",
    "if all(x in test_ids for x in dedup_orgs_id):\n",
    "    print(\"Yes\")"
   ]
  },
  {
   "cell_type": "code",
   "execution_count": null,
   "metadata": {},
   "outputs": [],
   "source": []
  }
 ],
 "metadata": {
  "kernelspec": {
   "display_name": "climate_cabinet",
   "language": "python",
   "name": "python3"
  },
  "language_info": {
   "codemirror_mode": {
    "name": "ipython",
    "version": 3
   },
   "file_extension": ".py",
   "mimetype": "text/x-python",
   "name": "python",
   "nbconvert_exporter": "python",
   "pygments_lexer": "ipython3",
   "version": "3.11.7"
  }
 },
 "nbformat": 4,
 "nbformat_minor": 2
}
