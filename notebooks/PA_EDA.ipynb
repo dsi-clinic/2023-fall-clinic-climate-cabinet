{
 "cells": [
  {
   "cell_type": "markdown",
   "id": "49be4b35",
   "metadata": {},
   "source": [
    "#### This Notebook examines Pennsylvania'a campaign data specifically from 2018-2023, although previous years can be loaded onto the analysis considerations. The dataset is relational, with the five documents per annum (contributions, debt, expense, expenditures, and filer) linked through a unique filer ID."
   ]
  },
  {
   "cell_type": "code",
   "execution_count": 7,
   "metadata": {},
   "outputs": [],
   "source": [
    "import pandas as pd\n",
    "import numpy as np\n",
    "import plotly.express as px\n",
    "import warnings\n",
    "warnings.filterwarnings('ignore')\n",
    "import sys\n",
    "sys.path.append('/home/alankagiri/2023-fall-clinic-climate-cabinet')\n",
    "from utils import PA_EDA_Functions as eda\n",
    "from utils import PA_Data_Web_Scraper as scraper"
   ]
  },
  {
   "cell_type": "code",
   "execution_count": 2,
   "id": "19c96a4a",
   "metadata": {},
   "outputs": [],
   "source": [
    "# download the data\n",
    "scraper.download_PA_data(2018,2023)"
   ]
  },
  {
   "cell_type": "code",
   "execution_count": 8,
   "id": "7010f66e",
   "metadata": {},
   "outputs": [],
   "source": [
    "#initialize the datasets:\n",
    "contrib_paths = [[\"../data/contrib_2018_03042019_2018.txt\", 2018],\n",
    "                 [\"../data/contrib_2019.txt\", 2019],\n",
    "                 [\"../data/contrib_2020_2020.txt\",2020],\n",
    "                 [\"../data/contrib_2021_2021.txt\",2021],\n",
    "                 [\"../data/contrib_2022_2022.txt\",2022],\n",
    "                 [\"../data/2023/contrib_2023_2023.txt\",2023]]\n",
    "\n",
    "filer_paths = [[\"../data/filer_2018_03042019_2018.txt\", 2018],\n",
    "               [\"../data/filer_2019.txt\",2019],\n",
    "               [\"../data/filer_2020_2020.txt\",2020],\n",
    "               [\"../data/filer_2021_2021.txt\",2021],\n",
    "               [\"../data/filer_2022_2022.txt\",2022],\n",
    "               [\"../data/2023/filer_2023_2023.txt\",2023]]\n",
    "\n",
    "expense_paths = [[\"../data/expense_2018_03042019_2018.txt\",2018],\n",
    "                 [\"../data/expense_2019.txt\", 2019],\n",
    "                 [\"../data/expense_2020_2020.txt\", 2020],\n",
    "                 [\"../data/expense_2021_2021.txt\",2021],\n",
    "                 [\"../data/expense_2022_2022.txt\",2022],\n",
    "                 [\"../data/2023/expense_2023_2023.txt\",2023]]"
   ]
  },
  {
   "cell_type": "code",
   "execution_count": 9,
   "metadata": {},
   "outputs": [
    {
     "name": "stderr",
     "output_type": "stream",
     "text": [
      "Skipping line 209819: expected 24 fields, saw 29\n",
      "\n",
      "Skipping line 465906: expected 24 fields, saw 25\n",
      "\n",
      "Skipping line 1334: expected 12 fields, saw 15\n",
      "Skipping line 62726: expected 12 fields, saw 13\n",
      "\n",
      "Skipping line 108099: expected 12 fields, saw 13\n",
      "\n",
      "Skipping line 251552: expected 24 fields, saw 27\n",
      "\n",
      "Skipping line 60173: expected 12 fields, saw 13\n",
      "\n",
      "Skipping line 523329: expected 24 fields, saw 47\n",
      "Skipping line 523330: expected 24 fields, saw 47\n",
      "\n",
      "Skipping line 14404: expected 12 fields, saw 17\n",
      "\n",
      "Skipping line 66486: expected 12 fields, saw 13\n",
      "Skipping line 66487: expected 12 fields, saw 13\n",
      "Skipping line 66488: expected 12 fields, saw 13\n",
      "Skipping line 66489: expected 12 fields, saw 13\n",
      "Skipping line 66490: expected 12 fields, saw 13\n",
      "Skipping line 66491: expected 12 fields, saw 13\n",
      "Skipping line 66492: expected 12 fields, saw 13\n",
      "\n",
      "Skipping line 109048: expected 26 fields, saw 27\n",
      "\n",
      "Skipping line 12499: expected 14 fields, saw 15\n",
      "Skipping line 29777: expected 14 fields, saw 15\n",
      "Skipping line 29778: expected 14 fields, saw 15\n",
      "\n",
      "Skipping line 227923: expected 26 fields, saw 27\n",
      "\n"
     ]
    }
   ],
   "source": [
    "merged_datasets_per_year = []\n",
    "merged_expense_dataset = []\n",
    "for i in range(len(contrib_paths)):\n",
    "    contrib_df = eda.initialize_PA_dataset(contrib_paths[i][0],contrib_paths[i][1])\n",
    "    filer_df = eda.initialize_PA_dataset(filer_paths[i][0],filer_paths[i][1])\n",
    "    expense_df = eda.initialize_PA_dataset(expense_paths[i][0],expense_paths[i][1])\n",
    "    merged = eda.merge_same_year_datasets(contrib_df,filer_df)\n",
    "    merged_datasets_per_year.append(merged)\n",
    "    merged_expense_dataset.append(expense_df)"
   ]
  },
  {
   "cell_type": "code",
   "execution_count": 10,
   "metadata": {},
   "outputs": [
    {
     "data": {
      "text/html": [
       "<div>\n",
       "<style scoped>\n",
       "    .dataframe tbody tr th:only-of-type {\n",
       "        vertical-align: middle;\n",
       "    }\n",
       "\n",
       "    .dataframe tbody tr th {\n",
       "        vertical-align: top;\n",
       "    }\n",
       "\n",
       "    .dataframe thead th {\n",
       "        text-align: right;\n",
       "    }\n",
       "</style>\n",
       "<table border=\"1\" class=\"dataframe\">\n",
       "  <thead>\n",
       "    <tr style=\"text-align: right;\">\n",
       "      <th></th>\n",
       "      <th>RECIPIENT_ID</th>\n",
       "      <th>YEAR</th>\n",
       "      <th>DONOR</th>\n",
       "      <th>TOTAL_CONT_AMT</th>\n",
       "      <th>DONOR_TYPE</th>\n",
       "      <th>RECIPIENT_TYPE</th>\n",
       "      <th>RECIPIENT</th>\n",
       "      <th>RECIPIENT_OFFICE</th>\n",
       "      <th>RECIPIENT_PARTY</th>\n",
       "    </tr>\n",
       "  </thead>\n",
       "  <tbody>\n",
       "    <tr>\n",
       "      <th>0</th>\n",
       "      <td>2000081</td>\n",
       "      <td>2018</td>\n",
       "      <td>JOSEPH A RIBAS</td>\n",
       "      <td>25.00</td>\n",
       "      <td>INDIVIDUAL</td>\n",
       "      <td>Committee</td>\n",
       "      <td>FIRSTENERGY CORP. POLITICAL ACTION COMMITTEE</td>\n",
       "      <td>NaN</td>\n",
       "      <td>NaN</td>\n",
       "    </tr>\n",
       "    <tr>\n",
       "      <th>1</th>\n",
       "      <td>2000081</td>\n",
       "      <td>2018</td>\n",
       "      <td>PAUL J KASHELLA</td>\n",
       "      <td>40.00</td>\n",
       "      <td>INDIVIDUAL</td>\n",
       "      <td>Committee</td>\n",
       "      <td>FIRSTENERGY CORP. POLITICAL ACTION COMMITTEE</td>\n",
       "      <td>NaN</td>\n",
       "      <td>NaN</td>\n",
       "    </tr>\n",
       "    <tr>\n",
       "      <th>2</th>\n",
       "      <td>2000081</td>\n",
       "      <td>2018</td>\n",
       "      <td>VICKY C THIEL</td>\n",
       "      <td>25.00</td>\n",
       "      <td>INDIVIDUAL</td>\n",
       "      <td>Committee</td>\n",
       "      <td>FIRSTENERGY CORP. POLITICAL ACTION COMMITTEE</td>\n",
       "      <td>NaN</td>\n",
       "      <td>NaN</td>\n",
       "    </tr>\n",
       "    <tr>\n",
       "      <th>3</th>\n",
       "      <td>2000081</td>\n",
       "      <td>2018</td>\n",
       "      <td>JOSEPH B HILDEBRANDT</td>\n",
       "      <td>20.00</td>\n",
       "      <td>INDIVIDUAL</td>\n",
       "      <td>Committee</td>\n",
       "      <td>FIRSTENERGY CORP. POLITICAL ACTION COMMITTEE</td>\n",
       "      <td>NaN</td>\n",
       "      <td>NaN</td>\n",
       "    </tr>\n",
       "    <tr>\n",
       "      <th>4</th>\n",
       "      <td>2000081</td>\n",
       "      <td>2018</td>\n",
       "      <td>JACQUELINE A ESPINOZA</td>\n",
       "      <td>50.00</td>\n",
       "      <td>INDIVIDUAL</td>\n",
       "      <td>Committee</td>\n",
       "      <td>FIRSTENERGY CORP. POLITICAL ACTION COMMITTEE</td>\n",
       "      <td>NaN</td>\n",
       "      <td>NaN</td>\n",
       "    </tr>\n",
       "    <tr>\n",
       "      <th>...</th>\n",
       "      <td>...</td>\n",
       "      <td>...</td>\n",
       "      <td>...</td>\n",
       "      <td>...</td>\n",
       "      <td>...</td>\n",
       "      <td>...</td>\n",
       "      <td>...</td>\n",
       "      <td>...</td>\n",
       "      <td>...</td>\n",
       "    </tr>\n",
       "    <tr>\n",
       "      <th>387459</th>\n",
       "      <td>393671</td>\n",
       "      <td>2023</td>\n",
       "      <td>ERIC J YARNELL</td>\n",
       "      <td>38.47</td>\n",
       "      <td>INDIVIDUAL</td>\n",
       "      <td>Committee</td>\n",
       "      <td>HIGHMARK PAC OF HIGHMARK INC.</td>\n",
       "      <td>NaN</td>\n",
       "      <td>NaN</td>\n",
       "    </tr>\n",
       "    <tr>\n",
       "      <th>387460</th>\n",
       "      <td>393671</td>\n",
       "      <td>2023</td>\n",
       "      <td>PATRICIA  LAUGHLIN</td>\n",
       "      <td>116.00</td>\n",
       "      <td>INDIVIDUAL</td>\n",
       "      <td>Committee</td>\n",
       "      <td>HIGHMARK PAC OF HIGHMARK INC.</td>\n",
       "      <td>NaN</td>\n",
       "      <td>NaN</td>\n",
       "    </tr>\n",
       "    <tr>\n",
       "      <th>387461</th>\n",
       "      <td>393671</td>\n",
       "      <td>2023</td>\n",
       "      <td>MATTHEW J RHENISH</td>\n",
       "      <td>130.00</td>\n",
       "      <td>INDIVIDUAL</td>\n",
       "      <td>Committee</td>\n",
       "      <td>HIGHMARK PAC OF HIGHMARK INC.</td>\n",
       "      <td>NaN</td>\n",
       "      <td>NaN</td>\n",
       "    </tr>\n",
       "    <tr>\n",
       "      <th>387462</th>\n",
       "      <td>393671</td>\n",
       "      <td>2023</td>\n",
       "      <td>JAMES J BENEDICT</td>\n",
       "      <td>192.30</td>\n",
       "      <td>INDIVIDUAL</td>\n",
       "      <td>Committee</td>\n",
       "      <td>HIGHMARK PAC OF HIGHMARK INC.</td>\n",
       "      <td>NaN</td>\n",
       "      <td>NaN</td>\n",
       "    </tr>\n",
       "    <tr>\n",
       "      <th>387463</th>\n",
       "      <td>393671</td>\n",
       "      <td>2023</td>\n",
       "      <td>KRISTY A YOHEY</td>\n",
       "      <td>50.00</td>\n",
       "      <td>INDIVIDUAL</td>\n",
       "      <td>Committee</td>\n",
       "      <td>HIGHMARK PAC OF HIGHMARK INC.</td>\n",
       "      <td>NaN</td>\n",
       "      <td>NaN</td>\n",
       "    </tr>\n",
       "  </tbody>\n",
       "</table>\n",
       "<p>6507958 rows × 9 columns</p>\n",
       "</div>"
      ],
      "text/plain": [
       "       RECIPIENT_ID  YEAR                  DONOR  TOTAL_CONT_AMT  DONOR_TYPE  \\\n",
       "0           2000081  2018         JOSEPH A RIBAS           25.00  INDIVIDUAL   \n",
       "1           2000081  2018        PAUL J KASHELLA           40.00  INDIVIDUAL   \n",
       "2           2000081  2018          VICKY C THIEL           25.00  INDIVIDUAL   \n",
       "3           2000081  2018   JOSEPH B HILDEBRANDT           20.00  INDIVIDUAL   \n",
       "4           2000081  2018  JACQUELINE A ESPINOZA           50.00  INDIVIDUAL   \n",
       "...             ...   ...                    ...             ...         ...   \n",
       "387459       393671  2023         ERIC J YARNELL           38.47  INDIVIDUAL   \n",
       "387460       393671  2023     PATRICIA  LAUGHLIN          116.00  INDIVIDUAL   \n",
       "387461       393671  2023      MATTHEW J RHENISH          130.00  INDIVIDUAL   \n",
       "387462       393671  2023       JAMES J BENEDICT          192.30  INDIVIDUAL   \n",
       "387463       393671  2023         KRISTY A YOHEY           50.00  INDIVIDUAL   \n",
       "\n",
       "       RECIPIENT_TYPE                                     RECIPIENT  \\\n",
       "0           Committee  FIRSTENERGY CORP. POLITICAL ACTION COMMITTEE   \n",
       "1           Committee  FIRSTENERGY CORP. POLITICAL ACTION COMMITTEE   \n",
       "2           Committee  FIRSTENERGY CORP. POLITICAL ACTION COMMITTEE   \n",
       "3           Committee  FIRSTENERGY CORP. POLITICAL ACTION COMMITTEE   \n",
       "4           Committee  FIRSTENERGY CORP. POLITICAL ACTION COMMITTEE   \n",
       "...               ...                                           ...   \n",
       "387459      Committee                 HIGHMARK PAC OF HIGHMARK INC.   \n",
       "387460      Committee                 HIGHMARK PAC OF HIGHMARK INC.   \n",
       "387461      Committee                 HIGHMARK PAC OF HIGHMARK INC.   \n",
       "387462      Committee                 HIGHMARK PAC OF HIGHMARK INC.   \n",
       "387463      Committee                 HIGHMARK PAC OF HIGHMARK INC.   \n",
       "\n",
       "       RECIPIENT_OFFICE RECIPIENT_PARTY  \n",
       "0                   NaN             NaN  \n",
       "1                   NaN             NaN  \n",
       "2                   NaN             NaN  \n",
       "3                   NaN             NaN  \n",
       "4                   NaN             NaN  \n",
       "...                 ...             ...  \n",
       "387459              NaN             NaN  \n",
       "387460              NaN             NaN  \n",
       "387461              NaN             NaN  \n",
       "387462              NaN             NaN  \n",
       "387463              NaN             NaN  \n",
       "\n",
       "[6507958 rows x 9 columns]"
      ]
     },
     "execution_count": 10,
     "metadata": {},
     "output_type": "execute_result"
    }
   ],
   "source": [
    "contrib_filer_info_2018_2023 = eda.merge_all_datasets(merged_datasets_per_year)\n",
    "contrib_filer_info_2018_2023"
   ]
  },
  {
   "cell_type": "markdown",
   "id": "23fc2d42",
   "metadata": {},
   "source": [
    "##### 1.1 For each column, what are the contents of it? How many blanks or nulls are there? What is the format? If there it is one of several types, what are those types?"
   ]
  },
  {
   "cell_type": "code",
   "execution_count": 6,
   "id": "1488530d",
   "metadata": {},
   "outputs": [
    {
     "data": {
      "text/html": [
       "<div>\n",
       "<style scoped>\n",
       "    .dataframe tbody tr th:only-of-type {\n",
       "        vertical-align: middle;\n",
       "    }\n",
       "\n",
       "    .dataframe tbody tr th {\n",
       "        vertical-align: top;\n",
       "    }\n",
       "\n",
       "    .dataframe thead th {\n",
       "        text-align: right;\n",
       "    }\n",
       "</style>\n",
       "<table border=\"1\" class=\"dataframe\">\n",
       "  <thead>\n",
       "    <tr style=\"text-align: right;\">\n",
       "      <th></th>\n",
       "      <th>columnName</th>\n",
       "      <th>colType</th>\n",
       "      <th>numNulls</th>\n",
       "      <th>null_percent</th>\n",
       "    </tr>\n",
       "  </thead>\n",
       "  <tbody>\n",
       "    <tr>\n",
       "      <th>0</th>\n",
       "      <td>RECIPIENT_ID</td>\n",
       "      <td>object</td>\n",
       "      <td>0</td>\n",
       "      <td>0.00</td>\n",
       "    </tr>\n",
       "    <tr>\n",
       "      <th>1</th>\n",
       "      <td>YEAR</td>\n",
       "      <td>int64</td>\n",
       "      <td>0</td>\n",
       "      <td>0.00</td>\n",
       "    </tr>\n",
       "    <tr>\n",
       "      <th>2</th>\n",
       "      <td>DONOR</td>\n",
       "      <td>object</td>\n",
       "      <td>0</td>\n",
       "      <td>0.00</td>\n",
       "    </tr>\n",
       "    <tr>\n",
       "      <th>3</th>\n",
       "      <td>TOTAL_CONT_AMT</td>\n",
       "      <td>float64</td>\n",
       "      <td>0</td>\n",
       "      <td>0.00</td>\n",
       "    </tr>\n",
       "    <tr>\n",
       "      <th>4</th>\n",
       "      <td>DONOR_TYPE</td>\n",
       "      <td>object</td>\n",
       "      <td>0</td>\n",
       "      <td>0.00</td>\n",
       "    </tr>\n",
       "    <tr>\n",
       "      <th>5</th>\n",
       "      <td>RECIPIENT_TYPE</td>\n",
       "      <td>object</td>\n",
       "      <td>5573</td>\n",
       "      <td>0.09</td>\n",
       "    </tr>\n",
       "    <tr>\n",
       "      <th>6</th>\n",
       "      <td>RECIPIENT</td>\n",
       "      <td>object</td>\n",
       "      <td>0</td>\n",
       "      <td>0.00</td>\n",
       "    </tr>\n",
       "    <tr>\n",
       "      <th>7</th>\n",
       "      <td>RECIPIENT_OFFICE</td>\n",
       "      <td>object</td>\n",
       "      <td>6236824</td>\n",
       "      <td>95.83</td>\n",
       "    </tr>\n",
       "    <tr>\n",
       "      <th>8</th>\n",
       "      <td>RECIPIENT_PARTY</td>\n",
       "      <td>object</td>\n",
       "      <td>4289375</td>\n",
       "      <td>65.91</td>\n",
       "    </tr>\n",
       "  </tbody>\n",
       "</table>\n",
       "</div>"
      ],
      "text/plain": [
       "         columnName  colType  numNulls  null_percent\n",
       "0      RECIPIENT_ID   object         0          0.00\n",
       "1              YEAR    int64         0          0.00\n",
       "2             DONOR   object         0          0.00\n",
       "3    TOTAL_CONT_AMT  float64         0          0.00\n",
       "4        DONOR_TYPE   object         0          0.00\n",
       "5    RECIPIENT_TYPE   object      5573          0.09\n",
       "6         RECIPIENT   object         0          0.00\n",
       "7  RECIPIENT_OFFICE   object   6236824         95.83\n",
       "8   RECIPIENT_PARTY   object   4289375         65.91"
      ]
     },
     "execution_count": 6,
     "metadata": {},
     "output_type": "execute_result"
    }
   ],
   "source": [
    "cols, type, nulls, null_percent = [],[],[],[]\n",
    "for column in contrib_filer_info_2018_2023.columns:\n",
    "   cols.append(column)\n",
    "   type.append(contrib_filer_info_2018_2023.dtypes[column]) \n",
    "   nulls.append(contrib_filer_info_2018_2023[column].isna().sum(),)\n",
    "   null_percent.append(round(contrib_filer_info_2018_2023[column].isna().sum()/len(contrib_filer_info_2018_2023)*100,2))\n",
    "\n",
    "summary_df = {'columnName':cols, 'colType':type,'numNulls':nulls,'null_percent':null_percent}\n",
    "summary_df = pd.DataFrame(summary_df)#, columns==['columnName','colType','numNulls','nullPercent'])\n",
    "summary_df\n"
   ]
  },
  {
   "cell_type": "markdown",
   "id": "e65803c2",
   "metadata": {},
   "source": [
    "*Having reduced the contributor and filer datasets to the relevant datasets, it is evident that with the exception of {CONT_DESCRIP, OFFICE, PARTY} columns, most of the values are reported and available. With regards to the type of data stored in the datasets, most are considered objects (which are mainly strings), in part due to the presence of dirty/inconsistent data inputs.*"
   ]
  },
  {
   "cell_type": "markdown",
   "id": "7de3ef9a",
   "metadata": {},
   "source": [
    "#####  2.1 Who are the top 10 contributors in your data? The top 10 recipients?"
   ]
  },
  {
   "cell_type": "code",
   "execution_count": 7,
   "id": "89830e0b",
   "metadata": {},
   "outputs": [
    {
     "data": {
      "text/html": [
       "<div>\n",
       "<style scoped>\n",
       "    .dataframe tbody tr th:only-of-type {\n",
       "        vertical-align: middle;\n",
       "    }\n",
       "\n",
       "    .dataframe tbody tr th {\n",
       "        vertical-align: top;\n",
       "    }\n",
       "\n",
       "    .dataframe thead th {\n",
       "        text-align: right;\n",
       "    }\n",
       "</style>\n",
       "<table border=\"1\" class=\"dataframe\">\n",
       "  <thead>\n",
       "    <tr style=\"text-align: right;\">\n",
       "      <th></th>\n",
       "      <th>TOTAL_CONT_AMT</th>\n",
       "    </tr>\n",
       "    <tr>\n",
       "      <th>DONOR</th>\n",
       "      <th></th>\n",
       "    </tr>\n",
       "  </thead>\n",
       "  <tbody>\n",
       "    <tr>\n",
       "      <th>CHARLOTTE SWENSON</th>\n",
       "      <td>114202845.38</td>\n",
       "    </tr>\n",
       "    <tr>\n",
       "      <th>JEFFREY YASS</th>\n",
       "      <td>57205000.00</td>\n",
       "    </tr>\n",
       "    <tr>\n",
       "      <th>TOTAL OTHER CONTRIBUTIONS</th>\n",
       "      <td>39332908.48</td>\n",
       "    </tr>\n",
       "    <tr>\n",
       "      <th>COMMONWEALTH CHILDREN'S CHOICE FUND</th>\n",
       "      <td>34954611.22</td>\n",
       "    </tr>\n",
       "    <tr>\n",
       "      <th>STUDENTS FIRST PAC</th>\n",
       "      <td>31699924.71</td>\n",
       "    </tr>\n",
       "    <tr>\n",
       "      <th>COMMONWEALTH LEADERS FUND</th>\n",
       "      <td>27270100.22</td>\n",
       "    </tr>\n",
       "    <tr>\n",
       "      <th>STUDENT'S FIRST PAC</th>\n",
       "      <td>18500000.00</td>\n",
       "    </tr>\n",
       "    <tr>\n",
       "      <th>CONTRIBUTIONS FROM FEC REPORT</th>\n",
       "      <td>17850908.02</td>\n",
       "    </tr>\n",
       "    <tr>\n",
       "      <th>HOUSE DEMOCRATIC CAMPAIGN COMMITTEE</th>\n",
       "      <td>15784775.41</td>\n",
       "    </tr>\n",
       "    <tr>\n",
       "      <th>HOUSE REPUBLICAN CAMPAIGN COMMITTEE</th>\n",
       "      <td>13752286.61</td>\n",
       "    </tr>\n",
       "  </tbody>\n",
       "</table>\n",
       "</div>"
      ],
      "text/plain": [
       "                                     TOTAL_CONT_AMT\n",
       "DONOR                                              \n",
       "CHARLOTTE SWENSON                      114202845.38\n",
       "JEFFREY YASS                            57205000.00\n",
       "TOTAL OTHER CONTRIBUTIONS               39332908.48\n",
       "COMMONWEALTH CHILDREN'S CHOICE FUND     34954611.22\n",
       "STUDENTS FIRST PAC                      31699924.71\n",
       "COMMONWEALTH LEADERS FUND               27270100.22\n",
       "STUDENT'S FIRST PAC                     18500000.00\n",
       "CONTRIBUTIONS FROM FEC REPORT           17850908.02\n",
       "HOUSE DEMOCRATIC CAMPAIGN COMMITTEE     15784775.41\n",
       "HOUSE REPUBLICAN CAMPAIGN COMMITTEE     13752286.61"
      ]
     },
     "execution_count": 7,
     "metadata": {},
     "output_type": "execute_result"
    }
   ],
   "source": [
    "eda.top_n_contributors(contrib_filer_info_2018_2023,10)"
   ]
  },
  {
   "cell_type": "code",
   "execution_count": 7,
   "id": "575200fc",
   "metadata": {},
   "outputs": [
    {
     "data": {
      "text/html": [
       "<div>\n",
       "<style scoped>\n",
       "    .dataframe tbody tr th:only-of-type {\n",
       "        vertical-align: middle;\n",
       "    }\n",
       "\n",
       "    .dataframe tbody tr th {\n",
       "        vertical-align: top;\n",
       "    }\n",
       "\n",
       "    .dataframe thead th {\n",
       "        text-align: right;\n",
       "    }\n",
       "</style>\n",
       "<table border=\"1\" class=\"dataframe\">\n",
       "  <thead>\n",
       "    <tr style=\"text-align: right;\">\n",
       "      <th></th>\n",
       "      <th>TOTAL_CONT_AMT</th>\n",
       "    </tr>\n",
       "    <tr>\n",
       "      <th>FILER_NAME</th>\n",
       "      <th></th>\n",
       "    </tr>\n",
       "  </thead>\n",
       "  <tbody>\n",
       "    <tr>\n",
       "      <th>FRIENDS OF JENNIFER O'MARA</th>\n",
       "      <td>115522369.09</td>\n",
       "    </tr>\n",
       "    <tr>\n",
       "      <th>Shapiro for Pennsylvania</th>\n",
       "      <td>76829505.52</td>\n",
       "    </tr>\n",
       "    <tr>\n",
       "      <th>Students First PAC</th>\n",
       "      <td>58525000.00</td>\n",
       "    </tr>\n",
       "    <tr>\n",
       "      <th>COMMONWEALTH LEADERS FUND</th>\n",
       "      <td>39822241.33</td>\n",
       "    </tr>\n",
       "    <tr>\n",
       "      <th>COMMONWEALTH CHILDREN'S CHOICE FUND</th>\n",
       "      <td>36168500.00</td>\n",
       "    </tr>\n",
       "    <tr>\n",
       "      <th>PA Democratic Party</th>\n",
       "      <td>34933417.16</td>\n",
       "    </tr>\n",
       "    <tr>\n",
       "      <th>Pennsylvania House Democratic Campaign Committee</th>\n",
       "      <td>28272822.94</td>\n",
       "    </tr>\n",
       "    <tr>\n",
       "      <th>International Brotherhood of Electrical Workers Local 98 Committee on Political Education</th>\n",
       "      <td>26470647.64</td>\n",
       "    </tr>\n",
       "    <tr>\n",
       "      <th>HOUSE REPUBLICAN CAMPAIGN COMMITTEE</th>\n",
       "      <td>24083705.10</td>\n",
       "    </tr>\n",
       "    <tr>\n",
       "      <th>AMERICAN FEDERATION OF TEACHERS, AFL-CIO COPE (AFT/COPE)</th>\n",
       "      <td>23304568.79</td>\n",
       "    </tr>\n",
       "  </tbody>\n",
       "</table>\n",
       "</div>"
      ],
      "text/plain": [
       "                                                    TOTAL_CONT_AMT\n",
       "FILER_NAME                                                        \n",
       "FRIENDS OF JENNIFER O'MARA                            115522369.09\n",
       "Shapiro for Pennsylvania                               76829505.52\n",
       "Students First PAC                                     58525000.00\n",
       "COMMONWEALTH LEADERS FUND                              39822241.33\n",
       "COMMONWEALTH CHILDREN'S CHOICE FUND                    36168500.00\n",
       "PA Democratic Party                                    34933417.16\n",
       "Pennsylvania House Democratic Campaign Committee       28272822.94\n",
       "International Brotherhood of Electrical Workers...     26470647.64\n",
       "HOUSE REPUBLICAN CAMPAIGN COMMITTEE                    24083705.10\n",
       "AMERICAN FEDERATION OF TEACHERS, AFL-CIO COPE (...     23304568.79"
      ]
     },
     "execution_count": 7,
     "metadata": {},
     "output_type": "execute_result"
    }
   ],
   "source": [
    "eda.top_n_recipients(contrib_filer_info_2018_2023,10)"
   ]
  },
  {
   "cell_type": "markdown",
   "id": "bf489e51",
   "metadata": {},
   "source": [
    "##### 3.1 Make a bar chart with plotly comparing contributions by donor type (PAC, individual, etc) and one comparing recipients by the office type they are running for"
   ]
  },
  {
   "cell_type": "code",
   "execution_count": 11,
   "id": "359b2fd0",
   "metadata": {},
   "outputs": [
    {
     "data": {
      "application/vnd.plotly.v1+json": {
       "config": {
        "plotlyServerURL": "https://plot.ly"
       },
       "data": [
        {
         "alignmentgroup": "True",
         "hovertemplate": "Type of Filer=Candidate<br>YEAR=%{x}<br>Total Contribution Amount=%{y}<extra></extra>",
         "legendgroup": "Candidate",
         "marker": {
          "color": "#636efa",
          "pattern": {
           "shape": ""
          }
         },
         "name": "Candidate",
         "offsetgroup": "Candidate",
         "orientation": "v",
         "showlegend": true,
         "textposition": "auto",
         "type": "bar",
         "x": [
          2018,
          2019,
          2020,
          2021,
          2022,
          2023
         ],
         "xaxis": "x",
         "y": [
          1568627.22,
          517345.52,
          590490.29,
          900134.08,
          2476099.3,
          358696.73
         ],
         "yaxis": "y"
        },
        {
         "alignmentgroup": "True",
         "hovertemplate": "Type of Filer=Committee<br>YEAR=%{x}<br>Total Contribution Amount=%{y}<extra></extra>",
         "legendgroup": "Committee",
         "marker": {
          "color": "#EF553B",
          "pattern": {
           "shape": ""
          }
         },
         "name": "Committee",
         "offsetgroup": "Committee",
         "orientation": "v",
         "showlegend": true,
         "textposition": "auto",
         "type": "bar",
         "x": [
          2018,
          2019,
          2020,
          2021,
          2022,
          2023
         ],
         "xaxis": "x",
         "y": [
          315345576.08,
          328678633.98,
          354754859.47,
          248565501.96,
          462917633.5,
          142906754.72
         ],
         "yaxis": "y"
        },
        {
         "alignmentgroup": "True",
         "hovertemplate": "Type of Filer=Lobbyist<br>YEAR=%{x}<br>Total Contribution Amount=%{y}<extra></extra>",
         "legendgroup": "Lobbyist",
         "marker": {
          "color": "#00cc96",
          "pattern": {
           "shape": ""
          }
         },
         "name": "Lobbyist",
         "offsetgroup": "Lobbyist",
         "orientation": "v",
         "showlegend": true,
         "textposition": "auto",
         "type": "bar",
         "x": [
          2018,
          2019,
          2020,
          2021,
          2022,
          2023
         ],
         "xaxis": "x",
         "y": [
          21065,
          45923,
          18888.44,
          50000,
          172329.76,
          6595
         ],
         "yaxis": "y"
        }
       ],
       "layout": {
        "barmode": "relative",
        "legend": {
         "title": {
          "text": "Type of Filer"
         },
         "tracegroupgap": 0
        },
        "template": {
         "data": {
          "bar": [
           {
            "error_x": {
             "color": "#2a3f5f"
            },
            "error_y": {
             "color": "#2a3f5f"
            },
            "marker": {
             "line": {
              "color": "#E5ECF6",
              "width": 0.5
             },
             "pattern": {
              "fillmode": "overlay",
              "size": 10,
              "solidity": 0.2
             }
            },
            "type": "bar"
           }
          ],
          "barpolar": [
           {
            "marker": {
             "line": {
              "color": "#E5ECF6",
              "width": 0.5
             },
             "pattern": {
              "fillmode": "overlay",
              "size": 10,
              "solidity": 0.2
             }
            },
            "type": "barpolar"
           }
          ],
          "carpet": [
           {
            "aaxis": {
             "endlinecolor": "#2a3f5f",
             "gridcolor": "white",
             "linecolor": "white",
             "minorgridcolor": "white",
             "startlinecolor": "#2a3f5f"
            },
            "baxis": {
             "endlinecolor": "#2a3f5f",
             "gridcolor": "white",
             "linecolor": "white",
             "minorgridcolor": "white",
             "startlinecolor": "#2a3f5f"
            },
            "type": "carpet"
           }
          ],
          "choropleth": [
           {
            "colorbar": {
             "outlinewidth": 0,
             "ticks": ""
            },
            "type": "choropleth"
           }
          ],
          "contour": [
           {
            "colorbar": {
             "outlinewidth": 0,
             "ticks": ""
            },
            "colorscale": [
             [
              0,
              "#0d0887"
             ],
             [
              0.1111111111111111,
              "#46039f"
             ],
             [
              0.2222222222222222,
              "#7201a8"
             ],
             [
              0.3333333333333333,
              "#9c179e"
             ],
             [
              0.4444444444444444,
              "#bd3786"
             ],
             [
              0.5555555555555556,
              "#d8576b"
             ],
             [
              0.6666666666666666,
              "#ed7953"
             ],
             [
              0.7777777777777778,
              "#fb9f3a"
             ],
             [
              0.8888888888888888,
              "#fdca26"
             ],
             [
              1,
              "#f0f921"
             ]
            ],
            "type": "contour"
           }
          ],
          "contourcarpet": [
           {
            "colorbar": {
             "outlinewidth": 0,
             "ticks": ""
            },
            "type": "contourcarpet"
           }
          ],
          "heatmap": [
           {
            "colorbar": {
             "outlinewidth": 0,
             "ticks": ""
            },
            "colorscale": [
             [
              0,
              "#0d0887"
             ],
             [
              0.1111111111111111,
              "#46039f"
             ],
             [
              0.2222222222222222,
              "#7201a8"
             ],
             [
              0.3333333333333333,
              "#9c179e"
             ],
             [
              0.4444444444444444,
              "#bd3786"
             ],
             [
              0.5555555555555556,
              "#d8576b"
             ],
             [
              0.6666666666666666,
              "#ed7953"
             ],
             [
              0.7777777777777778,
              "#fb9f3a"
             ],
             [
              0.8888888888888888,
              "#fdca26"
             ],
             [
              1,
              "#f0f921"
             ]
            ],
            "type": "heatmap"
           }
          ],
          "heatmapgl": [
           {
            "colorbar": {
             "outlinewidth": 0,
             "ticks": ""
            },
            "colorscale": [
             [
              0,
              "#0d0887"
             ],
             [
              0.1111111111111111,
              "#46039f"
             ],
             [
              0.2222222222222222,
              "#7201a8"
             ],
             [
              0.3333333333333333,
              "#9c179e"
             ],
             [
              0.4444444444444444,
              "#bd3786"
             ],
             [
              0.5555555555555556,
              "#d8576b"
             ],
             [
              0.6666666666666666,
              "#ed7953"
             ],
             [
              0.7777777777777778,
              "#fb9f3a"
             ],
             [
              0.8888888888888888,
              "#fdca26"
             ],
             [
              1,
              "#f0f921"
             ]
            ],
            "type": "heatmapgl"
           }
          ],
          "histogram": [
           {
            "marker": {
             "pattern": {
              "fillmode": "overlay",
              "size": 10,
              "solidity": 0.2
             }
            },
            "type": "histogram"
           }
          ],
          "histogram2d": [
           {
            "colorbar": {
             "outlinewidth": 0,
             "ticks": ""
            },
            "colorscale": [
             [
              0,
              "#0d0887"
             ],
             [
              0.1111111111111111,
              "#46039f"
             ],
             [
              0.2222222222222222,
              "#7201a8"
             ],
             [
              0.3333333333333333,
              "#9c179e"
             ],
             [
              0.4444444444444444,
              "#bd3786"
             ],
             [
              0.5555555555555556,
              "#d8576b"
             ],
             [
              0.6666666666666666,
              "#ed7953"
             ],
             [
              0.7777777777777778,
              "#fb9f3a"
             ],
             [
              0.8888888888888888,
              "#fdca26"
             ],
             [
              1,
              "#f0f921"
             ]
            ],
            "type": "histogram2d"
           }
          ],
          "histogram2dcontour": [
           {
            "colorbar": {
             "outlinewidth": 0,
             "ticks": ""
            },
            "colorscale": [
             [
              0,
              "#0d0887"
             ],
             [
              0.1111111111111111,
              "#46039f"
             ],
             [
              0.2222222222222222,
              "#7201a8"
             ],
             [
              0.3333333333333333,
              "#9c179e"
             ],
             [
              0.4444444444444444,
              "#bd3786"
             ],
             [
              0.5555555555555556,
              "#d8576b"
             ],
             [
              0.6666666666666666,
              "#ed7953"
             ],
             [
              0.7777777777777778,
              "#fb9f3a"
             ],
             [
              0.8888888888888888,
              "#fdca26"
             ],
             [
              1,
              "#f0f921"
             ]
            ],
            "type": "histogram2dcontour"
           }
          ],
          "mesh3d": [
           {
            "colorbar": {
             "outlinewidth": 0,
             "ticks": ""
            },
            "type": "mesh3d"
           }
          ],
          "parcoords": [
           {
            "line": {
             "colorbar": {
              "outlinewidth": 0,
              "ticks": ""
             }
            },
            "type": "parcoords"
           }
          ],
          "pie": [
           {
            "automargin": true,
            "type": "pie"
           }
          ],
          "scatter": [
           {
            "fillpattern": {
             "fillmode": "overlay",
             "size": 10,
             "solidity": 0.2
            },
            "type": "scatter"
           }
          ],
          "scatter3d": [
           {
            "line": {
             "colorbar": {
              "outlinewidth": 0,
              "ticks": ""
             }
            },
            "marker": {
             "colorbar": {
              "outlinewidth": 0,
              "ticks": ""
             }
            },
            "type": "scatter3d"
           }
          ],
          "scattercarpet": [
           {
            "marker": {
             "colorbar": {
              "outlinewidth": 0,
              "ticks": ""
             }
            },
            "type": "scattercarpet"
           }
          ],
          "scattergeo": [
           {
            "marker": {
             "colorbar": {
              "outlinewidth": 0,
              "ticks": ""
             }
            },
            "type": "scattergeo"
           }
          ],
          "scattergl": [
           {
            "marker": {
             "colorbar": {
              "outlinewidth": 0,
              "ticks": ""
             }
            },
            "type": "scattergl"
           }
          ],
          "scattermapbox": [
           {
            "marker": {
             "colorbar": {
              "outlinewidth": 0,
              "ticks": ""
             }
            },
            "type": "scattermapbox"
           }
          ],
          "scatterpolar": [
           {
            "marker": {
             "colorbar": {
              "outlinewidth": 0,
              "ticks": ""
             }
            },
            "type": "scatterpolar"
           }
          ],
          "scatterpolargl": [
           {
            "marker": {
             "colorbar": {
              "outlinewidth": 0,
              "ticks": ""
             }
            },
            "type": "scatterpolargl"
           }
          ],
          "scatterternary": [
           {
            "marker": {
             "colorbar": {
              "outlinewidth": 0,
              "ticks": ""
             }
            },
            "type": "scatterternary"
           }
          ],
          "surface": [
           {
            "colorbar": {
             "outlinewidth": 0,
             "ticks": ""
            },
            "colorscale": [
             [
              0,
              "#0d0887"
             ],
             [
              0.1111111111111111,
              "#46039f"
             ],
             [
              0.2222222222222222,
              "#7201a8"
             ],
             [
              0.3333333333333333,
              "#9c179e"
             ],
             [
              0.4444444444444444,
              "#bd3786"
             ],
             [
              0.5555555555555556,
              "#d8576b"
             ],
             [
              0.6666666666666666,
              "#ed7953"
             ],
             [
              0.7777777777777778,
              "#fb9f3a"
             ],
             [
              0.8888888888888888,
              "#fdca26"
             ],
             [
              1,
              "#f0f921"
             ]
            ],
            "type": "surface"
           }
          ],
          "table": [
           {
            "cells": {
             "fill": {
              "color": "#EBF0F8"
             },
             "line": {
              "color": "white"
             }
            },
            "header": {
             "fill": {
              "color": "#C8D4E3"
             },
             "line": {
              "color": "white"
             }
            },
            "type": "table"
           }
          ]
         },
         "layout": {
          "annotationdefaults": {
           "arrowcolor": "#2a3f5f",
           "arrowhead": 0,
           "arrowwidth": 1
          },
          "autotypenumbers": "strict",
          "coloraxis": {
           "colorbar": {
            "outlinewidth": 0,
            "ticks": ""
           }
          },
          "colorscale": {
           "diverging": [
            [
             0,
             "#8e0152"
            ],
            [
             0.1,
             "#c51b7d"
            ],
            [
             0.2,
             "#de77ae"
            ],
            [
             0.3,
             "#f1b6da"
            ],
            [
             0.4,
             "#fde0ef"
            ],
            [
             0.5,
             "#f7f7f7"
            ],
            [
             0.6,
             "#e6f5d0"
            ],
            [
             0.7,
             "#b8e186"
            ],
            [
             0.8,
             "#7fbc41"
            ],
            [
             0.9,
             "#4d9221"
            ],
            [
             1,
             "#276419"
            ]
           ],
           "sequential": [
            [
             0,
             "#0d0887"
            ],
            [
             0.1111111111111111,
             "#46039f"
            ],
            [
             0.2222222222222222,
             "#7201a8"
            ],
            [
             0.3333333333333333,
             "#9c179e"
            ],
            [
             0.4444444444444444,
             "#bd3786"
            ],
            [
             0.5555555555555556,
             "#d8576b"
            ],
            [
             0.6666666666666666,
             "#ed7953"
            ],
            [
             0.7777777777777778,
             "#fb9f3a"
            ],
            [
             0.8888888888888888,
             "#fdca26"
            ],
            [
             1,
             "#f0f921"
            ]
           ],
           "sequentialminus": [
            [
             0,
             "#0d0887"
            ],
            [
             0.1111111111111111,
             "#46039f"
            ],
            [
             0.2222222222222222,
             "#7201a8"
            ],
            [
             0.3333333333333333,
             "#9c179e"
            ],
            [
             0.4444444444444444,
             "#bd3786"
            ],
            [
             0.5555555555555556,
             "#d8576b"
            ],
            [
             0.6666666666666666,
             "#ed7953"
            ],
            [
             0.7777777777777778,
             "#fb9f3a"
            ],
            [
             0.8888888888888888,
             "#fdca26"
            ],
            [
             1,
             "#f0f921"
            ]
           ]
          },
          "colorway": [
           "#636efa",
           "#EF553B",
           "#00cc96",
           "#ab63fa",
           "#FFA15A",
           "#19d3f3",
           "#FF6692",
           "#B6E880",
           "#FF97FF",
           "#FECB52"
          ],
          "font": {
           "color": "#2a3f5f"
          },
          "geo": {
           "bgcolor": "white",
           "lakecolor": "white",
           "landcolor": "#E5ECF6",
           "showlakes": true,
           "showland": true,
           "subunitcolor": "white"
          },
          "hoverlabel": {
           "align": "left"
          },
          "hovermode": "closest",
          "mapbox": {
           "style": "light"
          },
          "paper_bgcolor": "white",
          "plot_bgcolor": "#E5ECF6",
          "polar": {
           "angularaxis": {
            "gridcolor": "white",
            "linecolor": "white",
            "ticks": ""
           },
           "bgcolor": "#E5ECF6",
           "radialaxis": {
            "gridcolor": "white",
            "linecolor": "white",
            "ticks": ""
           }
          },
          "scene": {
           "xaxis": {
            "backgroundcolor": "#E5ECF6",
            "gridcolor": "white",
            "gridwidth": 2,
            "linecolor": "white",
            "showbackground": true,
            "ticks": "",
            "zerolinecolor": "white"
           },
           "yaxis": {
            "backgroundcolor": "#E5ECF6",
            "gridcolor": "white",
            "gridwidth": 2,
            "linecolor": "white",
            "showbackground": true,
            "ticks": "",
            "zerolinecolor": "white"
           },
           "zaxis": {
            "backgroundcolor": "#E5ECF6",
            "gridcolor": "white",
            "gridwidth": 2,
            "linecolor": "white",
            "showbackground": true,
            "ticks": "",
            "zerolinecolor": "white"
           }
          },
          "shapedefaults": {
           "line": {
            "color": "#2a3f5f"
           }
          },
          "ternary": {
           "aaxis": {
            "gridcolor": "white",
            "linecolor": "white",
            "ticks": ""
           },
           "baxis": {
            "gridcolor": "white",
            "linecolor": "white",
            "ticks": ""
           },
           "bgcolor": "#E5ECF6",
           "caxis": {
            "gridcolor": "white",
            "linecolor": "white",
            "ticks": ""
           }
          },
          "title": {
           "x": 0.05
          },
          "xaxis": {
           "automargin": true,
           "gridcolor": "white",
           "linecolor": "white",
           "ticks": "",
           "title": {
            "standoff": 15
           },
           "zerolinecolor": "white",
           "zerolinewidth": 2
          },
          "yaxis": {
           "automargin": true,
           "gridcolor": "white",
           "linecolor": "white",
           "ticks": "",
           "title": {
            "standoff": 15
           },
           "zerolinecolor": "white",
           "zerolinewidth": 2
          }
         }
        },
        "title": {
         "text": "Pennsylvania Recipients of Annual Contributions (2018 - 2023)"
        },
        "xaxis": {
         "anchor": "y",
         "domain": [
          0,
          1
         ],
         "title": {
          "text": "YEAR"
         }
        },
        "yaxis": {
         "anchor": "x",
         "domain": [
          0,
          1
         ],
         "title": {
          "text": "Total Contribution Amount"
         }
        }
       }
      },
      "text/html": [
       "<div>                            <div id=\"00d992e3-37c6-4e09-b3e0-9b864231273f\" class=\"plotly-graph-div\" style=\"height:525px; width:100%;\"></div>            <script type=\"text/javascript\">                require([\"plotly\"], function(Plotly) {                    window.PLOTLYENV=window.PLOTLYENV || {};                                    if (document.getElementById(\"00d992e3-37c6-4e09-b3e0-9b864231273f\")) {                    Plotly.newPlot(                        \"00d992e3-37c6-4e09-b3e0-9b864231273f\",                        [{\"alignmentgroup\":\"True\",\"hovertemplate\":\"Type of Filer=Candidate<br>YEAR=%{x}<br>Total Contribution Amount=%{y}<extra></extra>\",\"legendgroup\":\"Candidate\",\"marker\":{\"color\":\"#636efa\",\"pattern\":{\"shape\":\"\"}},\"name\":\"Candidate\",\"offsetgroup\":\"Candidate\",\"orientation\":\"v\",\"showlegend\":true,\"textposition\":\"auto\",\"x\":[2018,2019,2020,2021,2022,2023],\"xaxis\":\"x\",\"y\":[1568627.22,517345.52,590490.29,900134.08,2476099.3,358696.73],\"yaxis\":\"y\",\"type\":\"bar\"},{\"alignmentgroup\":\"True\",\"hovertemplate\":\"Type of Filer=Committee<br>YEAR=%{x}<br>Total Contribution Amount=%{y}<extra></extra>\",\"legendgroup\":\"Committee\",\"marker\":{\"color\":\"#EF553B\",\"pattern\":{\"shape\":\"\"}},\"name\":\"Committee\",\"offsetgroup\":\"Committee\",\"orientation\":\"v\",\"showlegend\":true,\"textposition\":\"auto\",\"x\":[2018,2019,2020,2021,2022,2023],\"xaxis\":\"x\",\"y\":[315345576.08,328678633.98,354754859.47,248565501.96,462917633.5,142906754.72],\"yaxis\":\"y\",\"type\":\"bar\"},{\"alignmentgroup\":\"True\",\"hovertemplate\":\"Type of Filer=Lobbyist<br>YEAR=%{x}<br>Total Contribution Amount=%{y}<extra></extra>\",\"legendgroup\":\"Lobbyist\",\"marker\":{\"color\":\"#00cc96\",\"pattern\":{\"shape\":\"\"}},\"name\":\"Lobbyist\",\"offsetgroup\":\"Lobbyist\",\"orientation\":\"v\",\"showlegend\":true,\"textposition\":\"auto\",\"x\":[2018,2019,2020,2021,2022,2023],\"xaxis\":\"x\",\"y\":[21065.0,45923.0,18888.44,50000.0,172329.76,6595.0],\"yaxis\":\"y\",\"type\":\"bar\"}],                        {\"template\":{\"data\":{\"histogram2dcontour\":[{\"type\":\"histogram2dcontour\",\"colorbar\":{\"outlinewidth\":0,\"ticks\":\"\"},\"colorscale\":[[0.0,\"#0d0887\"],[0.1111111111111111,\"#46039f\"],[0.2222222222222222,\"#7201a8\"],[0.3333333333333333,\"#9c179e\"],[0.4444444444444444,\"#bd3786\"],[0.5555555555555556,\"#d8576b\"],[0.6666666666666666,\"#ed7953\"],[0.7777777777777778,\"#fb9f3a\"],[0.8888888888888888,\"#fdca26\"],[1.0,\"#f0f921\"]]}],\"choropleth\":[{\"type\":\"choropleth\",\"colorbar\":{\"outlinewidth\":0,\"ticks\":\"\"}}],\"histogram2d\":[{\"type\":\"histogram2d\",\"colorbar\":{\"outlinewidth\":0,\"ticks\":\"\"},\"colorscale\":[[0.0,\"#0d0887\"],[0.1111111111111111,\"#46039f\"],[0.2222222222222222,\"#7201a8\"],[0.3333333333333333,\"#9c179e\"],[0.4444444444444444,\"#bd3786\"],[0.5555555555555556,\"#d8576b\"],[0.6666666666666666,\"#ed7953\"],[0.7777777777777778,\"#fb9f3a\"],[0.8888888888888888,\"#fdca26\"],[1.0,\"#f0f921\"]]}],\"heatmap\":[{\"type\":\"heatmap\",\"colorbar\":{\"outlinewidth\":0,\"ticks\":\"\"},\"colorscale\":[[0.0,\"#0d0887\"],[0.1111111111111111,\"#46039f\"],[0.2222222222222222,\"#7201a8\"],[0.3333333333333333,\"#9c179e\"],[0.4444444444444444,\"#bd3786\"],[0.5555555555555556,\"#d8576b\"],[0.6666666666666666,\"#ed7953\"],[0.7777777777777778,\"#fb9f3a\"],[0.8888888888888888,\"#fdca26\"],[1.0,\"#f0f921\"]]}],\"heatmapgl\":[{\"type\":\"heatmapgl\",\"colorbar\":{\"outlinewidth\":0,\"ticks\":\"\"},\"colorscale\":[[0.0,\"#0d0887\"],[0.1111111111111111,\"#46039f\"],[0.2222222222222222,\"#7201a8\"],[0.3333333333333333,\"#9c179e\"],[0.4444444444444444,\"#bd3786\"],[0.5555555555555556,\"#d8576b\"],[0.6666666666666666,\"#ed7953\"],[0.7777777777777778,\"#fb9f3a\"],[0.8888888888888888,\"#fdca26\"],[1.0,\"#f0f921\"]]}],\"contourcarpet\":[{\"type\":\"contourcarpet\",\"colorbar\":{\"outlinewidth\":0,\"ticks\":\"\"}}],\"contour\":[{\"type\":\"contour\",\"colorbar\":{\"outlinewidth\":0,\"ticks\":\"\"},\"colorscale\":[[0.0,\"#0d0887\"],[0.1111111111111111,\"#46039f\"],[0.2222222222222222,\"#7201a8\"],[0.3333333333333333,\"#9c179e\"],[0.4444444444444444,\"#bd3786\"],[0.5555555555555556,\"#d8576b\"],[0.6666666666666666,\"#ed7953\"],[0.7777777777777778,\"#fb9f3a\"],[0.8888888888888888,\"#fdca26\"],[1.0,\"#f0f921\"]]}],\"surface\":[{\"type\":\"surface\",\"colorbar\":{\"outlinewidth\":0,\"ticks\":\"\"},\"colorscale\":[[0.0,\"#0d0887\"],[0.1111111111111111,\"#46039f\"],[0.2222222222222222,\"#7201a8\"],[0.3333333333333333,\"#9c179e\"],[0.4444444444444444,\"#bd3786\"],[0.5555555555555556,\"#d8576b\"],[0.6666666666666666,\"#ed7953\"],[0.7777777777777778,\"#fb9f3a\"],[0.8888888888888888,\"#fdca26\"],[1.0,\"#f0f921\"]]}],\"mesh3d\":[{\"type\":\"mesh3d\",\"colorbar\":{\"outlinewidth\":0,\"ticks\":\"\"}}],\"scatter\":[{\"fillpattern\":{\"fillmode\":\"overlay\",\"size\":10,\"solidity\":0.2},\"type\":\"scatter\"}],\"parcoords\":[{\"type\":\"parcoords\",\"line\":{\"colorbar\":{\"outlinewidth\":0,\"ticks\":\"\"}}}],\"scatterpolargl\":[{\"type\":\"scatterpolargl\",\"marker\":{\"colorbar\":{\"outlinewidth\":0,\"ticks\":\"\"}}}],\"bar\":[{\"error_x\":{\"color\":\"#2a3f5f\"},\"error_y\":{\"color\":\"#2a3f5f\"},\"marker\":{\"line\":{\"color\":\"#E5ECF6\",\"width\":0.5},\"pattern\":{\"fillmode\":\"overlay\",\"size\":10,\"solidity\":0.2}},\"type\":\"bar\"}],\"scattergeo\":[{\"type\":\"scattergeo\",\"marker\":{\"colorbar\":{\"outlinewidth\":0,\"ticks\":\"\"}}}],\"scatterpolar\":[{\"type\":\"scatterpolar\",\"marker\":{\"colorbar\":{\"outlinewidth\":0,\"ticks\":\"\"}}}],\"histogram\":[{\"marker\":{\"pattern\":{\"fillmode\":\"overlay\",\"size\":10,\"solidity\":0.2}},\"type\":\"histogram\"}],\"scattergl\":[{\"type\":\"scattergl\",\"marker\":{\"colorbar\":{\"outlinewidth\":0,\"ticks\":\"\"}}}],\"scatter3d\":[{\"type\":\"scatter3d\",\"line\":{\"colorbar\":{\"outlinewidth\":0,\"ticks\":\"\"}},\"marker\":{\"colorbar\":{\"outlinewidth\":0,\"ticks\":\"\"}}}],\"scattermapbox\":[{\"type\":\"scattermapbox\",\"marker\":{\"colorbar\":{\"outlinewidth\":0,\"ticks\":\"\"}}}],\"scatterternary\":[{\"type\":\"scatterternary\",\"marker\":{\"colorbar\":{\"outlinewidth\":0,\"ticks\":\"\"}}}],\"scattercarpet\":[{\"type\":\"scattercarpet\",\"marker\":{\"colorbar\":{\"outlinewidth\":0,\"ticks\":\"\"}}}],\"carpet\":[{\"aaxis\":{\"endlinecolor\":\"#2a3f5f\",\"gridcolor\":\"white\",\"linecolor\":\"white\",\"minorgridcolor\":\"white\",\"startlinecolor\":\"#2a3f5f\"},\"baxis\":{\"endlinecolor\":\"#2a3f5f\",\"gridcolor\":\"white\",\"linecolor\":\"white\",\"minorgridcolor\":\"white\",\"startlinecolor\":\"#2a3f5f\"},\"type\":\"carpet\"}],\"table\":[{\"cells\":{\"fill\":{\"color\":\"#EBF0F8\"},\"line\":{\"color\":\"white\"}},\"header\":{\"fill\":{\"color\":\"#C8D4E3\"},\"line\":{\"color\":\"white\"}},\"type\":\"table\"}],\"barpolar\":[{\"marker\":{\"line\":{\"color\":\"#E5ECF6\",\"width\":0.5},\"pattern\":{\"fillmode\":\"overlay\",\"size\":10,\"solidity\":0.2}},\"type\":\"barpolar\"}],\"pie\":[{\"automargin\":true,\"type\":\"pie\"}]},\"layout\":{\"autotypenumbers\":\"strict\",\"colorway\":[\"#636efa\",\"#EF553B\",\"#00cc96\",\"#ab63fa\",\"#FFA15A\",\"#19d3f3\",\"#FF6692\",\"#B6E880\",\"#FF97FF\",\"#FECB52\"],\"font\":{\"color\":\"#2a3f5f\"},\"hovermode\":\"closest\",\"hoverlabel\":{\"align\":\"left\"},\"paper_bgcolor\":\"white\",\"plot_bgcolor\":\"#E5ECF6\",\"polar\":{\"bgcolor\":\"#E5ECF6\",\"angularaxis\":{\"gridcolor\":\"white\",\"linecolor\":\"white\",\"ticks\":\"\"},\"radialaxis\":{\"gridcolor\":\"white\",\"linecolor\":\"white\",\"ticks\":\"\"}},\"ternary\":{\"bgcolor\":\"#E5ECF6\",\"aaxis\":{\"gridcolor\":\"white\",\"linecolor\":\"white\",\"ticks\":\"\"},\"baxis\":{\"gridcolor\":\"white\",\"linecolor\":\"white\",\"ticks\":\"\"},\"caxis\":{\"gridcolor\":\"white\",\"linecolor\":\"white\",\"ticks\":\"\"}},\"coloraxis\":{\"colorbar\":{\"outlinewidth\":0,\"ticks\":\"\"}},\"colorscale\":{\"sequential\":[[0.0,\"#0d0887\"],[0.1111111111111111,\"#46039f\"],[0.2222222222222222,\"#7201a8\"],[0.3333333333333333,\"#9c179e\"],[0.4444444444444444,\"#bd3786\"],[0.5555555555555556,\"#d8576b\"],[0.6666666666666666,\"#ed7953\"],[0.7777777777777778,\"#fb9f3a\"],[0.8888888888888888,\"#fdca26\"],[1.0,\"#f0f921\"]],\"sequentialminus\":[[0.0,\"#0d0887\"],[0.1111111111111111,\"#46039f\"],[0.2222222222222222,\"#7201a8\"],[0.3333333333333333,\"#9c179e\"],[0.4444444444444444,\"#bd3786\"],[0.5555555555555556,\"#d8576b\"],[0.6666666666666666,\"#ed7953\"],[0.7777777777777778,\"#fb9f3a\"],[0.8888888888888888,\"#fdca26\"],[1.0,\"#f0f921\"]],\"diverging\":[[0,\"#8e0152\"],[0.1,\"#c51b7d\"],[0.2,\"#de77ae\"],[0.3,\"#f1b6da\"],[0.4,\"#fde0ef\"],[0.5,\"#f7f7f7\"],[0.6,\"#e6f5d0\"],[0.7,\"#b8e186\"],[0.8,\"#7fbc41\"],[0.9,\"#4d9221\"],[1,\"#276419\"]]},\"xaxis\":{\"gridcolor\":\"white\",\"linecolor\":\"white\",\"ticks\":\"\",\"title\":{\"standoff\":15},\"zerolinecolor\":\"white\",\"automargin\":true,\"zerolinewidth\":2},\"yaxis\":{\"gridcolor\":\"white\",\"linecolor\":\"white\",\"ticks\":\"\",\"title\":{\"standoff\":15},\"zerolinecolor\":\"white\",\"automargin\":true,\"zerolinewidth\":2},\"scene\":{\"xaxis\":{\"backgroundcolor\":\"#E5ECF6\",\"gridcolor\":\"white\",\"linecolor\":\"white\",\"showbackground\":true,\"ticks\":\"\",\"zerolinecolor\":\"white\",\"gridwidth\":2},\"yaxis\":{\"backgroundcolor\":\"#E5ECF6\",\"gridcolor\":\"white\",\"linecolor\":\"white\",\"showbackground\":true,\"ticks\":\"\",\"zerolinecolor\":\"white\",\"gridwidth\":2},\"zaxis\":{\"backgroundcolor\":\"#E5ECF6\",\"gridcolor\":\"white\",\"linecolor\":\"white\",\"showbackground\":true,\"ticks\":\"\",\"zerolinecolor\":\"white\",\"gridwidth\":2}},\"shapedefaults\":{\"line\":{\"color\":\"#2a3f5f\"}},\"annotationdefaults\":{\"arrowcolor\":\"#2a3f5f\",\"arrowhead\":0,\"arrowwidth\":1},\"geo\":{\"bgcolor\":\"white\",\"landcolor\":\"#E5ECF6\",\"subunitcolor\":\"white\",\"showland\":true,\"showlakes\":true,\"lakecolor\":\"white\"},\"title\":{\"x\":0.05},\"mapbox\":{\"style\":\"light\"}}},\"xaxis\":{\"anchor\":\"y\",\"domain\":[0.0,1.0],\"title\":{\"text\":\"YEAR\"}},\"yaxis\":{\"anchor\":\"x\",\"domain\":[0.0,1.0],\"title\":{\"text\":\"Total Contribution Amount\"}},\"legend\":{\"title\":{\"text\":\"Type of Filer\"},\"tracegroupgap\":0},\"title\":{\"text\":\"Pennsylvania Recipients of Annual Contributions (2018 - 2023)\"},\"barmode\":\"relative\"},                        {\"responsive\": true}                    ).then(function(){\n",
       "                            \n",
       "var gd = document.getElementById('00d992e3-37c6-4e09-b3e0-9b864231273f');\n",
       "var x = new MutationObserver(function (mutations, observer) {{\n",
       "        var display = window.getComputedStyle(gd).display;\n",
       "        if (!display || display === 'none') {{\n",
       "            console.log([gd, 'removed!']);\n",
       "            Plotly.purge(gd);\n",
       "            observer.disconnect();\n",
       "        }}\n",
       "}});\n",
       "\n",
       "// Listen for the removal of the full notebook cells\n",
       "var notebookContainer = gd.closest('#notebook-container');\n",
       "if (notebookContainer) {{\n",
       "    x.observe(notebookContainer, {childList: true});\n",
       "}}\n",
       "\n",
       "// Listen for the clearing of the current output cell\n",
       "var outputEl = gd.closest('.output');\n",
       "if (outputEl) {{\n",
       "    x.observe(outputEl, {childList: true});\n",
       "}}\n",
       "\n",
       "                        })                };                });            </script>        </div>"
      ]
     },
     "metadata": {},
     "output_type": "display_data"
    },
    {
     "data": {
      "text/html": [
       "<div>\n",
       "<style scoped>\n",
       "    .dataframe tbody tr th:only-of-type {\n",
       "        vertical-align: middle;\n",
       "    }\n",
       "\n",
       "    .dataframe tbody tr th {\n",
       "        vertical-align: top;\n",
       "    }\n",
       "\n",
       "    .dataframe thead th {\n",
       "        text-align: right;\n",
       "    }\n",
       "</style>\n",
       "<table border=\"1\" class=\"dataframe\">\n",
       "  <thead>\n",
       "    <tr style=\"text-align: right;\">\n",
       "      <th></th>\n",
       "      <th>YEAR</th>\n",
       "      <th>RECIPIENT_TYPE</th>\n",
       "      <th>TOTAL_CONT_AMT</th>\n",
       "    </tr>\n",
       "  </thead>\n",
       "  <tbody>\n",
       "    <tr>\n",
       "      <th>0</th>\n",
       "      <td>2018</td>\n",
       "      <td>Candidate</td>\n",
       "      <td>1568627.22</td>\n",
       "    </tr>\n",
       "    <tr>\n",
       "      <th>1</th>\n",
       "      <td>2018</td>\n",
       "      <td>Committee</td>\n",
       "      <td>315345576.08</td>\n",
       "    </tr>\n",
       "    <tr>\n",
       "      <th>2</th>\n",
       "      <td>2018</td>\n",
       "      <td>Lobbyist</td>\n",
       "      <td>21065.00</td>\n",
       "    </tr>\n",
       "    <tr>\n",
       "      <th>3</th>\n",
       "      <td>2019</td>\n",
       "      <td>Candidate</td>\n",
       "      <td>517345.52</td>\n",
       "    </tr>\n",
       "    <tr>\n",
       "      <th>4</th>\n",
       "      <td>2019</td>\n",
       "      <td>Committee</td>\n",
       "      <td>328678633.98</td>\n",
       "    </tr>\n",
       "    <tr>\n",
       "      <th>5</th>\n",
       "      <td>2019</td>\n",
       "      <td>Lobbyist</td>\n",
       "      <td>45923.00</td>\n",
       "    </tr>\n",
       "    <tr>\n",
       "      <th>6</th>\n",
       "      <td>2020</td>\n",
       "      <td>Candidate</td>\n",
       "      <td>590490.29</td>\n",
       "    </tr>\n",
       "    <tr>\n",
       "      <th>7</th>\n",
       "      <td>2020</td>\n",
       "      <td>Committee</td>\n",
       "      <td>354754859.47</td>\n",
       "    </tr>\n",
       "    <tr>\n",
       "      <th>8</th>\n",
       "      <td>2020</td>\n",
       "      <td>Lobbyist</td>\n",
       "      <td>18888.44</td>\n",
       "    </tr>\n",
       "    <tr>\n",
       "      <th>9</th>\n",
       "      <td>2021</td>\n",
       "      <td>Candidate</td>\n",
       "      <td>900134.08</td>\n",
       "    </tr>\n",
       "    <tr>\n",
       "      <th>10</th>\n",
       "      <td>2021</td>\n",
       "      <td>Committee</td>\n",
       "      <td>248565501.96</td>\n",
       "    </tr>\n",
       "    <tr>\n",
       "      <th>11</th>\n",
       "      <td>2021</td>\n",
       "      <td>Lobbyist</td>\n",
       "      <td>50000.00</td>\n",
       "    </tr>\n",
       "    <tr>\n",
       "      <th>12</th>\n",
       "      <td>2022</td>\n",
       "      <td>Candidate</td>\n",
       "      <td>2476099.30</td>\n",
       "    </tr>\n",
       "    <tr>\n",
       "      <th>13</th>\n",
       "      <td>2022</td>\n",
       "      <td>Committee</td>\n",
       "      <td>462917633.50</td>\n",
       "    </tr>\n",
       "    <tr>\n",
       "      <th>14</th>\n",
       "      <td>2022</td>\n",
       "      <td>Lobbyist</td>\n",
       "      <td>172329.76</td>\n",
       "    </tr>\n",
       "    <tr>\n",
       "      <th>15</th>\n",
       "      <td>2023</td>\n",
       "      <td>Candidate</td>\n",
       "      <td>358696.73</td>\n",
       "    </tr>\n",
       "    <tr>\n",
       "      <th>16</th>\n",
       "      <td>2023</td>\n",
       "      <td>Committee</td>\n",
       "      <td>142906754.72</td>\n",
       "    </tr>\n",
       "    <tr>\n",
       "      <th>17</th>\n",
       "      <td>2023</td>\n",
       "      <td>Lobbyist</td>\n",
       "      <td>6595.00</td>\n",
       "    </tr>\n",
       "  </tbody>\n",
       "</table>\n",
       "</div>"
      ],
      "text/plain": [
       "    YEAR RECIPIENT_TYPE  TOTAL_CONT_AMT\n",
       "0   2018      Candidate      1568627.22\n",
       "1   2018      Committee    315345576.08\n",
       "2   2018       Lobbyist        21065.00\n",
       "3   2019      Candidate       517345.52\n",
       "4   2019      Committee    328678633.98\n",
       "5   2019       Lobbyist        45923.00\n",
       "6   2020      Candidate       590490.29\n",
       "7   2020      Committee    354754859.47\n",
       "8   2020       Lobbyist        18888.44\n",
       "9   2021      Candidate       900134.08\n",
       "10  2021      Committee    248565501.96\n",
       "11  2021       Lobbyist        50000.00\n",
       "12  2022      Candidate      2476099.30\n",
       "13  2022      Committee    462917633.50\n",
       "14  2022       Lobbyist       172329.76\n",
       "15  2023      Candidate       358696.73\n",
       "16  2023      Committee    142906754.72\n",
       "17  2023       Lobbyist         6595.00"
      ]
     },
     "execution_count": 11,
     "metadata": {},
     "output_type": "execute_result"
    }
   ],
   "source": [
    "eda.compare_cont_by_donorType(contrib_filer_info_2018_2023)"
   ]
  },
  {
   "cell_type": "markdown",
   "id": "8c96cd77",
   "metadata": {},
   "source": [
    "*The dataset is organized from the perspective of the entity filing the finance reports, which in this case is either a political committee, a lobbyist, or a candidate. As such, it is somewhat difficult to ascertain the classification of the contributors (were they a PAC, an individual, a corporation...) as there is no linearity in their names. However, the overwhelming majority of contribution recipients were committees, indicating that most entities donated to PACs or SuperPACS.*"
   ]
  },
  {
   "cell_type": "code",
   "execution_count": 12,
   "id": "cffc88f2",
   "metadata": {},
   "outputs": [
    {
     "ename": "KeyError",
     "evalue": "'OFFICE'",
     "output_type": "error",
     "traceback": [
      "\u001b[0;31m---------------------------------------------------------------------------\u001b[0m",
      "\u001b[0;31mKeyError\u001b[0m                                  Traceback (most recent call last)",
      "\u001b[1;32m/home/alankagiri/2023-fall-clinic-climate-cabinet/notebooks/PA_EDA.ipynb Cell 16\u001b[0m line \u001b[0;36m1\n\u001b[0;32m----> <a href='vscode-notebook-cell://ssh-remote%2Bg005.ds/home/alankagiri/2023-fall-clinic-climate-cabinet/notebooks/PA_EDA.ipynb#X21sdnNjb2RlLXJlbW90ZQ%3D%3D?line=0'>1</a>\u001b[0m eda\u001b[39m.\u001b[39mplot_recipients_by_office(contrib_filer_info_2018_2023)\n",
      "File \u001b[0;32m~/2023-fall-clinic-climate-cabinet/utils/PA_EDA_Functions.py:331\u001b[0m, in \u001b[0;36mplot_recipients_by_office\u001b[0;34m(merged_dataset)\u001b[0m\n\u001b[1;32m    318\u001b[0m \u001b[39m\u001b[39m\u001b[39m\"\"\"returns a table and plots a bargraph of data highlighting the amount of\u001b[39;00m\n\u001b[1;32m    319\u001b[0m \u001b[39mcontributions each statewide race received over the years\u001b[39;00m\n\u001b[1;32m    320\u001b[0m \n\u001b[0;32m   (...)\u001b[0m\n\u001b[1;32m    325\u001b[0m \u001b[39mReturn:\u001b[39;00m\n\u001b[1;32m    326\u001b[0m \u001b[39m    A table object\"\"\"\u001b[39;00m\n\u001b[1;32m    328\u001b[0m recep_per_office \u001b[39m=\u001b[39m merged_dataset\u001b[39m.\u001b[39mreplace({\u001b[39m\"\u001b[39m\u001b[39mOFFICE\u001b[39m\u001b[39m\"\u001b[39m: const\u001b[39m.\u001b[39mPA_OFFICE_ABBREV_DICT})\n\u001b[1;32m    330\u001b[0m recep_per_office \u001b[39m=\u001b[39m (\n\u001b[0;32m--> 331\u001b[0m     recep_per_office\u001b[39m.\u001b[39mgroupby([\u001b[39m\"\u001b[39m\u001b[39mOFFICE\u001b[39m\u001b[39m\"\u001b[39m])\u001b[39m.\u001b[39magg({\u001b[39m\"\u001b[39m\u001b[39mTOTAL_CONT_AMT\u001b[39m\u001b[39m\"\u001b[39m: \u001b[39msum\u001b[39m})\u001b[39m.\u001b[39mreset_index()\n\u001b[1;32m    332\u001b[0m )\n\u001b[1;32m    334\u001b[0m fig \u001b[39m=\u001b[39m px\u001b[39m.\u001b[39mbar(\n\u001b[1;32m    335\u001b[0m     data_frame\u001b[39m=\u001b[39mrecep_per_office,\n\u001b[1;32m    336\u001b[0m     x\u001b[39m=\u001b[39m\u001b[39m\"\u001b[39m\u001b[39mOFFICE\u001b[39m\u001b[39m\"\u001b[39m,\n\u001b[0;32m   (...)\u001b[0m\n\u001b[1;32m    339\u001b[0m     labels\u001b[39m=\u001b[39m{\u001b[39m\"\u001b[39m\u001b[39mTOTAL_CONT_AMT\u001b[39m\u001b[39m\"\u001b[39m: \u001b[39m\"\u001b[39m\u001b[39mTotal Contribution Amount\u001b[39m\u001b[39m\"\u001b[39m},\n\u001b[1;32m    340\u001b[0m )\n\u001b[1;32m    341\u001b[0m fig\u001b[39m.\u001b[39mshow()\n",
      "File \u001b[0;32m~/miniconda3/envs/climate_cabinet/lib/python3.11/site-packages/pandas/core/frame.py:8252\u001b[0m, in \u001b[0;36mDataFrame.groupby\u001b[0;34m(self, by, axis, level, as_index, sort, group_keys, observed, dropna)\u001b[0m\n\u001b[1;32m   8249\u001b[0m     \u001b[39mraise\u001b[39;00m \u001b[39mTypeError\u001b[39;00m(\u001b[39m\"\u001b[39m\u001b[39mYou have to supply one of \u001b[39m\u001b[39m'\u001b[39m\u001b[39mby\u001b[39m\u001b[39m'\u001b[39m\u001b[39m and \u001b[39m\u001b[39m'\u001b[39m\u001b[39mlevel\u001b[39m\u001b[39m'\u001b[39m\u001b[39m\"\u001b[39m)\n\u001b[1;32m   8250\u001b[0m axis \u001b[39m=\u001b[39m \u001b[39mself\u001b[39m\u001b[39m.\u001b[39m_get_axis_number(axis)\n\u001b[0;32m-> 8252\u001b[0m \u001b[39mreturn\u001b[39;00m DataFrameGroupBy(\n\u001b[1;32m   8253\u001b[0m     obj\u001b[39m=\u001b[39m\u001b[39mself\u001b[39m,\n\u001b[1;32m   8254\u001b[0m     keys\u001b[39m=\u001b[39mby,\n\u001b[1;32m   8255\u001b[0m     axis\u001b[39m=\u001b[39maxis,\n\u001b[1;32m   8256\u001b[0m     level\u001b[39m=\u001b[39mlevel,\n\u001b[1;32m   8257\u001b[0m     as_index\u001b[39m=\u001b[39mas_index,\n\u001b[1;32m   8258\u001b[0m     sort\u001b[39m=\u001b[39msort,\n\u001b[1;32m   8259\u001b[0m     group_keys\u001b[39m=\u001b[39mgroup_keys,\n\u001b[1;32m   8260\u001b[0m     observed\u001b[39m=\u001b[39mobserved,\n\u001b[1;32m   8261\u001b[0m     dropna\u001b[39m=\u001b[39mdropna,\n\u001b[1;32m   8262\u001b[0m )\n",
      "File \u001b[0;32m~/miniconda3/envs/climate_cabinet/lib/python3.11/site-packages/pandas/core/groupby/groupby.py:931\u001b[0m, in \u001b[0;36mGroupBy.__init__\u001b[0;34m(self, obj, keys, axis, level, grouper, exclusions, selection, as_index, sort, group_keys, observed, dropna)\u001b[0m\n\u001b[1;32m    928\u001b[0m \u001b[39mself\u001b[39m\u001b[39m.\u001b[39mdropna \u001b[39m=\u001b[39m dropna\n\u001b[1;32m    930\u001b[0m \u001b[39mif\u001b[39;00m grouper \u001b[39mis\u001b[39;00m \u001b[39mNone\u001b[39;00m:\n\u001b[0;32m--> 931\u001b[0m     grouper, exclusions, obj \u001b[39m=\u001b[39m get_grouper(\n\u001b[1;32m    932\u001b[0m         obj,\n\u001b[1;32m    933\u001b[0m         keys,\n\u001b[1;32m    934\u001b[0m         axis\u001b[39m=\u001b[39maxis,\n\u001b[1;32m    935\u001b[0m         level\u001b[39m=\u001b[39mlevel,\n\u001b[1;32m    936\u001b[0m         sort\u001b[39m=\u001b[39msort,\n\u001b[1;32m    937\u001b[0m         observed\u001b[39m=\u001b[39mobserved,\n\u001b[1;32m    938\u001b[0m         dropna\u001b[39m=\u001b[39m\u001b[39mself\u001b[39m\u001b[39m.\u001b[39mdropna,\n\u001b[1;32m    939\u001b[0m     )\n\u001b[1;32m    941\u001b[0m \u001b[39mself\u001b[39m\u001b[39m.\u001b[39mobj \u001b[39m=\u001b[39m obj\n\u001b[1;32m    942\u001b[0m \u001b[39mself\u001b[39m\u001b[39m.\u001b[39maxis \u001b[39m=\u001b[39m obj\u001b[39m.\u001b[39m_get_axis_number(axis)\n",
      "File \u001b[0;32m~/miniconda3/envs/climate_cabinet/lib/python3.11/site-packages/pandas/core/groupby/grouper.py:985\u001b[0m, in \u001b[0;36mget_grouper\u001b[0;34m(obj, key, axis, level, sort, observed, validate, dropna)\u001b[0m\n\u001b[1;32m    983\u001b[0m         in_axis, level, gpr \u001b[39m=\u001b[39m \u001b[39mFalse\u001b[39;00m, gpr, \u001b[39mNone\u001b[39;00m\n\u001b[1;32m    984\u001b[0m     \u001b[39melse\u001b[39;00m:\n\u001b[0;32m--> 985\u001b[0m         \u001b[39mraise\u001b[39;00m \u001b[39mKeyError\u001b[39;00m(gpr)\n\u001b[1;32m    986\u001b[0m \u001b[39melif\u001b[39;00m \u001b[39misinstance\u001b[39m(gpr, Grouper) \u001b[39mand\u001b[39;00m gpr\u001b[39m.\u001b[39mkey \u001b[39mis\u001b[39;00m \u001b[39mnot\u001b[39;00m \u001b[39mNone\u001b[39;00m:\n\u001b[1;32m    987\u001b[0m     \u001b[39m# Add key to exclusions\u001b[39;00m\n\u001b[1;32m    988\u001b[0m     exclusions\u001b[39m.\u001b[39madd(gpr\u001b[39m.\u001b[39mkey)\n",
      "\u001b[0;31mKeyError\u001b[0m: 'OFFICE'"
     ]
    }
   ],
   "source": [
    "eda.plot_recipients_by_office(contrib_filer_info_2018_2023)"
   ]
  },
  {
   "cell_type": "markdown",
   "id": "941c9a6f",
   "metadata": {},
   "source": [
    "<span style=\"color:pink\"> Not suprisingly, legislative races received the most contributions from 2018-2023, with a significant portion going to House races. This makes sense since House election cycles are more frequent that Senate. It is worth noting that although the PA campaign website offers an Office Code Table that indicates what the abbreviated races represent (link attached at end for reference), there are some abbreviations which do not match up with any in the Table on the PA website. These included {CPJA,CPJP,DSC,RSC,USC,USP,USS}. Reaching out to the PA Election official led to some answers for {CPJA, CPJP, USC, USS, DSC, RSC}, and the peculiar feature was that some of these codes apply to out-of-state races, namely races to the U.S Senate and House Chambers, as well as the nation presidency. This was explained as filing errors committed by the filing entities.\n",
    "###### https://www.dos.pa.gov/VotingElections/CandidatesCommittees/CampaignFinance/Resources/Pages/Technical-Specifications.aspx </span>"
   ]
  },
  {
   "cell_type": "markdown",
   "id": "3b2d4661",
   "metadata": {},
   "source": [
    "##### 4.1:  If you have multiple years, are they all similar? If not, is the difference explicable (maybe by election schedules)"
   ]
  },
  {
   "cell_type": "markdown",
   "id": "f3f038ea",
   "metadata": {},
   "source": [
    "*Thankfully the years are largely similar. However in 2022 additional columns were appended to the filer and contributor datasets, but these columns are irrelevant for the sake of our analysis*"
   ]
  },
  {
   "cell_type": "markdown",
   "metadata": {},
   "source": [
    "#### This next portion repeats the EDA done on contribution and filer data but on the expenditure datasets spanning 2018-2023. The expense dataset stores information from Schedule III of the campaign finance report, which details information about the services rendered to the filer by the recipient, as well as the nature of the expenditure (contribution, service, phone-banking, etc)"
   ]
  },
  {
   "cell_type": "code",
   "execution_count": 8,
   "metadata": {},
   "outputs": [
    {
     "data": {
      "text/html": [
       "<div>\n",
       "<style scoped>\n",
       "    .dataframe tbody tr th:only-of-type {\n",
       "        vertical-align: middle;\n",
       "    }\n",
       "\n",
       "    .dataframe tbody tr th {\n",
       "        vertical-align: top;\n",
       "    }\n",
       "\n",
       "    .dataframe thead th {\n",
       "        text-align: right;\n",
       "    }\n",
       "</style>\n",
       "<table border=\"1\" class=\"dataframe\">\n",
       "  <thead>\n",
       "    <tr style=\"text-align: right;\">\n",
       "      <th></th>\n",
       "      <th>DONOR_ID</th>\n",
       "      <th>YEAR</th>\n",
       "      <th>RECIPIENT</th>\n",
       "      <th>AMOUNT</th>\n",
       "      <th>PURPOSE</th>\n",
       "    </tr>\n",
       "  </thead>\n",
       "  <tbody>\n",
       "    <tr>\n",
       "      <th>0</th>\n",
       "      <td>2001144</td>\n",
       "      <td>2018</td>\n",
       "      <td>MICHAEL TURZAI</td>\n",
       "      <td>931.92</td>\n",
       "      <td>REIMBURSEMENT</td>\n",
       "    </tr>\n",
       "    <tr>\n",
       "      <th>1</th>\n",
       "      <td>2001144</td>\n",
       "      <td>2018</td>\n",
       "      <td>ARMSTRONG</td>\n",
       "      <td>25.04</td>\n",
       "      <td>INTERNET</td>\n",
       "    </tr>\n",
       "    <tr>\n",
       "      <th>2</th>\n",
       "      <td>2001144</td>\n",
       "      <td>2018</td>\n",
       "      <td>COMCAST</td>\n",
       "      <td>421.50</td>\n",
       "      <td>INTERNET</td>\n",
       "    </tr>\n",
       "    <tr>\n",
       "      <th>3</th>\n",
       "      <td>2001144</td>\n",
       "      <td>2018</td>\n",
       "      <td>NAYLAX</td>\n",
       "      <td>250.00</td>\n",
       "      <td>AD</td>\n",
       "    </tr>\n",
       "    <tr>\n",
       "      <th>4</th>\n",
       "      <td>2002299</td>\n",
       "      <td>2018</td>\n",
       "      <td>FRIENDS OF TOM TOSTI</td>\n",
       "      <td>500.00</td>\n",
       "      <td>POLITICAL CONTRIBUTION</td>\n",
       "    </tr>\n",
       "    <tr>\n",
       "      <th>...</th>\n",
       "      <td>...</td>\n",
       "      <td>...</td>\n",
       "      <td>...</td>\n",
       "      <td>...</td>\n",
       "      <td>...</td>\n",
       "    </tr>\n",
       "    <tr>\n",
       "      <th>64297</th>\n",
       "      <td>387871</td>\n",
       "      <td>2023</td>\n",
       "      <td>ZELDA YODER</td>\n",
       "      <td>46.07</td>\n",
       "      <td>PLAQUE / SIGN</td>\n",
       "    </tr>\n",
       "    <tr>\n",
       "      <th>64298</th>\n",
       "      <td>389369</td>\n",
       "      <td>2023</td>\n",
       "      <td>ZEM ZEM SHRINE CLUB</td>\n",
       "      <td>250.00</td>\n",
       "      <td>DEPOSIT FOR CAMPAIGN FUNDRAISING EVENT</td>\n",
       "    </tr>\n",
       "    <tr>\n",
       "      <th>64299</th>\n",
       "      <td>394204</td>\n",
       "      <td>2023</td>\n",
       "      <td>ZERO DAY BREWERY</td>\n",
       "      <td>873.50</td>\n",
       "      <td>FOOD FOR FUNDRAISER</td>\n",
       "    </tr>\n",
       "    <tr>\n",
       "      <th>64300</th>\n",
       "      <td>392983</td>\n",
       "      <td>2023</td>\n",
       "      <td>ZIO BRICK OVEN PIZZA</td>\n",
       "      <td>84.07</td>\n",
       "      <td>MEETING EXPENSE</td>\n",
       "    </tr>\n",
       "    <tr>\n",
       "      <th>64301</th>\n",
       "      <td>394388</td>\n",
       "      <td>2023</td>\n",
       "      <td>ZOOM</td>\n",
       "      <td>17.11</td>\n",
       "      <td>MEETING FEE</td>\n",
       "    </tr>\n",
       "  </tbody>\n",
       "</table>\n",
       "<p>640473 rows × 5 columns</p>\n",
       "</div>"
      ],
      "text/plain": [
       "      DONOR_ID  YEAR             RECIPIENT  AMOUNT  \\\n",
       "0      2001144  2018        MICHAEL TURZAI  931.92   \n",
       "1      2001144  2018             ARMSTRONG   25.04   \n",
       "2      2001144  2018               COMCAST  421.50   \n",
       "3      2001144  2018                NAYLAX  250.00   \n",
       "4      2002299  2018  FRIENDS OF TOM TOSTI  500.00   \n",
       "...        ...   ...                   ...     ...   \n",
       "64297   387871  2023           ZELDA YODER   46.07   \n",
       "64298   389369  2023   ZEM ZEM SHRINE CLUB  250.00   \n",
       "64299   394204  2023      ZERO DAY BREWERY  873.50   \n",
       "64300   392983  2023  ZIO BRICK OVEN PIZZA   84.07   \n",
       "64301   394388  2023                  ZOOM   17.11   \n",
       "\n",
       "                                      PURPOSE  \n",
       "0                               REIMBURSEMENT  \n",
       "1                                    INTERNET  \n",
       "2                                    INTERNET  \n",
       "3                                          AD  \n",
       "4                      POLITICAL CONTRIBUTION  \n",
       "...                                       ...  \n",
       "64297                           PLAQUE / SIGN  \n",
       "64298  DEPOSIT FOR CAMPAIGN FUNDRAISING EVENT  \n",
       "64299                     FOOD FOR FUNDRAISER  \n",
       "64300                         MEETING EXPENSE  \n",
       "64301                             MEETING FEE  \n",
       "\n",
       "[640473 rows x 5 columns]"
      ]
     },
     "execution_count": 8,
     "metadata": {},
     "output_type": "execute_result"
    }
   ],
   "source": [
    "expense_info_2018_2023 = eda.merge_all_datasets(merged_expense_dataset)\n",
    "expense_info_2018_2023"
   ]
  },
  {
   "cell_type": "markdown",
   "metadata": {},
   "source": [
    "##### 1.2 For each column, what are the contents of it? How many blanks or nulls are there? What is the format? If there it is one of several types, what are those types?"
   ]
  },
  {
   "cell_type": "code",
   "execution_count": 7,
   "metadata": {},
   "outputs": [
    {
     "data": {
      "text/html": [
       "<div>\n",
       "<style scoped>\n",
       "    .dataframe tbody tr th:only-of-type {\n",
       "        vertical-align: middle;\n",
       "    }\n",
       "\n",
       "    .dataframe tbody tr th {\n",
       "        vertical-align: top;\n",
       "    }\n",
       "\n",
       "    .dataframe thead th {\n",
       "        text-align: right;\n",
       "    }\n",
       "</style>\n",
       "<table border=\"1\" class=\"dataframe\">\n",
       "  <thead>\n",
       "    <tr style=\"text-align: right;\">\n",
       "      <th></th>\n",
       "      <th>columnName</th>\n",
       "      <th>colType</th>\n",
       "      <th>numNulls</th>\n",
       "      <th>null_percent</th>\n",
       "    </tr>\n",
       "  </thead>\n",
       "  <tbody>\n",
       "    <tr>\n",
       "      <th>0</th>\n",
       "      <td>FILER_ID</td>\n",
       "      <td>object</td>\n",
       "      <td>0</td>\n",
       "      <td>0.0</td>\n",
       "    </tr>\n",
       "    <tr>\n",
       "      <th>1</th>\n",
       "      <td>YEAR</td>\n",
       "      <td>int64</td>\n",
       "      <td>0</td>\n",
       "      <td>0.0</td>\n",
       "    </tr>\n",
       "    <tr>\n",
       "      <th>2</th>\n",
       "      <td>EXPENSE_NAME</td>\n",
       "      <td>object</td>\n",
       "      <td>0</td>\n",
       "      <td>0.0</td>\n",
       "    </tr>\n",
       "    <tr>\n",
       "      <th>3</th>\n",
       "      <td>EXPENSE_AMT</td>\n",
       "      <td>float64</td>\n",
       "      <td>0</td>\n",
       "      <td>0.0</td>\n",
       "    </tr>\n",
       "    <tr>\n",
       "      <th>4</th>\n",
       "      <td>EXPENSE_DESC</td>\n",
       "      <td>object</td>\n",
       "      <td>0</td>\n",
       "      <td>0.0</td>\n",
       "    </tr>\n",
       "  </tbody>\n",
       "</table>\n",
       "</div>"
      ],
      "text/plain": [
       "     columnName  colType  numNulls  null_percent\n",
       "0      FILER_ID   object         0           0.0\n",
       "1          YEAR    int64         0           0.0\n",
       "2  EXPENSE_NAME   object         0           0.0\n",
       "3   EXPENSE_AMT  float64         0           0.0\n",
       "4  EXPENSE_DESC   object         0           0.0"
      ]
     },
     "execution_count": 7,
     "metadata": {},
     "output_type": "execute_result"
    }
   ],
   "source": [
    "cols, type, nulls, null_percent = [],[],[],[]\n",
    "for column in expense_info_2018_2023.columns:\n",
    "   cols.append(column)\n",
    "   type.append(expense_info_2018_2023.dtypes[column]) \n",
    "   nulls.append(expense_info_2018_2023[column].isna().sum(),)\n",
    "   null_percent.append(round((expense_info_2018_2023[column].isna().sum()/len(expense_info_2018_2023))*100,2))\n",
    "\n",
    "summary_df = {'columnName':cols, 'colType':type,'numNulls':nulls,'null_percent':null_percent}\n",
    "summary_df = pd.DataFrame(summary_df)\n",
    "summary_df"
   ]
  },
  {
   "cell_type": "markdown",
   "metadata": {},
   "source": [
    "#####  2.2 What are the top 10 expenditure reasons in your data? The top 10 recipients?"
   ]
  },
  {
   "cell_type": "code",
   "execution_count": 8,
   "metadata": {},
   "outputs": [
    {
     "data": {
      "text/html": [
       "<div>\n",
       "<style scoped>\n",
       "    .dataframe tbody tr th:only-of-type {\n",
       "        vertical-align: middle;\n",
       "    }\n",
       "\n",
       "    .dataframe tbody tr th {\n",
       "        vertical-align: top;\n",
       "    }\n",
       "\n",
       "    .dataframe thead th {\n",
       "        text-align: right;\n",
       "    }\n",
       "</style>\n",
       "<table border=\"1\" class=\"dataframe\">\n",
       "  <thead>\n",
       "    <tr style=\"text-align: right;\">\n",
       "      <th></th>\n",
       "      <th>EXPENSE_AMT</th>\n",
       "    </tr>\n",
       "    <tr>\n",
       "      <th>EXPENSE_DESC</th>\n",
       "      <th></th>\n",
       "    </tr>\n",
       "  </thead>\n",
       "  <tbody>\n",
       "    <tr>\n",
       "      <th>NAN</th>\n",
       "      <td>702230230.20</td>\n",
       "    </tr>\n",
       "    <tr>\n",
       "      <th>POSTAGE</th>\n",
       "      <td>532741231.64</td>\n",
       "    </tr>\n",
       "    <tr>\n",
       "      <th>CONTRIBUTION</th>\n",
       "      <td>441939525.25</td>\n",
       "    </tr>\n",
       "    <tr>\n",
       "      <th>UNITEMIZED EXPENDITURES</th>\n",
       "      <td>212332926.31</td>\n",
       "    </tr>\n",
       "    <tr>\n",
       "      <th>DONATION</th>\n",
       "      <td>138815526.73</td>\n",
       "    </tr>\n",
       "    <tr>\n",
       "      <th>NON-PENNSYLVANIA EXPENDITURES</th>\n",
       "      <td>118542071.03</td>\n",
       "    </tr>\n",
       "    <tr>\n",
       "      <th>SEE FEC REPORT AT HTTPS://WWW.FEC.GOV/DATA/COMMITTEE/C00042366/? TAB=FILINGS</th>\n",
       "      <td>114236098.71</td>\n",
       "    </tr>\n",
       "    <tr>\n",
       "      <th>NON PA DISBURSEMENTS</th>\n",
       "      <td>103186134.60</td>\n",
       "    </tr>\n",
       "    <tr>\n",
       "      <th>SEE FEC REPORT AT HTTPS://WWW.FEC.GOV/DATA/COMMITTEE/C00042366/?TAB=FILINGS</th>\n",
       "      <td>57998961.58</td>\n",
       "    </tr>\n",
       "    <tr>\n",
       "      <th>ADVERTISING</th>\n",
       "      <td>51071086.44</td>\n",
       "    </tr>\n",
       "  </tbody>\n",
       "</table>\n",
       "</div>"
      ],
      "text/plain": [
       "                                                    EXPENSE_AMT\n",
       "EXPENSE_DESC                                                   \n",
       "NAN                                                702230230.20\n",
       "POSTAGE                                            532741231.64\n",
       "CONTRIBUTION                                       441939525.25\n",
       "UNITEMIZED EXPENDITURES                            212332926.31\n",
       "DONATION                                           138815526.73\n",
       "NON-PENNSYLVANIA EXPENDITURES                      118542071.03\n",
       "SEE FEC REPORT AT HTTPS://WWW.FEC.GOV/DATA/COMM... 114236098.71\n",
       "NON PA DISBURSEMENTS                               103186134.60\n",
       "SEE FEC REPORT AT HTTPS://WWW.FEC.GOV/DATA/COMM...  57998961.58\n",
       "ADVERTISING                                         51071086.44"
      ]
     },
     "execution_count": 8,
     "metadata": {},
     "output_type": "execute_result"
    }
   ],
   "source": [
    "pd.set_option(\"display.float_format\", \"{:.2f}\".format)\n",
    "expenditure_reasons = (expense_info_2018_2023.groupby([\"EXPENSE_DESC\"])\n",
    "        .agg({\"EXPENSE_AMT\": sum})\n",
    "        .sort_values(by=\"EXPENSE_AMT\", ascending=False)\n",
    "    )\n",
    "expenditure_reasons.head(10)"
   ]
  },
  {
   "cell_type": "markdown",
   "metadata": {},
   "source": [
    "*It's a bit difficult to ascertain the description column, mainly because there is no standardized reporting format. Filers are free to describe the expenditure as they see fit, which makes grouping them into categories uncertain. Some seem to link the Federal Election Committee's website url. The combined cost of expenditures lacking descriptions is the highest*"
   ]
  },
  {
   "cell_type": "code",
   "execution_count": 10,
   "metadata": {},
   "outputs": [
    {
     "data": {
      "text/html": [
       "<div>\n",
       "<style scoped>\n",
       "    .dataframe tbody tr th:only-of-type {\n",
       "        vertical-align: middle;\n",
       "    }\n",
       "\n",
       "    .dataframe tbody tr th {\n",
       "        vertical-align: top;\n",
       "    }\n",
       "\n",
       "    .dataframe thead th {\n",
       "        text-align: right;\n",
       "    }\n",
       "</style>\n",
       "<table border=\"1\" class=\"dataframe\">\n",
       "  <thead>\n",
       "    <tr style=\"text-align: right;\">\n",
       "      <th></th>\n",
       "      <th>EXPENSE_AMT</th>\n",
       "    </tr>\n",
       "    <tr>\n",
       "      <th>EXPENSE_NAME</th>\n",
       "      <th></th>\n",
       "    </tr>\n",
       "  </thead>\n",
       "  <tbody>\n",
       "    <tr>\n",
       "      <th>ACME MARKETS</th>\n",
       "      <td>517209160.05</td>\n",
       "    </tr>\n",
       "    <tr>\n",
       "      <th>NON-PENNSYLVANIA EXPENDITURES</th>\n",
       "      <td>352505553.60</td>\n",
       "    </tr>\n",
       "    <tr>\n",
       "      <th>PNC</th>\n",
       "      <td>304225694.63</td>\n",
       "    </tr>\n",
       "    <tr>\n",
       "      <th>DNC SERVICES/DEMOCRATIC NATIONAL COMMITTEE</th>\n",
       "      <td>210584210.93</td>\n",
       "    </tr>\n",
       "    <tr>\n",
       "      <th>DSCC</th>\n",
       "      <td>172269060.29</td>\n",
       "    </tr>\n",
       "    <tr>\n",
       "      <th>NON PA TRANSACTIONS</th>\n",
       "      <td>114481897.04</td>\n",
       "    </tr>\n",
       "    <tr>\n",
       "      <th>CONTRIBUTIONS TO FEDERAL AND NON-PA STATE AND LOCAL CANDIDATES AND COMMITTEES</th>\n",
       "      <td>106419119.55</td>\n",
       "    </tr>\n",
       "    <tr>\n",
       "      <th>THE BUSINESS CENTER FOR ENTREPRENEURSHIP &amp;AMP; SOCIAL ENTERPRISE</th>\n",
       "      <td>103202985.45</td>\n",
       "    </tr>\n",
       "    <tr>\n",
       "      <th>COMMONWEALTH CHILDREN'S CHOICE FUND</th>\n",
       "      <td>44325110.15</td>\n",
       "    </tr>\n",
       "    <tr>\n",
       "      <th>GRASSROOTS MEDIA LLC</th>\n",
       "      <td>40759192.03</td>\n",
       "    </tr>\n",
       "  </tbody>\n",
       "</table>\n",
       "</div>"
      ],
      "text/plain": [
       "                                                    EXPENSE_AMT\n",
       "EXPENSE_NAME                                                   \n",
       "ACME MARKETS                                       517209160.05\n",
       "NON-PENNSYLVANIA EXPENDITURES                      352505553.60\n",
       "PNC                                                304225694.63\n",
       "DNC SERVICES/DEMOCRATIC NATIONAL COMMITTEE         210584210.93\n",
       "DSCC                                               172269060.29\n",
       "NON PA TRANSACTIONS                                114481897.04\n",
       "CONTRIBUTIONS TO FEDERAL AND NON-PA STATE AND L... 106419119.55\n",
       "THE BUSINESS CENTER FOR ENTREPRENEURSHIP &AMP; ... 103202985.45\n",
       "COMMONWEALTH CHILDREN'S CHOICE FUND                 44325110.15\n",
       "GRASSROOTS MEDIA LLC                                40759192.03"
      ]
     },
     "execution_count": 10,
     "metadata": {},
     "output_type": "execute_result"
    }
   ],
   "source": [
    "pd.set_option(\"display.float_format\", \"{:.2f}\".format)\n",
    "expenditure_recipients = (expense_info_2018_2023.groupby([\"EXPENSE_NAME\"])\n",
    "        .agg({\"EXPENSE_AMT\": sum})\n",
    "        .sort_values(by=\"EXPENSE_AMT\", ascending=False)\n",
    "    )\n",
    "expenditure_recipients.head(10)"
   ]
  },
  {
   "cell_type": "markdown",
   "metadata": {},
   "source": [
    "<span style=\"color:pink\">It's very interesting that highest recipient of expenditures is ACME Markets, a supermarket chain. More interesting is that a PAC seems to be the recipient, which reveals an interesting reality. How legally clear is it when a PAC receives money in the form of contributions, vs when it does and this amount is considered an expenditure by the filer? If an organization seeks the \"services\" of a PAC and lists them as an expenditure, it wouldn't seem obvious if that PAC would then list its payment as a contribution. In the case it doesn't, this raises an interesting potential outcome of PACs ostensibly receiving funds to \"help\" campaigns they are already ideologically aligned with without counting such \"collaborations\" as donations</span>"
   ]
  },
  {
   "cell_type": "markdown",
   "metadata": {},
   "source": [
    "##### 3.2:  If you have multiple years, are they all similar? If not, is the difference explicable (maybe by election schedules)"
   ]
  },
  {
   "cell_type": "markdown",
   "metadata": {},
   "source": [
    "*The years are all similar*"
   ]
  }
 ],
 "metadata": {
  "kernelspec": {
   "display_name": "Python 3 (ipykernel)",
   "language": "python",
   "name": "python3"
  },
  "language_info": {
   "codemirror_mode": {
    "name": "ipython",
    "version": 3
   },
   "file_extension": ".py",
   "mimetype": "text/x-python",
   "name": "python",
   "nbconvert_exporter": "python",
   "pygments_lexer": "ipython3",
   "version": "3.11.5"
  }
 },
 "nbformat": 4,
 "nbformat_minor": 5
}
