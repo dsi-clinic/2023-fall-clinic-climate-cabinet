{
 "cells": [
  {
   "cell_type": "code",
   "execution_count": 1,
   "metadata": {},
   "outputs": [],
   "source": [
    "import pandas as pd\n",
    "import os\n",
    "import sys\n",
    "import plotly.express as px\n",
    "import ipywidgets as widgets\n",
    "from IPython.display import display\n",
    "\n",
    "module_directory = (\n",
    "    \"/Users/necabotheking/Documents/Github/2023-fall-clinic-climate-cabinet\"\n",
    ")\n",
    "sys.path.append(module_directory)\n",
    "\n",
    "from utils.preprocess_mi_campaign_data import (\n",
    "    read_and_skip_errors,\n",
    "    update_plots,\n",
    ")\n",
    "from utils.constants import FILEPATH, MI_CONTRIBUTION_COLUMNS"
   ]
  },
  {
   "cell_type": "markdown",
   "metadata": {},
   "source": [
    "## Michigan Campaign Finance Data 1995 - 2023 Exploratory Data Analysis"
   ]
  },
  {
   "cell_type": "markdown",
   "metadata": {},
   "source": [
    "### Task 1: Read in the Dataset and merge into one Pandas DataFrame"
   ]
  },
  {
   "cell_type": "code",
   "execution_count": 2,
   "metadata": {},
   "outputs": [],
   "source": [
    "campaign_dataframe_lst = []\n",
    "# create an empty list to add the read in dataframes to\n",
    "\n",
    "for file in os.listdir(FILEPATH):\n",
    "    filepath = FILEPATH + file\n",
    "    campaign_dataframe_lst.append(\n",
    "        read_and_skip_errors(filepath, MI_CONTRIBUTION_COLUMNS)\n",
    "    )"
   ]
  },
  {
   "cell_type": "code",
   "execution_count": 3,
   "metadata": {},
   "outputs": [
    {
     "data": {
      "text/html": [
       "<div>\n",
       "<style scoped>\n",
       "    .dataframe tbody tr th:only-of-type {\n",
       "        vertical-align: middle;\n",
       "    }\n",
       "\n",
       "    .dataframe tbody tr th {\n",
       "        vertical-align: top;\n",
       "    }\n",
       "\n",
       "    .dataframe thead th {\n",
       "        text-align: right;\n",
       "    }\n",
       "</style>\n",
       "<table border=\"1\" class=\"dataframe\">\n",
       "  <thead>\n",
       "    <tr style=\"text-align: right;\">\n",
       "      <th></th>\n",
       "      <th>doc_seq_no</th>\n",
       "      <th>page_no</th>\n",
       "      <th>contribution_id</th>\n",
       "      <th>cont_detail_id</th>\n",
       "      <th>doc_stmnt_year</th>\n",
       "      <th>doc_type_desc</th>\n",
       "      <th>com_legal_name</th>\n",
       "      <th>common_name</th>\n",
       "      <th>cfr_com_id</th>\n",
       "      <th>com_type</th>\n",
       "      <th>can_first_name</th>\n",
       "      <th>can_last_name</th>\n",
       "      <th>contribtype</th>\n",
       "      <th>f_name</th>\n",
       "      <th>l_name_or_org</th>\n",
       "      <th>address</th>\n",
       "      <th>city</th>\n",
       "      <th>state</th>\n",
       "      <th>zip</th>\n",
       "      <th>occupation</th>\n",
       "      <th>employer</th>\n",
       "      <th>received_date</th>\n",
       "      <th>amount</th>\n",
       "      <th>aggregate</th>\n",
       "      <th>extra_desc</th>\n",
       "    </tr>\n",
       "  </thead>\n",
       "  <tbody>\n",
       "    <tr>\n",
       "      <th>0</th>\n",
       "      <td>472254</td>\n",
       "      <td>0</td>\n",
       "      <td>464000</td>\n",
       "      <td>0</td>\n",
       "      <td>2018</td>\n",
       "      <td>OCTOBER QUARTERLY CS</td>\n",
       "      <td>UAW MICHIGAN VOLUNTARY POLITICAL ACTION COMMITTEE</td>\n",
       "      <td>UAW MICHIGAN VOLUNTARY POLITICAL ACT</td>\n",
       "      <td>508347</td>\n",
       "      <td>IND</td>\n",
       "      <td>NaN</td>\n",
       "      <td>NaN</td>\n",
       "      <td>DIRECT</td>\n",
       "      <td>TERRY</td>\n",
       "      <td>LOZANO</td>\n",
       "      <td>2034 EDWARD LANE WEST</td>\n",
       "      <td>KIMBALL</td>\n",
       "      <td>MI</td>\n",
       "      <td>48074-0000</td>\n",
       "      <td>FACTORY WORKER</td>\n",
       "      <td>FIAT CHRYSLER AUTOMOBILES N.V.</td>\n",
       "      <td>10/01/2018</td>\n",
       "      <td>15.0</td>\n",
       "      <td>165.0</td>\n",
       "      <td>NaN</td>\n",
       "    </tr>\n",
       "    <tr>\n",
       "      <th>1</th>\n",
       "      <td>472254</td>\n",
       "      <td>0</td>\n",
       "      <td>464001</td>\n",
       "      <td>0</td>\n",
       "      <td>2018</td>\n",
       "      <td>OCTOBER QUARTERLY CS</td>\n",
       "      <td>UAW MICHIGAN VOLUNTARY POLITICAL ACTION COMMITTEE</td>\n",
       "      <td>UAW MICHIGAN VOLUNTARY POLITICAL ACT</td>\n",
       "      <td>508347</td>\n",
       "      <td>IND</td>\n",
       "      <td>NaN</td>\n",
       "      <td>NaN</td>\n",
       "      <td>DIRECT</td>\n",
       "      <td>PATRICK</td>\n",
       "      <td>CLAERHOUT</td>\n",
       "      <td>121 MURPHY DR.</td>\n",
       "      <td>ST. CLAIR</td>\n",
       "      <td>MI</td>\n",
       "      <td>48079-0000</td>\n",
       "      <td>NaN</td>\n",
       "      <td>NaN</td>\n",
       "      <td>10/01/2018</td>\n",
       "      <td>5.0</td>\n",
       "      <td>55.0</td>\n",
       "      <td>NaN</td>\n",
       "    </tr>\n",
       "    <tr>\n",
       "      <th>2</th>\n",
       "      <td>472254</td>\n",
       "      <td>0</td>\n",
       "      <td>464002</td>\n",
       "      <td>0</td>\n",
       "      <td>2018</td>\n",
       "      <td>OCTOBER QUARTERLY CS</td>\n",
       "      <td>UAW MICHIGAN VOLUNTARY POLITICAL ACTION COMMITTEE</td>\n",
       "      <td>UAW MICHIGAN VOLUNTARY POLITICAL ACT</td>\n",
       "      <td>508347</td>\n",
       "      <td>IND</td>\n",
       "      <td>NaN</td>\n",
       "      <td>NaN</td>\n",
       "      <td>DIRECT</td>\n",
       "      <td>MIROSLAV</td>\n",
       "      <td>MARINKOVSKA</td>\n",
       "      <td>14433 COULEE DR</td>\n",
       "      <td>STERLING HTS</td>\n",
       "      <td>MI</td>\n",
       "      <td>48313-5320</td>\n",
       "      <td>NaN</td>\n",
       "      <td>NaN</td>\n",
       "      <td>10/01/2018</td>\n",
       "      <td>5.0</td>\n",
       "      <td>60.0</td>\n",
       "      <td>NaN</td>\n",
       "    </tr>\n",
       "    <tr>\n",
       "      <th>3</th>\n",
       "      <td>472254</td>\n",
       "      <td>0</td>\n",
       "      <td>464003</td>\n",
       "      <td>0</td>\n",
       "      <td>2018</td>\n",
       "      <td>OCTOBER QUARTERLY CS</td>\n",
       "      <td>UAW MICHIGAN VOLUNTARY POLITICAL ACTION COMMITTEE</td>\n",
       "      <td>UAW MICHIGAN VOLUNTARY POLITICAL ACT</td>\n",
       "      <td>508347</td>\n",
       "      <td>IND</td>\n",
       "      <td>NaN</td>\n",
       "      <td>NaN</td>\n",
       "      <td>DIRECT</td>\n",
       "      <td>TODD</td>\n",
       "      <td>GWYNN</td>\n",
       "      <td>8368 YOLANDA</td>\n",
       "      <td>DETROIT</td>\n",
       "      <td>MI</td>\n",
       "      <td>48234-0000</td>\n",
       "      <td>NaN</td>\n",
       "      <td>NaN</td>\n",
       "      <td>10/01/2018</td>\n",
       "      <td>5.0</td>\n",
       "      <td>35.0</td>\n",
       "      <td>NaN</td>\n",
       "    </tr>\n",
       "    <tr>\n",
       "      <th>4</th>\n",
       "      <td>472254</td>\n",
       "      <td>0</td>\n",
       "      <td>464004</td>\n",
       "      <td>0</td>\n",
       "      <td>2018</td>\n",
       "      <td>OCTOBER QUARTERLY CS</td>\n",
       "      <td>UAW MICHIGAN VOLUNTARY POLITICAL ACTION COMMITTEE</td>\n",
       "      <td>UAW MICHIGAN VOLUNTARY POLITICAL ACT</td>\n",
       "      <td>508347</td>\n",
       "      <td>IND</td>\n",
       "      <td>NaN</td>\n",
       "      <td>NaN</td>\n",
       "      <td>DIRECT</td>\n",
       "      <td>KENT</td>\n",
       "      <td>SMITH</td>\n",
       "      <td>5800 FORESTER RD</td>\n",
       "      <td>CARSONVILLE</td>\n",
       "      <td>MI</td>\n",
       "      <td>48419-0000</td>\n",
       "      <td>NaN</td>\n",
       "      <td>NaN</td>\n",
       "      <td>10/01/2018</td>\n",
       "      <td>5.0</td>\n",
       "      <td>55.0</td>\n",
       "      <td>NaN</td>\n",
       "    </tr>\n",
       "  </tbody>\n",
       "</table>\n",
       "</div>"
      ],
      "text/plain": [
       "   doc_seq_no  page_no  contribution_id  cont_detail_id  doc_stmnt_year  \\\n",
       "0      472254        0           464000               0            2018   \n",
       "1      472254        0           464001               0            2018   \n",
       "2      472254        0           464002               0            2018   \n",
       "3      472254        0           464003               0            2018   \n",
       "4      472254        0           464004               0            2018   \n",
       "\n",
       "          doc_type_desc                                     com_legal_name  \\\n",
       "0  OCTOBER QUARTERLY CS  UAW MICHIGAN VOLUNTARY POLITICAL ACTION COMMITTEE   \n",
       "1  OCTOBER QUARTERLY CS  UAW MICHIGAN VOLUNTARY POLITICAL ACTION COMMITTEE   \n",
       "2  OCTOBER QUARTERLY CS  UAW MICHIGAN VOLUNTARY POLITICAL ACTION COMMITTEE   \n",
       "3  OCTOBER QUARTERLY CS  UAW MICHIGAN VOLUNTARY POLITICAL ACTION COMMITTEE   \n",
       "4  OCTOBER QUARTERLY CS  UAW MICHIGAN VOLUNTARY POLITICAL ACTION COMMITTEE   \n",
       "\n",
       "                            common_name  cfr_com_id com_type can_first_name  \\\n",
       "0  UAW MICHIGAN VOLUNTARY POLITICAL ACT      508347      IND            NaN   \n",
       "1  UAW MICHIGAN VOLUNTARY POLITICAL ACT      508347      IND            NaN   \n",
       "2  UAW MICHIGAN VOLUNTARY POLITICAL ACT      508347      IND            NaN   \n",
       "3  UAW MICHIGAN VOLUNTARY POLITICAL ACT      508347      IND            NaN   \n",
       "4  UAW MICHIGAN VOLUNTARY POLITICAL ACT      508347      IND            NaN   \n",
       "\n",
       "  can_last_name                     contribtype                f_name  \\\n",
       "0           NaN  DIRECT                          TERRY                  \n",
       "1           NaN  DIRECT                          PATRICK                \n",
       "2           NaN  DIRECT                          MIROSLAV               \n",
       "3           NaN  DIRECT                          TODD                   \n",
       "4           NaN  DIRECT                          KENT                   \n",
       "\n",
       "                          l_name_or_org                address  \\\n",
       "0  LOZANO                                2034 EDWARD LANE WEST   \n",
       "1  CLAERHOUT                                    121 MURPHY DR.   \n",
       "2  MARINKOVSKA                                 14433 COULEE DR   \n",
       "3  GWYNN                                          8368 YOLANDA   \n",
       "4  SMITH                                      5800 FORESTER RD   \n",
       "\n",
       "                   city state         zip      occupation  \\\n",
       "0  KIMBALL                 MI  48074-0000  FACTORY WORKER   \n",
       "1  ST. CLAIR               MI  48079-0000             NaN   \n",
       "2  STERLING HTS            MI  48313-5320             NaN   \n",
       "3  DETROIT                 MI  48234-0000             NaN   \n",
       "4  CARSONVILLE             MI  48419-0000             NaN   \n",
       "\n",
       "                         employer received_date  amount  aggregate  extra_desc  \n",
       "0  FIAT CHRYSLER AUTOMOBILES N.V.    10/01/2018    15.0      165.0         NaN  \n",
       "1                             NaN    10/01/2018     5.0       55.0         NaN  \n",
       "2                             NaN    10/01/2018     5.0       60.0         NaN  \n",
       "3                             NaN    10/01/2018     5.0       35.0         NaN  \n",
       "4                             NaN    10/01/2018     5.0       55.0         NaN  "
      ]
     },
     "execution_count": 3,
     "metadata": {},
     "output_type": "execute_result"
    }
   ],
   "source": [
    "pd.options.display.max_columns = 100\n",
    "campaign_dataframe_lst[0].head()"
   ]
  },
  {
   "cell_type": "code",
   "execution_count": 4,
   "metadata": {},
   "outputs": [],
   "source": [
    "merged_campaign_df = pd.concat(campaign_dataframe_lst)\n",
    "merged_campaign_dataframe_original = merged_campaign_df.copy()\n",
    "# concatenate all of the dataframes into the merged dataframe\n",
    "# and create a copy of the original dataframe prior to coercing errors into NAN"
   ]
  },
  {
   "cell_type": "code",
   "execution_count": 5,
   "metadata": {},
   "outputs": [
    {
     "data": {
      "text/plain": [
       "doc_seq_no           int64\n",
       "page_no              int64\n",
       "contribution_id      int64\n",
       "cont_detail_id       int64\n",
       "doc_stmnt_year       int64\n",
       "doc_type_desc       object\n",
       "com_legal_name      object\n",
       "common_name         object\n",
       "cfr_com_id         float64\n",
       "com_type            object\n",
       "can_first_name      object\n",
       "can_last_name       object\n",
       "contribtype         object\n",
       "f_name              object\n",
       "l_name_or_org       object\n",
       "address             object\n",
       "city                object\n",
       "state               object\n",
       "zip                 object\n",
       "occupation          object\n",
       "employer            object\n",
       "received_date       object\n",
       "amount              object\n",
       "aggregate           object\n",
       "extra_desc          object\n",
       "dtype: object"
      ]
     },
     "execution_count": 5,
     "metadata": {},
     "output_type": "execute_result"
    }
   ],
   "source": [
    "merged_campaign_df.dtypes\n",
    "\n",
    "# amount and aggregate columns should be converted to numeric"
   ]
  },
  {
   "cell_type": "code",
   "execution_count": 6,
   "metadata": {},
   "outputs": [],
   "source": [
    "merged_campaign_df[\"amount\"] = pd.to_numeric(\n",
    "    merged_campaign_df[\"amount\"], errors=\"coerce\"\n",
    ")\n",
    "merged_campaign_df[\"aggregate\"] = pd.to_numeric(\n",
    "    merged_campaign_df[\"aggregate\"], errors=\"coerce\"\n",
    ")"
   ]
  },
  {
   "cell_type": "markdown",
   "metadata": {},
   "source": [
    "### Task 2: Answer the following questions\n",
    "- For each column, what are the contents of it? How many blanks or nulls are there? What is the format? If there it is one of several types, what are those types?\n",
    "  - Percentage of nulls/blanks\n",
    "- Is the dataset relational (are there multiple tables that relate to each other)?\n",
    "- Who are the top 10 contributors in your data? The top 10 recipients?\n",
    "- Make a bar chart with plotly comparing contributions by donor type or recipient type (PAC, individual, etc) and one comparing recipients by the office type they are running for\n",
    "- If you have multiple years, are they all similar? If not, is the difference explicable (maybe by election schedules)\n",
    "    - Have an option to toggle at the top of the notebook to use different years.\n",
    "    - Utility functions to import into the jupyter notebook, should be generalizable"
   ]
  },
  {
   "cell_type": "markdown",
   "metadata": {},
   "source": [
    "---"
   ]
  },
  {
   "cell_type": "markdown",
   "metadata": {},
   "source": [
    "#### Question 1: \n",
    "- For each column, what are the contents of it? How many blanks or nulls are there? What is the format? If there it is one of several types, what are those types?\n"
   ]
  },
  {
   "cell_type": "code",
   "execution_count": 7,
   "metadata": {},
   "outputs": [
    {
     "data": {
      "text/plain": [
       "doc_seq_no           int64\n",
       "page_no              int64\n",
       "contribution_id      int64\n",
       "cont_detail_id       int64\n",
       "doc_stmnt_year       int64\n",
       "doc_type_desc       object\n",
       "com_legal_name      object\n",
       "common_name         object\n",
       "cfr_com_id         float64\n",
       "com_type            object\n",
       "can_first_name      object\n",
       "can_last_name       object\n",
       "contribtype         object\n",
       "f_name              object\n",
       "l_name_or_org       object\n",
       "address             object\n",
       "city                object\n",
       "state               object\n",
       "zip                 object\n",
       "occupation          object\n",
       "employer            object\n",
       "received_date       object\n",
       "amount             float64\n",
       "aggregate          float64\n",
       "extra_desc          object\n",
       "dtype: object"
      ]
     },
     "execution_count": 7,
     "metadata": {},
     "output_type": "execute_result"
    }
   ],
   "source": [
    "merged_campaign_df.dtypes"
   ]
  },
  {
   "cell_type": "code",
   "execution_count": 8,
   "metadata": {},
   "outputs": [
    {
     "data": {
      "text/html": [
       "<div>\n",
       "<style scoped>\n",
       "    .dataframe tbody tr th:only-of-type {\n",
       "        vertical-align: middle;\n",
       "    }\n",
       "\n",
       "    .dataframe tbody tr th {\n",
       "        vertical-align: top;\n",
       "    }\n",
       "\n",
       "    .dataframe thead th {\n",
       "        text-align: right;\n",
       "    }\n",
       "</style>\n",
       "<table border=\"1\" class=\"dataframe\">\n",
       "  <thead>\n",
       "    <tr style=\"text-align: right;\">\n",
       "      <th></th>\n",
       "      <th>Column Name</th>\n",
       "      <th>Missing Percentage</th>\n",
       "    </tr>\n",
       "  </thead>\n",
       "  <tbody>\n",
       "    <tr>\n",
       "      <th>0</th>\n",
       "      <td>doc_seq_no</td>\n",
       "      <td>0.000000</td>\n",
       "    </tr>\n",
       "    <tr>\n",
       "      <th>1</th>\n",
       "      <td>page_no</td>\n",
       "      <td>0.000000</td>\n",
       "    </tr>\n",
       "    <tr>\n",
       "      <th>2</th>\n",
       "      <td>contribution_id</td>\n",
       "      <td>0.000000</td>\n",
       "    </tr>\n",
       "    <tr>\n",
       "      <th>3</th>\n",
       "      <td>cont_detail_id</td>\n",
       "      <td>0.000000</td>\n",
       "    </tr>\n",
       "    <tr>\n",
       "      <th>4</th>\n",
       "      <td>doc_stmnt_year</td>\n",
       "      <td>0.000000</td>\n",
       "    </tr>\n",
       "    <tr>\n",
       "      <th>5</th>\n",
       "      <td>doc_type_desc</td>\n",
       "      <td>0.000000</td>\n",
       "    </tr>\n",
       "    <tr>\n",
       "      <th>6</th>\n",
       "      <td>com_legal_name</td>\n",
       "      <td>0.000549</td>\n",
       "    </tr>\n",
       "    <tr>\n",
       "      <th>7</th>\n",
       "      <td>common_name</td>\n",
       "      <td>0.000000</td>\n",
       "    </tr>\n",
       "    <tr>\n",
       "      <th>8</th>\n",
       "      <td>cfr_com_id</td>\n",
       "      <td>0.000549</td>\n",
       "    </tr>\n",
       "    <tr>\n",
       "      <th>9</th>\n",
       "      <td>com_type</td>\n",
       "      <td>0.000000</td>\n",
       "    </tr>\n",
       "    <tr>\n",
       "      <th>10</th>\n",
       "      <td>can_first_name</td>\n",
       "      <td>85.446400</td>\n",
       "    </tr>\n",
       "    <tr>\n",
       "      <th>11</th>\n",
       "      <td>can_last_name</td>\n",
       "      <td>85.446400</td>\n",
       "    </tr>\n",
       "    <tr>\n",
       "      <th>12</th>\n",
       "      <td>contribtype</td>\n",
       "      <td>0.001016</td>\n",
       "    </tr>\n",
       "    <tr>\n",
       "      <th>13</th>\n",
       "      <td>f_name</td>\n",
       "      <td>3.267399</td>\n",
       "    </tr>\n",
       "    <tr>\n",
       "      <th>14</th>\n",
       "      <td>l_name_or_org</td>\n",
       "      <td>0.002074</td>\n",
       "    </tr>\n",
       "    <tr>\n",
       "      <th>15</th>\n",
       "      <td>address</td>\n",
       "      <td>0.116350</td>\n",
       "    </tr>\n",
       "    <tr>\n",
       "      <th>16</th>\n",
       "      <td>city</td>\n",
       "      <td>0.093767</td>\n",
       "    </tr>\n",
       "    <tr>\n",
       "      <th>17</th>\n",
       "      <td>state</td>\n",
       "      <td>0.096289</td>\n",
       "    </tr>\n",
       "    <tr>\n",
       "      <th>18</th>\n",
       "      <td>zip</td>\n",
       "      <td>0.143726</td>\n",
       "    </tr>\n",
       "    <tr>\n",
       "      <th>19</th>\n",
       "      <td>occupation</td>\n",
       "      <td>74.659178</td>\n",
       "    </tr>\n",
       "    <tr>\n",
       "      <th>20</th>\n",
       "      <td>employer</td>\n",
       "      <td>65.188033</td>\n",
       "    </tr>\n",
       "    <tr>\n",
       "      <th>21</th>\n",
       "      <td>received_date</td>\n",
       "      <td>0.008047</td>\n",
       "    </tr>\n",
       "    <tr>\n",
       "      <th>22</th>\n",
       "      <td>amount</td>\n",
       "      <td>0.023083</td>\n",
       "    </tr>\n",
       "    <tr>\n",
       "      <th>23</th>\n",
       "      <td>aggregate</td>\n",
       "      <td>0.089594</td>\n",
       "    </tr>\n",
       "    <tr>\n",
       "      <th>24</th>\n",
       "      <td>extra_desc</td>\n",
       "      <td>99.996000</td>\n",
       "    </tr>\n",
       "  </tbody>\n",
       "</table>\n",
       "</div>"
      ],
      "text/plain": [
       "        Column Name  Missing Percentage\n",
       "0        doc_seq_no            0.000000\n",
       "1           page_no            0.000000\n",
       "2   contribution_id            0.000000\n",
       "3    cont_detail_id            0.000000\n",
       "4    doc_stmnt_year            0.000000\n",
       "5     doc_type_desc            0.000000\n",
       "6    com_legal_name            0.000549\n",
       "7       common_name            0.000000\n",
       "8        cfr_com_id            0.000549\n",
       "9          com_type            0.000000\n",
       "10   can_first_name           85.446400\n",
       "11    can_last_name           85.446400\n",
       "12      contribtype            0.001016\n",
       "13           f_name            3.267399\n",
       "14    l_name_or_org            0.002074\n",
       "15          address            0.116350\n",
       "16             city            0.093767\n",
       "17            state            0.096289\n",
       "18              zip            0.143726\n",
       "19       occupation           74.659178\n",
       "20         employer           65.188033\n",
       "21    received_date            0.008047\n",
       "22           amount            0.023083\n",
       "23        aggregate            0.089594\n",
       "24       extra_desc           99.996000"
      ]
     },
     "metadata": {},
     "output_type": "display_data"
    }
   ],
   "source": [
    "null_percentage = (merged_campaign_df.isna().mean() * 100).reset_index()\n",
    "null_percentage.columns = [\"Column Name\", \"Missing Percentage\"]\n",
    "\n",
    "# The percentage of null values in each column is as follows below\n",
    "display(null_percentage)"
   ]
  },
  {
   "cell_type": "markdown",
   "metadata": {},
   "source": [
    "#### Question 2: Are commmittee's relational in the different dataset based on the contribution_id or cfr_com_id ?\n",
    "\n",
    "- The datasets are relational based upon the cfr_com_id, as shown below. According to the Secretary of State provided README cfr_com_id is the unique committee ID# of the receiving committee in the Bureau of Elections database."
   ]
  },
  {
   "cell_type": "code",
   "execution_count": 9,
   "metadata": {},
   "outputs": [
    {
     "data": {
      "text/html": [
       "<div>\n",
       "<style scoped>\n",
       "    .dataframe tbody tr th:only-of-type {\n",
       "        vertical-align: middle;\n",
       "    }\n",
       "\n",
       "    .dataframe tbody tr th {\n",
       "        vertical-align: top;\n",
       "    }\n",
       "\n",
       "    .dataframe thead th {\n",
       "        text-align: right;\n",
       "    }\n",
       "</style>\n",
       "<table border=\"1\" class=\"dataframe\">\n",
       "  <thead>\n",
       "    <tr style=\"text-align: right;\">\n",
       "      <th></th>\n",
       "      <th>doc_seq_no</th>\n",
       "      <th>page_no</th>\n",
       "      <th>contribution_id</th>\n",
       "      <th>cont_detail_id</th>\n",
       "      <th>doc_stmnt_year</th>\n",
       "      <th>doc_type_desc</th>\n",
       "      <th>com_legal_name</th>\n",
       "      <th>common_name</th>\n",
       "      <th>cfr_com_id</th>\n",
       "      <th>com_type</th>\n",
       "      <th>can_first_name</th>\n",
       "      <th>can_last_name</th>\n",
       "      <th>contribtype</th>\n",
       "      <th>f_name</th>\n",
       "      <th>l_name_or_org</th>\n",
       "      <th>address</th>\n",
       "      <th>city</th>\n",
       "      <th>state</th>\n",
       "      <th>zip</th>\n",
       "      <th>occupation</th>\n",
       "      <th>employer</th>\n",
       "      <th>received_date</th>\n",
       "      <th>amount</th>\n",
       "      <th>aggregate</th>\n",
       "      <th>extra_desc</th>\n",
       "    </tr>\n",
       "  </thead>\n",
       "  <tbody>\n",
       "    <tr>\n",
       "      <th>279613</th>\n",
       "      <td>297851</td>\n",
       "      <td>0</td>\n",
       "      <td>832353</td>\n",
       "      <td>0</td>\n",
       "      <td>2008</td>\n",
       "      <td>APRIL TRIANNUAL CS</td>\n",
       "      <td>UAW MICHIGAN VOLUNTARY POLITICAL ACTION COMMITTEE</td>\n",
       "      <td>UAW MICHIGAN VOLUNTARY POLITICAL ACT</td>\n",
       "      <td>508347.0</td>\n",
       "      <td>IND</td>\n",
       "      <td>NaN</td>\n",
       "      <td>NaN</td>\n",
       "      <td>DIRECT</td>\n",
       "      <td>ROBERT I</td>\n",
       "      <td>CUTHRELL</td>\n",
       "      <td>200 CASEMER RD</td>\n",
       "      <td>LAKE ORION</td>\n",
       "      <td>MI</td>\n",
       "      <td>48360-1305</td>\n",
       "      <td>NaN</td>\n",
       "      <td>NaN</td>\n",
       "      <td>01/31/2008</td>\n",
       "      <td>20.00</td>\n",
       "      <td>20.00</td>\n",
       "      <td>NaN</td>\n",
       "    </tr>\n",
       "    <tr>\n",
       "      <th>279614</th>\n",
       "      <td>297851</td>\n",
       "      <td>0</td>\n",
       "      <td>832355</td>\n",
       "      <td>0</td>\n",
       "      <td>2008</td>\n",
       "      <td>APRIL TRIANNUAL CS</td>\n",
       "      <td>UAW MICHIGAN VOLUNTARY POLITICAL ACTION COMMITTEE</td>\n",
       "      <td>UAW MICHIGAN VOLUNTARY POLITICAL ACT</td>\n",
       "      <td>508347.0</td>\n",
       "      <td>IND</td>\n",
       "      <td>NaN</td>\n",
       "      <td>NaN</td>\n",
       "      <td>DIRECT</td>\n",
       "      <td>EDWARD</td>\n",
       "      <td>DUNCAN</td>\n",
       "      <td>17424 ARLENE</td>\n",
       "      <td>FRASER</td>\n",
       "      <td>MI</td>\n",
       "      <td>48026-1781</td>\n",
       "      <td>NaN</td>\n",
       "      <td>NaN</td>\n",
       "      <td>01/31/2008</td>\n",
       "      <td>16.48</td>\n",
       "      <td>16.48</td>\n",
       "      <td>NaN</td>\n",
       "    </tr>\n",
       "  </tbody>\n",
       "</table>\n",
       "</div>"
      ],
      "text/plain": [
       "        doc_seq_no  page_no  contribution_id  cont_detail_id  doc_stmnt_year  \\\n",
       "279613      297851        0           832353               0            2008   \n",
       "279614      297851        0           832355               0            2008   \n",
       "\n",
       "             doc_type_desc                                     com_legal_name  \\\n",
       "279613  APRIL TRIANNUAL CS  UAW MICHIGAN VOLUNTARY POLITICAL ACTION COMMITTEE   \n",
       "279614  APRIL TRIANNUAL CS  UAW MICHIGAN VOLUNTARY POLITICAL ACTION COMMITTEE   \n",
       "\n",
       "                                 common_name  cfr_com_id com_type  \\\n",
       "279613  UAW MICHIGAN VOLUNTARY POLITICAL ACT    508347.0      IND   \n",
       "279614  UAW MICHIGAN VOLUNTARY POLITICAL ACT    508347.0      IND   \n",
       "\n",
       "       can_first_name can_last_name                     contribtype  \\\n",
       "279613            NaN           NaN  DIRECT                           \n",
       "279614            NaN           NaN  DIRECT                           \n",
       "\n",
       "                      f_name                         l_name_or_org  \\\n",
       "279613  ROBERT I              CUTHRELL                               \n",
       "279614  EDWARD                DUNCAN                                 \n",
       "\n",
       "               address                  city state         zip occupation  \\\n",
       "279613  200 CASEMER RD  LAKE ORION              MI  48360-1305        NaN   \n",
       "279614    17424 ARLENE  FRASER                  MI  48026-1781        NaN   \n",
       "\n",
       "       employer received_date  amount  aggregate extra_desc  \n",
       "279613      NaN    01/31/2008   20.00      20.00        NaN  \n",
       "279614      NaN    01/31/2008   16.48      16.48        NaN  "
      ]
     },
     "execution_count": 9,
     "metadata": {},
     "output_type": "execute_result"
    }
   ],
   "source": [
    "merged_campaign_df[merged_campaign_df[\"cfr_com_id\"] == 508347.0].tail(2)"
   ]
  },
  {
   "cell_type": "code",
   "execution_count": 10,
   "metadata": {},
   "outputs": [
    {
     "data": {
      "text/html": [
       "<div>\n",
       "<style scoped>\n",
       "    .dataframe tbody tr th:only-of-type {\n",
       "        vertical-align: middle;\n",
       "    }\n",
       "\n",
       "    .dataframe tbody tr th {\n",
       "        vertical-align: top;\n",
       "    }\n",
       "\n",
       "    .dataframe thead th {\n",
       "        text-align: right;\n",
       "    }\n",
       "</style>\n",
       "<table border=\"1\" class=\"dataframe\">\n",
       "  <thead>\n",
       "    <tr style=\"text-align: right;\">\n",
       "      <th></th>\n",
       "      <th>doc_seq_no</th>\n",
       "      <th>page_no</th>\n",
       "      <th>contribution_id</th>\n",
       "      <th>cont_detail_id</th>\n",
       "      <th>doc_stmnt_year</th>\n",
       "      <th>doc_type_desc</th>\n",
       "      <th>com_legal_name</th>\n",
       "      <th>common_name</th>\n",
       "      <th>cfr_com_id</th>\n",
       "      <th>com_type</th>\n",
       "      <th>can_first_name</th>\n",
       "      <th>can_last_name</th>\n",
       "      <th>contribtype</th>\n",
       "      <th>f_name</th>\n",
       "      <th>l_name_or_org</th>\n",
       "      <th>address</th>\n",
       "      <th>city</th>\n",
       "      <th>state</th>\n",
       "      <th>zip</th>\n",
       "      <th>occupation</th>\n",
       "      <th>employer</th>\n",
       "      <th>received_date</th>\n",
       "      <th>amount</th>\n",
       "      <th>aggregate</th>\n",
       "      <th>extra_desc</th>\n",
       "    </tr>\n",
       "  </thead>\n",
       "  <tbody>\n",
       "    <tr>\n",
       "      <th>0</th>\n",
       "      <td>472254</td>\n",
       "      <td>0</td>\n",
       "      <td>464000</td>\n",
       "      <td>0</td>\n",
       "      <td>2018</td>\n",
       "      <td>OCTOBER QUARTERLY CS</td>\n",
       "      <td>UAW MICHIGAN VOLUNTARY POLITICAL ACTION COMMITTEE</td>\n",
       "      <td>UAW MICHIGAN VOLUNTARY POLITICAL ACT</td>\n",
       "      <td>508347.0</td>\n",
       "      <td>IND</td>\n",
       "      <td>NaN</td>\n",
       "      <td>NaN</td>\n",
       "      <td>DIRECT</td>\n",
       "      <td>TERRY</td>\n",
       "      <td>LOZANO</td>\n",
       "      <td>2034 EDWARD LANE WEST</td>\n",
       "      <td>KIMBALL</td>\n",
       "      <td>MI</td>\n",
       "      <td>48074-0000</td>\n",
       "      <td>FACTORY WORKER</td>\n",
       "      <td>FIAT CHRYSLER AUTOMOBILES N.V.</td>\n",
       "      <td>10/01/2018</td>\n",
       "      <td>15.0</td>\n",
       "      <td>165.0</td>\n",
       "      <td>NaN</td>\n",
       "    </tr>\n",
       "    <tr>\n",
       "      <th>1</th>\n",
       "      <td>472254</td>\n",
       "      <td>0</td>\n",
       "      <td>464001</td>\n",
       "      <td>0</td>\n",
       "      <td>2018</td>\n",
       "      <td>OCTOBER QUARTERLY CS</td>\n",
       "      <td>UAW MICHIGAN VOLUNTARY POLITICAL ACTION COMMITTEE</td>\n",
       "      <td>UAW MICHIGAN VOLUNTARY POLITICAL ACT</td>\n",
       "      <td>508347.0</td>\n",
       "      <td>IND</td>\n",
       "      <td>NaN</td>\n",
       "      <td>NaN</td>\n",
       "      <td>DIRECT</td>\n",
       "      <td>PATRICK</td>\n",
       "      <td>CLAERHOUT</td>\n",
       "      <td>121 MURPHY DR.</td>\n",
       "      <td>ST. CLAIR</td>\n",
       "      <td>MI</td>\n",
       "      <td>48079-0000</td>\n",
       "      <td>NaN</td>\n",
       "      <td>NaN</td>\n",
       "      <td>10/01/2018</td>\n",
       "      <td>5.0</td>\n",
       "      <td>55.0</td>\n",
       "      <td>NaN</td>\n",
       "    </tr>\n",
       "  </tbody>\n",
       "</table>\n",
       "</div>"
      ],
      "text/plain": [
       "   doc_seq_no  page_no  contribution_id  cont_detail_id  doc_stmnt_year  \\\n",
       "0      472254        0           464000               0            2018   \n",
       "1      472254        0           464001               0            2018   \n",
       "\n",
       "          doc_type_desc                                     com_legal_name  \\\n",
       "0  OCTOBER QUARTERLY CS  UAW MICHIGAN VOLUNTARY POLITICAL ACTION COMMITTEE   \n",
       "1  OCTOBER QUARTERLY CS  UAW MICHIGAN VOLUNTARY POLITICAL ACTION COMMITTEE   \n",
       "\n",
       "                            common_name  cfr_com_id com_type can_first_name  \\\n",
       "0  UAW MICHIGAN VOLUNTARY POLITICAL ACT    508347.0      IND            NaN   \n",
       "1  UAW MICHIGAN VOLUNTARY POLITICAL ACT    508347.0      IND            NaN   \n",
       "\n",
       "  can_last_name                     contribtype                f_name  \\\n",
       "0           NaN  DIRECT                          TERRY                  \n",
       "1           NaN  DIRECT                          PATRICK                \n",
       "\n",
       "                          l_name_or_org                address  \\\n",
       "0  LOZANO                                2034 EDWARD LANE WEST   \n",
       "1  CLAERHOUT                                    121 MURPHY DR.   \n",
       "\n",
       "                   city state         zip      occupation  \\\n",
       "0  KIMBALL                 MI  48074-0000  FACTORY WORKER   \n",
       "1  ST. CLAIR               MI  48079-0000             NaN   \n",
       "\n",
       "                         employer received_date  amount  aggregate extra_desc  \n",
       "0  FIAT CHRYSLER AUTOMOBILES N.V.    10/01/2018    15.0      165.0        NaN  \n",
       "1                             NaN    10/01/2018     5.0       55.0        NaN  "
      ]
     },
     "execution_count": 10,
     "metadata": {},
     "output_type": "execute_result"
    }
   ],
   "source": [
    "merged_campaign_df[merged_campaign_df[\"cfr_com_id\"] == 508347.0].head(2)"
   ]
  },
  {
   "cell_type": "markdown",
   "metadata": {},
   "source": [
    "#### Question 3: \n",
    "- Who are the top 10 contributors in your data? The top 10 recipients?\n",
    "\n",
    "- [Update description here]"
   ]
  },
  {
   "cell_type": "code",
   "execution_count": 11,
   "metadata": {},
   "outputs": [
    {
     "data": {
      "text/html": [
       "<div>\n",
       "<style scoped>\n",
       "    .dataframe tbody tr th:only-of-type {\n",
       "        vertical-align: middle;\n",
       "    }\n",
       "\n",
       "    .dataframe tbody tr th {\n",
       "        vertical-align: top;\n",
       "    }\n",
       "\n",
       "    .dataframe thead th {\n",
       "        text-align: right;\n",
       "    }\n",
       "</style>\n",
       "<table border=\"1\" class=\"dataframe\">\n",
       "  <thead>\n",
       "    <tr style=\"text-align: right;\">\n",
       "      <th></th>\n",
       "      <th>f_name</th>\n",
       "      <th>l_name_or_org</th>\n",
       "      <th>amount</th>\n",
       "    </tr>\n",
       "  </thead>\n",
       "  <tbody>\n",
       "    <tr>\n",
       "      <th>516236</th>\n",
       "      <td>DICK</td>\n",
       "      <td>DEVOS</td>\n",
       "      <td>40061478.65</td>\n",
       "    </tr>\n",
       "    <tr>\n",
       "      <th>1940672</th>\n",
       "      <td>SHRI</td>\n",
       "      <td>THANEDAR</td>\n",
       "      <td>13120211.01</td>\n",
       "    </tr>\n",
       "    <tr>\n",
       "      <th>1026206</th>\n",
       "      <td>JON</td>\n",
       "      <td>STRYKER</td>\n",
       "      <td>12747102.88</td>\n",
       "    </tr>\n",
       "    <tr>\n",
       "      <th>1171278</th>\n",
       "      <td>KEVIN</td>\n",
       "      <td>RINKE</td>\n",
       "      <td>10014260.00</td>\n",
       "    </tr>\n",
       "    <tr>\n",
       "      <th>1666406</th>\n",
       "      <td>PERRY</td>\n",
       "      <td>JOHNSON</td>\n",
       "      <td>7946615.00</td>\n",
       "    </tr>\n",
       "    <tr>\n",
       "      <th>1824327</th>\n",
       "      <td>RONALD</td>\n",
       "      <td>WEISER</td>\n",
       "      <td>7577326.87</td>\n",
       "    </tr>\n",
       "    <tr>\n",
       "      <th>1751939</th>\n",
       "      <td>RICHARD D.</td>\n",
       "      <td>SNYDER</td>\n",
       "      <td>5885500.00</td>\n",
       "    </tr>\n",
       "    <tr>\n",
       "      <th>704422</th>\n",
       "      <td>GEOFFREY N</td>\n",
       "      <td>FIEGER</td>\n",
       "      <td>4743100.00</td>\n",
       "    </tr>\n",
       "    <tr>\n",
       "      <th>169089</th>\n",
       "      <td>BETSY</td>\n",
       "      <td>DEVOS</td>\n",
       "      <td>4701400.00</td>\n",
       "    </tr>\n",
       "    <tr>\n",
       "      <th>1469003</th>\n",
       "      <td>MICHAEL</td>\n",
       "      <td>BLOOMBERG</td>\n",
       "      <td>4020750.00</td>\n",
       "    </tr>\n",
       "  </tbody>\n",
       "</table>\n",
       "</div>"
      ],
      "text/plain": [
       "                       f_name                         l_name_or_org  \\\n",
       "516236   DICK                  DEVOS                                  \n",
       "1940672  SHRI                  THANEDAR                               \n",
       "1026206  JON                   STRYKER                                \n",
       "1171278  KEVIN                 RINKE                                  \n",
       "1666406  PERRY                 JOHNSON                                \n",
       "1824327  RONALD                WEISER                                 \n",
       "1751939  RICHARD D.            SNYDER                                 \n",
       "704422   GEOFFREY N            FIEGER                                 \n",
       "169089   BETSY                 DEVOS                                  \n",
       "1469003  MICHAEL               BLOOMBERG                              \n",
       "\n",
       "              amount  \n",
       "516236   40061478.65  \n",
       "1940672  13120211.01  \n",
       "1026206  12747102.88  \n",
       "1171278  10014260.00  \n",
       "1666406   7946615.00  \n",
       "1824327   7577326.87  \n",
       "1751939   5885500.00  \n",
       "704422    4743100.00  \n",
       "169089    4701400.00  \n",
       "1469003   4020750.00  "
      ]
     },
     "metadata": {},
     "output_type": "display_data"
    }
   ],
   "source": [
    "top_10_individual_contrubutors = (\n",
    "    merged_campaign_df.groupby([\"f_name\", \"l_name_or_org\"])[\"amount\"]\n",
    "    .sum()\n",
    "    .reset_index()\n",
    ")\n",
    "top_10_individual_contrubutors = top_10_individual_contrubutors.sort_values(\n",
    "    by=\"amount\", ascending=False\n",
    ").head(10)\n",
    "display(top_10_individual_contrubutors)"
   ]
  },
  {
   "cell_type": "code",
   "execution_count": 12,
   "metadata": {},
   "outputs": [
    {
     "data": {
      "text/html": [
       "<div>\n",
       "<style scoped>\n",
       "    .dataframe tbody tr th:only-of-type {\n",
       "        vertical-align: middle;\n",
       "    }\n",
       "\n",
       "    .dataframe tbody tr th {\n",
       "        vertical-align: top;\n",
       "    }\n",
       "\n",
       "    .dataframe thead th {\n",
       "        text-align: right;\n",
       "    }\n",
       "</style>\n",
       "<table border=\"1\" class=\"dataframe\">\n",
       "  <thead>\n",
       "    <tr style=\"text-align: right;\">\n",
       "      <th></th>\n",
       "      <th>l_name_or_org</th>\n",
       "      <th>amount</th>\n",
       "    </tr>\n",
       "  </thead>\n",
       "  <tbody>\n",
       "    <tr>\n",
       "      <th>144218</th>\n",
       "      <td>SIXTEEN THIRTY FUND</td>\n",
       "      <td>33339000.00</td>\n",
       "    </tr>\n",
       "    <tr>\n",
       "      <th>39793</th>\n",
       "      <td>DIBC HOLDINGS INC</td>\n",
       "      <td>18454000.00</td>\n",
       "    </tr>\n",
       "    <tr>\n",
       "      <th>133541</th>\n",
       "      <td>RIGHT TO LIFE OF MICHIGAN</td>\n",
       "      <td>12992762.60</td>\n",
       "    </tr>\n",
       "    <tr>\n",
       "      <th>29982</th>\n",
       "      <td>CONSUMERS ENERGY</td>\n",
       "      <td>11582050.00</td>\n",
       "    </tr>\n",
       "    <tr>\n",
       "      <th>108855</th>\n",
       "      <td>MICHIGAN CHAMBER OF COMMERCE</td>\n",
       "      <td>11152895.05</td>\n",
       "    </tr>\n",
       "    <tr>\n",
       "      <th>42246</th>\n",
       "      <td>DTE ENERGY</td>\n",
       "      <td>11127150.00</td>\n",
       "    </tr>\n",
       "    <tr>\n",
       "      <th>108828</th>\n",
       "      <td>MICHIGAN CATHOLIC CONFERENCE</td>\n",
       "      <td>10431820.00</td>\n",
       "    </tr>\n",
       "    <tr>\n",
       "      <th>137998</th>\n",
       "      <td>SAGINAW CHIPPEWA IND TRIBE MI</td>\n",
       "      <td>9449388.84</td>\n",
       "    </tr>\n",
       "    <tr>\n",
       "      <th>63969</th>\n",
       "      <td>HOME CARE FIRST INC.</td>\n",
       "      <td>9360000.00</td>\n",
       "    </tr>\n",
       "    <tr>\n",
       "      <th>85736</th>\n",
       "      <td>LEAGUE OF CONSERVATION VOTERS</td>\n",
       "      <td>9151250.00</td>\n",
       "    </tr>\n",
       "  </tbody>\n",
       "</table>\n",
       "</div>"
      ],
      "text/plain": [
       "                               l_name_or_org       amount\n",
       "144218  SIXTEEN THIRTY FUND                   33339000.00\n",
       "39793   DIBC HOLDINGS INC                     18454000.00\n",
       "133541  RIGHT TO LIFE OF MICHIGAN             12992762.60\n",
       "29982   CONSUMERS ENERGY                      11582050.00\n",
       "108855  MICHIGAN CHAMBER OF COMMERCE          11152895.05\n",
       "42246   DTE ENERGY                            11127150.00\n",
       "108828  MICHIGAN CATHOLIC CONFERENCE          10431820.00\n",
       "137998  SAGINAW CHIPPEWA IND TRIBE MI          9449388.84\n",
       "63969   HOME CARE FIRST INC.                   9360000.00\n",
       "85736   LEAGUE OF CONSERVATION VOTERS          9151250.00"
      ]
     },
     "metadata": {},
     "output_type": "display_data"
    }
   ],
   "source": [
    "top_10_organizational_contributors = merged_campaign_df[\n",
    "    merged_campaign_df[\"f_name\"].isnull()\n",
    "]\n",
    "top_10_organizational_contributors = (\n",
    "    top_10_organizational_contributors.groupby(\"l_name_or_org\")[\"amount\"]\n",
    "    .sum()\n",
    "    .reset_index()\n",
    ")\n",
    "top_10_organizational_contributors = top_10_organizational_contributors.sort_values(\n",
    "    by=\"amount\", ascending=False\n",
    ").head(10)\n",
    "display(top_10_organizational_contributors)"
   ]
  },
  {
   "cell_type": "code",
   "execution_count": 13,
   "metadata": {},
   "outputs": [
    {
     "data": {
      "text/html": [
       "<div>\n",
       "<style scoped>\n",
       "    .dataframe tbody tr th:only-of-type {\n",
       "        vertical-align: middle;\n",
       "    }\n",
       "\n",
       "    .dataframe tbody tr th {\n",
       "        vertical-align: top;\n",
       "    }\n",
       "\n",
       "    .dataframe thead th {\n",
       "        text-align: right;\n",
       "    }\n",
       "</style>\n",
       "<table border=\"1\" class=\"dataframe\">\n",
       "  <thead>\n",
       "    <tr style=\"text-align: right;\">\n",
       "      <th></th>\n",
       "      <th>com_legal_name</th>\n",
       "      <th>amount</th>\n",
       "    </tr>\n",
       "  </thead>\n",
       "  <tbody>\n",
       "    <tr>\n",
       "      <th>5293</th>\n",
       "      <td>MICHIGAN REPUBLICAN PARTY</td>\n",
       "      <td>61185192.16</td>\n",
       "    </tr>\n",
       "    <tr>\n",
       "      <th>4077</th>\n",
       "      <td>GRETCHEN WHITMER FOR GOVERNOR</td>\n",
       "      <td>49676252.13</td>\n",
       "    </tr>\n",
       "    <tr>\n",
       "      <th>2959</th>\n",
       "      <td>DEMOCRATIC STATE CENTRAL COMMITTEE</td>\n",
       "      <td>46894893.06</td>\n",
       "    </tr>\n",
       "    <tr>\n",
       "      <th>5846</th>\n",
       "      <td>REPRODUCTIVE FREEDOM FOR ALL</td>\n",
       "      <td>45250239.65</td>\n",
       "    </tr>\n",
       "    <tr>\n",
       "      <th>4179</th>\n",
       "      <td>HOUSE REPUBLICAN CAMPAIGN COMMITTEE</td>\n",
       "      <td>42246910.00</td>\n",
       "    </tr>\n",
       "    <tr>\n",
       "      <th>3017</th>\n",
       "      <td>DICK DEVOS FOR GOVERNOR</td>\n",
       "      <td>41787282.72</td>\n",
       "    </tr>\n",
       "    <tr>\n",
       "      <th>5212</th>\n",
       "      <td>MICHIGAN HOUSE DEMOCRATIC FUND</td>\n",
       "      <td>35020446.07</td>\n",
       "    </tr>\n",
       "    <tr>\n",
       "      <th>6075</th>\n",
       "      <td>SENATE REPUBLICAN CAMPAIGN COMMITTEE</td>\n",
       "      <td>31190387.33</td>\n",
       "    </tr>\n",
       "    <tr>\n",
       "      <th>5756</th>\n",
       "      <td>PROTECTING MICHIGAN TAXPAYERS</td>\n",
       "      <td>26547849.19</td>\n",
       "    </tr>\n",
       "    <tr>\n",
       "      <th>5903</th>\n",
       "      <td>RICK SNYDER FOR MICHIGAN</td>\n",
       "      <td>25195856.96</td>\n",
       "    </tr>\n",
       "  </tbody>\n",
       "</table>\n",
       "</div>"
      ],
      "text/plain": [
       "                            com_legal_name       amount\n",
       "5293             MICHIGAN REPUBLICAN PARTY  61185192.16\n",
       "4077         GRETCHEN WHITMER FOR GOVERNOR  49676252.13\n",
       "2959    DEMOCRATIC STATE CENTRAL COMMITTEE  46894893.06\n",
       "5846          REPRODUCTIVE FREEDOM FOR ALL  45250239.65\n",
       "4179   HOUSE REPUBLICAN CAMPAIGN COMMITTEE  42246910.00\n",
       "3017               DICK DEVOS FOR GOVERNOR  41787282.72\n",
       "5212        MICHIGAN HOUSE DEMOCRATIC FUND  35020446.07\n",
       "6075  SENATE REPUBLICAN CAMPAIGN COMMITTEE  31190387.33\n",
       "5756         PROTECTING MICHIGAN TAXPAYERS  26547849.19\n",
       "5903              RICK SNYDER FOR MICHIGAN  25195856.96"
      ]
     },
     "metadata": {},
     "output_type": "display_data"
    }
   ],
   "source": [
    "# display the 10 recipients (commmittees) from the merged dataframe (1995 - 2023)\n",
    "top_10_commiitee_recipients = (\n",
    "    merged_campaign_df.groupby(\"com_legal_name\")[\"amount\"].sum().reset_index()\n",
    ")\n",
    "top_10_commiitee_recipients = top_10_commiitee_recipients.sort_values(\n",
    "    by=\"amount\", ascending=False\n",
    ").head(10)\n",
    "display(top_10_commiitee_recipients)"
   ]
  },
  {
   "cell_type": "code",
   "execution_count": 14,
   "metadata": {},
   "outputs": [
    {
     "data": {
      "text/html": [
       "<div>\n",
       "<style scoped>\n",
       "    .dataframe tbody tr th:only-of-type {\n",
       "        vertical-align: middle;\n",
       "    }\n",
       "\n",
       "    .dataframe tbody tr th {\n",
       "        vertical-align: top;\n",
       "    }\n",
       "\n",
       "    .dataframe thead th {\n",
       "        text-align: right;\n",
       "    }\n",
       "</style>\n",
       "<table border=\"1\" class=\"dataframe\">\n",
       "  <thead>\n",
       "    <tr style=\"text-align: right;\">\n",
       "      <th></th>\n",
       "      <th>can_first_name</th>\n",
       "      <th>can_last_name</th>\n",
       "      <th>amount</th>\n",
       "    </tr>\n",
       "  </thead>\n",
       "  <tbody>\n",
       "    <tr>\n",
       "      <th>1375</th>\n",
       "      <td>GRETCHEN</td>\n",
       "      <td>WHITMER</td>\n",
       "      <td>50526077.01</td>\n",
       "    </tr>\n",
       "    <tr>\n",
       "      <th>3247</th>\n",
       "      <td>RICHARD</td>\n",
       "      <td>DEVOS</td>\n",
       "      <td>41787282.72</td>\n",
       "    </tr>\n",
       "    <tr>\n",
       "      <th>3277</th>\n",
       "      <td>RICHARD</td>\n",
       "      <td>SNYDER</td>\n",
       "      <td>25195856.96</td>\n",
       "    </tr>\n",
       "    <tr>\n",
       "      <th>307</th>\n",
       "      <td>BILL</td>\n",
       "      <td>SCHUETTE</td>\n",
       "      <td>18122344.60</td>\n",
       "    </tr>\n",
       "    <tr>\n",
       "      <th>1698</th>\n",
       "      <td>JENNIFER</td>\n",
       "      <td>GRANHOLM</td>\n",
       "      <td>16019575.71</td>\n",
       "    </tr>\n",
       "    <tr>\n",
       "      <th>3613</th>\n",
       "      <td>SHRI</td>\n",
       "      <td>THANEDAR</td>\n",
       "      <td>13105555.22</td>\n",
       "    </tr>\n",
       "    <tr>\n",
       "      <th>2238</th>\n",
       "      <td>KEVIN</td>\n",
       "      <td>RINKE</td>\n",
       "      <td>10493219.07</td>\n",
       "    </tr>\n",
       "    <tr>\n",
       "      <th>3960</th>\n",
       "      <td>TUDOR</td>\n",
       "      <td>DIXON</td>\n",
       "      <td>8786024.47</td>\n",
       "    </tr>\n",
       "    <tr>\n",
       "      <th>1781</th>\n",
       "      <td>JOCELYN</td>\n",
       "      <td>BENSON</td>\n",
       "      <td>8522913.30</td>\n",
       "    </tr>\n",
       "    <tr>\n",
       "      <th>3114</th>\n",
       "      <td>PERRY</td>\n",
       "      <td>JOHNSON</td>\n",
       "      <td>7964951.42</td>\n",
       "    </tr>\n",
       "  </tbody>\n",
       "</table>\n",
       "</div>"
      ],
      "text/plain": [
       "     can_first_name can_last_name       amount\n",
       "1375       GRETCHEN       WHITMER  50526077.01\n",
       "3247        RICHARD         DEVOS  41787282.72\n",
       "3277        RICHARD        SNYDER  25195856.96\n",
       "307            BILL      SCHUETTE  18122344.60\n",
       "1698       JENNIFER      GRANHOLM  16019575.71\n",
       "3613           SHRI      THANEDAR  13105555.22\n",
       "2238          KEVIN         RINKE  10493219.07\n",
       "3960          TUDOR         DIXON   8786024.47\n",
       "1781        JOCELYN        BENSON   8522913.30\n",
       "3114          PERRY       JOHNSON   7964951.42"
      ]
     },
     "metadata": {},
     "output_type": "display_data"
    }
   ],
   "source": [
    "# display the top 10 recipients (candidates) from the merged dataframe (1995 - 2023)\n",
    "\n",
    "top_10_recipients = (\n",
    "    merged_campaign_df.groupby([\"can_first_name\", \"can_last_name\"])[\"amount\"]\n",
    "    .sum()\n",
    "    .reset_index()\n",
    ")\n",
    "top_10_recipients = top_10_recipients.sort_values(by=\"amount\", ascending=False).head(10)\n",
    "display(top_10_recipients)"
   ]
  },
  {
   "cell_type": "markdown",
   "metadata": {},
   "source": [
    "#### Question 4:\n",
    "\n",
    "- Make a bar chart with plotly comparing contributions by donor type or recipient type (PAC, individual, etc) and one comparing recipients by the office type they are running for"
   ]
  },
  {
   "cell_type": "markdown",
   "metadata": {},
   "source": [
    "##### MI Committee Types \n",
    "- DIS (District Party Committee)\n",
    "- STA (State Party Committee)\n",
    "- BAL (Ballot Question Commmittee)\n",
    "- COU (County Part Committee)\n",
    "- POL (Political Action Committee)\n",
    "- GUB (Gubernatorial Commmittee)\n",
    "- CAN (Candidate Committee)\n",
    "- IND (Independent Political Action Committee)"
   ]
  },
  {
   "cell_type": "code",
   "execution_count": 15,
   "metadata": {},
   "outputs": [],
   "source": [
    "# plotly bar chart of contributions by com_type\n",
    "com_type_count = merged_campaign_df[\n",
    "    merged_campaign_df[\"com_type\"] != \"MENOMINEE COUNTY DEMOCRATIC PARTY\"\n",
    "]\n",
    "# removes the columns containing an error\n",
    "com_type_count = com_type_count[\"com_type\"].value_counts().reset_index()\n",
    "com_type_count.columns = [\"Committee_Type\", \"Count\"]"
   ]
  },
  {
   "cell_type": "code",
   "execution_count": 16,
   "metadata": {},
   "outputs": [
    {
     "data": {
      "application/vnd.plotly.v1+json": {
       "config": {
        "plotlyServerURL": "https://plot.ly"
       },
       "data": [
        {
         "alignmentgroup": "True",
         "hovertemplate": "Committee_Type=%{x}<br>Count=%{text}<extra></extra>",
         "legendgroup": "",
         "marker": {
          "color": "#636efa",
          "pattern": {
           "shape": ""
          }
         },
         "name": "",
         "offsetgroup": "",
         "orientation": "v",
         "showlegend": false,
         "text": [
          16820952,
          2108712,
          914585,
          382602,
          292712,
          215599,
          24842,
          16927
         ],
         "textposition": "auto",
         "type": "bar",
         "x": [
          "IND",
          "CAN",
          "GUB",
          "POL",
          "COU",
          "BAL",
          "STA",
          "DIS"
         ],
         "xaxis": "x",
         "y": [
          16820952,
          2108712,
          914585,
          382602,
          292712,
          215599,
          24842,
          16927
         ],
         "yaxis": "y"
        }
       ],
       "layout": {
        "barmode": "relative",
        "legend": {
         "tracegroupgap": 0
        },
        "template": {
         "data": {
          "bar": [
           {
            "error_x": {
             "color": "#2a3f5f"
            },
            "error_y": {
             "color": "#2a3f5f"
            },
            "marker": {
             "line": {
              "color": "#E5ECF6",
              "width": 0.5
             },
             "pattern": {
              "fillmode": "overlay",
              "size": 10,
              "solidity": 0.2
             }
            },
            "type": "bar"
           }
          ],
          "barpolar": [
           {
            "marker": {
             "line": {
              "color": "#E5ECF6",
              "width": 0.5
             },
             "pattern": {
              "fillmode": "overlay",
              "size": 10,
              "solidity": 0.2
             }
            },
            "type": "barpolar"
           }
          ],
          "carpet": [
           {
            "aaxis": {
             "endlinecolor": "#2a3f5f",
             "gridcolor": "white",
             "linecolor": "white",
             "minorgridcolor": "white",
             "startlinecolor": "#2a3f5f"
            },
            "baxis": {
             "endlinecolor": "#2a3f5f",
             "gridcolor": "white",
             "linecolor": "white",
             "minorgridcolor": "white",
             "startlinecolor": "#2a3f5f"
            },
            "type": "carpet"
           }
          ],
          "choropleth": [
           {
            "colorbar": {
             "outlinewidth": 0,
             "ticks": ""
            },
            "type": "choropleth"
           }
          ],
          "contour": [
           {
            "colorbar": {
             "outlinewidth": 0,
             "ticks": ""
            },
            "colorscale": [
             [
              0,
              "#0d0887"
             ],
             [
              0.1111111111111111,
              "#46039f"
             ],
             [
              0.2222222222222222,
              "#7201a8"
             ],
             [
              0.3333333333333333,
              "#9c179e"
             ],
             [
              0.4444444444444444,
              "#bd3786"
             ],
             [
              0.5555555555555556,
              "#d8576b"
             ],
             [
              0.6666666666666666,
              "#ed7953"
             ],
             [
              0.7777777777777778,
              "#fb9f3a"
             ],
             [
              0.8888888888888888,
              "#fdca26"
             ],
             [
              1,
              "#f0f921"
             ]
            ],
            "type": "contour"
           }
          ],
          "contourcarpet": [
           {
            "colorbar": {
             "outlinewidth": 0,
             "ticks": ""
            },
            "type": "contourcarpet"
           }
          ],
          "heatmap": [
           {
            "colorbar": {
             "outlinewidth": 0,
             "ticks": ""
            },
            "colorscale": [
             [
              0,
              "#0d0887"
             ],
             [
              0.1111111111111111,
              "#46039f"
             ],
             [
              0.2222222222222222,
              "#7201a8"
             ],
             [
              0.3333333333333333,
              "#9c179e"
             ],
             [
              0.4444444444444444,
              "#bd3786"
             ],
             [
              0.5555555555555556,
              "#d8576b"
             ],
             [
              0.6666666666666666,
              "#ed7953"
             ],
             [
              0.7777777777777778,
              "#fb9f3a"
             ],
             [
              0.8888888888888888,
              "#fdca26"
             ],
             [
              1,
              "#f0f921"
             ]
            ],
            "type": "heatmap"
           }
          ],
          "heatmapgl": [
           {
            "colorbar": {
             "outlinewidth": 0,
             "ticks": ""
            },
            "colorscale": [
             [
              0,
              "#0d0887"
             ],
             [
              0.1111111111111111,
              "#46039f"
             ],
             [
              0.2222222222222222,
              "#7201a8"
             ],
             [
              0.3333333333333333,
              "#9c179e"
             ],
             [
              0.4444444444444444,
              "#bd3786"
             ],
             [
              0.5555555555555556,
              "#d8576b"
             ],
             [
              0.6666666666666666,
              "#ed7953"
             ],
             [
              0.7777777777777778,
              "#fb9f3a"
             ],
             [
              0.8888888888888888,
              "#fdca26"
             ],
             [
              1,
              "#f0f921"
             ]
            ],
            "type": "heatmapgl"
           }
          ],
          "histogram": [
           {
            "marker": {
             "pattern": {
              "fillmode": "overlay",
              "size": 10,
              "solidity": 0.2
             }
            },
            "type": "histogram"
           }
          ],
          "histogram2d": [
           {
            "colorbar": {
             "outlinewidth": 0,
             "ticks": ""
            },
            "colorscale": [
             [
              0,
              "#0d0887"
             ],
             [
              0.1111111111111111,
              "#46039f"
             ],
             [
              0.2222222222222222,
              "#7201a8"
             ],
             [
              0.3333333333333333,
              "#9c179e"
             ],
             [
              0.4444444444444444,
              "#bd3786"
             ],
             [
              0.5555555555555556,
              "#d8576b"
             ],
             [
              0.6666666666666666,
              "#ed7953"
             ],
             [
              0.7777777777777778,
              "#fb9f3a"
             ],
             [
              0.8888888888888888,
              "#fdca26"
             ],
             [
              1,
              "#f0f921"
             ]
            ],
            "type": "histogram2d"
           }
          ],
          "histogram2dcontour": [
           {
            "colorbar": {
             "outlinewidth": 0,
             "ticks": ""
            },
            "colorscale": [
             [
              0,
              "#0d0887"
             ],
             [
              0.1111111111111111,
              "#46039f"
             ],
             [
              0.2222222222222222,
              "#7201a8"
             ],
             [
              0.3333333333333333,
              "#9c179e"
             ],
             [
              0.4444444444444444,
              "#bd3786"
             ],
             [
              0.5555555555555556,
              "#d8576b"
             ],
             [
              0.6666666666666666,
              "#ed7953"
             ],
             [
              0.7777777777777778,
              "#fb9f3a"
             ],
             [
              0.8888888888888888,
              "#fdca26"
             ],
             [
              1,
              "#f0f921"
             ]
            ],
            "type": "histogram2dcontour"
           }
          ],
          "mesh3d": [
           {
            "colorbar": {
             "outlinewidth": 0,
             "ticks": ""
            },
            "type": "mesh3d"
           }
          ],
          "parcoords": [
           {
            "line": {
             "colorbar": {
              "outlinewidth": 0,
              "ticks": ""
             }
            },
            "type": "parcoords"
           }
          ],
          "pie": [
           {
            "automargin": true,
            "type": "pie"
           }
          ],
          "scatter": [
           {
            "fillpattern": {
             "fillmode": "overlay",
             "size": 10,
             "solidity": 0.2
            },
            "type": "scatter"
           }
          ],
          "scatter3d": [
           {
            "line": {
             "colorbar": {
              "outlinewidth": 0,
              "ticks": ""
             }
            },
            "marker": {
             "colorbar": {
              "outlinewidth": 0,
              "ticks": ""
             }
            },
            "type": "scatter3d"
           }
          ],
          "scattercarpet": [
           {
            "marker": {
             "colorbar": {
              "outlinewidth": 0,
              "ticks": ""
             }
            },
            "type": "scattercarpet"
           }
          ],
          "scattergeo": [
           {
            "marker": {
             "colorbar": {
              "outlinewidth": 0,
              "ticks": ""
             }
            },
            "type": "scattergeo"
           }
          ],
          "scattergl": [
           {
            "marker": {
             "colorbar": {
              "outlinewidth": 0,
              "ticks": ""
             }
            },
            "type": "scattergl"
           }
          ],
          "scattermapbox": [
           {
            "marker": {
             "colorbar": {
              "outlinewidth": 0,
              "ticks": ""
             }
            },
            "type": "scattermapbox"
           }
          ],
          "scatterpolar": [
           {
            "marker": {
             "colorbar": {
              "outlinewidth": 0,
              "ticks": ""
             }
            },
            "type": "scatterpolar"
           }
          ],
          "scatterpolargl": [
           {
            "marker": {
             "colorbar": {
              "outlinewidth": 0,
              "ticks": ""
             }
            },
            "type": "scatterpolargl"
           }
          ],
          "scatterternary": [
           {
            "marker": {
             "colorbar": {
              "outlinewidth": 0,
              "ticks": ""
             }
            },
            "type": "scatterternary"
           }
          ],
          "surface": [
           {
            "colorbar": {
             "outlinewidth": 0,
             "ticks": ""
            },
            "colorscale": [
             [
              0,
              "#0d0887"
             ],
             [
              0.1111111111111111,
              "#46039f"
             ],
             [
              0.2222222222222222,
              "#7201a8"
             ],
             [
              0.3333333333333333,
              "#9c179e"
             ],
             [
              0.4444444444444444,
              "#bd3786"
             ],
             [
              0.5555555555555556,
              "#d8576b"
             ],
             [
              0.6666666666666666,
              "#ed7953"
             ],
             [
              0.7777777777777778,
              "#fb9f3a"
             ],
             [
              0.8888888888888888,
              "#fdca26"
             ],
             [
              1,
              "#f0f921"
             ]
            ],
            "type": "surface"
           }
          ],
          "table": [
           {
            "cells": {
             "fill": {
              "color": "#EBF0F8"
             },
             "line": {
              "color": "white"
             }
            },
            "header": {
             "fill": {
              "color": "#C8D4E3"
             },
             "line": {
              "color": "white"
             }
            },
            "type": "table"
           }
          ]
         },
         "layout": {
          "annotationdefaults": {
           "arrowcolor": "#2a3f5f",
           "arrowhead": 0,
           "arrowwidth": 1
          },
          "autotypenumbers": "strict",
          "coloraxis": {
           "colorbar": {
            "outlinewidth": 0,
            "ticks": ""
           }
          },
          "colorscale": {
           "diverging": [
            [
             0,
             "#8e0152"
            ],
            [
             0.1,
             "#c51b7d"
            ],
            [
             0.2,
             "#de77ae"
            ],
            [
             0.3,
             "#f1b6da"
            ],
            [
             0.4,
             "#fde0ef"
            ],
            [
             0.5,
             "#f7f7f7"
            ],
            [
             0.6,
             "#e6f5d0"
            ],
            [
             0.7,
             "#b8e186"
            ],
            [
             0.8,
             "#7fbc41"
            ],
            [
             0.9,
             "#4d9221"
            ],
            [
             1,
             "#276419"
            ]
           ],
           "sequential": [
            [
             0,
             "#0d0887"
            ],
            [
             0.1111111111111111,
             "#46039f"
            ],
            [
             0.2222222222222222,
             "#7201a8"
            ],
            [
             0.3333333333333333,
             "#9c179e"
            ],
            [
             0.4444444444444444,
             "#bd3786"
            ],
            [
             0.5555555555555556,
             "#d8576b"
            ],
            [
             0.6666666666666666,
             "#ed7953"
            ],
            [
             0.7777777777777778,
             "#fb9f3a"
            ],
            [
             0.8888888888888888,
             "#fdca26"
            ],
            [
             1,
             "#f0f921"
            ]
           ],
           "sequentialminus": [
            [
             0,
             "#0d0887"
            ],
            [
             0.1111111111111111,
             "#46039f"
            ],
            [
             0.2222222222222222,
             "#7201a8"
            ],
            [
             0.3333333333333333,
             "#9c179e"
            ],
            [
             0.4444444444444444,
             "#bd3786"
            ],
            [
             0.5555555555555556,
             "#d8576b"
            ],
            [
             0.6666666666666666,
             "#ed7953"
            ],
            [
             0.7777777777777778,
             "#fb9f3a"
            ],
            [
             0.8888888888888888,
             "#fdca26"
            ],
            [
             1,
             "#f0f921"
            ]
           ]
          },
          "colorway": [
           "#636efa",
           "#EF553B",
           "#00cc96",
           "#ab63fa",
           "#FFA15A",
           "#19d3f3",
           "#FF6692",
           "#B6E880",
           "#FF97FF",
           "#FECB52"
          ],
          "font": {
           "color": "#2a3f5f"
          },
          "geo": {
           "bgcolor": "white",
           "lakecolor": "white",
           "landcolor": "#E5ECF6",
           "showlakes": true,
           "showland": true,
           "subunitcolor": "white"
          },
          "hoverlabel": {
           "align": "left"
          },
          "hovermode": "closest",
          "mapbox": {
           "style": "light"
          },
          "paper_bgcolor": "white",
          "plot_bgcolor": "#E5ECF6",
          "polar": {
           "angularaxis": {
            "gridcolor": "white",
            "linecolor": "white",
            "ticks": ""
           },
           "bgcolor": "#E5ECF6",
           "radialaxis": {
            "gridcolor": "white",
            "linecolor": "white",
            "ticks": ""
           }
          },
          "scene": {
           "xaxis": {
            "backgroundcolor": "#E5ECF6",
            "gridcolor": "white",
            "gridwidth": 2,
            "linecolor": "white",
            "showbackground": true,
            "ticks": "",
            "zerolinecolor": "white"
           },
           "yaxis": {
            "backgroundcolor": "#E5ECF6",
            "gridcolor": "white",
            "gridwidth": 2,
            "linecolor": "white",
            "showbackground": true,
            "ticks": "",
            "zerolinecolor": "white"
           },
           "zaxis": {
            "backgroundcolor": "#E5ECF6",
            "gridcolor": "white",
            "gridwidth": 2,
            "linecolor": "white",
            "showbackground": true,
            "ticks": "",
            "zerolinecolor": "white"
           }
          },
          "shapedefaults": {
           "line": {
            "color": "#2a3f5f"
           }
          },
          "ternary": {
           "aaxis": {
            "gridcolor": "white",
            "linecolor": "white",
            "ticks": ""
           },
           "baxis": {
            "gridcolor": "white",
            "linecolor": "white",
            "ticks": ""
           },
           "bgcolor": "#E5ECF6",
           "caxis": {
            "gridcolor": "white",
            "linecolor": "white",
            "ticks": ""
           }
          },
          "title": {
           "x": 0.05
          },
          "xaxis": {
           "automargin": true,
           "gridcolor": "white",
           "linecolor": "white",
           "ticks": "",
           "title": {
            "standoff": 15
           },
           "zerolinecolor": "white",
           "zerolinewidth": 2
          },
          "yaxis": {
           "automargin": true,
           "gridcolor": "white",
           "linecolor": "white",
           "ticks": "",
           "title": {
            "standoff": 15
           },
           "zerolinecolor": "white",
           "zerolinewidth": 2
          }
         }
        },
        "title": {
         "text": "Michigan Contributons by Committee Type"
        },
        "xaxis": {
         "anchor": "y",
         "categoryorder": "total ascending",
         "domain": [
          0,
          1
         ],
         "title": {
          "text": "Committee Types"
         }
        },
        "yaxis": {
         "anchor": "x",
         "domain": [
          0,
          1
         ],
         "title": {
          "text": "1999-2023 Count"
         }
        }
       }
      }
     },
     "metadata": {},
     "output_type": "display_data"
    }
   ],
   "source": [
    "# Plot 1999-2023 Contributions by Committee Type\n",
    "fig = px.bar(\n",
    "    com_type_count,\n",
    "    x=\"Committee_Type\",\n",
    "    y=\"Count\",\n",
    "    title=\"Michigan Contributons by Committee Type\",\n",
    "    text=\"Count\",\n",
    ")\n",
    "fig.update_layout(\n",
    "    xaxis_title=\"Committee Types\",\n",
    "    yaxis_title=\"1999-2023 Count\",\n",
    "    xaxis={\"categoryorder\": \"total ascending\"},\n",
    ")\n",
    "fig.show()"
   ]
  },
  {
   "cell_type": "markdown",
   "metadata": {},
   "source": [
    "As shown in the visual above, a majority of the committees receiving contributions are Independent PACs, Candidate Committees, Gubernatorial Commmitteesm and Political Action Committees. When doing the analysis by year it would be useful to note any sharp changes in funding to these committees."
   ]
  },
  {
   "cell_type": "code",
   "execution_count": 17,
   "metadata": {},
   "outputs": [],
   "source": [
    "# bar chart with contribution type\n",
    "contribution_type_count = merged_campaign_df[\"contribtype\"].value_counts().reset_index()\n",
    "contribution_type_count.columns = [\"Cont_Type\", \"Count\"]"
   ]
  },
  {
   "cell_type": "code",
   "execution_count": 18,
   "metadata": {},
   "outputs": [
    {
     "data": {
      "application/vnd.plotly.v1+json": {
       "config": {
        "plotlyServerURL": "https://plot.ly"
       },
       "data": [
        {
         "alignmentgroup": "True",
         "hovertemplate": "Cont_Type=%{x}<br>Count=%{text}<extra></extra>",
         "legendgroup": "",
         "marker": {
          "color": "#636efa",
          "pattern": {
           "shape": ""
          }
         },
         "name": "",
         "offsetgroup": "",
         "orientation": "v",
         "showlegend": false,
         "text": [
          19764627,
          995154,
          17053
         ],
         "textposition": "auto",
         "type": "bar",
         "x": [
          "DIRECT                        ",
          "DIRECT/FUND RAISER            ",
          "LOAN FROM A PERSON            "
         ],
         "xaxis": "x",
         "y": [
          19764627,
          995154,
          17053
         ],
         "yaxis": "y"
        }
       ],
       "layout": {
        "barmode": "relative",
        "legend": {
         "tracegroupgap": 0
        },
        "template": {
         "data": {
          "bar": [
           {
            "error_x": {
             "color": "#2a3f5f"
            },
            "error_y": {
             "color": "#2a3f5f"
            },
            "marker": {
             "line": {
              "color": "#E5ECF6",
              "width": 0.5
             },
             "pattern": {
              "fillmode": "overlay",
              "size": 10,
              "solidity": 0.2
             }
            },
            "type": "bar"
           }
          ],
          "barpolar": [
           {
            "marker": {
             "line": {
              "color": "#E5ECF6",
              "width": 0.5
             },
             "pattern": {
              "fillmode": "overlay",
              "size": 10,
              "solidity": 0.2
             }
            },
            "type": "barpolar"
           }
          ],
          "carpet": [
           {
            "aaxis": {
             "endlinecolor": "#2a3f5f",
             "gridcolor": "white",
             "linecolor": "white",
             "minorgridcolor": "white",
             "startlinecolor": "#2a3f5f"
            },
            "baxis": {
             "endlinecolor": "#2a3f5f",
             "gridcolor": "white",
             "linecolor": "white",
             "minorgridcolor": "white",
             "startlinecolor": "#2a3f5f"
            },
            "type": "carpet"
           }
          ],
          "choropleth": [
           {
            "colorbar": {
             "outlinewidth": 0,
             "ticks": ""
            },
            "type": "choropleth"
           }
          ],
          "contour": [
           {
            "colorbar": {
             "outlinewidth": 0,
             "ticks": ""
            },
            "colorscale": [
             [
              0,
              "#0d0887"
             ],
             [
              0.1111111111111111,
              "#46039f"
             ],
             [
              0.2222222222222222,
              "#7201a8"
             ],
             [
              0.3333333333333333,
              "#9c179e"
             ],
             [
              0.4444444444444444,
              "#bd3786"
             ],
             [
              0.5555555555555556,
              "#d8576b"
             ],
             [
              0.6666666666666666,
              "#ed7953"
             ],
             [
              0.7777777777777778,
              "#fb9f3a"
             ],
             [
              0.8888888888888888,
              "#fdca26"
             ],
             [
              1,
              "#f0f921"
             ]
            ],
            "type": "contour"
           }
          ],
          "contourcarpet": [
           {
            "colorbar": {
             "outlinewidth": 0,
             "ticks": ""
            },
            "type": "contourcarpet"
           }
          ],
          "heatmap": [
           {
            "colorbar": {
             "outlinewidth": 0,
             "ticks": ""
            },
            "colorscale": [
             [
              0,
              "#0d0887"
             ],
             [
              0.1111111111111111,
              "#46039f"
             ],
             [
              0.2222222222222222,
              "#7201a8"
             ],
             [
              0.3333333333333333,
              "#9c179e"
             ],
             [
              0.4444444444444444,
              "#bd3786"
             ],
             [
              0.5555555555555556,
              "#d8576b"
             ],
             [
              0.6666666666666666,
              "#ed7953"
             ],
             [
              0.7777777777777778,
              "#fb9f3a"
             ],
             [
              0.8888888888888888,
              "#fdca26"
             ],
             [
              1,
              "#f0f921"
             ]
            ],
            "type": "heatmap"
           }
          ],
          "heatmapgl": [
           {
            "colorbar": {
             "outlinewidth": 0,
             "ticks": ""
            },
            "colorscale": [
             [
              0,
              "#0d0887"
             ],
             [
              0.1111111111111111,
              "#46039f"
             ],
             [
              0.2222222222222222,
              "#7201a8"
             ],
             [
              0.3333333333333333,
              "#9c179e"
             ],
             [
              0.4444444444444444,
              "#bd3786"
             ],
             [
              0.5555555555555556,
              "#d8576b"
             ],
             [
              0.6666666666666666,
              "#ed7953"
             ],
             [
              0.7777777777777778,
              "#fb9f3a"
             ],
             [
              0.8888888888888888,
              "#fdca26"
             ],
             [
              1,
              "#f0f921"
             ]
            ],
            "type": "heatmapgl"
           }
          ],
          "histogram": [
           {
            "marker": {
             "pattern": {
              "fillmode": "overlay",
              "size": 10,
              "solidity": 0.2
             }
            },
            "type": "histogram"
           }
          ],
          "histogram2d": [
           {
            "colorbar": {
             "outlinewidth": 0,
             "ticks": ""
            },
            "colorscale": [
             [
              0,
              "#0d0887"
             ],
             [
              0.1111111111111111,
              "#46039f"
             ],
             [
              0.2222222222222222,
              "#7201a8"
             ],
             [
              0.3333333333333333,
              "#9c179e"
             ],
             [
              0.4444444444444444,
              "#bd3786"
             ],
             [
              0.5555555555555556,
              "#d8576b"
             ],
             [
              0.6666666666666666,
              "#ed7953"
             ],
             [
              0.7777777777777778,
              "#fb9f3a"
             ],
             [
              0.8888888888888888,
              "#fdca26"
             ],
             [
              1,
              "#f0f921"
             ]
            ],
            "type": "histogram2d"
           }
          ],
          "histogram2dcontour": [
           {
            "colorbar": {
             "outlinewidth": 0,
             "ticks": ""
            },
            "colorscale": [
             [
              0,
              "#0d0887"
             ],
             [
              0.1111111111111111,
              "#46039f"
             ],
             [
              0.2222222222222222,
              "#7201a8"
             ],
             [
              0.3333333333333333,
              "#9c179e"
             ],
             [
              0.4444444444444444,
              "#bd3786"
             ],
             [
              0.5555555555555556,
              "#d8576b"
             ],
             [
              0.6666666666666666,
              "#ed7953"
             ],
             [
              0.7777777777777778,
              "#fb9f3a"
             ],
             [
              0.8888888888888888,
              "#fdca26"
             ],
             [
              1,
              "#f0f921"
             ]
            ],
            "type": "histogram2dcontour"
           }
          ],
          "mesh3d": [
           {
            "colorbar": {
             "outlinewidth": 0,
             "ticks": ""
            },
            "type": "mesh3d"
           }
          ],
          "parcoords": [
           {
            "line": {
             "colorbar": {
              "outlinewidth": 0,
              "ticks": ""
             }
            },
            "type": "parcoords"
           }
          ],
          "pie": [
           {
            "automargin": true,
            "type": "pie"
           }
          ],
          "scatter": [
           {
            "fillpattern": {
             "fillmode": "overlay",
             "size": 10,
             "solidity": 0.2
            },
            "type": "scatter"
           }
          ],
          "scatter3d": [
           {
            "line": {
             "colorbar": {
              "outlinewidth": 0,
              "ticks": ""
             }
            },
            "marker": {
             "colorbar": {
              "outlinewidth": 0,
              "ticks": ""
             }
            },
            "type": "scatter3d"
           }
          ],
          "scattercarpet": [
           {
            "marker": {
             "colorbar": {
              "outlinewidth": 0,
              "ticks": ""
             }
            },
            "type": "scattercarpet"
           }
          ],
          "scattergeo": [
           {
            "marker": {
             "colorbar": {
              "outlinewidth": 0,
              "ticks": ""
             }
            },
            "type": "scattergeo"
           }
          ],
          "scattergl": [
           {
            "marker": {
             "colorbar": {
              "outlinewidth": 0,
              "ticks": ""
             }
            },
            "type": "scattergl"
           }
          ],
          "scattermapbox": [
           {
            "marker": {
             "colorbar": {
              "outlinewidth": 0,
              "ticks": ""
             }
            },
            "type": "scattermapbox"
           }
          ],
          "scatterpolar": [
           {
            "marker": {
             "colorbar": {
              "outlinewidth": 0,
              "ticks": ""
             }
            },
            "type": "scatterpolar"
           }
          ],
          "scatterpolargl": [
           {
            "marker": {
             "colorbar": {
              "outlinewidth": 0,
              "ticks": ""
             }
            },
            "type": "scatterpolargl"
           }
          ],
          "scatterternary": [
           {
            "marker": {
             "colorbar": {
              "outlinewidth": 0,
              "ticks": ""
             }
            },
            "type": "scatterternary"
           }
          ],
          "surface": [
           {
            "colorbar": {
             "outlinewidth": 0,
             "ticks": ""
            },
            "colorscale": [
             [
              0,
              "#0d0887"
             ],
             [
              0.1111111111111111,
              "#46039f"
             ],
             [
              0.2222222222222222,
              "#7201a8"
             ],
             [
              0.3333333333333333,
              "#9c179e"
             ],
             [
              0.4444444444444444,
              "#bd3786"
             ],
             [
              0.5555555555555556,
              "#d8576b"
             ],
             [
              0.6666666666666666,
              "#ed7953"
             ],
             [
              0.7777777777777778,
              "#fb9f3a"
             ],
             [
              0.8888888888888888,
              "#fdca26"
             ],
             [
              1,
              "#f0f921"
             ]
            ],
            "type": "surface"
           }
          ],
          "table": [
           {
            "cells": {
             "fill": {
              "color": "#EBF0F8"
             },
             "line": {
              "color": "white"
             }
            },
            "header": {
             "fill": {
              "color": "#C8D4E3"
             },
             "line": {
              "color": "white"
             }
            },
            "type": "table"
           }
          ]
         },
         "layout": {
          "annotationdefaults": {
           "arrowcolor": "#2a3f5f",
           "arrowhead": 0,
           "arrowwidth": 1
          },
          "autotypenumbers": "strict",
          "coloraxis": {
           "colorbar": {
            "outlinewidth": 0,
            "ticks": ""
           }
          },
          "colorscale": {
           "diverging": [
            [
             0,
             "#8e0152"
            ],
            [
             0.1,
             "#c51b7d"
            ],
            [
             0.2,
             "#de77ae"
            ],
            [
             0.3,
             "#f1b6da"
            ],
            [
             0.4,
             "#fde0ef"
            ],
            [
             0.5,
             "#f7f7f7"
            ],
            [
             0.6,
             "#e6f5d0"
            ],
            [
             0.7,
             "#b8e186"
            ],
            [
             0.8,
             "#7fbc41"
            ],
            [
             0.9,
             "#4d9221"
            ],
            [
             1,
             "#276419"
            ]
           ],
           "sequential": [
            [
             0,
             "#0d0887"
            ],
            [
             0.1111111111111111,
             "#46039f"
            ],
            [
             0.2222222222222222,
             "#7201a8"
            ],
            [
             0.3333333333333333,
             "#9c179e"
            ],
            [
             0.4444444444444444,
             "#bd3786"
            ],
            [
             0.5555555555555556,
             "#d8576b"
            ],
            [
             0.6666666666666666,
             "#ed7953"
            ],
            [
             0.7777777777777778,
             "#fb9f3a"
            ],
            [
             0.8888888888888888,
             "#fdca26"
            ],
            [
             1,
             "#f0f921"
            ]
           ],
           "sequentialminus": [
            [
             0,
             "#0d0887"
            ],
            [
             0.1111111111111111,
             "#46039f"
            ],
            [
             0.2222222222222222,
             "#7201a8"
            ],
            [
             0.3333333333333333,
             "#9c179e"
            ],
            [
             0.4444444444444444,
             "#bd3786"
            ],
            [
             0.5555555555555556,
             "#d8576b"
            ],
            [
             0.6666666666666666,
             "#ed7953"
            ],
            [
             0.7777777777777778,
             "#fb9f3a"
            ],
            [
             0.8888888888888888,
             "#fdca26"
            ],
            [
             1,
             "#f0f921"
            ]
           ]
          },
          "colorway": [
           "#636efa",
           "#EF553B",
           "#00cc96",
           "#ab63fa",
           "#FFA15A",
           "#19d3f3",
           "#FF6692",
           "#B6E880",
           "#FF97FF",
           "#FECB52"
          ],
          "font": {
           "color": "#2a3f5f"
          },
          "geo": {
           "bgcolor": "white",
           "lakecolor": "white",
           "landcolor": "#E5ECF6",
           "showlakes": true,
           "showland": true,
           "subunitcolor": "white"
          },
          "hoverlabel": {
           "align": "left"
          },
          "hovermode": "closest",
          "mapbox": {
           "style": "light"
          },
          "paper_bgcolor": "white",
          "plot_bgcolor": "#E5ECF6",
          "polar": {
           "angularaxis": {
            "gridcolor": "white",
            "linecolor": "white",
            "ticks": ""
           },
           "bgcolor": "#E5ECF6",
           "radialaxis": {
            "gridcolor": "white",
            "linecolor": "white",
            "ticks": ""
           }
          },
          "scene": {
           "xaxis": {
            "backgroundcolor": "#E5ECF6",
            "gridcolor": "white",
            "gridwidth": 2,
            "linecolor": "white",
            "showbackground": true,
            "ticks": "",
            "zerolinecolor": "white"
           },
           "yaxis": {
            "backgroundcolor": "#E5ECF6",
            "gridcolor": "white",
            "gridwidth": 2,
            "linecolor": "white",
            "showbackground": true,
            "ticks": "",
            "zerolinecolor": "white"
           },
           "zaxis": {
            "backgroundcolor": "#E5ECF6",
            "gridcolor": "white",
            "gridwidth": 2,
            "linecolor": "white",
            "showbackground": true,
            "ticks": "",
            "zerolinecolor": "white"
           }
          },
          "shapedefaults": {
           "line": {
            "color": "#2a3f5f"
           }
          },
          "ternary": {
           "aaxis": {
            "gridcolor": "white",
            "linecolor": "white",
            "ticks": ""
           },
           "baxis": {
            "gridcolor": "white",
            "linecolor": "white",
            "ticks": ""
           },
           "bgcolor": "#E5ECF6",
           "caxis": {
            "gridcolor": "white",
            "linecolor": "white",
            "ticks": ""
           }
          },
          "title": {
           "x": 0.05
          },
          "xaxis": {
           "automargin": true,
           "gridcolor": "white",
           "linecolor": "white",
           "ticks": "",
           "title": {
            "standoff": 15
           },
           "zerolinecolor": "white",
           "zerolinewidth": 2
          },
          "yaxis": {
           "automargin": true,
           "gridcolor": "white",
           "linecolor": "white",
           "ticks": "",
           "title": {
            "standoff": 15
           },
           "zerolinecolor": "white",
           "zerolinewidth": 2
          }
         }
        },
        "title": {
         "text": "Michigan Committee Contributions Type"
        },
        "xaxis": {
         "anchor": "y",
         "categoryorder": "total ascending",
         "domain": [
          0,
          1
         ],
         "title": {
          "text": "Contribution Types"
         }
        },
        "yaxis": {
         "anchor": "x",
         "domain": [
          0,
          1
         ],
         "title": {
          "text": "1999-2023 Count"
         }
        }
       }
      }
     },
     "metadata": {},
     "output_type": "display_data"
    }
   ],
   "source": [
    "# Plot 1999-2023 Contributions by Type\n",
    "fig = px.bar(\n",
    "    contribution_type_count,\n",
    "    x=\"Cont_Type\",\n",
    "    y=\"Count\",\n",
    "    title=\"Michigan Committee Contributions Type\",\n",
    "    text=\"Count\",\n",
    ")\n",
    "fig.update_layout(\n",
    "    xaxis_title=\"Contribution Types\",\n",
    "    yaxis_title=\"1999-2023 Count\",\n",
    "    xaxis={\"categoryorder\": \"total ascending\"},\n",
    ")\n",
    "fig.show()"
   ]
  },
  {
   "cell_type": "markdown",
   "metadata": {},
   "source": [
    "As shown in the visual above, a large majority of contributions are direct as opposed to fund raiser funds or loans for a campaign/committee from a person. This visual coveres the whole dataset from 1999 to 2023. "
   ]
  },
  {
   "cell_type": "markdown",
   "metadata": {},
   "source": [
    "#### Plotting Contribution Type and Amounts by Year"
   ]
  },
  {
   "cell_type": "code",
   "execution_count": 40,
   "metadata": {},
   "outputs": [],
   "source": [
    "# Create the dropdown\n",
    "\n",
    "years = sorted(merged_campaign_df[\"doc_stmnt_year\"].unique())\n",
    "\n",
    "# Create a toggle widget\n",
    "year_selector = widgets.Dropdown(\n",
    "    options=years,\n",
    "    value=years[0],\n",
    "    description=\"Select Year: \",\n",
    "    button_style=\"primary\",\n",
    "    disabled=False,\n",
    ")"
   ]
  },
  {
   "cell_type": "markdown",
   "metadata": {},
   "source": [
    "#### Select a year below and rerun the cells"
   ]
  },
  {
   "cell_type": "code",
   "execution_count": 41,
   "metadata": {},
   "outputs": [
    {
     "data": {
      "application/vnd.jupyter.widget-view+json": {
       "model_id": "62e095252bb64fb89bbff2878f5d186a",
       "version_major": 2,
       "version_minor": 0
      },
      "text/plain": [
       "Dropdown(description='Select Year: ', options=(1998, 1999, 2000, 2001, 2002, 2003, 2004, 2005, 2006, 2007, 200…"
      ]
     },
     "metadata": {},
     "output_type": "display_data"
    }
   ],
   "source": [
    "# Select a year\n",
    "display(year_selector)"
   ]
  },
  {
   "cell_type": "code",
   "execution_count": 42,
   "metadata": {},
   "outputs": [
    {
     "data": {
      "application/vnd.plotly.v1+json": {
       "config": {
        "plotlyServerURL": "https://plot.ly"
       },
       "data": [
        {
         "alignmentgroup": "True",
         "hovertemplate": "Committee_Type=%{x}<br>Count=%{text}<extra></extra>",
         "legendgroup": "",
         "marker": {
          "color": "#636efa",
          "pattern": {
           "shape": ""
          }
         },
         "name": "",
         "offsetgroup": "",
         "orientation": "v",
         "showlegend": false,
         "text": [
          98151,
          17330
         ],
         "textposition": "auto",
         "type": "bar",
         "x": [
          "CAN",
          "GUB"
         ],
         "xaxis": "x",
         "y": [
          98151,
          17330
         ],
         "yaxis": "y"
        }
       ],
       "layout": {
        "barmode": "relative",
        "legend": {
         "tracegroupgap": 0
        },
        "template": {
         "data": {
          "bar": [
           {
            "error_x": {
             "color": "#2a3f5f"
            },
            "error_y": {
             "color": "#2a3f5f"
            },
            "marker": {
             "line": {
              "color": "#E5ECF6",
              "width": 0.5
             },
             "pattern": {
              "fillmode": "overlay",
              "size": 10,
              "solidity": 0.2
             }
            },
            "type": "bar"
           }
          ],
          "barpolar": [
           {
            "marker": {
             "line": {
              "color": "#E5ECF6",
              "width": 0.5
             },
             "pattern": {
              "fillmode": "overlay",
              "size": 10,
              "solidity": 0.2
             }
            },
            "type": "barpolar"
           }
          ],
          "carpet": [
           {
            "aaxis": {
             "endlinecolor": "#2a3f5f",
             "gridcolor": "white",
             "linecolor": "white",
             "minorgridcolor": "white",
             "startlinecolor": "#2a3f5f"
            },
            "baxis": {
             "endlinecolor": "#2a3f5f",
             "gridcolor": "white",
             "linecolor": "white",
             "minorgridcolor": "white",
             "startlinecolor": "#2a3f5f"
            },
            "type": "carpet"
           }
          ],
          "choropleth": [
           {
            "colorbar": {
             "outlinewidth": 0,
             "ticks": ""
            },
            "type": "choropleth"
           }
          ],
          "contour": [
           {
            "colorbar": {
             "outlinewidth": 0,
             "ticks": ""
            },
            "colorscale": [
             [
              0,
              "#0d0887"
             ],
             [
              0.1111111111111111,
              "#46039f"
             ],
             [
              0.2222222222222222,
              "#7201a8"
             ],
             [
              0.3333333333333333,
              "#9c179e"
             ],
             [
              0.4444444444444444,
              "#bd3786"
             ],
             [
              0.5555555555555556,
              "#d8576b"
             ],
             [
              0.6666666666666666,
              "#ed7953"
             ],
             [
              0.7777777777777778,
              "#fb9f3a"
             ],
             [
              0.8888888888888888,
              "#fdca26"
             ],
             [
              1,
              "#f0f921"
             ]
            ],
            "type": "contour"
           }
          ],
          "contourcarpet": [
           {
            "colorbar": {
             "outlinewidth": 0,
             "ticks": ""
            },
            "type": "contourcarpet"
           }
          ],
          "heatmap": [
           {
            "colorbar": {
             "outlinewidth": 0,
             "ticks": ""
            },
            "colorscale": [
             [
              0,
              "#0d0887"
             ],
             [
              0.1111111111111111,
              "#46039f"
             ],
             [
              0.2222222222222222,
              "#7201a8"
             ],
             [
              0.3333333333333333,
              "#9c179e"
             ],
             [
              0.4444444444444444,
              "#bd3786"
             ],
             [
              0.5555555555555556,
              "#d8576b"
             ],
             [
              0.6666666666666666,
              "#ed7953"
             ],
             [
              0.7777777777777778,
              "#fb9f3a"
             ],
             [
              0.8888888888888888,
              "#fdca26"
             ],
             [
              1,
              "#f0f921"
             ]
            ],
            "type": "heatmap"
           }
          ],
          "heatmapgl": [
           {
            "colorbar": {
             "outlinewidth": 0,
             "ticks": ""
            },
            "colorscale": [
             [
              0,
              "#0d0887"
             ],
             [
              0.1111111111111111,
              "#46039f"
             ],
             [
              0.2222222222222222,
              "#7201a8"
             ],
             [
              0.3333333333333333,
              "#9c179e"
             ],
             [
              0.4444444444444444,
              "#bd3786"
             ],
             [
              0.5555555555555556,
              "#d8576b"
             ],
             [
              0.6666666666666666,
              "#ed7953"
             ],
             [
              0.7777777777777778,
              "#fb9f3a"
             ],
             [
              0.8888888888888888,
              "#fdca26"
             ],
             [
              1,
              "#f0f921"
             ]
            ],
            "type": "heatmapgl"
           }
          ],
          "histogram": [
           {
            "marker": {
             "pattern": {
              "fillmode": "overlay",
              "size": 10,
              "solidity": 0.2
             }
            },
            "type": "histogram"
           }
          ],
          "histogram2d": [
           {
            "colorbar": {
             "outlinewidth": 0,
             "ticks": ""
            },
            "colorscale": [
             [
              0,
              "#0d0887"
             ],
             [
              0.1111111111111111,
              "#46039f"
             ],
             [
              0.2222222222222222,
              "#7201a8"
             ],
             [
              0.3333333333333333,
              "#9c179e"
             ],
             [
              0.4444444444444444,
              "#bd3786"
             ],
             [
              0.5555555555555556,
              "#d8576b"
             ],
             [
              0.6666666666666666,
              "#ed7953"
             ],
             [
              0.7777777777777778,
              "#fb9f3a"
             ],
             [
              0.8888888888888888,
              "#fdca26"
             ],
             [
              1,
              "#f0f921"
             ]
            ],
            "type": "histogram2d"
           }
          ],
          "histogram2dcontour": [
           {
            "colorbar": {
             "outlinewidth": 0,
             "ticks": ""
            },
            "colorscale": [
             [
              0,
              "#0d0887"
             ],
             [
              0.1111111111111111,
              "#46039f"
             ],
             [
              0.2222222222222222,
              "#7201a8"
             ],
             [
              0.3333333333333333,
              "#9c179e"
             ],
             [
              0.4444444444444444,
              "#bd3786"
             ],
             [
              0.5555555555555556,
              "#d8576b"
             ],
             [
              0.6666666666666666,
              "#ed7953"
             ],
             [
              0.7777777777777778,
              "#fb9f3a"
             ],
             [
              0.8888888888888888,
              "#fdca26"
             ],
             [
              1,
              "#f0f921"
             ]
            ],
            "type": "histogram2dcontour"
           }
          ],
          "mesh3d": [
           {
            "colorbar": {
             "outlinewidth": 0,
             "ticks": ""
            },
            "type": "mesh3d"
           }
          ],
          "parcoords": [
           {
            "line": {
             "colorbar": {
              "outlinewidth": 0,
              "ticks": ""
             }
            },
            "type": "parcoords"
           }
          ],
          "pie": [
           {
            "automargin": true,
            "type": "pie"
           }
          ],
          "scatter": [
           {
            "fillpattern": {
             "fillmode": "overlay",
             "size": 10,
             "solidity": 0.2
            },
            "type": "scatter"
           }
          ],
          "scatter3d": [
           {
            "line": {
             "colorbar": {
              "outlinewidth": 0,
              "ticks": ""
             }
            },
            "marker": {
             "colorbar": {
              "outlinewidth": 0,
              "ticks": ""
             }
            },
            "type": "scatter3d"
           }
          ],
          "scattercarpet": [
           {
            "marker": {
             "colorbar": {
              "outlinewidth": 0,
              "ticks": ""
             }
            },
            "type": "scattercarpet"
           }
          ],
          "scattergeo": [
           {
            "marker": {
             "colorbar": {
              "outlinewidth": 0,
              "ticks": ""
             }
            },
            "type": "scattergeo"
           }
          ],
          "scattergl": [
           {
            "marker": {
             "colorbar": {
              "outlinewidth": 0,
              "ticks": ""
             }
            },
            "type": "scattergl"
           }
          ],
          "scattermapbox": [
           {
            "marker": {
             "colorbar": {
              "outlinewidth": 0,
              "ticks": ""
             }
            },
            "type": "scattermapbox"
           }
          ],
          "scatterpolar": [
           {
            "marker": {
             "colorbar": {
              "outlinewidth": 0,
              "ticks": ""
             }
            },
            "type": "scatterpolar"
           }
          ],
          "scatterpolargl": [
           {
            "marker": {
             "colorbar": {
              "outlinewidth": 0,
              "ticks": ""
             }
            },
            "type": "scatterpolargl"
           }
          ],
          "scatterternary": [
           {
            "marker": {
             "colorbar": {
              "outlinewidth": 0,
              "ticks": ""
             }
            },
            "type": "scatterternary"
           }
          ],
          "surface": [
           {
            "colorbar": {
             "outlinewidth": 0,
             "ticks": ""
            },
            "colorscale": [
             [
              0,
              "#0d0887"
             ],
             [
              0.1111111111111111,
              "#46039f"
             ],
             [
              0.2222222222222222,
              "#7201a8"
             ],
             [
              0.3333333333333333,
              "#9c179e"
             ],
             [
              0.4444444444444444,
              "#bd3786"
             ],
             [
              0.5555555555555556,
              "#d8576b"
             ],
             [
              0.6666666666666666,
              "#ed7953"
             ],
             [
              0.7777777777777778,
              "#fb9f3a"
             ],
             [
              0.8888888888888888,
              "#fdca26"
             ],
             [
              1,
              "#f0f921"
             ]
            ],
            "type": "surface"
           }
          ],
          "table": [
           {
            "cells": {
             "fill": {
              "color": "#EBF0F8"
             },
             "line": {
              "color": "white"
             }
            },
            "header": {
             "fill": {
              "color": "#C8D4E3"
             },
             "line": {
              "color": "white"
             }
            },
            "type": "table"
           }
          ]
         },
         "layout": {
          "annotationdefaults": {
           "arrowcolor": "#2a3f5f",
           "arrowhead": 0,
           "arrowwidth": 1
          },
          "autotypenumbers": "strict",
          "coloraxis": {
           "colorbar": {
            "outlinewidth": 0,
            "ticks": ""
           }
          },
          "colorscale": {
           "diverging": [
            [
             0,
             "#8e0152"
            ],
            [
             0.1,
             "#c51b7d"
            ],
            [
             0.2,
             "#de77ae"
            ],
            [
             0.3,
             "#f1b6da"
            ],
            [
             0.4,
             "#fde0ef"
            ],
            [
             0.5,
             "#f7f7f7"
            ],
            [
             0.6,
             "#e6f5d0"
            ],
            [
             0.7,
             "#b8e186"
            ],
            [
             0.8,
             "#7fbc41"
            ],
            [
             0.9,
             "#4d9221"
            ],
            [
             1,
             "#276419"
            ]
           ],
           "sequential": [
            [
             0,
             "#0d0887"
            ],
            [
             0.1111111111111111,
             "#46039f"
            ],
            [
             0.2222222222222222,
             "#7201a8"
            ],
            [
             0.3333333333333333,
             "#9c179e"
            ],
            [
             0.4444444444444444,
             "#bd3786"
            ],
            [
             0.5555555555555556,
             "#d8576b"
            ],
            [
             0.6666666666666666,
             "#ed7953"
            ],
            [
             0.7777777777777778,
             "#fb9f3a"
            ],
            [
             0.8888888888888888,
             "#fdca26"
            ],
            [
             1,
             "#f0f921"
            ]
           ],
           "sequentialminus": [
            [
             0,
             "#0d0887"
            ],
            [
             0.1111111111111111,
             "#46039f"
            ],
            [
             0.2222222222222222,
             "#7201a8"
            ],
            [
             0.3333333333333333,
             "#9c179e"
            ],
            [
             0.4444444444444444,
             "#bd3786"
            ],
            [
             0.5555555555555556,
             "#d8576b"
            ],
            [
             0.6666666666666666,
             "#ed7953"
            ],
            [
             0.7777777777777778,
             "#fb9f3a"
            ],
            [
             0.8888888888888888,
             "#fdca26"
            ],
            [
             1,
             "#f0f921"
            ]
           ]
          },
          "colorway": [
           "#636efa",
           "#EF553B",
           "#00cc96",
           "#ab63fa",
           "#FFA15A",
           "#19d3f3",
           "#FF6692",
           "#B6E880",
           "#FF97FF",
           "#FECB52"
          ],
          "font": {
           "color": "#2a3f5f"
          },
          "geo": {
           "bgcolor": "white",
           "lakecolor": "white",
           "landcolor": "#E5ECF6",
           "showlakes": true,
           "showland": true,
           "subunitcolor": "white"
          },
          "hoverlabel": {
           "align": "left"
          },
          "hovermode": "closest",
          "mapbox": {
           "style": "light"
          },
          "paper_bgcolor": "white",
          "plot_bgcolor": "#E5ECF6",
          "polar": {
           "angularaxis": {
            "gridcolor": "white",
            "linecolor": "white",
            "ticks": ""
           },
           "bgcolor": "#E5ECF6",
           "radialaxis": {
            "gridcolor": "white",
            "linecolor": "white",
            "ticks": ""
           }
          },
          "scene": {
           "xaxis": {
            "backgroundcolor": "#E5ECF6",
            "gridcolor": "white",
            "gridwidth": 2,
            "linecolor": "white",
            "showbackground": true,
            "ticks": "",
            "zerolinecolor": "white"
           },
           "yaxis": {
            "backgroundcolor": "#E5ECF6",
            "gridcolor": "white",
            "gridwidth": 2,
            "linecolor": "white",
            "showbackground": true,
            "ticks": "",
            "zerolinecolor": "white"
           },
           "zaxis": {
            "backgroundcolor": "#E5ECF6",
            "gridcolor": "white",
            "gridwidth": 2,
            "linecolor": "white",
            "showbackground": true,
            "ticks": "",
            "zerolinecolor": "white"
           }
          },
          "shapedefaults": {
           "line": {
            "color": "#2a3f5f"
           }
          },
          "ternary": {
           "aaxis": {
            "gridcolor": "white",
            "linecolor": "white",
            "ticks": ""
           },
           "baxis": {
            "gridcolor": "white",
            "linecolor": "white",
            "ticks": ""
           },
           "bgcolor": "#E5ECF6",
           "caxis": {
            "gridcolor": "white",
            "linecolor": "white",
            "ticks": ""
           }
          },
          "title": {
           "x": 0.05
          },
          "xaxis": {
           "automargin": true,
           "gridcolor": "white",
           "linecolor": "white",
           "ticks": "",
           "title": {
            "standoff": 15
           },
           "zerolinecolor": "white",
           "zerolinewidth": 2
          },
          "yaxis": {
           "automargin": true,
           "gridcolor": "white",
           "linecolor": "white",
           "ticks": "",
           "title": {
            "standoff": 15
           },
           "zerolinecolor": "white",
           "zerolinewidth": 2
          }
         }
        },
        "title": {
         "text": "Donations by Committee Type from 1998"
        },
        "xaxis": {
         "anchor": "y",
         "domain": [
          0,
          1
         ],
         "title": {
          "text": "Committee Types"
         }
        },
        "yaxis": {
         "anchor": "x",
         "domain": [
          0,
          1
         ],
         "title": {
          "text": "1998 Count"
         }
        }
       }
      }
     },
     "metadata": {},
     "output_type": "display_data"
    },
    {
     "data": {
      "application/vnd.plotly.v1+json": {
       "config": {
        "plotlyServerURL": "https://plot.ly"
       },
       "data": [
        {
         "alignmentgroup": "True",
         "hovertemplate": "Cont_Type=%{x}<br>Count=%{text}<extra></extra>",
         "legendgroup": "",
         "marker": {
          "color": "#636efa",
          "pattern": {
           "shape": ""
          }
         },
         "name": "",
         "offsetgroup": "",
         "orientation": "v",
         "showlegend": false,
         "text": [
          73437,
          40773,
          1177
         ],
         "textposition": "auto",
         "type": "bar",
         "x": [
          "DIRECT                        ",
          "DIRECT/FUND RAISER            ",
          "LOAN FROM A PERSON            "
         ],
         "xaxis": "x",
         "y": [
          73437,
          40773,
          1177
         ],
         "yaxis": "y"
        }
       ],
       "layout": {
        "barmode": "relative",
        "legend": {
         "tracegroupgap": 0
        },
        "template": {
         "data": {
          "bar": [
           {
            "error_x": {
             "color": "#2a3f5f"
            },
            "error_y": {
             "color": "#2a3f5f"
            },
            "marker": {
             "line": {
              "color": "#E5ECF6",
              "width": 0.5
             },
             "pattern": {
              "fillmode": "overlay",
              "size": 10,
              "solidity": 0.2
             }
            },
            "type": "bar"
           }
          ],
          "barpolar": [
           {
            "marker": {
             "line": {
              "color": "#E5ECF6",
              "width": 0.5
             },
             "pattern": {
              "fillmode": "overlay",
              "size": 10,
              "solidity": 0.2
             }
            },
            "type": "barpolar"
           }
          ],
          "carpet": [
           {
            "aaxis": {
             "endlinecolor": "#2a3f5f",
             "gridcolor": "white",
             "linecolor": "white",
             "minorgridcolor": "white",
             "startlinecolor": "#2a3f5f"
            },
            "baxis": {
             "endlinecolor": "#2a3f5f",
             "gridcolor": "white",
             "linecolor": "white",
             "minorgridcolor": "white",
             "startlinecolor": "#2a3f5f"
            },
            "type": "carpet"
           }
          ],
          "choropleth": [
           {
            "colorbar": {
             "outlinewidth": 0,
             "ticks": ""
            },
            "type": "choropleth"
           }
          ],
          "contour": [
           {
            "colorbar": {
             "outlinewidth": 0,
             "ticks": ""
            },
            "colorscale": [
             [
              0,
              "#0d0887"
             ],
             [
              0.1111111111111111,
              "#46039f"
             ],
             [
              0.2222222222222222,
              "#7201a8"
             ],
             [
              0.3333333333333333,
              "#9c179e"
             ],
             [
              0.4444444444444444,
              "#bd3786"
             ],
             [
              0.5555555555555556,
              "#d8576b"
             ],
             [
              0.6666666666666666,
              "#ed7953"
             ],
             [
              0.7777777777777778,
              "#fb9f3a"
             ],
             [
              0.8888888888888888,
              "#fdca26"
             ],
             [
              1,
              "#f0f921"
             ]
            ],
            "type": "contour"
           }
          ],
          "contourcarpet": [
           {
            "colorbar": {
             "outlinewidth": 0,
             "ticks": ""
            },
            "type": "contourcarpet"
           }
          ],
          "heatmap": [
           {
            "colorbar": {
             "outlinewidth": 0,
             "ticks": ""
            },
            "colorscale": [
             [
              0,
              "#0d0887"
             ],
             [
              0.1111111111111111,
              "#46039f"
             ],
             [
              0.2222222222222222,
              "#7201a8"
             ],
             [
              0.3333333333333333,
              "#9c179e"
             ],
             [
              0.4444444444444444,
              "#bd3786"
             ],
             [
              0.5555555555555556,
              "#d8576b"
             ],
             [
              0.6666666666666666,
              "#ed7953"
             ],
             [
              0.7777777777777778,
              "#fb9f3a"
             ],
             [
              0.8888888888888888,
              "#fdca26"
             ],
             [
              1,
              "#f0f921"
             ]
            ],
            "type": "heatmap"
           }
          ],
          "heatmapgl": [
           {
            "colorbar": {
             "outlinewidth": 0,
             "ticks": ""
            },
            "colorscale": [
             [
              0,
              "#0d0887"
             ],
             [
              0.1111111111111111,
              "#46039f"
             ],
             [
              0.2222222222222222,
              "#7201a8"
             ],
             [
              0.3333333333333333,
              "#9c179e"
             ],
             [
              0.4444444444444444,
              "#bd3786"
             ],
             [
              0.5555555555555556,
              "#d8576b"
             ],
             [
              0.6666666666666666,
              "#ed7953"
             ],
             [
              0.7777777777777778,
              "#fb9f3a"
             ],
             [
              0.8888888888888888,
              "#fdca26"
             ],
             [
              1,
              "#f0f921"
             ]
            ],
            "type": "heatmapgl"
           }
          ],
          "histogram": [
           {
            "marker": {
             "pattern": {
              "fillmode": "overlay",
              "size": 10,
              "solidity": 0.2
             }
            },
            "type": "histogram"
           }
          ],
          "histogram2d": [
           {
            "colorbar": {
             "outlinewidth": 0,
             "ticks": ""
            },
            "colorscale": [
             [
              0,
              "#0d0887"
             ],
             [
              0.1111111111111111,
              "#46039f"
             ],
             [
              0.2222222222222222,
              "#7201a8"
             ],
             [
              0.3333333333333333,
              "#9c179e"
             ],
             [
              0.4444444444444444,
              "#bd3786"
             ],
             [
              0.5555555555555556,
              "#d8576b"
             ],
             [
              0.6666666666666666,
              "#ed7953"
             ],
             [
              0.7777777777777778,
              "#fb9f3a"
             ],
             [
              0.8888888888888888,
              "#fdca26"
             ],
             [
              1,
              "#f0f921"
             ]
            ],
            "type": "histogram2d"
           }
          ],
          "histogram2dcontour": [
           {
            "colorbar": {
             "outlinewidth": 0,
             "ticks": ""
            },
            "colorscale": [
             [
              0,
              "#0d0887"
             ],
             [
              0.1111111111111111,
              "#46039f"
             ],
             [
              0.2222222222222222,
              "#7201a8"
             ],
             [
              0.3333333333333333,
              "#9c179e"
             ],
             [
              0.4444444444444444,
              "#bd3786"
             ],
             [
              0.5555555555555556,
              "#d8576b"
             ],
             [
              0.6666666666666666,
              "#ed7953"
             ],
             [
              0.7777777777777778,
              "#fb9f3a"
             ],
             [
              0.8888888888888888,
              "#fdca26"
             ],
             [
              1,
              "#f0f921"
             ]
            ],
            "type": "histogram2dcontour"
           }
          ],
          "mesh3d": [
           {
            "colorbar": {
             "outlinewidth": 0,
             "ticks": ""
            },
            "type": "mesh3d"
           }
          ],
          "parcoords": [
           {
            "line": {
             "colorbar": {
              "outlinewidth": 0,
              "ticks": ""
             }
            },
            "type": "parcoords"
           }
          ],
          "pie": [
           {
            "automargin": true,
            "type": "pie"
           }
          ],
          "scatter": [
           {
            "fillpattern": {
             "fillmode": "overlay",
             "size": 10,
             "solidity": 0.2
            },
            "type": "scatter"
           }
          ],
          "scatter3d": [
           {
            "line": {
             "colorbar": {
              "outlinewidth": 0,
              "ticks": ""
             }
            },
            "marker": {
             "colorbar": {
              "outlinewidth": 0,
              "ticks": ""
             }
            },
            "type": "scatter3d"
           }
          ],
          "scattercarpet": [
           {
            "marker": {
             "colorbar": {
              "outlinewidth": 0,
              "ticks": ""
             }
            },
            "type": "scattercarpet"
           }
          ],
          "scattergeo": [
           {
            "marker": {
             "colorbar": {
              "outlinewidth": 0,
              "ticks": ""
             }
            },
            "type": "scattergeo"
           }
          ],
          "scattergl": [
           {
            "marker": {
             "colorbar": {
              "outlinewidth": 0,
              "ticks": ""
             }
            },
            "type": "scattergl"
           }
          ],
          "scattermapbox": [
           {
            "marker": {
             "colorbar": {
              "outlinewidth": 0,
              "ticks": ""
             }
            },
            "type": "scattermapbox"
           }
          ],
          "scatterpolar": [
           {
            "marker": {
             "colorbar": {
              "outlinewidth": 0,
              "ticks": ""
             }
            },
            "type": "scatterpolar"
           }
          ],
          "scatterpolargl": [
           {
            "marker": {
             "colorbar": {
              "outlinewidth": 0,
              "ticks": ""
             }
            },
            "type": "scatterpolargl"
           }
          ],
          "scatterternary": [
           {
            "marker": {
             "colorbar": {
              "outlinewidth": 0,
              "ticks": ""
             }
            },
            "type": "scatterternary"
           }
          ],
          "surface": [
           {
            "colorbar": {
             "outlinewidth": 0,
             "ticks": ""
            },
            "colorscale": [
             [
              0,
              "#0d0887"
             ],
             [
              0.1111111111111111,
              "#46039f"
             ],
             [
              0.2222222222222222,
              "#7201a8"
             ],
             [
              0.3333333333333333,
              "#9c179e"
             ],
             [
              0.4444444444444444,
              "#bd3786"
             ],
             [
              0.5555555555555556,
              "#d8576b"
             ],
             [
              0.6666666666666666,
              "#ed7953"
             ],
             [
              0.7777777777777778,
              "#fb9f3a"
             ],
             [
              0.8888888888888888,
              "#fdca26"
             ],
             [
              1,
              "#f0f921"
             ]
            ],
            "type": "surface"
           }
          ],
          "table": [
           {
            "cells": {
             "fill": {
              "color": "#EBF0F8"
             },
             "line": {
              "color": "white"
             }
            },
            "header": {
             "fill": {
              "color": "#C8D4E3"
             },
             "line": {
              "color": "white"
             }
            },
            "type": "table"
           }
          ]
         },
         "layout": {
          "annotationdefaults": {
           "arrowcolor": "#2a3f5f",
           "arrowhead": 0,
           "arrowwidth": 1
          },
          "autotypenumbers": "strict",
          "coloraxis": {
           "colorbar": {
            "outlinewidth": 0,
            "ticks": ""
           }
          },
          "colorscale": {
           "diverging": [
            [
             0,
             "#8e0152"
            ],
            [
             0.1,
             "#c51b7d"
            ],
            [
             0.2,
             "#de77ae"
            ],
            [
             0.3,
             "#f1b6da"
            ],
            [
             0.4,
             "#fde0ef"
            ],
            [
             0.5,
             "#f7f7f7"
            ],
            [
             0.6,
             "#e6f5d0"
            ],
            [
             0.7,
             "#b8e186"
            ],
            [
             0.8,
             "#7fbc41"
            ],
            [
             0.9,
             "#4d9221"
            ],
            [
             1,
             "#276419"
            ]
           ],
           "sequential": [
            [
             0,
             "#0d0887"
            ],
            [
             0.1111111111111111,
             "#46039f"
            ],
            [
             0.2222222222222222,
             "#7201a8"
            ],
            [
             0.3333333333333333,
             "#9c179e"
            ],
            [
             0.4444444444444444,
             "#bd3786"
            ],
            [
             0.5555555555555556,
             "#d8576b"
            ],
            [
             0.6666666666666666,
             "#ed7953"
            ],
            [
             0.7777777777777778,
             "#fb9f3a"
            ],
            [
             0.8888888888888888,
             "#fdca26"
            ],
            [
             1,
             "#f0f921"
            ]
           ],
           "sequentialminus": [
            [
             0,
             "#0d0887"
            ],
            [
             0.1111111111111111,
             "#46039f"
            ],
            [
             0.2222222222222222,
             "#7201a8"
            ],
            [
             0.3333333333333333,
             "#9c179e"
            ],
            [
             0.4444444444444444,
             "#bd3786"
            ],
            [
             0.5555555555555556,
             "#d8576b"
            ],
            [
             0.6666666666666666,
             "#ed7953"
            ],
            [
             0.7777777777777778,
             "#fb9f3a"
            ],
            [
             0.8888888888888888,
             "#fdca26"
            ],
            [
             1,
             "#f0f921"
            ]
           ]
          },
          "colorway": [
           "#636efa",
           "#EF553B",
           "#00cc96",
           "#ab63fa",
           "#FFA15A",
           "#19d3f3",
           "#FF6692",
           "#B6E880",
           "#FF97FF",
           "#FECB52"
          ],
          "font": {
           "color": "#2a3f5f"
          },
          "geo": {
           "bgcolor": "white",
           "lakecolor": "white",
           "landcolor": "#E5ECF6",
           "showlakes": true,
           "showland": true,
           "subunitcolor": "white"
          },
          "hoverlabel": {
           "align": "left"
          },
          "hovermode": "closest",
          "mapbox": {
           "style": "light"
          },
          "paper_bgcolor": "white",
          "plot_bgcolor": "#E5ECF6",
          "polar": {
           "angularaxis": {
            "gridcolor": "white",
            "linecolor": "white",
            "ticks": ""
           },
           "bgcolor": "#E5ECF6",
           "radialaxis": {
            "gridcolor": "white",
            "linecolor": "white",
            "ticks": ""
           }
          },
          "scene": {
           "xaxis": {
            "backgroundcolor": "#E5ECF6",
            "gridcolor": "white",
            "gridwidth": 2,
            "linecolor": "white",
            "showbackground": true,
            "ticks": "",
            "zerolinecolor": "white"
           },
           "yaxis": {
            "backgroundcolor": "#E5ECF6",
            "gridcolor": "white",
            "gridwidth": 2,
            "linecolor": "white",
            "showbackground": true,
            "ticks": "",
            "zerolinecolor": "white"
           },
           "zaxis": {
            "backgroundcolor": "#E5ECF6",
            "gridcolor": "white",
            "gridwidth": 2,
            "linecolor": "white",
            "showbackground": true,
            "ticks": "",
            "zerolinecolor": "white"
           }
          },
          "shapedefaults": {
           "line": {
            "color": "#2a3f5f"
           }
          },
          "ternary": {
           "aaxis": {
            "gridcolor": "white",
            "linecolor": "white",
            "ticks": ""
           },
           "baxis": {
            "gridcolor": "white",
            "linecolor": "white",
            "ticks": ""
           },
           "bgcolor": "#E5ECF6",
           "caxis": {
            "gridcolor": "white",
            "linecolor": "white",
            "ticks": ""
           }
          },
          "title": {
           "x": 0.05
          },
          "xaxis": {
           "automargin": true,
           "gridcolor": "white",
           "linecolor": "white",
           "ticks": "",
           "title": {
            "standoff": 15
           },
           "zerolinecolor": "white",
           "zerolinewidth": 2
          },
          "yaxis": {
           "automargin": true,
           "gridcolor": "white",
           "linecolor": "white",
           "ticks": "",
           "title": {
            "standoff": 15
           },
           "zerolinecolor": "white",
           "zerolinewidth": 2
          }
         }
        },
        "title": {
         "text": "Polital Contributions Count from 1998 by Type"
        },
        "xaxis": {
         "anchor": "y",
         "domain": [
          0,
          1
         ],
         "title": {
          "text": "Contribution Types"
         }
        },
        "yaxis": {
         "anchor": "x",
         "domain": [
          0,
          1
         ],
         "title": {
          "text": "1998 Count"
         }
        }
       }
      }
     },
     "metadata": {},
     "output_type": "display_data"
    }
   ],
   "source": [
    "# Graph by Year\n",
    "# year_selector.observe(update_plots(year_selector, merged_campaign_df), names='value')\n",
    "update_plots(year_selector, merged_campaign_df)"
   ]
  },
  {
   "cell_type": "markdown",
   "metadata": {},
   "source": [
    "---"
   ]
  },
  {
   "cell_type": "markdown",
   "metadata": {},
   "source": [
    "#### Miscellaneous Data Analysis & Issues \n",
    "- Utilizes the original dataset copy ```merged_campaign_dataframe_original``` to conduct EDA into the issues"
   ]
  },
  {
   "cell_type": "code",
   "execution_count": null,
   "metadata": {},
   "outputs": [
    {
     "data": {
      "text/plain": [
       "(20777043, 25)"
      ]
     },
     "execution_count": 75,
     "metadata": {},
     "output_type": "execute_result"
    }
   ],
   "source": [
    "merged_campaign_dataframe_original.shape"
   ]
  },
  {
   "cell_type": "markdown",
   "metadata": {},
   "source": [
    "Display the 5 largest donations given (1999 - 2023)"
   ]
  },
  {
   "cell_type": "code",
   "execution_count": null,
   "metadata": {},
   "outputs": [
    {
     "data": {
      "text/html": [
       "<div>\n",
       "<style scoped>\n",
       "    .dataframe tbody tr th:only-of-type {\n",
       "        vertical-align: middle;\n",
       "    }\n",
       "\n",
       "    .dataframe tbody tr th {\n",
       "        vertical-align: top;\n",
       "    }\n",
       "\n",
       "    .dataframe thead th {\n",
       "        text-align: right;\n",
       "    }\n",
       "</style>\n",
       "<table border=\"1\" class=\"dataframe\">\n",
       "  <thead>\n",
       "    <tr style=\"text-align: right;\">\n",
       "      <th></th>\n",
       "      <th>doc_seq_no</th>\n",
       "      <th>page_no</th>\n",
       "      <th>contribution_id</th>\n",
       "      <th>cont_detail_id</th>\n",
       "      <th>doc_stmnt_year</th>\n",
       "      <th>doc_type_desc</th>\n",
       "      <th>com_legal_name</th>\n",
       "      <th>common_name</th>\n",
       "      <th>cfr_com_id</th>\n",
       "      <th>com_type</th>\n",
       "      <th>can_first_name</th>\n",
       "      <th>can_last_name</th>\n",
       "      <th>contribtype</th>\n",
       "      <th>f_name</th>\n",
       "      <th>l_name_or_org</th>\n",
       "      <th>address</th>\n",
       "      <th>city</th>\n",
       "      <th>state</th>\n",
       "      <th>zip</th>\n",
       "      <th>occupation</th>\n",
       "      <th>employer</th>\n",
       "      <th>received_date</th>\n",
       "      <th>amount</th>\n",
       "      <th>aggregate</th>\n",
       "      <th>extra_desc</th>\n",
       "    </tr>\n",
       "  </thead>\n",
       "  <tbody>\n",
       "    <tr>\n",
       "      <th>61331</th>\n",
       "      <td>367248</td>\n",
       "      <td>0</td>\n",
       "      <td>4344</td>\n",
       "      <td>0</td>\n",
       "      <td>2012</td>\n",
       "      <td>AMENDED PRE-GENERAL CS</td>\n",
       "      <td>THE PEOPLE SHOULD DECIDE</td>\n",
       "      <td>THE PEOPLE SHOULD DECIDE</td>\n",
       "      <td>515899.0</td>\n",
       "      <td>BAL</td>\n",
       "      <td>NaN</td>\n",
       "      <td>NaN</td>\n",
       "      <td>DIRECT</td>\n",
       "      <td>NaN</td>\n",
       "      <td>DIBC HOLDINGS INC</td>\n",
       "      <td>12225 STEPHENS ROAD</td>\n",
       "      <td>WARREN</td>\n",
       "      <td>MI</td>\n",
       "      <td>48089-0000</td>\n",
       "      <td>NaN</td>\n",
       "      <td>NaN</td>\n",
       "      <td>10/31/2012</td>\n",
       "      <td>9175000.0</td>\n",
       "      <td>33389560.00</td>\n",
       "      <td>NaN</td>\n",
       "    </tr>\n",
       "    <tr>\n",
       "      <th>66249</th>\n",
       "      <td>368738</td>\n",
       "      <td>0</td>\n",
       "      <td>4344</td>\n",
       "      <td>0</td>\n",
       "      <td>2012</td>\n",
       "      <td>POST-GENERAL CS</td>\n",
       "      <td>THE PEOPLE SHOULD DECIDE</td>\n",
       "      <td>THE PEOPLE SHOULD DECIDE</td>\n",
       "      <td>515899.0</td>\n",
       "      <td>BAL</td>\n",
       "      <td>NaN</td>\n",
       "      <td>NaN</td>\n",
       "      <td>DIRECT</td>\n",
       "      <td>NaN</td>\n",
       "      <td>DIBC HOLDINGS INC</td>\n",
       "      <td>12225 STEPHENS ROAD</td>\n",
       "      <td>WARREN</td>\n",
       "      <td>MI</td>\n",
       "      <td>48089-0000</td>\n",
       "      <td>NaN</td>\n",
       "      <td>NaN</td>\n",
       "      <td>10/31/2012</td>\n",
       "      <td>9175000.0</td>\n",
       "      <td>33389560.00</td>\n",
       "      <td>NaN</td>\n",
       "    </tr>\n",
       "    <tr>\n",
       "      <th>2434</th>\n",
       "      <td>278674</td>\n",
       "      <td>0</td>\n",
       "      <td>84316</td>\n",
       "      <td>0</td>\n",
       "      <td>2006</td>\n",
       "      <td>PRE-GENERAL CS</td>\n",
       "      <td>DICK DEVOS FOR GOVERNOR</td>\n",
       "      <td>DICK DEVOS FOR GOVERNOR</td>\n",
       "      <td>512426.0</td>\n",
       "      <td>GUB</td>\n",
       "      <td>RICHARD</td>\n",
       "      <td>DEVOS</td>\n",
       "      <td>DIRECT</td>\n",
       "      <td>DICK</td>\n",
       "      <td>DEVOS</td>\n",
       "      <td>126 OTTAWA AVE</td>\n",
       "      <td>GRAND RAPIDS</td>\n",
       "      <td>MI</td>\n",
       "      <td>49503-0000</td>\n",
       "      <td>CHAIRMAN</td>\n",
       "      <td>WINDQUEST COMPANIES</td>\n",
       "      <td>09/08/2006</td>\n",
       "      <td>9000000.0</td>\n",
       "      <td>28385131.95</td>\n",
       "      <td>NaN</td>\n",
       "    </tr>\n",
       "    <tr>\n",
       "      <th>59449</th>\n",
       "      <td>527618</td>\n",
       "      <td>0</td>\n",
       "      <td>4603</td>\n",
       "      <td>0</td>\n",
       "      <td>2022</td>\n",
       "      <td>PRE-PRIMARY CS</td>\n",
       "      <td>KEVIN RINKE FOR GOVERNOR</td>\n",
       "      <td>KEVIN RINKE FOR GOVERNOR</td>\n",
       "      <td>520134.0</td>\n",
       "      <td>GUB</td>\n",
       "      <td>KEVIN</td>\n",
       "      <td>RINKE</td>\n",
       "      <td>LOAN FROM A PERSON</td>\n",
       "      <td>KEVIN</td>\n",
       "      <td>RINKE</td>\n",
       "      <td>P. O. BOX 80915</td>\n",
       "      <td>LANSING</td>\n",
       "      <td>MI</td>\n",
       "      <td>48908-0000</td>\n",
       "      <td>CANDIDATE</td>\n",
       "      <td>KEVIN RINKE FOR GOVERNOR</td>\n",
       "      <td>03/31/2022</td>\n",
       "      <td>8000000.0</td>\n",
       "      <td>10000000.00</td>\n",
       "      <td>NaN</td>\n",
       "    </tr>\n",
       "    <tr>\n",
       "      <th>156477</th>\n",
       "      <td>536252</td>\n",
       "      <td>0</td>\n",
       "      <td>36268</td>\n",
       "      <td>0</td>\n",
       "      <td>2022</td>\n",
       "      <td>PRE-GENERAL CS</td>\n",
       "      <td>REPRODUCTIVE FREEDOM FOR ALL</td>\n",
       "      <td>REPRODUCTIVE FREEDOM FOR ALL</td>\n",
       "      <td>520255.0</td>\n",
       "      <td>BAL</td>\n",
       "      <td>NaN</td>\n",
       "      <td>NaN</td>\n",
       "      <td>DIRECT</td>\n",
       "      <td>NaN</td>\n",
       "      <td>OPEN SOCIETY POLICY CENTER</td>\n",
       "      <td>1730 PENNSYLVANIA AVE NW 7TH FLOOR</td>\n",
       "      <td>WASHINGTON</td>\n",
       "      <td>DC</td>\n",
       "      <td>20006-0000</td>\n",
       "      <td>NaN</td>\n",
       "      <td>NaN</td>\n",
       "      <td>09/13/2022</td>\n",
       "      <td>4500000.0</td>\n",
       "      <td>4500000.00</td>\n",
       "      <td>NaN</td>\n",
       "    </tr>\n",
       "  </tbody>\n",
       "</table>\n",
       "</div>"
      ],
      "text/plain": [
       "        doc_seq_no  page_no  contribution_id  cont_detail_id  doc_stmnt_year  \\\n",
       "61331       367248        0             4344               0            2012   \n",
       "66249       368738        0             4344               0            2012   \n",
       "2434        278674        0            84316               0            2006   \n",
       "59449       527618        0             4603               0            2022   \n",
       "156477      536252        0            36268               0            2022   \n",
       "\n",
       "                 doc_type_desc                com_legal_name  \\\n",
       "61331   AMENDED PRE-GENERAL CS      THE PEOPLE SHOULD DECIDE   \n",
       "66249          POST-GENERAL CS      THE PEOPLE SHOULD DECIDE   \n",
       "2434            PRE-GENERAL CS       DICK DEVOS FOR GOVERNOR   \n",
       "59449           PRE-PRIMARY CS      KEVIN RINKE FOR GOVERNOR   \n",
       "156477          PRE-GENERAL CS  REPRODUCTIVE FREEDOM FOR ALL   \n",
       "\n",
       "                         common_name  cfr_com_id com_type can_first_name  \\\n",
       "61331       THE PEOPLE SHOULD DECIDE    515899.0      BAL            NaN   \n",
       "66249       THE PEOPLE SHOULD DECIDE    515899.0      BAL            NaN   \n",
       "2434         DICK DEVOS FOR GOVERNOR    512426.0      GUB        RICHARD   \n",
       "59449       KEVIN RINKE FOR GOVERNOR    520134.0      GUB          KEVIN   \n",
       "156477  REPRODUCTIVE FREEDOM FOR ALL    520255.0      BAL            NaN   \n",
       "\n",
       "       can_last_name                     contribtype                f_name  \\\n",
       "61331            NaN  DIRECT                                           NaN   \n",
       "66249            NaN  DIRECT                                           NaN   \n",
       "2434           DEVOS  DIRECT                          DICK                   \n",
       "59449          RINKE  LOAN FROM A PERSON              KEVIN                  \n",
       "156477           NaN  DIRECT                                           NaN   \n",
       "\n",
       "                               l_name_or_org  \\\n",
       "61331   DIBC HOLDINGS INC                      \n",
       "66249   DIBC HOLDINGS INC                      \n",
       "2434    DEVOS                                  \n",
       "59449   RINKE                                  \n",
       "156477  OPEN SOCIETY POLICY CENTER             \n",
       "\n",
       "                                   address                  city state  \\\n",
       "61331                  12225 STEPHENS ROAD  WARREN                  MI   \n",
       "66249                  12225 STEPHENS ROAD  WARREN                  MI   \n",
       "2434                        126 OTTAWA AVE  GRAND RAPIDS            MI   \n",
       "59449                      P. O. BOX 80915  LANSING                 MI   \n",
       "156477  1730 PENNSYLVANIA AVE NW 7TH FLOOR  WASHINGTON              DC   \n",
       "\n",
       "               zip occupation                  employer received_date  \\\n",
       "61331   48089-0000        NaN                       NaN    10/31/2012   \n",
       "66249   48089-0000        NaN                       NaN    10/31/2012   \n",
       "2434    49503-0000   CHAIRMAN       WINDQUEST COMPANIES    09/08/2006   \n",
       "59449   48908-0000  CANDIDATE  KEVIN RINKE FOR GOVERNOR    03/31/2022   \n",
       "156477  20006-0000        NaN                       NaN    09/13/2022   \n",
       "\n",
       "           amount    aggregate extra_desc  \n",
       "61331   9175000.0  33389560.00        NaN  \n",
       "66249   9175000.0  33389560.00        NaN  \n",
       "2434    9000000.0  28385131.95        NaN  \n",
       "59449   8000000.0  10000000.00        NaN  \n",
       "156477  4500000.0   4500000.00        NaN  "
      ]
     },
     "execution_count": 80,
     "metadata": {},
     "output_type": "execute_result"
    }
   ],
   "source": [
    "merged_campaign_dataframe_original.nlargest(5, \"amount\")"
   ]
  },
  {
   "cell_type": "markdown",
   "metadata": {},
   "source": [
    "Issues:\n",
    "\n",
    "There are columns that are being read in \"correctly\" but the data is being thrown into the incorrect columns specifically causing errors in the \"amount\" column. For example, there are rows with the amount listed as \"USDA FOREST SERVICE\" or \"UNEMPLOYED\"\n",
    "\n",
    "Additionally the rows containing \"MENOMINEE COUNTY DEMOCRATIC PARTY\" data, are being read in incorrectly after the candidate common name. Below displays the 112 rows with this issue. "
   ]
  },
  {
   "cell_type": "code",
   "execution_count": null,
   "metadata": {},
   "outputs": [
    {
     "data": {
      "text/html": [
       "<div>\n",
       "<style scoped>\n",
       "    .dataframe tbody tr th:only-of-type {\n",
       "        vertical-align: middle;\n",
       "    }\n",
       "\n",
       "    .dataframe tbody tr th {\n",
       "        vertical-align: top;\n",
       "    }\n",
       "\n",
       "    .dataframe thead th {\n",
       "        text-align: right;\n",
       "    }\n",
       "</style>\n",
       "<table border=\"1\" class=\"dataframe\">\n",
       "  <thead>\n",
       "    <tr style=\"text-align: right;\">\n",
       "      <th></th>\n",
       "      <th>doc_seq_no</th>\n",
       "      <th>page_no</th>\n",
       "      <th>contribution_id</th>\n",
       "      <th>cont_detail_id</th>\n",
       "      <th>doc_stmnt_year</th>\n",
       "      <th>doc_type_desc</th>\n",
       "      <th>com_legal_name</th>\n",
       "      <th>common_name</th>\n",
       "      <th>cfr_com_id</th>\n",
       "      <th>com_type</th>\n",
       "      <th>can_first_name</th>\n",
       "      <th>can_last_name</th>\n",
       "      <th>contribtype</th>\n",
       "      <th>f_name</th>\n",
       "      <th>l_name_or_org</th>\n",
       "      <th>address</th>\n",
       "      <th>city</th>\n",
       "      <th>state</th>\n",
       "      <th>zip</th>\n",
       "      <th>occupation</th>\n",
       "      <th>employer</th>\n",
       "      <th>received_date</th>\n",
       "      <th>amount</th>\n",
       "      <th>aggregate</th>\n",
       "      <th>extra_desc</th>\n",
       "    </tr>\n",
       "  </thead>\n",
       "  <tbody>\n",
       "    <tr>\n",
       "      <th>356</th>\n",
       "      <td>517630</td>\n",
       "      <td>0</td>\n",
       "      <td>4409</td>\n",
       "      <td>0</td>\n",
       "      <td>2022</td>\n",
       "      <td>ANNUAL CS</td>\n",
       "      <td>NaN</td>\n",
       "      <td>MENOMINEE COUNTY DEMOCRATIC PARTY</td>\n",
       "      <td>NaN</td>\n",
       "      <td>MENOMINEE COUNTY DEMOCRATIC PARTY</td>\n",
       "      <td>513814</td>\n",
       "      <td>COU</td>\n",
       "      <td>NaN</td>\n",
       "      <td>NaN</td>\n",
       "      <td>DIRECT</td>\n",
       "      <td>WILLIAM</td>\n",
       "      <td>HUPY</td>\n",
       "      <td>1415 7TH STREET</td>\n",
       "      <td>MENOMINEE</td>\n",
       "      <td>MI</td>\n",
       "      <td>49858-0000</td>\n",
       "      <td>NaN</td>\n",
       "      <td>NaN</td>\n",
       "      <td>NaN</td>\n",
       "      <td>22.0</td>\n",
       "    </tr>\n",
       "    <tr>\n",
       "      <th>357</th>\n",
       "      <td>517630</td>\n",
       "      <td>0</td>\n",
       "      <td>4410</td>\n",
       "      <td>0</td>\n",
       "      <td>2022</td>\n",
       "      <td>ANNUAL CS</td>\n",
       "      <td>NaN</td>\n",
       "      <td>MENOMINEE COUNTY DEMOCRATIC PARTY</td>\n",
       "      <td>NaN</td>\n",
       "      <td>MENOMINEE COUNTY DEMOCRATIC PARTY</td>\n",
       "      <td>513814</td>\n",
       "      <td>COU</td>\n",
       "      <td>NaN</td>\n",
       "      <td>NaN</td>\n",
       "      <td>DIRECT</td>\n",
       "      <td>GRACE</td>\n",
       "      <td>CORRINGE</td>\n",
       "      <td>W8728 NORTH LAKE DRIVE 37</td>\n",
       "      <td>VULCAN</td>\n",
       "      <td>MI</td>\n",
       "      <td>49892-0000</td>\n",
       "      <td>NaN</td>\n",
       "      <td>NaN</td>\n",
       "      <td>NaN</td>\n",
       "      <td>40.0</td>\n",
       "    </tr>\n",
       "    <tr>\n",
       "      <th>358</th>\n",
       "      <td>517630</td>\n",
       "      <td>0</td>\n",
       "      <td>4412</td>\n",
       "      <td>0</td>\n",
       "      <td>2022</td>\n",
       "      <td>ANNUAL CS</td>\n",
       "      <td>NaN</td>\n",
       "      <td>MENOMINEE COUNTY DEMOCRATIC PARTY</td>\n",
       "      <td>NaN</td>\n",
       "      <td>MENOMINEE COUNTY DEMOCRATIC PARTY</td>\n",
       "      <td>513814</td>\n",
       "      <td>COU</td>\n",
       "      <td>NaN</td>\n",
       "      <td>NaN</td>\n",
       "      <td>DIRECT</td>\n",
       "      <td>DEEANNE</td>\n",
       "      <td>POHLMANN</td>\n",
       "      <td>4203 MICHIGAN SHORES DR</td>\n",
       "      <td>MENOMINEE</td>\n",
       "      <td>MI</td>\n",
       "      <td>49858-0000</td>\n",
       "      <td>NaN</td>\n",
       "      <td>NaN</td>\n",
       "      <td>NaN</td>\n",
       "      <td>10.0</td>\n",
       "    </tr>\n",
       "    <tr>\n",
       "      <th>359</th>\n",
       "      <td>517630</td>\n",
       "      <td>0</td>\n",
       "      <td>4414</td>\n",
       "      <td>0</td>\n",
       "      <td>2022</td>\n",
       "      <td>ANNUAL CS</td>\n",
       "      <td>NaN</td>\n",
       "      <td>MENOMINEE COUNTY DEMOCRATIC PARTY</td>\n",
       "      <td>NaN</td>\n",
       "      <td>MENOMINEE COUNTY DEMOCRATIC PARTY</td>\n",
       "      <td>513814</td>\n",
       "      <td>COU</td>\n",
       "      <td>NaN</td>\n",
       "      <td>NaN</td>\n",
       "      <td>DIRECT</td>\n",
       "      <td>JOANNE</td>\n",
       "      <td>HIESHETTER</td>\n",
       "      <td>W5094 BIRCH CREEK ROAD NO 6</td>\n",
       "      <td>MENOMINEE</td>\n",
       "      <td>MI</td>\n",
       "      <td>49858-0000</td>\n",
       "      <td>NaN</td>\n",
       "      <td>NaN</td>\n",
       "      <td>NaN</td>\n",
       "      <td>5.0</td>\n",
       "    </tr>\n",
       "    <tr>\n",
       "      <th>361</th>\n",
       "      <td>517630</td>\n",
       "      <td>0</td>\n",
       "      <td>4416</td>\n",
       "      <td>0</td>\n",
       "      <td>2022</td>\n",
       "      <td>ANNUAL CS</td>\n",
       "      <td>NaN</td>\n",
       "      <td>MENOMINEE COUNTY DEMOCRATIC PARTY</td>\n",
       "      <td>NaN</td>\n",
       "      <td>MENOMINEE COUNTY DEMOCRATIC PARTY</td>\n",
       "      <td>513814</td>\n",
       "      <td>COU</td>\n",
       "      <td>NaN</td>\n",
       "      <td>NaN</td>\n",
       "      <td>DIRECT</td>\n",
       "      <td>NATALIE</td>\n",
       "      <td>LASHMET</td>\n",
       "      <td>N194 WEST DR</td>\n",
       "      <td>MENOMINEE</td>\n",
       "      <td>MI</td>\n",
       "      <td>49858-0000</td>\n",
       "      <td>NURSE</td>\n",
       "      <td>NaN</td>\n",
       "      <td>NaN</td>\n",
       "      <td>235.0</td>\n",
       "    </tr>\n",
       "    <tr>\n",
       "      <th>...</th>\n",
       "      <td>...</td>\n",
       "      <td>...</td>\n",
       "      <td>...</td>\n",
       "      <td>...</td>\n",
       "      <td>...</td>\n",
       "      <td>...</td>\n",
       "      <td>...</td>\n",
       "      <td>...</td>\n",
       "      <td>...</td>\n",
       "      <td>...</td>\n",
       "      <td>...</td>\n",
       "      <td>...</td>\n",
       "      <td>...</td>\n",
       "      <td>...</td>\n",
       "      <td>...</td>\n",
       "      <td>...</td>\n",
       "      <td>...</td>\n",
       "      <td>...</td>\n",
       "      <td>...</td>\n",
       "      <td>...</td>\n",
       "      <td>...</td>\n",
       "      <td>...</td>\n",
       "      <td>...</td>\n",
       "      <td>...</td>\n",
       "      <td>...</td>\n",
       "    </tr>\n",
       "    <tr>\n",
       "      <th>35815</th>\n",
       "      <td>505509</td>\n",
       "      <td>0</td>\n",
       "      <td>4324</td>\n",
       "      <td>0</td>\n",
       "      <td>2021</td>\n",
       "      <td>ANNUAL CS</td>\n",
       "      <td>NaN</td>\n",
       "      <td>MENOMINEE COUNTY DEMOCRATIC PARTY</td>\n",
       "      <td>NaN</td>\n",
       "      <td>MENOMINEE COUNTY DEMOCRATIC PARTY</td>\n",
       "      <td>513814</td>\n",
       "      <td>COU</td>\n",
       "      <td>NaN</td>\n",
       "      <td>NaN</td>\n",
       "      <td>DIRECT</td>\n",
       "      <td>MARI</td>\n",
       "      <td>NEGRO</td>\n",
       "      <td>5131 W. NO. 41 RD.</td>\n",
       "      <td>HERMANSVILLE</td>\n",
       "      <td>MI</td>\n",
       "      <td>49847-0000</td>\n",
       "      <td>RETIRED</td>\n",
       "      <td>NaN</td>\n",
       "      <td>NaN</td>\n",
       "      <td>100.0</td>\n",
       "    </tr>\n",
       "    <tr>\n",
       "      <th>35816</th>\n",
       "      <td>505509</td>\n",
       "      <td>0</td>\n",
       "      <td>4350</td>\n",
       "      <td>0</td>\n",
       "      <td>2021</td>\n",
       "      <td>ANNUAL CS</td>\n",
       "      <td>NaN</td>\n",
       "      <td>MENOMINEE COUNTY DEMOCRATIC PARTY</td>\n",
       "      <td>NaN</td>\n",
       "      <td>MENOMINEE COUNTY DEMOCRATIC PARTY</td>\n",
       "      <td>513814</td>\n",
       "      <td>COU</td>\n",
       "      <td>NaN</td>\n",
       "      <td>NaN</td>\n",
       "      <td>DIRECT</td>\n",
       "      <td>LOIS</td>\n",
       "      <td>BERTRAND</td>\n",
       "      <td>400 2ND ST.</td>\n",
       "      <td>MENOMINEE</td>\n",
       "      <td>MI</td>\n",
       "      <td>49858-0000</td>\n",
       "      <td>NaN</td>\n",
       "      <td>NaN</td>\n",
       "      <td>NaN</td>\n",
       "      <td>50.0</td>\n",
       "    </tr>\n",
       "    <tr>\n",
       "      <th>35817</th>\n",
       "      <td>505509</td>\n",
       "      <td>0</td>\n",
       "      <td>4352</td>\n",
       "      <td>0</td>\n",
       "      <td>2021</td>\n",
       "      <td>ANNUAL CS</td>\n",
       "      <td>NaN</td>\n",
       "      <td>MENOMINEE COUNTY DEMOCRATIC PARTY</td>\n",
       "      <td>NaN</td>\n",
       "      <td>MENOMINEE COUNTY DEMOCRATIC PARTY</td>\n",
       "      <td>513814</td>\n",
       "      <td>COU</td>\n",
       "      <td>NaN</td>\n",
       "      <td>NaN</td>\n",
       "      <td>DIRECT</td>\n",
       "      <td>ELIZABETH</td>\n",
       "      <td>TUCKER</td>\n",
       "      <td>W3709 GROVE LN</td>\n",
       "      <td>SPAULDING</td>\n",
       "      <td>MI</td>\n",
       "      <td>49886-0000</td>\n",
       "      <td>NaN</td>\n",
       "      <td>NaN</td>\n",
       "      <td>NaN</td>\n",
       "      <td>50.0</td>\n",
       "    </tr>\n",
       "    <tr>\n",
       "      <th>35818</th>\n",
       "      <td>505509</td>\n",
       "      <td>0</td>\n",
       "      <td>4354</td>\n",
       "      <td>0</td>\n",
       "      <td>2021</td>\n",
       "      <td>ANNUAL CS</td>\n",
       "      <td>NaN</td>\n",
       "      <td>MENOMINEE COUNTY DEMOCRATIC PARTY</td>\n",
       "      <td>NaN</td>\n",
       "      <td>MENOMINEE COUNTY DEMOCRATIC PARTY</td>\n",
       "      <td>513814</td>\n",
       "      <td>COU</td>\n",
       "      <td>NaN</td>\n",
       "      <td>NaN</td>\n",
       "      <td>DIRECT</td>\n",
       "      <td>VICKIE</td>\n",
       "      <td>KNUTH</td>\n",
       "      <td>N11882 29.60 LN.</td>\n",
       "      <td>BARK RIVER</td>\n",
       "      <td>MI</td>\n",
       "      <td>49807-0000</td>\n",
       "      <td>RETIRED</td>\n",
       "      <td>NaN</td>\n",
       "      <td>NaN</td>\n",
       "      <td>20.0</td>\n",
       "    </tr>\n",
       "    <tr>\n",
       "      <th>35819</th>\n",
       "      <td>505509</td>\n",
       "      <td>0</td>\n",
       "      <td>4355</td>\n",
       "      <td>0</td>\n",
       "      <td>2021</td>\n",
       "      <td>ANNUAL CS</td>\n",
       "      <td>NaN</td>\n",
       "      <td>MENOMINEE COUNTY DEMOCRATIC PARTY</td>\n",
       "      <td>NaN</td>\n",
       "      <td>MENOMINEE COUNTY DEMOCRATIC PARTY</td>\n",
       "      <td>513814</td>\n",
       "      <td>COU</td>\n",
       "      <td>NaN</td>\n",
       "      <td>NaN</td>\n",
       "      <td>DIRECT</td>\n",
       "      <td>MARI</td>\n",
       "      <td>NEGRO</td>\n",
       "      <td>5131 W. NO. 41 RD.</td>\n",
       "      <td>HERMANSVILLE</td>\n",
       "      <td>MI</td>\n",
       "      <td>49847-0000</td>\n",
       "      <td>RETIRED</td>\n",
       "      <td>NaN</td>\n",
       "      <td>NaN</td>\n",
       "      <td>4.51</td>\n",
       "    </tr>\n",
       "  </tbody>\n",
       "</table>\n",
       "<p>112 rows × 25 columns</p>\n",
       "</div>"
      ],
      "text/plain": [
       "       doc_seq_no  page_no  contribution_id  cont_detail_id  doc_stmnt_year  \\\n",
       "356        517630        0             4409               0            2022   \n",
       "357        517630        0             4410               0            2022   \n",
       "358        517630        0             4412               0            2022   \n",
       "359        517630        0             4414               0            2022   \n",
       "361        517630        0             4416               0            2022   \n",
       "...           ...      ...              ...             ...             ...   \n",
       "35815      505509        0             4324               0            2021   \n",
       "35816      505509        0             4350               0            2021   \n",
       "35817      505509        0             4352               0            2021   \n",
       "35818      505509        0             4354               0            2021   \n",
       "35819      505509        0             4355               0            2021   \n",
       "\n",
       "      doc_type_desc com_legal_name                        common_name  \\\n",
       "356       ANNUAL CS            NaN  MENOMINEE COUNTY DEMOCRATIC PARTY   \n",
       "357       ANNUAL CS            NaN  MENOMINEE COUNTY DEMOCRATIC PARTY   \n",
       "358       ANNUAL CS            NaN  MENOMINEE COUNTY DEMOCRATIC PARTY   \n",
       "359       ANNUAL CS            NaN  MENOMINEE COUNTY DEMOCRATIC PARTY   \n",
       "361       ANNUAL CS            NaN  MENOMINEE COUNTY DEMOCRATIC PARTY   \n",
       "...             ...            ...                                ...   \n",
       "35815     ANNUAL CS            NaN  MENOMINEE COUNTY DEMOCRATIC PARTY   \n",
       "35816     ANNUAL CS            NaN  MENOMINEE COUNTY DEMOCRATIC PARTY   \n",
       "35817     ANNUAL CS            NaN  MENOMINEE COUNTY DEMOCRATIC PARTY   \n",
       "35818     ANNUAL CS            NaN  MENOMINEE COUNTY DEMOCRATIC PARTY   \n",
       "35819     ANNUAL CS            NaN  MENOMINEE COUNTY DEMOCRATIC PARTY   \n",
       "\n",
       "       cfr_com_id                           com_type can_first_name  \\\n",
       "356           NaN  MENOMINEE COUNTY DEMOCRATIC PARTY         513814   \n",
       "357           NaN  MENOMINEE COUNTY DEMOCRATIC PARTY         513814   \n",
       "358           NaN  MENOMINEE COUNTY DEMOCRATIC PARTY         513814   \n",
       "359           NaN  MENOMINEE COUNTY DEMOCRATIC PARTY         513814   \n",
       "361           NaN  MENOMINEE COUNTY DEMOCRATIC PARTY         513814   \n",
       "...           ...                                ...            ...   \n",
       "35815         NaN  MENOMINEE COUNTY DEMOCRATIC PARTY         513814   \n",
       "35816         NaN  MENOMINEE COUNTY DEMOCRATIC PARTY         513814   \n",
       "35817         NaN  MENOMINEE COUNTY DEMOCRATIC PARTY         513814   \n",
       "35818         NaN  MENOMINEE COUNTY DEMOCRATIC PARTY         513814   \n",
       "35819         NaN  MENOMINEE COUNTY DEMOCRATIC PARTY         513814   \n",
       "\n",
       "      can_last_name contribtype f_name                   l_name_or_org  \\\n",
       "356             COU         NaN    NaN  DIRECT                           \n",
       "357             COU         NaN    NaN  DIRECT                           \n",
       "358             COU         NaN    NaN  DIRECT                           \n",
       "359             COU         NaN    NaN  DIRECT                           \n",
       "361             COU         NaN    NaN  DIRECT                           \n",
       "...             ...         ...    ...                             ...   \n",
       "35815           COU         NaN    NaN  DIRECT                           \n",
       "35816           COU         NaN    NaN  DIRECT                           \n",
       "35817           COU         NaN    NaN  DIRECT                           \n",
       "35818           COU         NaN    NaN  DIRECT                           \n",
       "35819           COU         NaN    NaN  DIRECT                           \n",
       "\n",
       "                    address                                  city  \\\n",
       "356    WILLIAM               HUPY                                   \n",
       "357    GRACE                 CORRINGE                               \n",
       "358    DEEANNE               POHLMANN                               \n",
       "359    JOANNE                HIESHETTER                             \n",
       "361    NATALIE               LASHMET                                \n",
       "...                     ...                                   ...   \n",
       "35815  MARI                  NEGRO                                  \n",
       "35816  LOIS                  BERTRAND                               \n",
       "35817  ELIZABETH             TUCKER                                 \n",
       "35818  VICKIE                KNUTH                                  \n",
       "35819  MARI                  NEGRO                                  \n",
       "\n",
       "                             state                   zip occupation  \\\n",
       "356                1415 7TH STREET  MENOMINEE                    MI   \n",
       "357      W8728 NORTH LAKE DRIVE 37  VULCAN                       MI   \n",
       "358        4203 MICHIGAN SHORES DR  MENOMINEE                    MI   \n",
       "359    W5094 BIRCH CREEK ROAD NO 6  MENOMINEE                    MI   \n",
       "361                   N194 WEST DR  MENOMINEE                    MI   \n",
       "...                            ...                   ...        ...   \n",
       "35815           5131 W. NO. 41 RD.  HERMANSVILLE                 MI   \n",
       "35816                  400 2ND ST.  MENOMINEE                    MI   \n",
       "35817               W3709 GROVE LN  SPAULDING                    MI   \n",
       "35818             N11882 29.60 LN.  BARK RIVER                   MI   \n",
       "35819           5131 W. NO. 41 RD.  HERMANSVILLE                 MI   \n",
       "\n",
       "         employer received_date  amount  aggregate extra_desc  \n",
       "356    49858-0000           NaN     NaN        NaN       22.0  \n",
       "357    49892-0000           NaN     NaN        NaN       40.0  \n",
       "358    49858-0000           NaN     NaN        NaN       10.0  \n",
       "359    49858-0000           NaN     NaN        NaN        5.0  \n",
       "361    49858-0000         NURSE     NaN        NaN      235.0  \n",
       "...           ...           ...     ...        ...        ...  \n",
       "35815  49847-0000       RETIRED     NaN        NaN      100.0  \n",
       "35816  49858-0000           NaN     NaN        NaN       50.0  \n",
       "35817  49886-0000           NaN     NaN        NaN       50.0  \n",
       "35818  49807-0000       RETIRED     NaN        NaN       20.0  \n",
       "35819  49847-0000       RETIRED     NaN        NaN       4.51  \n",
       "\n",
       "[112 rows x 25 columns]"
      ]
     },
     "metadata": {},
     "output_type": "display_data"
    }
   ],
   "source": [
    "error_rows = merged_campaign_dataframe_original[\n",
    "    merged_campaign_dataframe_original[\"com_type\"]\n",
    "    == \"MENOMINEE COUNTY DEMOCRATIC PARTY\"\n",
    "]\n",
    "display(error_rows)"
   ]
  }
 ],
 "metadata": {
  "kernelspec": {
   "display_name": "Python 3",
   "language": "python",
   "name": "python3"
  },
  "language_info": {
   "codemirror_mode": {
    "name": "ipython",
    "version": 3
   },
   "file_extension": ".py",
   "mimetype": "text/x-python",
   "name": "python",
   "nbconvert_exporter": "python",
   "pygments_lexer": "ipython3",
   "version": "3.11.2"
  }
 },
 "nbformat": 4,
 "nbformat_minor": 2
}
