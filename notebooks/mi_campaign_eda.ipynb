{
 "cells": [
  {
   "cell_type": "code",
   "execution_count": 7,
   "metadata": {},
   "outputs": [],
   "source": [
    "import pandas as pd\n",
    "import os\n",
    "import sys\n",
    "import plotly.express as px\n",
    "import ipywidgets as widgets\n",
    "from IPython.display import display\n",
    "from pathlib import Path\n",
    "\n",
    "\n",
    "BASE_PATH = Path.cwd().parent\n",
    "sys.path.append(BASE_PATH)\n",
    "\n",
    "from utils.preprocess_mi_campaign_data import (\n",
    "    read_expenditure_data,\n",
    "    read_contribution_data,\n",
    "    update_expenditure_plots,\n",
    "    update_contribution_plots,\n",
    ")\n",
    "from utils.constants import (\n",
    "    MI_EXP_FILEPATH,\n",
    "    MI_CON_FILEPATH,\n",
    "    MI_EXPENDITURE_COLUMNS,\n",
    "    MI_CONTRIBUTION_COLUMNS,\n",
    ")"
   ]
  },
  {
   "cell_type": "markdown",
   "metadata": {},
   "source": [
    "### Michigan Campaign Expenditure & Contribution Data 2018 - 2023 Exploratory Data Analysis"
   ]
  },
  {
   "cell_type": "markdown",
   "metadata": {},
   "source": [
    "#### Task 1: Read in the Datasets and merge into one Pandas DataFrame"
   ]
  },
  {
   "cell_type": "code",
   "execution_count": 2,
   "metadata": {},
   "outputs": [],
   "source": [
    "campaign_expenditure_dataframe_lst = []\n",
    "campaign_contribution_dataframe_lst = []\n",
    "\n",
    "for file in os.listdir(MI_EXP_FILEPATH):\n",
    "    filepath = MI_EXP_FILEPATH + file\n",
    "    campaign_expenditure_dataframe_lst.append(\n",
    "        read_expenditure_data(filepath, MI_EXPENDITURE_COLUMNS)\n",
    "    )\n",
    "\n",
    "for file in os.listdir(MI_CON_FILEPATH):\n",
    "    filepath = MI_CON_FILEPATH + file\n",
    "    campaign_contribution_dataframe_lst.append(\n",
    "        read_contribution_data(filepath, MI_CONTRIBUTION_COLUMNS)\n",
    "    )"
   ]
  },
  {
   "cell_type": "code",
   "execution_count": 3,
   "metadata": {},
   "outputs": [
    {
     "data": {
      "text/html": [
       "<div>\n",
       "<style scoped>\n",
       "    .dataframe tbody tr th:only-of-type {\n",
       "        vertical-align: middle;\n",
       "    }\n",
       "\n",
       "    .dataframe tbody tr th {\n",
       "        vertical-align: top;\n",
       "    }\n",
       "\n",
       "    .dataframe thead th {\n",
       "        text-align: right;\n",
       "    }\n",
       "</style>\n",
       "<table border=\"1\" class=\"dataframe\">\n",
       "  <thead>\n",
       "    <tr style=\"text-align: right;\">\n",
       "      <th></th>\n",
       "      <th>doc_seq_no</th>\n",
       "      <th>expenditure_type</th>\n",
       "      <th>gub_account_type</th>\n",
       "      <th>gub_elec_type</th>\n",
       "      <th>page_no</th>\n",
       "      <th>expense_id</th>\n",
       "      <th>detail_id</th>\n",
       "      <th>doc_stmnt_year</th>\n",
       "      <th>doc_type_desc</th>\n",
       "      <th>com_legal_name</th>\n",
       "      <th>common_name</th>\n",
       "      <th>cfr_com_id</th>\n",
       "      <th>com_type</th>\n",
       "      <th>schedule_desc</th>\n",
       "      <th>exp_desc</th>\n",
       "      <th>purpose</th>\n",
       "      <th>extra_desc</th>\n",
       "      <th>f_name</th>\n",
       "      <th>lname_or_org</th>\n",
       "      <th>address</th>\n",
       "      <th>city</th>\n",
       "      <th>state</th>\n",
       "      <th>zip</th>\n",
       "      <th>exp_date</th>\n",
       "      <th>amount</th>\n",
       "      <th>state_loc</th>\n",
       "      <th>supp_opp</th>\n",
       "      <th>can_or_ballot</th>\n",
       "      <th>county</th>\n",
       "      <th>debt_payment</th>\n",
       "      <th>vend_name</th>\n",
       "      <th>vend_addr</th>\n",
       "      <th>vend_city</th>\n",
       "      <th>vend_state</th>\n",
       "      <th>vend_zip</th>\n",
       "      <th>gotv_ink_ind</th>\n",
       "      <th>fundraiser</th>\n",
       "    </tr>\n",
       "  </thead>\n",
       "  <tbody>\n",
       "    <tr>\n",
       "      <th>0</th>\n",
       "      <td>488507</td>\n",
       "      <td>1B</td>\n",
       "      <td></td>\n",
       "      <td></td>\n",
       "      <td>0</td>\n",
       "      <td>4100</td>\n",
       "      <td>0</td>\n",
       "      <td>2020</td>\n",
       "      <td>ANNUAL CS</td>\n",
       "      <td>COMMITTEE TO ELECT CHARIS LEE FOR STATE REPRES...</td>\n",
       "      <td>COMMITTEE TO ELECT CHARIS LEE FOR ST</td>\n",
       "      <td>519354.0</td>\n",
       "      <td>CAN</td>\n",
       "      <td>DIRECT</td>\n",
       "      <td>COMPUTER COSTS</td>\n",
       "      <td>CHUNIQ INPOWER GOSQ.COM</td>\n",
       "      <td>NaN</td>\n",
       "      <td>NaN</td>\n",
       "      <td>COMMITTEE TO ELECT CHARIS LEE</td>\n",
       "      <td>1133 FAIRFAX ST</td>\n",
       "      <td>FLINT</td>\n",
       "      <td>MI</td>\n",
       "      <td>48505-0000</td>\n",
       "      <td>11/15/2019</td>\n",
       "      <td>354.28</td>\n",
       "      <td>NaN</td>\n",
       "      <td>NaN</td>\n",
       "      <td>NaN</td>\n",
       "      <td>NaN</td>\n",
       "      <td>NaN</td>\n",
       "      <td>NaN</td>\n",
       "      <td>NaN</td>\n",
       "      <td>NaN</td>\n",
       "      <td>NaN</td>\n",
       "      <td>NaN</td>\n",
       "      <td>NaN</td>\n",
       "      <td>NaN</td>\n",
       "    </tr>\n",
       "    <tr>\n",
       "      <th>1</th>\n",
       "      <td>488507</td>\n",
       "      <td>1B</td>\n",
       "      <td></td>\n",
       "      <td></td>\n",
       "      <td>0</td>\n",
       "      <td>4101</td>\n",
       "      <td>0</td>\n",
       "      <td>2020</td>\n",
       "      <td>ANNUAL CS</td>\n",
       "      <td>COMMITTEE TO ELECT CHARIS LEE FOR STATE REPRES...</td>\n",
       "      <td>COMMITTEE TO ELECT CHARIS LEE FOR ST</td>\n",
       "      <td>519354.0</td>\n",
       "      <td>CAN</td>\n",
       "      <td>DIRECT</td>\n",
       "      <td>PRINT ADVERTISING</td>\n",
       "      <td>SAWICKI &amp; SON 313-962-2725</td>\n",
       "      <td>NaN</td>\n",
       "      <td>NaN</td>\n",
       "      <td>COMMITTEE TO ELECT CHARIS LEE</td>\n",
       "      <td>1133 FAIRFAX ST</td>\n",
       "      <td>FLINT</td>\n",
       "      <td>MI</td>\n",
       "      <td>48505-0000</td>\n",
       "      <td>12/02/2019</td>\n",
       "      <td>500.00</td>\n",
       "      <td>NaN</td>\n",
       "      <td>NaN</td>\n",
       "      <td>NaN</td>\n",
       "      <td>NaN</td>\n",
       "      <td>NaN</td>\n",
       "      <td>NaN</td>\n",
       "      <td>NaN</td>\n",
       "      <td>NaN</td>\n",
       "      <td>NaN</td>\n",
       "      <td>NaN</td>\n",
       "      <td>NaN</td>\n",
       "      <td>NaN</td>\n",
       "    </tr>\n",
       "    <tr>\n",
       "      <th>2</th>\n",
       "      <td>488507</td>\n",
       "      <td>1B</td>\n",
       "      <td></td>\n",
       "      <td></td>\n",
       "      <td>0</td>\n",
       "      <td>4108</td>\n",
       "      <td>0</td>\n",
       "      <td>2020</td>\n",
       "      <td>ANNUAL CS</td>\n",
       "      <td>COMMITTEE TO ELECT CHARIS LEE FOR STATE REPRES...</td>\n",
       "      <td>COMMITTEE TO ELECT CHARIS LEE FOR ST</td>\n",
       "      <td>519354.0</td>\n",
       "      <td>CAN</td>\n",
       "      <td>DIRECT</td>\n",
       "      <td>MAILING,POSTAGE,BULK RATE</td>\n",
       "      <td>STAPLES</td>\n",
       "      <td>NaN</td>\n",
       "      <td>NaN</td>\n",
       "      <td>COMMITTEE TO ELECT CHARIS LEE</td>\n",
       "      <td>1133 FAIRFAX ST</td>\n",
       "      <td>FLINT</td>\n",
       "      <td>MI</td>\n",
       "      <td>48505-0000</td>\n",
       "      <td>11/26/2019</td>\n",
       "      <td>101.61</td>\n",
       "      <td>NaN</td>\n",
       "      <td>NaN</td>\n",
       "      <td>NaN</td>\n",
       "      <td>NaN</td>\n",
       "      <td>NaN</td>\n",
       "      <td>NaN</td>\n",
       "      <td>NaN</td>\n",
       "      <td>NaN</td>\n",
       "      <td>NaN</td>\n",
       "      <td>NaN</td>\n",
       "      <td>NaN</td>\n",
       "      <td>NaN</td>\n",
       "    </tr>\n",
       "    <tr>\n",
       "      <th>3</th>\n",
       "      <td>488507</td>\n",
       "      <td>1B</td>\n",
       "      <td></td>\n",
       "      <td></td>\n",
       "      <td>0</td>\n",
       "      <td>4109</td>\n",
       "      <td>0</td>\n",
       "      <td>2020</td>\n",
       "      <td>ANNUAL CS</td>\n",
       "      <td>COMMITTEE TO ELECT CHARIS LEE FOR STATE REPRES...</td>\n",
       "      <td>COMMITTEE TO ELECT CHARIS LEE FOR ST</td>\n",
       "      <td>519354.0</td>\n",
       "      <td>CAN</td>\n",
       "      <td>DIRECT</td>\n",
       "      <td>MAILING,POSTAGE,BULK RATE</td>\n",
       "      <td>STAPLES</td>\n",
       "      <td>NaN</td>\n",
       "      <td>NaN</td>\n",
       "      <td>COMMITTEE TO ELECT CHARIS LEE</td>\n",
       "      <td>1133 FAIRFAX ST</td>\n",
       "      <td>FLINT</td>\n",
       "      <td>MI</td>\n",
       "      <td>48505-0000</td>\n",
       "      <td>11/26/2019</td>\n",
       "      <td>131.18</td>\n",
       "      <td>NaN</td>\n",
       "      <td>NaN</td>\n",
       "      <td>NaN</td>\n",
       "      <td>NaN</td>\n",
       "      <td>NaN</td>\n",
       "      <td>NaN</td>\n",
       "      <td>NaN</td>\n",
       "      <td>NaN</td>\n",
       "      <td>NaN</td>\n",
       "      <td>NaN</td>\n",
       "      <td>NaN</td>\n",
       "      <td>X</td>\n",
       "    </tr>\n",
       "    <tr>\n",
       "      <th>4</th>\n",
       "      <td>488507</td>\n",
       "      <td>1B</td>\n",
       "      <td></td>\n",
       "      <td></td>\n",
       "      <td>0</td>\n",
       "      <td>4110</td>\n",
       "      <td>0</td>\n",
       "      <td>2020</td>\n",
       "      <td>ANNUAL CS</td>\n",
       "      <td>COMMITTEE TO ELECT CHARIS LEE FOR STATE REPRES...</td>\n",
       "      <td>COMMITTEE TO ELECT CHARIS LEE FOR ST</td>\n",
       "      <td>519354.0</td>\n",
       "      <td>CAN</td>\n",
       "      <td>DIRECT</td>\n",
       "      <td>CONSULTATION, RESEARCH</td>\n",
       "      <td>FIELD OPERATIONS</td>\n",
       "      <td>NaN</td>\n",
       "      <td>NaN</td>\n",
       "      <td>COMMITTEE TO ELECT CHARIS LEE</td>\n",
       "      <td>1133 FAIRFAX ST</td>\n",
       "      <td>FLINT</td>\n",
       "      <td>MI</td>\n",
       "      <td>48505-0000</td>\n",
       "      <td>12/03/2019</td>\n",
       "      <td>100.65</td>\n",
       "      <td>NaN</td>\n",
       "      <td>NaN</td>\n",
       "      <td>NaN</td>\n",
       "      <td>NaN</td>\n",
       "      <td>NaN</td>\n",
       "      <td>NaN</td>\n",
       "      <td>NaN</td>\n",
       "      <td>NaN</td>\n",
       "      <td>NaN</td>\n",
       "      <td>NaN</td>\n",
       "      <td>NaN</td>\n",
       "      <td>NaN</td>\n",
       "    </tr>\n",
       "  </tbody>\n",
       "</table>\n",
       "</div>"
      ],
      "text/plain": [
       "   doc_seq_no expenditure_type gub_account_type gub_elec_type  page_no  \\\n",
       "0      488507               1B                                       0   \n",
       "1      488507               1B                                       0   \n",
       "2      488507               1B                                       0   \n",
       "3      488507               1B                                       0   \n",
       "4      488507               1B                                       0   \n",
       "\n",
       "   expense_id  detail_id  doc_stmnt_year doc_type_desc  \\\n",
       "0        4100          0            2020     ANNUAL CS   \n",
       "1        4101          0            2020     ANNUAL CS   \n",
       "2        4108          0            2020     ANNUAL CS   \n",
       "3        4109          0            2020     ANNUAL CS   \n",
       "4        4110          0            2020     ANNUAL CS   \n",
       "\n",
       "                                      com_legal_name  \\\n",
       "0  COMMITTEE TO ELECT CHARIS LEE FOR STATE REPRES...   \n",
       "1  COMMITTEE TO ELECT CHARIS LEE FOR STATE REPRES...   \n",
       "2  COMMITTEE TO ELECT CHARIS LEE FOR STATE REPRES...   \n",
       "3  COMMITTEE TO ELECT CHARIS LEE FOR STATE REPRES...   \n",
       "4  COMMITTEE TO ELECT CHARIS LEE FOR STATE REPRES...   \n",
       "\n",
       "                            common_name  cfr_com_id com_type schedule_desc  \\\n",
       "0  COMMITTEE TO ELECT CHARIS LEE FOR ST    519354.0      CAN        DIRECT   \n",
       "1  COMMITTEE TO ELECT CHARIS LEE FOR ST    519354.0      CAN        DIRECT   \n",
       "2  COMMITTEE TO ELECT CHARIS LEE FOR ST    519354.0      CAN        DIRECT   \n",
       "3  COMMITTEE TO ELECT CHARIS LEE FOR ST    519354.0      CAN        DIRECT   \n",
       "4  COMMITTEE TO ELECT CHARIS LEE FOR ST    519354.0      CAN        DIRECT   \n",
       "\n",
       "                    exp_desc                     purpose extra_desc f_name  \\\n",
       "0             COMPUTER COSTS     CHUNIQ INPOWER GOSQ.COM        NaN    NaN   \n",
       "1          PRINT ADVERTISING  SAWICKI & SON 313-962-2725        NaN    NaN   \n",
       "2  MAILING,POSTAGE,BULK RATE                     STAPLES        NaN    NaN   \n",
       "3  MAILING,POSTAGE,BULK RATE                     STAPLES        NaN    NaN   \n",
       "4     CONSULTATION, RESEARCH            FIELD OPERATIONS        NaN    NaN   \n",
       "\n",
       "                           lname_or_org          address  \\\n",
       "0  COMMITTEE TO ELECT CHARIS LEE         1133 FAIRFAX ST   \n",
       "1  COMMITTEE TO ELECT CHARIS LEE         1133 FAIRFAX ST   \n",
       "2  COMMITTEE TO ELECT CHARIS LEE         1133 FAIRFAX ST   \n",
       "3  COMMITTEE TO ELECT CHARIS LEE         1133 FAIRFAX ST   \n",
       "4  COMMITTEE TO ELECT CHARIS LEE         1133 FAIRFAX ST   \n",
       "\n",
       "                   city state         zip    exp_date  amount state_loc  \\\n",
       "0  FLINT                   MI  48505-0000  11/15/2019  354.28       NaN   \n",
       "1  FLINT                   MI  48505-0000  12/02/2019  500.00       NaN   \n",
       "2  FLINT                   MI  48505-0000  11/26/2019  101.61       NaN   \n",
       "3  FLINT                   MI  48505-0000  11/26/2019  131.18       NaN   \n",
       "4  FLINT                   MI  48505-0000  12/03/2019  100.65       NaN   \n",
       "\n",
       "   supp_opp can_or_ballot county debt_payment vend_name vend_addr vend_city  \\\n",
       "0       NaN           NaN    NaN          NaN       NaN       NaN       NaN   \n",
       "1       NaN           NaN    NaN          NaN       NaN       NaN       NaN   \n",
       "2       NaN           NaN    NaN          NaN       NaN       NaN       NaN   \n",
       "3       NaN           NaN    NaN          NaN       NaN       NaN       NaN   \n",
       "4       NaN           NaN    NaN          NaN       NaN       NaN       NaN   \n",
       "\n",
       "  vend_state vend_zip  gotv_ink_ind fundraiser  \n",
       "0        NaN      NaN           NaN        NaN  \n",
       "1        NaN      NaN           NaN        NaN  \n",
       "2        NaN      NaN           NaN        NaN  \n",
       "3        NaN      NaN           NaN          X  \n",
       "4        NaN      NaN           NaN        NaN  "
      ]
     },
     "execution_count": 3,
     "metadata": {},
     "output_type": "execute_result"
    }
   ],
   "source": [
    "pd.options.display.max_columns = 100\n",
    "campaign_expenditure_dataframe_lst[0].head(5)"
   ]
  },
  {
   "cell_type": "code",
   "execution_count": 4,
   "metadata": {},
   "outputs": [],
   "source": [
    "merged_contribution_df = pd.concat(campaign_contribution_dataframe_lst)\n",
    "merged_expenditure_df = pd.concat(campaign_expenditure_dataframe_lst)"
   ]
  },
  {
   "cell_type": "code",
   "execution_count": null,
   "metadata": {},
   "outputs": [],
   "source": [
    "merged_contribution_df[\"amount\"] = pd.to_numeric(\n",
    "    merged_contribution_df[\"amount\"], errors=\"coerce\"\n",
    ")\n",
    "merged_expenditure_df[\"amount\"] = pd.to_numeric(\n",
    "    merged_contribution_df[\"amount\"], errors=\"coerce\"\n",
    ")"
   ]
  },
  {
   "cell_type": "code",
   "execution_count": null,
   "metadata": {},
   "outputs": [],
   "source": [
    "# removes the MENOMINEE COUNTY DEMOCRATIC PARTY columns that create errors\n",
    "merged_contribution_df = merged_contribution_df[\n",
    "    merged_contribution_df[\"com_type\"] != \"MENOMINEE COUNTY DEMOCRATIC PARTY\"\n",
    "]\n",
    "merged_expenditure_df = merged_expenditure_df[\n",
    "    merged_expenditure_df[\"com_type\"] != \"MENOMINEE COUNTY DEMOCRATIC PARTY\"\n",
    "]"
   ]
  },
  {
   "cell_type": "markdown",
   "metadata": {},
   "source": [
    "#### Task 2: Answer the Following Questions\n",
    "- For each column, what are the contents of it? How many blanks or nulls are there? What is the format? If there it is one of several types, what are those types?\n",
    "    - Percentage of nulls/blanks\n",
    "- Is the dataset relational (are there multiple tables that relate to each other)?\n",
    "- Who are the top 10 contributors in your data? The top 10 recipients?\n",
    "- Make a bar chart with plotly comparing contributions by donor type or recipient type (PAC, individual, etc) and one comparing recipients by the office type they are running for\n",
    "- If you have multiple years, are they all similar? If not, is the difference explicable (maybe by election schedules)\n",
    "    - Have an option to toggle at the top of the notebook to use different years.\n",
    "    - Utility functions to import into the jupyter notebook, should be generalizable"
   ]
  },
  {
   "cell_type": "markdown",
   "metadata": {},
   "source": [
    "----"
   ]
  },
  {
   "cell_type": "markdown",
   "metadata": {},
   "source": [
    "##### Question 1: \n",
    "- For each column, what are the contents of it? How many blanks or nulls are there? What is the format? If there it is one of several types, what are those types?"
   ]
  },
  {
   "cell_type": "code",
   "execution_count": 5,
   "metadata": {},
   "outputs": [
    {
     "data": {
      "text/plain": [
       "doc_seq_no            int64\n",
       "expenditure_type     object\n",
       "gub_account_type     object\n",
       "gub_elec_type        object\n",
       "page_no               int64\n",
       "expense_id            int64\n",
       "detail_id             int64\n",
       "doc_stmnt_year        int64\n",
       "doc_type_desc        object\n",
       "com_legal_name       object\n",
       "common_name          object\n",
       "cfr_com_id          float64\n",
       "com_type             object\n",
       "schedule_desc        object\n",
       "exp_desc             object\n",
       "purpose              object\n",
       "extra_desc           object\n",
       "f_name               object\n",
       "lname_or_org         object\n",
       "address              object\n",
       "city                 object\n",
       "state                object\n",
       "zip                  object\n",
       "exp_date             object\n",
       "amount               object\n",
       "state_loc            object\n",
       "supp_opp            float64\n",
       "can_or_ballot        object\n",
       "county               object\n",
       "debt_payment         object\n",
       "vend_name            object\n",
       "vend_addr            object\n",
       "vend_city            object\n",
       "vend_state           object\n",
       "vend_zip             object\n",
       "gotv_ink_ind         object\n",
       "fundraiser           object\n",
       "dtype: object"
      ]
     },
     "execution_count": 5,
     "metadata": {},
     "output_type": "execute_result"
    }
   ],
   "source": [
    "merged_contribution_df.dtypes"
   ]
  },
  {
   "cell_type": "code",
   "execution_count": null,
   "metadata": {},
   "outputs": [],
   "source": [
    "merged_expenditure_df.dtypes"
   ]
  },
  {
   "cell_type": "code",
   "execution_count": 8,
   "metadata": {},
   "outputs": [
    {
     "data": {
      "text/html": [
       "<div>\n",
       "<style scoped>\n",
       "    .dataframe tbody tr th:only-of-type {\n",
       "        vertical-align: middle;\n",
       "    }\n",
       "\n",
       "    .dataframe tbody tr th {\n",
       "        vertical-align: top;\n",
       "    }\n",
       "\n",
       "    .dataframe thead th {\n",
       "        text-align: right;\n",
       "    }\n",
       "</style>\n",
       "<table border=\"1\" class=\"dataframe\">\n",
       "  <thead>\n",
       "    <tr style=\"text-align: right;\">\n",
       "      <th></th>\n",
       "      <th>Column Name</th>\n",
       "      <th>Missing Percentage</th>\n",
       "    </tr>\n",
       "  </thead>\n",
       "  <tbody>\n",
       "    <tr>\n",
       "      <th>0</th>\n",
       "      <td>doc_seq_no</td>\n",
       "      <td>0.000000</td>\n",
       "    </tr>\n",
       "    <tr>\n",
       "      <th>1</th>\n",
       "      <td>expenditure_type</td>\n",
       "      <td>0.000000</td>\n",
       "    </tr>\n",
       "    <tr>\n",
       "      <th>2</th>\n",
       "      <td>gub_account_type</td>\n",
       "      <td>0.000000</td>\n",
       "    </tr>\n",
       "    <tr>\n",
       "      <th>3</th>\n",
       "      <td>gub_elec_type</td>\n",
       "      <td>0.000000</td>\n",
       "    </tr>\n",
       "    <tr>\n",
       "      <th>4</th>\n",
       "      <td>page_no</td>\n",
       "      <td>0.000000</td>\n",
       "    </tr>\n",
       "    <tr>\n",
       "      <th>5</th>\n",
       "      <td>expense_id</td>\n",
       "      <td>0.000000</td>\n",
       "    </tr>\n",
       "    <tr>\n",
       "      <th>6</th>\n",
       "      <td>detail_id</td>\n",
       "      <td>0.000000</td>\n",
       "    </tr>\n",
       "    <tr>\n",
       "      <th>7</th>\n",
       "      <td>doc_stmnt_year</td>\n",
       "      <td>0.000000</td>\n",
       "    </tr>\n",
       "    <tr>\n",
       "      <th>8</th>\n",
       "      <td>doc_type_desc</td>\n",
       "      <td>0.000000</td>\n",
       "    </tr>\n",
       "    <tr>\n",
       "      <th>9</th>\n",
       "      <td>com_legal_name</td>\n",
       "      <td>0.010585</td>\n",
       "    </tr>\n",
       "    <tr>\n",
       "      <th>10</th>\n",
       "      <td>common_name</td>\n",
       "      <td>0.000000</td>\n",
       "    </tr>\n",
       "    <tr>\n",
       "      <th>11</th>\n",
       "      <td>cfr_com_id</td>\n",
       "      <td>0.010585</td>\n",
       "    </tr>\n",
       "    <tr>\n",
       "      <th>12</th>\n",
       "      <td>com_type</td>\n",
       "      <td>0.000000</td>\n",
       "    </tr>\n",
       "    <tr>\n",
       "      <th>13</th>\n",
       "      <td>schedule_desc</td>\n",
       "      <td>0.000000</td>\n",
       "    </tr>\n",
       "    <tr>\n",
       "      <th>14</th>\n",
       "      <td>exp_desc</td>\n",
       "      <td>39.922068</td>\n",
       "    </tr>\n",
       "    <tr>\n",
       "      <th>15</th>\n",
       "      <td>purpose</td>\n",
       "      <td>0.459811</td>\n",
       "    </tr>\n",
       "    <tr>\n",
       "      <th>16</th>\n",
       "      <td>extra_desc</td>\n",
       "      <td>99.989662</td>\n",
       "    </tr>\n",
       "    <tr>\n",
       "      <th>17</th>\n",
       "      <td>f_name</td>\n",
       "      <td>87.890335</td>\n",
       "    </tr>\n",
       "    <tr>\n",
       "      <th>18</th>\n",
       "      <td>lname_or_org</td>\n",
       "      <td>0.044553</td>\n",
       "    </tr>\n",
       "    <tr>\n",
       "      <th>19</th>\n",
       "      <td>address</td>\n",
       "      <td>1.046882</td>\n",
       "    </tr>\n",
       "    <tr>\n",
       "      <th>20</th>\n",
       "      <td>city</td>\n",
       "      <td>0.841346</td>\n",
       "    </tr>\n",
       "    <tr>\n",
       "      <th>21</th>\n",
       "      <td>state</td>\n",
       "      <td>0.803684</td>\n",
       "    </tr>\n",
       "    <tr>\n",
       "      <th>22</th>\n",
       "      <td>zip</td>\n",
       "      <td>1.090451</td>\n",
       "    </tr>\n",
       "    <tr>\n",
       "      <th>23</th>\n",
       "      <td>exp_date</td>\n",
       "      <td>0.000492</td>\n",
       "    </tr>\n",
       "    <tr>\n",
       "      <th>24</th>\n",
       "      <td>amount</td>\n",
       "      <td>0.045292</td>\n",
       "    </tr>\n",
       "    <tr>\n",
       "      <th>25</th>\n",
       "      <td>state_loc</td>\n",
       "      <td>95.452352</td>\n",
       "    </tr>\n",
       "    <tr>\n",
       "      <th>26</th>\n",
       "      <td>supp_opp</td>\n",
       "      <td>88.568728</td>\n",
       "    </tr>\n",
       "    <tr>\n",
       "      <th>27</th>\n",
       "      <td>can_or_ballot</td>\n",
       "      <td>74.145239</td>\n",
       "    </tr>\n",
       "    <tr>\n",
       "      <th>28</th>\n",
       "      <td>county</td>\n",
       "      <td>77.977571</td>\n",
       "    </tr>\n",
       "    <tr>\n",
       "      <th>29</th>\n",
       "      <td>debt_payment</td>\n",
       "      <td>99.005056</td>\n",
       "    </tr>\n",
       "    <tr>\n",
       "      <th>30</th>\n",
       "      <td>vend_name</td>\n",
       "      <td>98.027835</td>\n",
       "    </tr>\n",
       "    <tr>\n",
       "      <th>31</th>\n",
       "      <td>vend_addr</td>\n",
       "      <td>98.781304</td>\n",
       "    </tr>\n",
       "    <tr>\n",
       "      <th>32</th>\n",
       "      <td>vend_city</td>\n",
       "      <td>98.782781</td>\n",
       "    </tr>\n",
       "    <tr>\n",
       "      <th>33</th>\n",
       "      <td>vend_state</td>\n",
       "      <td>98.782289</td>\n",
       "    </tr>\n",
       "    <tr>\n",
       "      <th>34</th>\n",
       "      <td>vend_zip</td>\n",
       "      <td>98.787950</td>\n",
       "    </tr>\n",
       "    <tr>\n",
       "      <th>35</th>\n",
       "      <td>gotv_ink_ind</td>\n",
       "      <td>99.881601</td>\n",
       "    </tr>\n",
       "    <tr>\n",
       "      <th>36</th>\n",
       "      <td>fundraiser</td>\n",
       "      <td>97.396210</td>\n",
       "    </tr>\n",
       "  </tbody>\n",
       "</table>\n",
       "</div>"
      ],
      "text/plain": [
       "         Column Name  Missing Percentage\n",
       "0         doc_seq_no            0.000000\n",
       "1   expenditure_type            0.000000\n",
       "2   gub_account_type            0.000000\n",
       "3      gub_elec_type            0.000000\n",
       "4            page_no            0.000000\n",
       "5         expense_id            0.000000\n",
       "6          detail_id            0.000000\n",
       "7     doc_stmnt_year            0.000000\n",
       "8      doc_type_desc            0.000000\n",
       "9     com_legal_name            0.010585\n",
       "10       common_name            0.000000\n",
       "11        cfr_com_id            0.010585\n",
       "12          com_type            0.000000\n",
       "13     schedule_desc            0.000000\n",
       "14          exp_desc           39.922068\n",
       "15           purpose            0.459811\n",
       "16        extra_desc           99.989662\n",
       "17            f_name           87.890335\n",
       "18      lname_or_org            0.044553\n",
       "19           address            1.046882\n",
       "20              city            0.841346\n",
       "21             state            0.803684\n",
       "22               zip            1.090451\n",
       "23          exp_date            0.000492\n",
       "24            amount            0.045292\n",
       "25         state_loc           95.452352\n",
       "26          supp_opp           88.568728\n",
       "27     can_or_ballot           74.145239\n",
       "28            county           77.977571\n",
       "29      debt_payment           99.005056\n",
       "30         vend_name           98.027835\n",
       "31         vend_addr           98.781304\n",
       "32         vend_city           98.782781\n",
       "33        vend_state           98.782289\n",
       "34          vend_zip           98.787950\n",
       "35      gotv_ink_ind           99.881601\n",
       "36        fundraiser           97.396210"
      ]
     },
     "metadata": {},
     "output_type": "display_data"
    }
   ],
   "source": [
    "contritbution_null_percentage = (\n",
    "    merged_contribution_df.isna().mean() * 100\n",
    ").reset_index()\n",
    "contritbution_null_percentage.columns = [\"Column Name\", \"Missing Percentage\"]\n",
    "\n",
    "# The percentage of null values in each column of the contribution data is as follows below\n",
    "display(contritbution_null_percentage)"
   ]
  },
  {
   "cell_type": "code",
   "execution_count": null,
   "metadata": {},
   "outputs": [],
   "source": [
    "expenditure_null_percentage = (merged_expenditure_df.isna().mean() * 100).reset_index()\n",
    "expenditure_null_percentage.columns = [\"Column Name\", \"Missing Percentage\"]\n",
    "\n",
    "# The percentage of null values in each column of the expenditure data is as follows below\n",
    "display(expenditure_null_percentage)"
   ]
  },
  {
   "cell_type": "markdown",
   "metadata": {},
   "source": [
    "##### Question 2: Are commmittee's relational in the different dataset based on the contribution_id or cfr_com_id ?\n",
    "- Both the contribution and expenditure datasets are relational based upon the cfr_com_id, as shown below. According to the Secretary of State provided README cfr_com_id is the unique committee ID# of the committee in the Bureau of Elections database."
   ]
  },
  {
   "cell_type": "code",
   "execution_count": 20,
   "metadata": {},
   "outputs": [
    {
     "data": {
      "text/html": [
       "<div>\n",
       "<style scoped>\n",
       "    .dataframe tbody tr th:only-of-type {\n",
       "        vertical-align: middle;\n",
       "    }\n",
       "\n",
       "    .dataframe tbody tr th {\n",
       "        vertical-align: top;\n",
       "    }\n",
       "\n",
       "    .dataframe thead th {\n",
       "        text-align: right;\n",
       "    }\n",
       "</style>\n",
       "<table border=\"1\" class=\"dataframe\">\n",
       "  <thead>\n",
       "    <tr style=\"text-align: right;\">\n",
       "      <th></th>\n",
       "      <th>doc_seq_no</th>\n",
       "      <th>expenditure_type</th>\n",
       "      <th>gub_account_type</th>\n",
       "      <th>gub_elec_type</th>\n",
       "      <th>page_no</th>\n",
       "      <th>expense_id</th>\n",
       "      <th>detail_id</th>\n",
       "      <th>doc_stmnt_year</th>\n",
       "      <th>doc_type_desc</th>\n",
       "      <th>com_legal_name</th>\n",
       "      <th>common_name</th>\n",
       "      <th>cfr_com_id</th>\n",
       "      <th>com_type</th>\n",
       "      <th>schedule_desc</th>\n",
       "      <th>exp_desc</th>\n",
       "      <th>purpose</th>\n",
       "      <th>extra_desc</th>\n",
       "      <th>f_name</th>\n",
       "      <th>lname_or_org</th>\n",
       "      <th>address</th>\n",
       "      <th>city</th>\n",
       "      <th>state</th>\n",
       "      <th>zip</th>\n",
       "      <th>exp_date</th>\n",
       "      <th>amount</th>\n",
       "      <th>state_loc</th>\n",
       "      <th>supp_opp</th>\n",
       "      <th>can_or_ballot</th>\n",
       "      <th>county</th>\n",
       "      <th>debt_payment</th>\n",
       "      <th>vend_name</th>\n",
       "      <th>vend_addr</th>\n",
       "      <th>vend_city</th>\n",
       "      <th>vend_state</th>\n",
       "      <th>vend_zip</th>\n",
       "      <th>gotv_ink_ind</th>\n",
       "      <th>fundraiser</th>\n",
       "    </tr>\n",
       "  </thead>\n",
       "  <tbody>\n",
       "    <tr>\n",
       "      <th>8915</th>\n",
       "      <td>491133</td>\n",
       "      <td>1B</td>\n",
       "      <td></td>\n",
       "      <td></td>\n",
       "      <td>0</td>\n",
       "      <td>1138926</td>\n",
       "      <td>0</td>\n",
       "      <td>2020</td>\n",
       "      <td>JANUARY QUARTERLY CS</td>\n",
       "      <td>UAW MICHIGAN VOLUNTARY POLITICAL ACTION COMMITTEE</td>\n",
       "      <td>UAW MICHIGAN VOLUNTARY POLITICAL ACT</td>\n",
       "      <td>508347.0</td>\n",
       "      <td>IND</td>\n",
       "      <td>DIRECT</td>\n",
       "      <td>DIRECT CONTRIBUTIONS</td>\n",
       "      <td>CONTRIBUTION</td>\n",
       "      <td>NaN</td>\n",
       "      <td>NaN</td>\n",
       "      <td>FRIENDS OF MAUREEN BROSNAN</td>\n",
       "      <td>11320 ARDEN</td>\n",
       "      <td>LIVONIA</td>\n",
       "      <td>MI</td>\n",
       "      <td>48150-0000</td>\n",
       "      <td>10/24/2019</td>\n",
       "      <td>6000.0</td>\n",
       "      <td>NaN</td>\n",
       "      <td>NaN</td>\n",
       "      <td>MAUREEN BROSNAN</td>\n",
       "      <td>WAYNE</td>\n",
       "      <td>NaN</td>\n",
       "      <td>NaN</td>\n",
       "      <td>NaN</td>\n",
       "      <td>NaN</td>\n",
       "      <td>NaN</td>\n",
       "      <td>NaN</td>\n",
       "      <td>NaN</td>\n",
       "      <td>NaN</td>\n",
       "    </tr>\n",
       "    <tr>\n",
       "      <th>8916</th>\n",
       "      <td>491133</td>\n",
       "      <td>1B</td>\n",
       "      <td></td>\n",
       "      <td></td>\n",
       "      <td>0</td>\n",
       "      <td>1138931</td>\n",
       "      <td>0</td>\n",
       "      <td>2020</td>\n",
       "      <td>JANUARY QUARTERLY CS</td>\n",
       "      <td>UAW MICHIGAN VOLUNTARY POLITICAL ACTION COMMITTEE</td>\n",
       "      <td>UAW MICHIGAN VOLUNTARY POLITICAL ACT</td>\n",
       "      <td>508347.0</td>\n",
       "      <td>IND</td>\n",
       "      <td>DIRECT</td>\n",
       "      <td>DIRECT CONTRIBUTIONS</td>\n",
       "      <td>CONTRIBUTION</td>\n",
       "      <td>NaN</td>\n",
       "      <td>NaN</td>\n",
       "      <td>CTE DENNARD SHAW</td>\n",
       "      <td>1041 HARRISON</td>\n",
       "      <td>INKSTER</td>\n",
       "      <td>MI</td>\n",
       "      <td>48141-0000</td>\n",
       "      <td>10/28/2019</td>\n",
       "      <td>500.0</td>\n",
       "      <td>NaN</td>\n",
       "      <td>NaN</td>\n",
       "      <td>DENNARD SHAW</td>\n",
       "      <td>WAYNE</td>\n",
       "      <td>NaN</td>\n",
       "      <td>NaN</td>\n",
       "      <td>NaN</td>\n",
       "      <td>NaN</td>\n",
       "      <td>NaN</td>\n",
       "      <td>NaN</td>\n",
       "      <td>NaN</td>\n",
       "      <td>NaN</td>\n",
       "    </tr>\n",
       "  </tbody>\n",
       "</table>\n",
       "</div>"
      ],
      "text/plain": [
       "      doc_seq_no expenditure_type gub_account_type gub_elec_type  page_no  \\\n",
       "8915      491133               1B                                       0   \n",
       "8916      491133               1B                                       0   \n",
       "\n",
       "      expense_id  detail_id  doc_stmnt_year         doc_type_desc  \\\n",
       "8915     1138926          0            2020  JANUARY QUARTERLY CS   \n",
       "8916     1138931          0            2020  JANUARY QUARTERLY CS   \n",
       "\n",
       "                                         com_legal_name  \\\n",
       "8915  UAW MICHIGAN VOLUNTARY POLITICAL ACTION COMMITTEE   \n",
       "8916  UAW MICHIGAN VOLUNTARY POLITICAL ACTION COMMITTEE   \n",
       "\n",
       "                               common_name  cfr_com_id com_type schedule_desc  \\\n",
       "8915  UAW MICHIGAN VOLUNTARY POLITICAL ACT    508347.0      IND        DIRECT   \n",
       "8916  UAW MICHIGAN VOLUNTARY POLITICAL ACT    508347.0      IND        DIRECT   \n",
       "\n",
       "                  exp_desc       purpose extra_desc f_name  \\\n",
       "8915  DIRECT CONTRIBUTIONS  CONTRIBUTION        NaN    NaN   \n",
       "8916  DIRECT CONTRIBUTIONS  CONTRIBUTION        NaN    NaN   \n",
       "\n",
       "                              lname_or_org        address  \\\n",
       "8915  FRIENDS OF MAUREEN BROSNAN              11320 ARDEN   \n",
       "8916  CTE DENNARD SHAW                      1041 HARRISON   \n",
       "\n",
       "                      city state         zip    exp_date  amount state_loc  \\\n",
       "8915  LIVONIA                 MI  48150-0000  10/24/2019  6000.0       NaN   \n",
       "8916  INKSTER                 MI  48141-0000  10/28/2019   500.0       NaN   \n",
       "\n",
       "      supp_opp    can_or_ballot                county debt_payment vend_name  \\\n",
       "8915       NaN  MAUREEN BROSNAN  WAYNE                         NaN       NaN   \n",
       "8916       NaN     DENNARD SHAW  WAYNE                         NaN       NaN   \n",
       "\n",
       "     vend_addr vend_city vend_state vend_zip gotv_ink_ind fundraiser  \n",
       "8915       NaN       NaN        NaN      NaN          NaN        NaN  \n",
       "8916       NaN       NaN        NaN      NaN          NaN        NaN  "
      ]
     },
     "execution_count": 20,
     "metadata": {},
     "output_type": "execute_result"
    }
   ],
   "source": [
    "merged_contribution_df[merged_contribution_df[\"cfr_com_id\"] == 508347.0].head(2)"
   ]
  },
  {
   "cell_type": "code",
   "execution_count": 19,
   "metadata": {},
   "outputs": [
    {
     "data": {
      "text/html": [
       "<div>\n",
       "<style scoped>\n",
       "    .dataframe tbody tr th:only-of-type {\n",
       "        vertical-align: middle;\n",
       "    }\n",
       "\n",
       "    .dataframe tbody tr th {\n",
       "        vertical-align: top;\n",
       "    }\n",
       "\n",
       "    .dataframe thead th {\n",
       "        text-align: right;\n",
       "    }\n",
       "</style>\n",
       "<table border=\"1\" class=\"dataframe\">\n",
       "  <thead>\n",
       "    <tr style=\"text-align: right;\">\n",
       "      <th></th>\n",
       "      <th>doc_seq_no</th>\n",
       "      <th>expenditure_type</th>\n",
       "      <th>gub_account_type</th>\n",
       "      <th>gub_elec_type</th>\n",
       "      <th>page_no</th>\n",
       "      <th>expense_id</th>\n",
       "      <th>detail_id</th>\n",
       "      <th>doc_stmnt_year</th>\n",
       "      <th>doc_type_desc</th>\n",
       "      <th>com_legal_name</th>\n",
       "      <th>common_name</th>\n",
       "      <th>cfr_com_id</th>\n",
       "      <th>com_type</th>\n",
       "      <th>schedule_desc</th>\n",
       "      <th>exp_desc</th>\n",
       "      <th>purpose</th>\n",
       "      <th>extra_desc</th>\n",
       "      <th>f_name</th>\n",
       "      <th>lname_or_org</th>\n",
       "      <th>address</th>\n",
       "      <th>city</th>\n",
       "      <th>state</th>\n",
       "      <th>zip</th>\n",
       "      <th>exp_date</th>\n",
       "      <th>amount</th>\n",
       "      <th>state_loc</th>\n",
       "      <th>supp_opp</th>\n",
       "      <th>can_or_ballot</th>\n",
       "      <th>county</th>\n",
       "      <th>debt_payment</th>\n",
       "      <th>vend_name</th>\n",
       "      <th>vend_addr</th>\n",
       "      <th>vend_city</th>\n",
       "      <th>vend_state</th>\n",
       "      <th>vend_zip</th>\n",
       "      <th>gotv_ink_ind</th>\n",
       "      <th>fundraiser</th>\n",
       "    </tr>\n",
       "  </thead>\n",
       "  <tbody>\n",
       "    <tr>\n",
       "      <th>107636</th>\n",
       "      <td>472254</td>\n",
       "      <td>1B</td>\n",
       "      <td></td>\n",
       "      <td></td>\n",
       "      <td>0</td>\n",
       "      <td>716150</td>\n",
       "      <td>0</td>\n",
       "      <td>2018</td>\n",
       "      <td>OCTOBER QUARTERLY CS</td>\n",
       "      <td>UAW MICHIGAN VOLUNTARY POLITICAL ACTION COMMITTEE</td>\n",
       "      <td>UAW MICHIGAN VOLUNTARY POLITICAL ACT</td>\n",
       "      <td>508347.0</td>\n",
       "      <td>IND</td>\n",
       "      <td>DIRECT</td>\n",
       "      <td>DIRECT CONTRIBUTIONS</td>\n",
       "      <td>CONTRIBUTION</td>\n",
       "      <td>NaN</td>\n",
       "      <td>NaN</td>\n",
       "      <td>CTE BRIAN PICKELL JUDGE</td>\n",
       "      <td>727 SHADY BROOK LANE</td>\n",
       "      <td>FLUSHING</td>\n",
       "      <td>MI</td>\n",
       "      <td>48433-0000</td>\n",
       "      <td>10/18/2018</td>\n",
       "      <td>2000.0</td>\n",
       "      <td>NaN</td>\n",
       "      <td>NaN</td>\n",
       "      <td>BRIAN PICKELL</td>\n",
       "      <td>.</td>\n",
       "      <td>NaN</td>\n",
       "      <td>NaN</td>\n",
       "      <td>NaN</td>\n",
       "      <td>NaN</td>\n",
       "      <td>NaN</td>\n",
       "      <td>NaN</td>\n",
       "      <td>NaN</td>\n",
       "      <td>NaN</td>\n",
       "    </tr>\n",
       "    <tr>\n",
       "      <th>107637</th>\n",
       "      <td>472254</td>\n",
       "      <td>1B</td>\n",
       "      <td></td>\n",
       "      <td></td>\n",
       "      <td>0</td>\n",
       "      <td>716153</td>\n",
       "      <td>0</td>\n",
       "      <td>2018</td>\n",
       "      <td>OCTOBER QUARTERLY CS</td>\n",
       "      <td>UAW MICHIGAN VOLUNTARY POLITICAL ACTION COMMITTEE</td>\n",
       "      <td>UAW MICHIGAN VOLUNTARY POLITICAL ACT</td>\n",
       "      <td>508347.0</td>\n",
       "      <td>IND</td>\n",
       "      <td>DIRECT</td>\n",
       "      <td>DIRECT CONTRIBUTIONS</td>\n",
       "      <td>CONTRIBUTION</td>\n",
       "      <td>NaN</td>\n",
       "      <td>NaN</td>\n",
       "      <td>JUSTICE FOR ALL - MICHIGAN</td>\n",
       "      <td>6639 CENTURION SUITE 120</td>\n",
       "      <td>LANSING</td>\n",
       "      <td>MI</td>\n",
       "      <td>48917-0000</td>\n",
       "      <td>10/15/2018</td>\n",
       "      <td>100000.0</td>\n",
       "      <td>NaN</td>\n",
       "      <td>NaN</td>\n",
       "      <td>NaN</td>\n",
       "      <td>NaN</td>\n",
       "      <td>NaN</td>\n",
       "      <td>NaN</td>\n",
       "      <td>NaN</td>\n",
       "      <td>NaN</td>\n",
       "      <td>NaN</td>\n",
       "      <td>NaN</td>\n",
       "      <td>NaN</td>\n",
       "      <td>NaN</td>\n",
       "    </tr>\n",
       "  </tbody>\n",
       "</table>\n",
       "</div>"
      ],
      "text/plain": [
       "        doc_seq_no expenditure_type gub_account_type gub_elec_type  page_no  \\\n",
       "107636      472254               1B                                       0   \n",
       "107637      472254               1B                                       0   \n",
       "\n",
       "        expense_id  detail_id  doc_stmnt_year         doc_type_desc  \\\n",
       "107636      716150          0            2018  OCTOBER QUARTERLY CS   \n",
       "107637      716153          0            2018  OCTOBER QUARTERLY CS   \n",
       "\n",
       "                                           com_legal_name  \\\n",
       "107636  UAW MICHIGAN VOLUNTARY POLITICAL ACTION COMMITTEE   \n",
       "107637  UAW MICHIGAN VOLUNTARY POLITICAL ACTION COMMITTEE   \n",
       "\n",
       "                                 common_name  cfr_com_id com_type  \\\n",
       "107636  UAW MICHIGAN VOLUNTARY POLITICAL ACT    508347.0      IND   \n",
       "107637  UAW MICHIGAN VOLUNTARY POLITICAL ACT    508347.0      IND   \n",
       "\n",
       "       schedule_desc              exp_desc       purpose extra_desc f_name  \\\n",
       "107636        DIRECT  DIRECT CONTRIBUTIONS  CONTRIBUTION        NaN    NaN   \n",
       "107637        DIRECT  DIRECT CONTRIBUTIONS  CONTRIBUTION        NaN    NaN   \n",
       "\n",
       "                                lname_or_org                   address  \\\n",
       "107636  CTE BRIAN PICKELL JUDGE                   727 SHADY BROOK LANE   \n",
       "107637  JUSTICE FOR ALL - MICHIGAN            6639 CENTURION SUITE 120   \n",
       "\n",
       "                        city state         zip    exp_date    amount  \\\n",
       "107636  FLUSHING                MI  48433-0000  10/18/2018    2000.0   \n",
       "107637  LANSING                 MI  48917-0000  10/15/2018  100000.0   \n",
       "\n",
       "       state_loc  supp_opp  can_or_ballot                county debt_payment  \\\n",
       "107636       NaN       NaN  BRIAN PICKELL  .                             NaN   \n",
       "107637       NaN       NaN            NaN                   NaN          NaN   \n",
       "\n",
       "       vend_name vend_addr vend_city vend_state vend_zip gotv_ink_ind  \\\n",
       "107636       NaN       NaN       NaN        NaN      NaN          NaN   \n",
       "107637       NaN       NaN       NaN        NaN      NaN          NaN   \n",
       "\n",
       "       fundraiser  \n",
       "107636        NaN  \n",
       "107637        NaN  "
      ]
     },
     "execution_count": 19,
     "metadata": {},
     "output_type": "execute_result"
    }
   ],
   "source": [
    "merged_expenditure_df[merged_expenditure_df[\"cfr_com_id\"] == 508347.0].tail(2)"
   ]
  },
  {
   "cell_type": "markdown",
   "metadata": {},
   "source": [
    "#### Question 3: Who are the top 10 contributors in your data? The top 10 recipients?"
   ]
  },
  {
   "cell_type": "markdown",
   "metadata": {},
   "source": [
    "The top individuals and organizations that donate to committees are listed below as well as the top committees receiving contributions. "
   ]
  },
  {
   "cell_type": "code",
   "execution_count": null,
   "metadata": {},
   "outputs": [],
   "source": [
    "# display the top 10 individual contributors from the contribution data\n",
    "top_10_individual_contrubutors = (\n",
    "    merged_contribution_df.groupby([\"f_name\", \"l_name_or_org\"])[\"amount\"]\n",
    "    .sum()\n",
    "    .reset_index()\n",
    ")\n",
    "top_10_individual_contrubutors = top_10_individual_contrubutors.sort_values(\n",
    "    by=\"amount\", ascending=False\n",
    ").head(10)\n",
    "display(top_10_individual_contrubutors)"
   ]
  },
  {
   "cell_type": "code",
   "execution_count": null,
   "metadata": {},
   "outputs": [],
   "source": [
    "# display the top 10 organizational contributors from the contribution data\n",
    "top_10_organizational_contributors = merged_contribution_df[\n",
    "    merged_contribution_df[\"f_name\"].isnull()\n",
    "]\n",
    "top_10_organizational_contributors = (\n",
    "    top_10_organizational_contributors.groupby(\"l_name_or_org\")[\"amount\"]\n",
    "    .sum()\n",
    "    .reset_index()\n",
    ")\n",
    "top_10_organizational_contributors = top_10_organizational_contributors.sort_values(\n",
    "    by=\"amount\", ascending=False\n",
    ").head(10)\n",
    "display(top_10_organizational_contributors)"
   ]
  },
  {
   "cell_type": "code",
   "execution_count": null,
   "metadata": {},
   "outputs": [],
   "source": [
    "# display the 10 recipients (commmittees) from the contribution data\n",
    "top_10_commiitee_recipients = (\n",
    "    merged_contribution_df.groupby(\"com_legal_name\")[\"amount\"].sum().reset_index()\n",
    ")\n",
    "top_10_commiitee_recipients = top_10_commiitee_recipients.sort_values(\n",
    "    by=\"amount\", ascending=False\n",
    ").head(10)\n",
    "display(top_10_commiitee_recipients)"
   ]
  },
  {
   "cell_type": "code",
   "execution_count": null,
   "metadata": {},
   "outputs": [],
   "source": [
    "# display the top 10 recipients (candidates) from the contribution data\n",
    "\n",
    "top_10_recipients = (\n",
    "    merged_contribution_df.groupby([\"can_first_name\", \"can_last_name\"])[\"amount\"]\n",
    "    .sum()\n",
    "    .reset_index()\n",
    ")\n",
    "top_10_recipients = top_10_recipients.sort_values(by=\"amount\", ascending=False).head(10)\n",
    "display(top_10_recipients)"
   ]
  },
  {
   "cell_type": "markdown",
   "metadata": {},
   "source": [
    "- The top 10 expenditures for individuals and organizations are shown below, as well as top expenditures supporting or opposing a candidate or ballot issue"
   ]
  },
  {
   "cell_type": "code",
   "execution_count": 9,
   "metadata": {},
   "outputs": [
    {
     "data": {
      "text/html": [
       "<div>\n",
       "<style scoped>\n",
       "    .dataframe tbody tr th:only-of-type {\n",
       "        vertical-align: middle;\n",
       "    }\n",
       "\n",
       "    .dataframe tbody tr th {\n",
       "        vertical-align: top;\n",
       "    }\n",
       "\n",
       "    .dataframe thead th {\n",
       "        text-align: right;\n",
       "    }\n",
       "</style>\n",
       "<table border=\"1\" class=\"dataframe\">\n",
       "  <thead>\n",
       "    <tr style=\"text-align: right;\">\n",
       "      <th></th>\n",
       "      <th>f_name</th>\n",
       "      <th>lname_or_org</th>\n",
       "      <th>supp_opp</th>\n",
       "      <th>amount</th>\n",
       "    </tr>\n",
       "  </thead>\n",
       "  <tbody>\n",
       "    <tr>\n",
       "      <th>508</th>\n",
       "      <td>HEATHER</td>\n",
       "      <td>RICKETTS</td>\n",
       "      <td>1.0</td>\n",
       "      <td>78985.66</td>\n",
       "    </tr>\n",
       "    <tr>\n",
       "      <th>341</th>\n",
       "      <td>DENNIS</td>\n",
       "      <td>LENNOX</td>\n",
       "      <td>1.0</td>\n",
       "      <td>72217.11</td>\n",
       "    </tr>\n",
       "    <tr>\n",
       "      <th>721</th>\n",
       "      <td>KATHRYN</td>\n",
       "      <td>FAHEY</td>\n",
       "      <td>1.0</td>\n",
       "      <td>60235.15</td>\n",
       "    </tr>\n",
       "    <tr>\n",
       "      <th>534</th>\n",
       "      <td>JACK</td>\n",
       "      <td>JENNINGS</td>\n",
       "      <td>1.0</td>\n",
       "      <td>58293.37</td>\n",
       "    </tr>\n",
       "    <tr>\n",
       "      <th>171</th>\n",
       "      <td>BRIAN</td>\n",
       "      <td>CALLEY ^</td>\n",
       "      <td>1.0</td>\n",
       "      <td>58000.00</td>\n",
       "    </tr>\n",
       "    <tr>\n",
       "      <th>1183</th>\n",
       "      <td>SCOTT</td>\n",
       "      <td>DREXEL</td>\n",
       "      <td>1.0</td>\n",
       "      <td>51488.27</td>\n",
       "    </tr>\n",
       "    <tr>\n",
       "      <th>561</th>\n",
       "      <td>JAMES</td>\n",
       "      <td>LANCASTER</td>\n",
       "      <td>1.0</td>\n",
       "      <td>45817.00</td>\n",
       "    </tr>\n",
       "    <tr>\n",
       "      <th>812</th>\n",
       "      <td>LENORE</td>\n",
       "      <td>GOLDMAN</td>\n",
       "      <td>1.0</td>\n",
       "      <td>39219.42</td>\n",
       "    </tr>\n",
       "    <tr>\n",
       "      <th>702</th>\n",
       "      <td>KAI</td>\n",
       "      <td>PAIGE</td>\n",
       "      <td>1.0</td>\n",
       "      <td>37540.74</td>\n",
       "    </tr>\n",
       "    <tr>\n",
       "      <th>120</th>\n",
       "      <td>AURELIUS</td>\n",
       "      <td>CHRISTIAN</td>\n",
       "      <td>1.0</td>\n",
       "      <td>36250.00</td>\n",
       "    </tr>\n",
       "  </tbody>\n",
       "</table>\n",
       "</div>"
      ],
      "text/plain": [
       "                    f_name                          lname_or_org  supp_opp  \\\n",
       "508   HEATHER               RICKETTS                                   1.0   \n",
       "341   DENNIS                LENNOX                                     1.0   \n",
       "721   KATHRYN               FAHEY                                      1.0   \n",
       "534   JACK                  JENNINGS                                   1.0   \n",
       "171   BRIAN                 CALLEY ^                                   1.0   \n",
       "1183  SCOTT                 DREXEL                                     1.0   \n",
       "561   JAMES                 LANCASTER                                  1.0   \n",
       "812   LENORE                GOLDMAN                                    1.0   \n",
       "702   KAI                   PAIGE                                      1.0   \n",
       "120   AURELIUS              CHRISTIAN                                  1.0   \n",
       "\n",
       "        amount  \n",
       "508   78985.66  \n",
       "341   72217.11  \n",
       "721   60235.15  \n",
       "534   58293.37  \n",
       "171   58000.00  \n",
       "1183  51488.27  \n",
       "561   45817.00  \n",
       "812   39219.42  \n",
       "702   37540.74  \n",
       "120   36250.00  "
      ]
     },
     "metadata": {},
     "output_type": "display_data"
    }
   ],
   "source": [
    "# Top Expenditures supporting a Candidate or Ballot Issue\n",
    "\n",
    "top_10_individual_recipients = merged_expenditure_df[\n",
    "    (merged_expenditure_df[\"lname_or_org\"].notnull())\n",
    "    & (merged_expenditure_df[\"f_name\"].notnull())\n",
    "]\n",
    "top_10_individual_recipients = (\n",
    "    top_10_individual_recipients.groupby([\"f_name\", \"lname_or_org\", \"supp_opp\"])[\n",
    "        \"amount\"\n",
    "    ]\n",
    "    .sum()\n",
    "    .reset_index()\n",
    ")\n",
    "top_10_individual_recipients = top_10_individual_recipients.sort_values(\n",
    "    by=\"amount\", ascending=False\n",
    ").head(10)\n",
    "display(top_10_individual_recipients)"
   ]
  },
  {
   "cell_type": "code",
   "execution_count": 10,
   "metadata": {},
   "outputs": [
    {
     "data": {
      "text/html": [
       "<div>\n",
       "<style scoped>\n",
       "    .dataframe tbody tr th:only-of-type {\n",
       "        vertical-align: middle;\n",
       "    }\n",
       "\n",
       "    .dataframe tbody tr th {\n",
       "        vertical-align: top;\n",
       "    }\n",
       "\n",
       "    .dataframe thead th {\n",
       "        text-align: right;\n",
       "    }\n",
       "</style>\n",
       "<table border=\"1\" class=\"dataframe\">\n",
       "  <thead>\n",
       "    <tr style=\"text-align: right;\">\n",
       "      <th></th>\n",
       "      <th>f_name</th>\n",
       "      <th>lname_or_org</th>\n",
       "      <th>supp_opp</th>\n",
       "      <th>amount</th>\n",
       "    </tr>\n",
       "  </thead>\n",
       "  <tbody>\n",
       "    <tr>\n",
       "      <th>35</th>\n",
       "      <td>MICHAEL</td>\n",
       "      <td>GILMORE ESQ.</td>\n",
       "      <td>2.0</td>\n",
       "      <td>18532.26</td>\n",
       "    </tr>\n",
       "    <tr>\n",
       "      <th>32</th>\n",
       "      <td>LINDA</td>\n",
       "      <td>KOJIRO</td>\n",
       "      <td>2.0</td>\n",
       "      <td>5550.00</td>\n",
       "    </tr>\n",
       "    <tr>\n",
       "      <th>10</th>\n",
       "      <td>CLAUDIA</td>\n",
       "      <td>RODRIGUEZ</td>\n",
       "      <td>2.0</td>\n",
       "      <td>2556.90</td>\n",
       "    </tr>\n",
       "    <tr>\n",
       "      <th>11</th>\n",
       "      <td>CODY</td>\n",
       "      <td>WETHERILL</td>\n",
       "      <td>2.0</td>\n",
       "      <td>1597.74</td>\n",
       "    </tr>\n",
       "    <tr>\n",
       "      <th>19</th>\n",
       "      <td>GRETCHEN</td>\n",
       "      <td>WHITMER</td>\n",
       "      <td>2.0</td>\n",
       "      <td>1197.18</td>\n",
       "    </tr>\n",
       "    <tr>\n",
       "      <th>25</th>\n",
       "      <td>JENNIFER G</td>\n",
       "      <td>BARKER</td>\n",
       "      <td>2.0</td>\n",
       "      <td>950.00</td>\n",
       "    </tr>\n",
       "    <tr>\n",
       "      <th>12</th>\n",
       "      <td>DALE</td>\n",
       "      <td>KILDEE</td>\n",
       "      <td>2.0</td>\n",
       "      <td>579.14</td>\n",
       "    </tr>\n",
       "    <tr>\n",
       "      <th>21</th>\n",
       "      <td>HILLARY</td>\n",
       "      <td>SCHOLTEN</td>\n",
       "      <td>2.0</td>\n",
       "      <td>502.27</td>\n",
       "    </tr>\n",
       "    <tr>\n",
       "      <th>7</th>\n",
       "      <td>BRADLEY</td>\n",
       "      <td>OCONNER</td>\n",
       "      <td>2.0</td>\n",
       "      <td>500.00</td>\n",
       "    </tr>\n",
       "    <tr>\n",
       "      <th>28</th>\n",
       "      <td>JONATHAN</td>\n",
       "      <td>MOY</td>\n",
       "      <td>2.0</td>\n",
       "      <td>458.80</td>\n",
       "    </tr>\n",
       "  </tbody>\n",
       "</table>\n",
       "</div>"
      ],
      "text/plain": [
       "                  f_name                          lname_or_org  supp_opp  \\\n",
       "35  MICHAEL               GILMORE ESQ.                               2.0   \n",
       "32  LINDA                 KOJIRO                                     2.0   \n",
       "10  CLAUDIA               RODRIGUEZ                                  2.0   \n",
       "11  CODY                  WETHERILL                                  2.0   \n",
       "19  GRETCHEN              WHITMER                                    2.0   \n",
       "25  JENNIFER G            BARKER                                     2.0   \n",
       "12  DALE                  KILDEE                                     2.0   \n",
       "21  HILLARY               SCHOLTEN                                   2.0   \n",
       "7   BRADLEY               OCONNER                                    2.0   \n",
       "28  JONATHAN              MOY                                        2.0   \n",
       "\n",
       "      amount  \n",
       "35  18532.26  \n",
       "32   5550.00  \n",
       "10   2556.90  \n",
       "11   1597.74  \n",
       "19   1197.18  \n",
       "25    950.00  \n",
       "12    579.14  \n",
       "21    502.27  \n",
       "7     500.00  \n",
       "28    458.80  "
      ]
     },
     "metadata": {},
     "output_type": "display_data"
    }
   ],
   "source": [
    "# Top Expenditures opposing an Office or Ballot Issue\n",
    "\n",
    "\n",
    "top_10_individual_recipients_opposing = merged_expenditure_df[\n",
    "    (merged_expenditure_df[\"lname_or_org\"].notnull())\n",
    "    & (merged_expenditure_df[\"f_name\"].notnull())\n",
    "    & (merged_expenditure_df[\"supp_opp\"] == 2.0)\n",
    "]\n",
    "top_10_individual_recipients_opposing = (\n",
    "    top_10_individual_recipients_opposing.groupby(\n",
    "        [\"f_name\", \"lname_or_org\", \"supp_opp\"]\n",
    "    )[\"amount\"]\n",
    "    .sum()\n",
    "    .reset_index()\n",
    ")\n",
    "top_10_individual_recipients_opposing = (\n",
    "    top_10_individual_recipients_opposing.sort_values(\n",
    "        by=\"amount\", ascending=False\n",
    "    ).head(10)\n",
    ")\n",
    "display(top_10_individual_recipients_opposing)"
   ]
  },
  {
   "cell_type": "code",
   "execution_count": 11,
   "metadata": {},
   "outputs": [
    {
     "data": {
      "text/html": [
       "<div>\n",
       "<style scoped>\n",
       "    .dataframe tbody tr th:only-of-type {\n",
       "        vertical-align: middle;\n",
       "    }\n",
       "\n",
       "    .dataframe tbody tr th {\n",
       "        vertical-align: top;\n",
       "    }\n",
       "\n",
       "    .dataframe thead th {\n",
       "        text-align: right;\n",
       "    }\n",
       "</style>\n",
       "<table border=\"1\" class=\"dataframe\">\n",
       "  <thead>\n",
       "    <tr style=\"text-align: right;\">\n",
       "      <th></th>\n",
       "      <th>lname_or_org</th>\n",
       "      <th>purpose</th>\n",
       "      <th>amount</th>\n",
       "    </tr>\n",
       "  </thead>\n",
       "  <tbody>\n",
       "    <tr>\n",
       "      <th>68303</th>\n",
       "      <td>KELLY SCOTT &amp; MADISON INC</td>\n",
       "      <td>MEDIA AD PLACEMENT</td>\n",
       "      <td>17453108.00</td>\n",
       "    </tr>\n",
       "    <tr>\n",
       "      <th>54063</th>\n",
       "      <td>GMMB</td>\n",
       "      <td>MEDIA BUY</td>\n",
       "      <td>16954706.00</td>\n",
       "    </tr>\n",
       "    <tr>\n",
       "      <th>86686</th>\n",
       "      <td>NATIONAL PETITION MANAGEMENT</td>\n",
       "      <td>PETITIONS; SIGNATURE GATHERING</td>\n",
       "      <td>9901099.24</td>\n",
       "    </tr>\n",
       "    <tr>\n",
       "      <th>82390</th>\n",
       "      <td>MICHIGAN DEMOCRATIC STATE CENTRAL CO</td>\n",
       "      <td>CONTRIBUTION</td>\n",
       "      <td>8157143.18</td>\n",
       "    </tr>\n",
       "    <tr>\n",
       "      <th>54071</th>\n",
       "      <td>GMMB</td>\n",
       "      <td>TV ADVERTISING</td>\n",
       "      <td>7477029.48</td>\n",
       "    </tr>\n",
       "    <tr>\n",
       "      <th>46123</th>\n",
       "      <td>FIELD WORKS LLC</td>\n",
       "      <td>PETITION GATHERING EXPENSES</td>\n",
       "      <td>7340198.76</td>\n",
       "    </tr>\n",
       "    <tr>\n",
       "      <th>69753</th>\n",
       "      <td>KNOW-HOW STRATEGIES</td>\n",
       "      <td>MEDIA BUY</td>\n",
       "      <td>6671420.08</td>\n",
       "    </tr>\n",
       "    <tr>\n",
       "      <th>111062</th>\n",
       "      <td>TARGETED PLATFORM MEDIA LLC</td>\n",
       "      <td>ADVERTISING</td>\n",
       "      <td>6551748.27</td>\n",
       "    </tr>\n",
       "    <tr>\n",
       "      <th>109018</th>\n",
       "      <td>STRATEGIC MEDIA PLACEMENT INC</td>\n",
       "      <td>PLACED MEDIA</td>\n",
       "      <td>5224802.00</td>\n",
       "    </tr>\n",
       "    <tr>\n",
       "      <th>46151</th>\n",
       "      <td>FIELDWORKS LLC</td>\n",
       "      <td>SIGNATURE GATHERING</td>\n",
       "      <td>5209286.84</td>\n",
       "    </tr>\n",
       "  </tbody>\n",
       "</table>\n",
       "</div>"
      ],
      "text/plain": [
       "                                lname_or_org                         purpose  \\\n",
       "68303   KELLY SCOTT & MADISON INC                         MEDIA AD PLACEMENT   \n",
       "54063   GMMB                                                       MEDIA BUY   \n",
       "86686   NATIONAL PETITION MANAGEMENT          PETITIONS; SIGNATURE GATHERING   \n",
       "82390   MICHIGAN DEMOCRATIC STATE CENTRAL CO                    CONTRIBUTION   \n",
       "54071   GMMB                                                  TV ADVERTISING   \n",
       "46123   FIELD WORKS LLC                          PETITION GATHERING EXPENSES   \n",
       "69753   KNOW-HOW STRATEGIES                                        MEDIA BUY   \n",
       "111062  TARGETED PLATFORM MEDIA LLC                              ADVERTISING   \n",
       "109018  STRATEGIC MEDIA PLACEMENT INC                           PLACED MEDIA   \n",
       "46151   FIELDWORKS LLC                                   SIGNATURE GATHERING   \n",
       "\n",
       "             amount  \n",
       "68303   17453108.00  \n",
       "54063   16954706.00  \n",
       "86686    9901099.24  \n",
       "82390    8157143.18  \n",
       "54071    7477029.48  \n",
       "46123    7340198.76  \n",
       "69753    6671420.08  \n",
       "111062   6551748.27  \n",
       "109018   5224802.00  \n",
       "46151    5209286.84  "
      ]
     },
     "metadata": {},
     "output_type": "display_data"
    }
   ],
   "source": [
    "# Top recipients of expenditures for organizations\n",
    "\n",
    "top_10_org_recipients = merged_expenditure_df[merged_expenditure_df[\"f_name\"].isnull()]\n",
    "top_10_org_recipients = (\n",
    "    top_10_org_recipients.groupby([\"lname_or_org\", \"purpose\"])[\"amount\"]\n",
    "    .sum()\n",
    "    .reset_index()\n",
    ")\n",
    "top_10_org_recipients = top_10_org_recipients.sort_values(\n",
    "    by=\"amount\", ascending=False\n",
    ").head(10)\n",
    "display(top_10_org_recipients)"
   ]
  },
  {
   "cell_type": "markdown",
   "metadata": {},
   "source": [
    "#### Question 4:\n",
    "- Make a bar chart with plotly comparing contributions by donor type or recipient type (PAC, individual, etc) and one comparing recipients by the office type they are running for\n",
    "\n",
    "MI Schedule Types (Schedule types to categorize different types of expenditures)\n",
    "- Direct (Itimized Direct Expenditures)\n",
    "- SUPP (Supplemental Expenditures)\n",
    "- Independent (Independent Expenditures)\n",
    "- Office (Office Expense Disbursements)\n",
    "- INKIND (In-Kind Expenditure)\n",
    "- GOTV (Get-Out-The-Vote Activity)\n",
    "\n",
    "MI Committee Tyoes\n",
    "- DIS (District Party Committee)\n",
    "- STA (State Party Committee)\n",
    "- BAL (Ballot Question Commmittee)\n",
    "- COU (County Part Committee)\n",
    "- POL (Political Action Committee)\n",
    "- GUB (Gubernatorial Commmittee)\n",
    "- CAN (Candidate Committee)\n",
    "- IND (Independent Political Action Committee)\n",
    "    "
   ]
  },
  {
   "cell_type": "code",
   "execution_count": 12,
   "metadata": {},
   "outputs": [],
   "source": [
    "schedule_type_count = (\n",
    "    merged_expenditure_df[\"schedule_desc\"].value_counts().reset_index()\n",
    ")\n",
    "schedule_type_count.columns = [\"Schedule_Type\", \"Count\"]"
   ]
  },
  {
   "cell_type": "code",
   "execution_count": 13,
   "metadata": {},
   "outputs": [
    {
     "data": {
      "application/vnd.plotly.v1+json": {
       "config": {
        "plotlyServerURL": "https://plot.ly"
       },
       "data": [
        {
         "alignmentgroup": "True",
         "hovertemplate": "Schedule_Type=%{x}<br>Count=%{text}<extra></extra>",
         "legendgroup": "",
         "marker": {
          "color": "#636efa",
          "pattern": {
           "shape": ""
          }
         },
         "name": "",
         "offsetgroup": "",
         "orientation": "v",
         "showlegend": false,
         "text": [
          319798,
          37178,
          30533,
          8592,
          8257,
          1853
         ],
         "textposition": "auto",
         "type": "bar",
         "x": [
          "DIRECT",
          "SUPP",
          "INDEPENDEN",
          "OFFICE",
          "INKIND",
          "GOTV"
         ],
         "xaxis": "x",
         "y": [
          319798,
          37178,
          30533,
          8592,
          8257,
          1853
         ],
         "yaxis": "y"
        }
       ],
       "layout": {
        "barmode": "relative",
        "legend": {
         "tracegroupgap": 0
        },
        "template": {
         "data": {
          "bar": [
           {
            "error_x": {
             "color": "#2a3f5f"
            },
            "error_y": {
             "color": "#2a3f5f"
            },
            "marker": {
             "line": {
              "color": "#E5ECF6",
              "width": 0.5
             },
             "pattern": {
              "fillmode": "overlay",
              "size": 10,
              "solidity": 0.2
             }
            },
            "type": "bar"
           }
          ],
          "barpolar": [
           {
            "marker": {
             "line": {
              "color": "#E5ECF6",
              "width": 0.5
             },
             "pattern": {
              "fillmode": "overlay",
              "size": 10,
              "solidity": 0.2
             }
            },
            "type": "barpolar"
           }
          ],
          "carpet": [
           {
            "aaxis": {
             "endlinecolor": "#2a3f5f",
             "gridcolor": "white",
             "linecolor": "white",
             "minorgridcolor": "white",
             "startlinecolor": "#2a3f5f"
            },
            "baxis": {
             "endlinecolor": "#2a3f5f",
             "gridcolor": "white",
             "linecolor": "white",
             "minorgridcolor": "white",
             "startlinecolor": "#2a3f5f"
            },
            "type": "carpet"
           }
          ],
          "choropleth": [
           {
            "colorbar": {
             "outlinewidth": 0,
             "ticks": ""
            },
            "type": "choropleth"
           }
          ],
          "contour": [
           {
            "colorbar": {
             "outlinewidth": 0,
             "ticks": ""
            },
            "colorscale": [
             [
              0,
              "#0d0887"
             ],
             [
              0.1111111111111111,
              "#46039f"
             ],
             [
              0.2222222222222222,
              "#7201a8"
             ],
             [
              0.3333333333333333,
              "#9c179e"
             ],
             [
              0.4444444444444444,
              "#bd3786"
             ],
             [
              0.5555555555555556,
              "#d8576b"
             ],
             [
              0.6666666666666666,
              "#ed7953"
             ],
             [
              0.7777777777777778,
              "#fb9f3a"
             ],
             [
              0.8888888888888888,
              "#fdca26"
             ],
             [
              1,
              "#f0f921"
             ]
            ],
            "type": "contour"
           }
          ],
          "contourcarpet": [
           {
            "colorbar": {
             "outlinewidth": 0,
             "ticks": ""
            },
            "type": "contourcarpet"
           }
          ],
          "heatmap": [
           {
            "colorbar": {
             "outlinewidth": 0,
             "ticks": ""
            },
            "colorscale": [
             [
              0,
              "#0d0887"
             ],
             [
              0.1111111111111111,
              "#46039f"
             ],
             [
              0.2222222222222222,
              "#7201a8"
             ],
             [
              0.3333333333333333,
              "#9c179e"
             ],
             [
              0.4444444444444444,
              "#bd3786"
             ],
             [
              0.5555555555555556,
              "#d8576b"
             ],
             [
              0.6666666666666666,
              "#ed7953"
             ],
             [
              0.7777777777777778,
              "#fb9f3a"
             ],
             [
              0.8888888888888888,
              "#fdca26"
             ],
             [
              1,
              "#f0f921"
             ]
            ],
            "type": "heatmap"
           }
          ],
          "heatmapgl": [
           {
            "colorbar": {
             "outlinewidth": 0,
             "ticks": ""
            },
            "colorscale": [
             [
              0,
              "#0d0887"
             ],
             [
              0.1111111111111111,
              "#46039f"
             ],
             [
              0.2222222222222222,
              "#7201a8"
             ],
             [
              0.3333333333333333,
              "#9c179e"
             ],
             [
              0.4444444444444444,
              "#bd3786"
             ],
             [
              0.5555555555555556,
              "#d8576b"
             ],
             [
              0.6666666666666666,
              "#ed7953"
             ],
             [
              0.7777777777777778,
              "#fb9f3a"
             ],
             [
              0.8888888888888888,
              "#fdca26"
             ],
             [
              1,
              "#f0f921"
             ]
            ],
            "type": "heatmapgl"
           }
          ],
          "histogram": [
           {
            "marker": {
             "pattern": {
              "fillmode": "overlay",
              "size": 10,
              "solidity": 0.2
             }
            },
            "type": "histogram"
           }
          ],
          "histogram2d": [
           {
            "colorbar": {
             "outlinewidth": 0,
             "ticks": ""
            },
            "colorscale": [
             [
              0,
              "#0d0887"
             ],
             [
              0.1111111111111111,
              "#46039f"
             ],
             [
              0.2222222222222222,
              "#7201a8"
             ],
             [
              0.3333333333333333,
              "#9c179e"
             ],
             [
              0.4444444444444444,
              "#bd3786"
             ],
             [
              0.5555555555555556,
              "#d8576b"
             ],
             [
              0.6666666666666666,
              "#ed7953"
             ],
             [
              0.7777777777777778,
              "#fb9f3a"
             ],
             [
              0.8888888888888888,
              "#fdca26"
             ],
             [
              1,
              "#f0f921"
             ]
            ],
            "type": "histogram2d"
           }
          ],
          "histogram2dcontour": [
           {
            "colorbar": {
             "outlinewidth": 0,
             "ticks": ""
            },
            "colorscale": [
             [
              0,
              "#0d0887"
             ],
             [
              0.1111111111111111,
              "#46039f"
             ],
             [
              0.2222222222222222,
              "#7201a8"
             ],
             [
              0.3333333333333333,
              "#9c179e"
             ],
             [
              0.4444444444444444,
              "#bd3786"
             ],
             [
              0.5555555555555556,
              "#d8576b"
             ],
             [
              0.6666666666666666,
              "#ed7953"
             ],
             [
              0.7777777777777778,
              "#fb9f3a"
             ],
             [
              0.8888888888888888,
              "#fdca26"
             ],
             [
              1,
              "#f0f921"
             ]
            ],
            "type": "histogram2dcontour"
           }
          ],
          "mesh3d": [
           {
            "colorbar": {
             "outlinewidth": 0,
             "ticks": ""
            },
            "type": "mesh3d"
           }
          ],
          "parcoords": [
           {
            "line": {
             "colorbar": {
              "outlinewidth": 0,
              "ticks": ""
             }
            },
            "type": "parcoords"
           }
          ],
          "pie": [
           {
            "automargin": true,
            "type": "pie"
           }
          ],
          "scatter": [
           {
            "fillpattern": {
             "fillmode": "overlay",
             "size": 10,
             "solidity": 0.2
            },
            "type": "scatter"
           }
          ],
          "scatter3d": [
           {
            "line": {
             "colorbar": {
              "outlinewidth": 0,
              "ticks": ""
             }
            },
            "marker": {
             "colorbar": {
              "outlinewidth": 0,
              "ticks": ""
             }
            },
            "type": "scatter3d"
           }
          ],
          "scattercarpet": [
           {
            "marker": {
             "colorbar": {
              "outlinewidth": 0,
              "ticks": ""
             }
            },
            "type": "scattercarpet"
           }
          ],
          "scattergeo": [
           {
            "marker": {
             "colorbar": {
              "outlinewidth": 0,
              "ticks": ""
             }
            },
            "type": "scattergeo"
           }
          ],
          "scattergl": [
           {
            "marker": {
             "colorbar": {
              "outlinewidth": 0,
              "ticks": ""
             }
            },
            "type": "scattergl"
           }
          ],
          "scattermapbox": [
           {
            "marker": {
             "colorbar": {
              "outlinewidth": 0,
              "ticks": ""
             }
            },
            "type": "scattermapbox"
           }
          ],
          "scatterpolar": [
           {
            "marker": {
             "colorbar": {
              "outlinewidth": 0,
              "ticks": ""
             }
            },
            "type": "scatterpolar"
           }
          ],
          "scatterpolargl": [
           {
            "marker": {
             "colorbar": {
              "outlinewidth": 0,
              "ticks": ""
             }
            },
            "type": "scatterpolargl"
           }
          ],
          "scatterternary": [
           {
            "marker": {
             "colorbar": {
              "outlinewidth": 0,
              "ticks": ""
             }
            },
            "type": "scatterternary"
           }
          ],
          "surface": [
           {
            "colorbar": {
             "outlinewidth": 0,
             "ticks": ""
            },
            "colorscale": [
             [
              0,
              "#0d0887"
             ],
             [
              0.1111111111111111,
              "#46039f"
             ],
             [
              0.2222222222222222,
              "#7201a8"
             ],
             [
              0.3333333333333333,
              "#9c179e"
             ],
             [
              0.4444444444444444,
              "#bd3786"
             ],
             [
              0.5555555555555556,
              "#d8576b"
             ],
             [
              0.6666666666666666,
              "#ed7953"
             ],
             [
              0.7777777777777778,
              "#fb9f3a"
             ],
             [
              0.8888888888888888,
              "#fdca26"
             ],
             [
              1,
              "#f0f921"
             ]
            ],
            "type": "surface"
           }
          ],
          "table": [
           {
            "cells": {
             "fill": {
              "color": "#EBF0F8"
             },
             "line": {
              "color": "white"
             }
            },
            "header": {
             "fill": {
              "color": "#C8D4E3"
             },
             "line": {
              "color": "white"
             }
            },
            "type": "table"
           }
          ]
         },
         "layout": {
          "annotationdefaults": {
           "arrowcolor": "#2a3f5f",
           "arrowhead": 0,
           "arrowwidth": 1
          },
          "autotypenumbers": "strict",
          "coloraxis": {
           "colorbar": {
            "outlinewidth": 0,
            "ticks": ""
           }
          },
          "colorscale": {
           "diverging": [
            [
             0,
             "#8e0152"
            ],
            [
             0.1,
             "#c51b7d"
            ],
            [
             0.2,
             "#de77ae"
            ],
            [
             0.3,
             "#f1b6da"
            ],
            [
             0.4,
             "#fde0ef"
            ],
            [
             0.5,
             "#f7f7f7"
            ],
            [
             0.6,
             "#e6f5d0"
            ],
            [
             0.7,
             "#b8e186"
            ],
            [
             0.8,
             "#7fbc41"
            ],
            [
             0.9,
             "#4d9221"
            ],
            [
             1,
             "#276419"
            ]
           ],
           "sequential": [
            [
             0,
             "#0d0887"
            ],
            [
             0.1111111111111111,
             "#46039f"
            ],
            [
             0.2222222222222222,
             "#7201a8"
            ],
            [
             0.3333333333333333,
             "#9c179e"
            ],
            [
             0.4444444444444444,
             "#bd3786"
            ],
            [
             0.5555555555555556,
             "#d8576b"
            ],
            [
             0.6666666666666666,
             "#ed7953"
            ],
            [
             0.7777777777777778,
             "#fb9f3a"
            ],
            [
             0.8888888888888888,
             "#fdca26"
            ],
            [
             1,
             "#f0f921"
            ]
           ],
           "sequentialminus": [
            [
             0,
             "#0d0887"
            ],
            [
             0.1111111111111111,
             "#46039f"
            ],
            [
             0.2222222222222222,
             "#7201a8"
            ],
            [
             0.3333333333333333,
             "#9c179e"
            ],
            [
             0.4444444444444444,
             "#bd3786"
            ],
            [
             0.5555555555555556,
             "#d8576b"
            ],
            [
             0.6666666666666666,
             "#ed7953"
            ],
            [
             0.7777777777777778,
             "#fb9f3a"
            ],
            [
             0.8888888888888888,
             "#fdca26"
            ],
            [
             1,
             "#f0f921"
            ]
           ]
          },
          "colorway": [
           "#636efa",
           "#EF553B",
           "#00cc96",
           "#ab63fa",
           "#FFA15A",
           "#19d3f3",
           "#FF6692",
           "#B6E880",
           "#FF97FF",
           "#FECB52"
          ],
          "font": {
           "color": "#2a3f5f"
          },
          "geo": {
           "bgcolor": "white",
           "lakecolor": "white",
           "landcolor": "#E5ECF6",
           "showlakes": true,
           "showland": true,
           "subunitcolor": "white"
          },
          "hoverlabel": {
           "align": "left"
          },
          "hovermode": "closest",
          "mapbox": {
           "style": "light"
          },
          "paper_bgcolor": "white",
          "plot_bgcolor": "#E5ECF6",
          "polar": {
           "angularaxis": {
            "gridcolor": "white",
            "linecolor": "white",
            "ticks": ""
           },
           "bgcolor": "#E5ECF6",
           "radialaxis": {
            "gridcolor": "white",
            "linecolor": "white",
            "ticks": ""
           }
          },
          "scene": {
           "xaxis": {
            "backgroundcolor": "#E5ECF6",
            "gridcolor": "white",
            "gridwidth": 2,
            "linecolor": "white",
            "showbackground": true,
            "ticks": "",
            "zerolinecolor": "white"
           },
           "yaxis": {
            "backgroundcolor": "#E5ECF6",
            "gridcolor": "white",
            "gridwidth": 2,
            "linecolor": "white",
            "showbackground": true,
            "ticks": "",
            "zerolinecolor": "white"
           },
           "zaxis": {
            "backgroundcolor": "#E5ECF6",
            "gridcolor": "white",
            "gridwidth": 2,
            "linecolor": "white",
            "showbackground": true,
            "ticks": "",
            "zerolinecolor": "white"
           }
          },
          "shapedefaults": {
           "line": {
            "color": "#2a3f5f"
           }
          },
          "ternary": {
           "aaxis": {
            "gridcolor": "white",
            "linecolor": "white",
            "ticks": ""
           },
           "baxis": {
            "gridcolor": "white",
            "linecolor": "white",
            "ticks": ""
           },
           "bgcolor": "#E5ECF6",
           "caxis": {
            "gridcolor": "white",
            "linecolor": "white",
            "ticks": ""
           }
          },
          "title": {
           "x": 0.05
          },
          "xaxis": {
           "automargin": true,
           "gridcolor": "white",
           "linecolor": "white",
           "ticks": "",
           "title": {
            "standoff": 15
           },
           "zerolinecolor": "white",
           "zerolinewidth": 2
          },
          "yaxis": {
           "automargin": true,
           "gridcolor": "white",
           "linecolor": "white",
           "ticks": "",
           "title": {
            "standoff": 15
           },
           "zerolinecolor": "white",
           "zerolinewidth": 2
          }
         }
        },
        "title": {
         "text": "Michigan Expenditures by Schedule Type 2018-2023"
        },
        "xaxis": {
         "anchor": "y",
         "categoryorder": "total ascending",
         "domain": [
          0,
          1
         ],
         "title": {
          "text": "Schedule Types"
         }
        },
        "yaxis": {
         "anchor": "x",
         "domain": [
          0,
          1
         ],
         "title": {
          "text": "2018-2023 Count"
         }
        }
       }
      }
     },
     "metadata": {},
     "output_type": "display_data"
    }
   ],
   "source": [
    "fig = px.bar(\n",
    "    schedule_type_count,\n",
    "    x=\"Schedule_Type\",\n",
    "    y=\"Count\",\n",
    "    title=\"Michigan Expenditures by Schedule Type 2018-2023\",\n",
    "    text=\"Count\",\n",
    ")\n",
    "fig.update_layout(\n",
    "    xaxis_title=\"Schedule Types\",\n",
    "    yaxis_title=\"2018-2023 Count\",\n",
    "    xaxis={\"categoryorder\": \"total ascending\"},\n",
    ")\n",
    "fig.show()"
   ]
  },
  {
   "cell_type": "markdown",
   "metadata": {},
   "source": [
    "As shown in the visual above, a large majority of the expenditure schedule types are direct as opposedd to GOTV and INKIND. This visual coveres 2018 to 2023."
   ]
  },
  {
   "cell_type": "code",
   "execution_count": 14,
   "metadata": {},
   "outputs": [],
   "source": [
    "com_type_count = merged_expenditure_df[\"com_type\"].value_counts().reset_index()\n",
    "com_type_count.columns = [\"Committee_Type\", \"Count\"]"
   ]
  },
  {
   "cell_type": "code",
   "execution_count": 15,
   "metadata": {},
   "outputs": [
    {
     "data": {
      "application/vnd.plotly.v1+json": {
       "config": {
        "plotlyServerURL": "https://plot.ly"
       },
       "data": [
        {
         "alignmentgroup": "True",
         "hovertemplate": "Committee_Type=%{x}<br>Count=%{text}<extra></extra>",
         "legendgroup": "",
         "marker": {
          "color": "#636efa",
          "pattern": {
           "shape": ""
          }
         },
         "name": "",
         "offsetgroup": "",
         "orientation": "v",
         "showlegend": false,
         "text": [
          158786,
          129974,
          43153,
          31158,
          28678,
          9850,
          3185,
          1427
         ],
         "textposition": "auto",
         "type": "bar",
         "x": [
          "CAN",
          "IND",
          "POL",
          "COU",
          "GUB",
          "BAL",
          "STA",
          "DIS"
         ],
         "xaxis": "x",
         "y": [
          158786,
          129974,
          43153,
          31158,
          28678,
          9850,
          3185,
          1427
         ],
         "yaxis": "y"
        }
       ],
       "layout": {
        "barmode": "relative",
        "legend": {
         "tracegroupgap": 0
        },
        "template": {
         "data": {
          "bar": [
           {
            "error_x": {
             "color": "#2a3f5f"
            },
            "error_y": {
             "color": "#2a3f5f"
            },
            "marker": {
             "line": {
              "color": "#E5ECF6",
              "width": 0.5
             },
             "pattern": {
              "fillmode": "overlay",
              "size": 10,
              "solidity": 0.2
             }
            },
            "type": "bar"
           }
          ],
          "barpolar": [
           {
            "marker": {
             "line": {
              "color": "#E5ECF6",
              "width": 0.5
             },
             "pattern": {
              "fillmode": "overlay",
              "size": 10,
              "solidity": 0.2
             }
            },
            "type": "barpolar"
           }
          ],
          "carpet": [
           {
            "aaxis": {
             "endlinecolor": "#2a3f5f",
             "gridcolor": "white",
             "linecolor": "white",
             "minorgridcolor": "white",
             "startlinecolor": "#2a3f5f"
            },
            "baxis": {
             "endlinecolor": "#2a3f5f",
             "gridcolor": "white",
             "linecolor": "white",
             "minorgridcolor": "white",
             "startlinecolor": "#2a3f5f"
            },
            "type": "carpet"
           }
          ],
          "choropleth": [
           {
            "colorbar": {
             "outlinewidth": 0,
             "ticks": ""
            },
            "type": "choropleth"
           }
          ],
          "contour": [
           {
            "colorbar": {
             "outlinewidth": 0,
             "ticks": ""
            },
            "colorscale": [
             [
              0,
              "#0d0887"
             ],
             [
              0.1111111111111111,
              "#46039f"
             ],
             [
              0.2222222222222222,
              "#7201a8"
             ],
             [
              0.3333333333333333,
              "#9c179e"
             ],
             [
              0.4444444444444444,
              "#bd3786"
             ],
             [
              0.5555555555555556,
              "#d8576b"
             ],
             [
              0.6666666666666666,
              "#ed7953"
             ],
             [
              0.7777777777777778,
              "#fb9f3a"
             ],
             [
              0.8888888888888888,
              "#fdca26"
             ],
             [
              1,
              "#f0f921"
             ]
            ],
            "type": "contour"
           }
          ],
          "contourcarpet": [
           {
            "colorbar": {
             "outlinewidth": 0,
             "ticks": ""
            },
            "type": "contourcarpet"
           }
          ],
          "heatmap": [
           {
            "colorbar": {
             "outlinewidth": 0,
             "ticks": ""
            },
            "colorscale": [
             [
              0,
              "#0d0887"
             ],
             [
              0.1111111111111111,
              "#46039f"
             ],
             [
              0.2222222222222222,
              "#7201a8"
             ],
             [
              0.3333333333333333,
              "#9c179e"
             ],
             [
              0.4444444444444444,
              "#bd3786"
             ],
             [
              0.5555555555555556,
              "#d8576b"
             ],
             [
              0.6666666666666666,
              "#ed7953"
             ],
             [
              0.7777777777777778,
              "#fb9f3a"
             ],
             [
              0.8888888888888888,
              "#fdca26"
             ],
             [
              1,
              "#f0f921"
             ]
            ],
            "type": "heatmap"
           }
          ],
          "heatmapgl": [
           {
            "colorbar": {
             "outlinewidth": 0,
             "ticks": ""
            },
            "colorscale": [
             [
              0,
              "#0d0887"
             ],
             [
              0.1111111111111111,
              "#46039f"
             ],
             [
              0.2222222222222222,
              "#7201a8"
             ],
             [
              0.3333333333333333,
              "#9c179e"
             ],
             [
              0.4444444444444444,
              "#bd3786"
             ],
             [
              0.5555555555555556,
              "#d8576b"
             ],
             [
              0.6666666666666666,
              "#ed7953"
             ],
             [
              0.7777777777777778,
              "#fb9f3a"
             ],
             [
              0.8888888888888888,
              "#fdca26"
             ],
             [
              1,
              "#f0f921"
             ]
            ],
            "type": "heatmapgl"
           }
          ],
          "histogram": [
           {
            "marker": {
             "pattern": {
              "fillmode": "overlay",
              "size": 10,
              "solidity": 0.2
             }
            },
            "type": "histogram"
           }
          ],
          "histogram2d": [
           {
            "colorbar": {
             "outlinewidth": 0,
             "ticks": ""
            },
            "colorscale": [
             [
              0,
              "#0d0887"
             ],
             [
              0.1111111111111111,
              "#46039f"
             ],
             [
              0.2222222222222222,
              "#7201a8"
             ],
             [
              0.3333333333333333,
              "#9c179e"
             ],
             [
              0.4444444444444444,
              "#bd3786"
             ],
             [
              0.5555555555555556,
              "#d8576b"
             ],
             [
              0.6666666666666666,
              "#ed7953"
             ],
             [
              0.7777777777777778,
              "#fb9f3a"
             ],
             [
              0.8888888888888888,
              "#fdca26"
             ],
             [
              1,
              "#f0f921"
             ]
            ],
            "type": "histogram2d"
           }
          ],
          "histogram2dcontour": [
           {
            "colorbar": {
             "outlinewidth": 0,
             "ticks": ""
            },
            "colorscale": [
             [
              0,
              "#0d0887"
             ],
             [
              0.1111111111111111,
              "#46039f"
             ],
             [
              0.2222222222222222,
              "#7201a8"
             ],
             [
              0.3333333333333333,
              "#9c179e"
             ],
             [
              0.4444444444444444,
              "#bd3786"
             ],
             [
              0.5555555555555556,
              "#d8576b"
             ],
             [
              0.6666666666666666,
              "#ed7953"
             ],
             [
              0.7777777777777778,
              "#fb9f3a"
             ],
             [
              0.8888888888888888,
              "#fdca26"
             ],
             [
              1,
              "#f0f921"
             ]
            ],
            "type": "histogram2dcontour"
           }
          ],
          "mesh3d": [
           {
            "colorbar": {
             "outlinewidth": 0,
             "ticks": ""
            },
            "type": "mesh3d"
           }
          ],
          "parcoords": [
           {
            "line": {
             "colorbar": {
              "outlinewidth": 0,
              "ticks": ""
             }
            },
            "type": "parcoords"
           }
          ],
          "pie": [
           {
            "automargin": true,
            "type": "pie"
           }
          ],
          "scatter": [
           {
            "fillpattern": {
             "fillmode": "overlay",
             "size": 10,
             "solidity": 0.2
            },
            "type": "scatter"
           }
          ],
          "scatter3d": [
           {
            "line": {
             "colorbar": {
              "outlinewidth": 0,
              "ticks": ""
             }
            },
            "marker": {
             "colorbar": {
              "outlinewidth": 0,
              "ticks": ""
             }
            },
            "type": "scatter3d"
           }
          ],
          "scattercarpet": [
           {
            "marker": {
             "colorbar": {
              "outlinewidth": 0,
              "ticks": ""
             }
            },
            "type": "scattercarpet"
           }
          ],
          "scattergeo": [
           {
            "marker": {
             "colorbar": {
              "outlinewidth": 0,
              "ticks": ""
             }
            },
            "type": "scattergeo"
           }
          ],
          "scattergl": [
           {
            "marker": {
             "colorbar": {
              "outlinewidth": 0,
              "ticks": ""
             }
            },
            "type": "scattergl"
           }
          ],
          "scattermapbox": [
           {
            "marker": {
             "colorbar": {
              "outlinewidth": 0,
              "ticks": ""
             }
            },
            "type": "scattermapbox"
           }
          ],
          "scatterpolar": [
           {
            "marker": {
             "colorbar": {
              "outlinewidth": 0,
              "ticks": ""
             }
            },
            "type": "scatterpolar"
           }
          ],
          "scatterpolargl": [
           {
            "marker": {
             "colorbar": {
              "outlinewidth": 0,
              "ticks": ""
             }
            },
            "type": "scatterpolargl"
           }
          ],
          "scatterternary": [
           {
            "marker": {
             "colorbar": {
              "outlinewidth": 0,
              "ticks": ""
             }
            },
            "type": "scatterternary"
           }
          ],
          "surface": [
           {
            "colorbar": {
             "outlinewidth": 0,
             "ticks": ""
            },
            "colorscale": [
             [
              0,
              "#0d0887"
             ],
             [
              0.1111111111111111,
              "#46039f"
             ],
             [
              0.2222222222222222,
              "#7201a8"
             ],
             [
              0.3333333333333333,
              "#9c179e"
             ],
             [
              0.4444444444444444,
              "#bd3786"
             ],
             [
              0.5555555555555556,
              "#d8576b"
             ],
             [
              0.6666666666666666,
              "#ed7953"
             ],
             [
              0.7777777777777778,
              "#fb9f3a"
             ],
             [
              0.8888888888888888,
              "#fdca26"
             ],
             [
              1,
              "#f0f921"
             ]
            ],
            "type": "surface"
           }
          ],
          "table": [
           {
            "cells": {
             "fill": {
              "color": "#EBF0F8"
             },
             "line": {
              "color": "white"
             }
            },
            "header": {
             "fill": {
              "color": "#C8D4E3"
             },
             "line": {
              "color": "white"
             }
            },
            "type": "table"
           }
          ]
         },
         "layout": {
          "annotationdefaults": {
           "arrowcolor": "#2a3f5f",
           "arrowhead": 0,
           "arrowwidth": 1
          },
          "autotypenumbers": "strict",
          "coloraxis": {
           "colorbar": {
            "outlinewidth": 0,
            "ticks": ""
           }
          },
          "colorscale": {
           "diverging": [
            [
             0,
             "#8e0152"
            ],
            [
             0.1,
             "#c51b7d"
            ],
            [
             0.2,
             "#de77ae"
            ],
            [
             0.3,
             "#f1b6da"
            ],
            [
             0.4,
             "#fde0ef"
            ],
            [
             0.5,
             "#f7f7f7"
            ],
            [
             0.6,
             "#e6f5d0"
            ],
            [
             0.7,
             "#b8e186"
            ],
            [
             0.8,
             "#7fbc41"
            ],
            [
             0.9,
             "#4d9221"
            ],
            [
             1,
             "#276419"
            ]
           ],
           "sequential": [
            [
             0,
             "#0d0887"
            ],
            [
             0.1111111111111111,
             "#46039f"
            ],
            [
             0.2222222222222222,
             "#7201a8"
            ],
            [
             0.3333333333333333,
             "#9c179e"
            ],
            [
             0.4444444444444444,
             "#bd3786"
            ],
            [
             0.5555555555555556,
             "#d8576b"
            ],
            [
             0.6666666666666666,
             "#ed7953"
            ],
            [
             0.7777777777777778,
             "#fb9f3a"
            ],
            [
             0.8888888888888888,
             "#fdca26"
            ],
            [
             1,
             "#f0f921"
            ]
           ],
           "sequentialminus": [
            [
             0,
             "#0d0887"
            ],
            [
             0.1111111111111111,
             "#46039f"
            ],
            [
             0.2222222222222222,
             "#7201a8"
            ],
            [
             0.3333333333333333,
             "#9c179e"
            ],
            [
             0.4444444444444444,
             "#bd3786"
            ],
            [
             0.5555555555555556,
             "#d8576b"
            ],
            [
             0.6666666666666666,
             "#ed7953"
            ],
            [
             0.7777777777777778,
             "#fb9f3a"
            ],
            [
             0.8888888888888888,
             "#fdca26"
            ],
            [
             1,
             "#f0f921"
            ]
           ]
          },
          "colorway": [
           "#636efa",
           "#EF553B",
           "#00cc96",
           "#ab63fa",
           "#FFA15A",
           "#19d3f3",
           "#FF6692",
           "#B6E880",
           "#FF97FF",
           "#FECB52"
          ],
          "font": {
           "color": "#2a3f5f"
          },
          "geo": {
           "bgcolor": "white",
           "lakecolor": "white",
           "landcolor": "#E5ECF6",
           "showlakes": true,
           "showland": true,
           "subunitcolor": "white"
          },
          "hoverlabel": {
           "align": "left"
          },
          "hovermode": "closest",
          "mapbox": {
           "style": "light"
          },
          "paper_bgcolor": "white",
          "plot_bgcolor": "#E5ECF6",
          "polar": {
           "angularaxis": {
            "gridcolor": "white",
            "linecolor": "white",
            "ticks": ""
           },
           "bgcolor": "#E5ECF6",
           "radialaxis": {
            "gridcolor": "white",
            "linecolor": "white",
            "ticks": ""
           }
          },
          "scene": {
           "xaxis": {
            "backgroundcolor": "#E5ECF6",
            "gridcolor": "white",
            "gridwidth": 2,
            "linecolor": "white",
            "showbackground": true,
            "ticks": "",
            "zerolinecolor": "white"
           },
           "yaxis": {
            "backgroundcolor": "#E5ECF6",
            "gridcolor": "white",
            "gridwidth": 2,
            "linecolor": "white",
            "showbackground": true,
            "ticks": "",
            "zerolinecolor": "white"
           },
           "zaxis": {
            "backgroundcolor": "#E5ECF6",
            "gridcolor": "white",
            "gridwidth": 2,
            "linecolor": "white",
            "showbackground": true,
            "ticks": "",
            "zerolinecolor": "white"
           }
          },
          "shapedefaults": {
           "line": {
            "color": "#2a3f5f"
           }
          },
          "ternary": {
           "aaxis": {
            "gridcolor": "white",
            "linecolor": "white",
            "ticks": ""
           },
           "baxis": {
            "gridcolor": "white",
            "linecolor": "white",
            "ticks": ""
           },
           "bgcolor": "#E5ECF6",
           "caxis": {
            "gridcolor": "white",
            "linecolor": "white",
            "ticks": ""
           }
          },
          "title": {
           "x": 0.05
          },
          "xaxis": {
           "automargin": true,
           "gridcolor": "white",
           "linecolor": "white",
           "ticks": "",
           "title": {
            "standoff": 15
           },
           "zerolinecolor": "white",
           "zerolinewidth": 2
          },
          "yaxis": {
           "automargin": true,
           "gridcolor": "white",
           "linecolor": "white",
           "ticks": "",
           "title": {
            "standoff": 15
           },
           "zerolinecolor": "white",
           "zerolinewidth": 2
          }
         }
        },
        "title": {
         "text": "Michigan Contributons by Committee Type 2018-2023"
        },
        "xaxis": {
         "anchor": "y",
         "categoryorder": "total ascending",
         "domain": [
          0,
          1
         ],
         "title": {
          "text": "Committee Types"
         }
        },
        "yaxis": {
         "anchor": "x",
         "domain": [
          0,
          1
         ],
         "title": {
          "text": "1999-2023 Count"
         }
        }
       }
      }
     },
     "metadata": {},
     "output_type": "display_data"
    }
   ],
   "source": [
    "fig = px.bar(\n",
    "    com_type_count,\n",
    "    x=\"Committee_Type\",\n",
    "    y=\"Count\",\n",
    "    title=\"Michigan Contributons by Committee Type 2018-2023\",\n",
    "    text=\"Count\",\n",
    ")\n",
    "fig.update_layout(\n",
    "    xaxis_title=\"Committee Types\",\n",
    "    yaxis_title=\"1999-2023 Count\",\n",
    "    xaxis={\"categoryorder\": \"total ascending\"},\n",
    ")\n",
    "fig.show()"
   ]
  },
  {
   "cell_type": "markdown",
   "metadata": {},
   "source": [
    "As shown in the visual above, a large majority of campaign expenditures by committee type are Candidate Committees and Indpendent Expenditure Committees. This visual covers 2018 to 2023."
   ]
  },
  {
   "cell_type": "markdown",
   "metadata": {},
   "source": [
    "##### Plotting Contribution Type and Amounts by Year"
   ]
  },
  {
   "cell_type": "code",
   "execution_count": 16,
   "metadata": {},
   "outputs": [],
   "source": [
    "# Create the dropdown\n",
    "\n",
    "years = sorted(merged_expenditure_df[\"doc_stmnt_year\"].unique())\n",
    "\n",
    "# Create a toggle widget\n",
    "expenditure_year_selector = widgets.Dropdown(\n",
    "    options=years,\n",
    "    value=years[0],\n",
    "    description=\"Select Year: \",\n",
    "    button_style=\"primary\",\n",
    "    disabled=False,\n",
    ")"
   ]
  },
  {
   "cell_type": "markdown",
   "metadata": {},
   "source": [
    "#### Select a year below and rerun the cells"
   ]
  },
  {
   "cell_type": "code",
   "execution_count": 17,
   "metadata": {},
   "outputs": [
    {
     "data": {
      "application/vnd.jupyter.widget-view+json": {
       "model_id": "0cd65e4a6c3343519181375b0357c075",
       "version_major": 2,
       "version_minor": 0
      },
      "text/plain": [
       "Dropdown(description='Select Year: ', options=(2018, 2019, 2020, 2021, 2022, 2023), value=2018)"
      ]
     },
     "metadata": {},
     "output_type": "display_data"
    }
   ],
   "source": [
    "# Select a year\n",
    "display(expenditure_year_selector)"
   ]
  },
  {
   "cell_type": "code",
   "execution_count": 18,
   "metadata": {},
   "outputs": [
    {
     "data": {
      "application/vnd.plotly.v1+json": {
       "config": {
        "plotlyServerURL": "https://plot.ly"
       },
       "data": [
        {
         "alignmentgroup": "True",
         "hovertemplate": "Committee_Type=%{x}<br>Count=%{text}<extra></extra>",
         "legendgroup": "",
         "marker": {
          "color": "#636efa",
          "pattern": {
           "shape": ""
          }
         },
         "name": "",
         "offsetgroup": "",
         "orientation": "v",
         "showlegend": false,
         "text": [
          55419,
          27933,
          14459,
          11715,
          7665,
          3603,
          1112,
          323
         ],
         "textposition": "auto",
         "type": "bar",
         "x": [
          "CAN",
          "IND",
          "GUB",
          "POL",
          "COU",
          "BAL",
          "STA",
          "DIS"
         ],
         "xaxis": "x",
         "y": [
          55419,
          27933,
          14459,
          11715,
          7665,
          3603,
          1112,
          323
         ],
         "yaxis": "y"
        }
       ],
       "layout": {
        "barmode": "relative",
        "legend": {
         "tracegroupgap": 0
        },
        "template": {
         "data": {
          "bar": [
           {
            "error_x": {
             "color": "#2a3f5f"
            },
            "error_y": {
             "color": "#2a3f5f"
            },
            "marker": {
             "line": {
              "color": "#E5ECF6",
              "width": 0.5
             },
             "pattern": {
              "fillmode": "overlay",
              "size": 10,
              "solidity": 0.2
             }
            },
            "type": "bar"
           }
          ],
          "barpolar": [
           {
            "marker": {
             "line": {
              "color": "#E5ECF6",
              "width": 0.5
             },
             "pattern": {
              "fillmode": "overlay",
              "size": 10,
              "solidity": 0.2
             }
            },
            "type": "barpolar"
           }
          ],
          "carpet": [
           {
            "aaxis": {
             "endlinecolor": "#2a3f5f",
             "gridcolor": "white",
             "linecolor": "white",
             "minorgridcolor": "white",
             "startlinecolor": "#2a3f5f"
            },
            "baxis": {
             "endlinecolor": "#2a3f5f",
             "gridcolor": "white",
             "linecolor": "white",
             "minorgridcolor": "white",
             "startlinecolor": "#2a3f5f"
            },
            "type": "carpet"
           }
          ],
          "choropleth": [
           {
            "colorbar": {
             "outlinewidth": 0,
             "ticks": ""
            },
            "type": "choropleth"
           }
          ],
          "contour": [
           {
            "colorbar": {
             "outlinewidth": 0,
             "ticks": ""
            },
            "colorscale": [
             [
              0,
              "#0d0887"
             ],
             [
              0.1111111111111111,
              "#46039f"
             ],
             [
              0.2222222222222222,
              "#7201a8"
             ],
             [
              0.3333333333333333,
              "#9c179e"
             ],
             [
              0.4444444444444444,
              "#bd3786"
             ],
             [
              0.5555555555555556,
              "#d8576b"
             ],
             [
              0.6666666666666666,
              "#ed7953"
             ],
             [
              0.7777777777777778,
              "#fb9f3a"
             ],
             [
              0.8888888888888888,
              "#fdca26"
             ],
             [
              1,
              "#f0f921"
             ]
            ],
            "type": "contour"
           }
          ],
          "contourcarpet": [
           {
            "colorbar": {
             "outlinewidth": 0,
             "ticks": ""
            },
            "type": "contourcarpet"
           }
          ],
          "heatmap": [
           {
            "colorbar": {
             "outlinewidth": 0,
             "ticks": ""
            },
            "colorscale": [
             [
              0,
              "#0d0887"
             ],
             [
              0.1111111111111111,
              "#46039f"
             ],
             [
              0.2222222222222222,
              "#7201a8"
             ],
             [
              0.3333333333333333,
              "#9c179e"
             ],
             [
              0.4444444444444444,
              "#bd3786"
             ],
             [
              0.5555555555555556,
              "#d8576b"
             ],
             [
              0.6666666666666666,
              "#ed7953"
             ],
             [
              0.7777777777777778,
              "#fb9f3a"
             ],
             [
              0.8888888888888888,
              "#fdca26"
             ],
             [
              1,
              "#f0f921"
             ]
            ],
            "type": "heatmap"
           }
          ],
          "heatmapgl": [
           {
            "colorbar": {
             "outlinewidth": 0,
             "ticks": ""
            },
            "colorscale": [
             [
              0,
              "#0d0887"
             ],
             [
              0.1111111111111111,
              "#46039f"
             ],
             [
              0.2222222222222222,
              "#7201a8"
             ],
             [
              0.3333333333333333,
              "#9c179e"
             ],
             [
              0.4444444444444444,
              "#bd3786"
             ],
             [
              0.5555555555555556,
              "#d8576b"
             ],
             [
              0.6666666666666666,
              "#ed7953"
             ],
             [
              0.7777777777777778,
              "#fb9f3a"
             ],
             [
              0.8888888888888888,
              "#fdca26"
             ],
             [
              1,
              "#f0f921"
             ]
            ],
            "type": "heatmapgl"
           }
          ],
          "histogram": [
           {
            "marker": {
             "pattern": {
              "fillmode": "overlay",
              "size": 10,
              "solidity": 0.2
             }
            },
            "type": "histogram"
           }
          ],
          "histogram2d": [
           {
            "colorbar": {
             "outlinewidth": 0,
             "ticks": ""
            },
            "colorscale": [
             [
              0,
              "#0d0887"
             ],
             [
              0.1111111111111111,
              "#46039f"
             ],
             [
              0.2222222222222222,
              "#7201a8"
             ],
             [
              0.3333333333333333,
              "#9c179e"
             ],
             [
              0.4444444444444444,
              "#bd3786"
             ],
             [
              0.5555555555555556,
              "#d8576b"
             ],
             [
              0.6666666666666666,
              "#ed7953"
             ],
             [
              0.7777777777777778,
              "#fb9f3a"
             ],
             [
              0.8888888888888888,
              "#fdca26"
             ],
             [
              1,
              "#f0f921"
             ]
            ],
            "type": "histogram2d"
           }
          ],
          "histogram2dcontour": [
           {
            "colorbar": {
             "outlinewidth": 0,
             "ticks": ""
            },
            "colorscale": [
             [
              0,
              "#0d0887"
             ],
             [
              0.1111111111111111,
              "#46039f"
             ],
             [
              0.2222222222222222,
              "#7201a8"
             ],
             [
              0.3333333333333333,
              "#9c179e"
             ],
             [
              0.4444444444444444,
              "#bd3786"
             ],
             [
              0.5555555555555556,
              "#d8576b"
             ],
             [
              0.6666666666666666,
              "#ed7953"
             ],
             [
              0.7777777777777778,
              "#fb9f3a"
             ],
             [
              0.8888888888888888,
              "#fdca26"
             ],
             [
              1,
              "#f0f921"
             ]
            ],
            "type": "histogram2dcontour"
           }
          ],
          "mesh3d": [
           {
            "colorbar": {
             "outlinewidth": 0,
             "ticks": ""
            },
            "type": "mesh3d"
           }
          ],
          "parcoords": [
           {
            "line": {
             "colorbar": {
              "outlinewidth": 0,
              "ticks": ""
             }
            },
            "type": "parcoords"
           }
          ],
          "pie": [
           {
            "automargin": true,
            "type": "pie"
           }
          ],
          "scatter": [
           {
            "fillpattern": {
             "fillmode": "overlay",
             "size": 10,
             "solidity": 0.2
            },
            "type": "scatter"
           }
          ],
          "scatter3d": [
           {
            "line": {
             "colorbar": {
              "outlinewidth": 0,
              "ticks": ""
             }
            },
            "marker": {
             "colorbar": {
              "outlinewidth": 0,
              "ticks": ""
             }
            },
            "type": "scatter3d"
           }
          ],
          "scattercarpet": [
           {
            "marker": {
             "colorbar": {
              "outlinewidth": 0,
              "ticks": ""
             }
            },
            "type": "scattercarpet"
           }
          ],
          "scattergeo": [
           {
            "marker": {
             "colorbar": {
              "outlinewidth": 0,
              "ticks": ""
             }
            },
            "type": "scattergeo"
           }
          ],
          "scattergl": [
           {
            "marker": {
             "colorbar": {
              "outlinewidth": 0,
              "ticks": ""
             }
            },
            "type": "scattergl"
           }
          ],
          "scattermapbox": [
           {
            "marker": {
             "colorbar": {
              "outlinewidth": 0,
              "ticks": ""
             }
            },
            "type": "scattermapbox"
           }
          ],
          "scatterpolar": [
           {
            "marker": {
             "colorbar": {
              "outlinewidth": 0,
              "ticks": ""
             }
            },
            "type": "scatterpolar"
           }
          ],
          "scatterpolargl": [
           {
            "marker": {
             "colorbar": {
              "outlinewidth": 0,
              "ticks": ""
             }
            },
            "type": "scatterpolargl"
           }
          ],
          "scatterternary": [
           {
            "marker": {
             "colorbar": {
              "outlinewidth": 0,
              "ticks": ""
             }
            },
            "type": "scatterternary"
           }
          ],
          "surface": [
           {
            "colorbar": {
             "outlinewidth": 0,
             "ticks": ""
            },
            "colorscale": [
             [
              0,
              "#0d0887"
             ],
             [
              0.1111111111111111,
              "#46039f"
             ],
             [
              0.2222222222222222,
              "#7201a8"
             ],
             [
              0.3333333333333333,
              "#9c179e"
             ],
             [
              0.4444444444444444,
              "#bd3786"
             ],
             [
              0.5555555555555556,
              "#d8576b"
             ],
             [
              0.6666666666666666,
              "#ed7953"
             ],
             [
              0.7777777777777778,
              "#fb9f3a"
             ],
             [
              0.8888888888888888,
              "#fdca26"
             ],
             [
              1,
              "#f0f921"
             ]
            ],
            "type": "surface"
           }
          ],
          "table": [
           {
            "cells": {
             "fill": {
              "color": "#EBF0F8"
             },
             "line": {
              "color": "white"
             }
            },
            "header": {
             "fill": {
              "color": "#C8D4E3"
             },
             "line": {
              "color": "white"
             }
            },
            "type": "table"
           }
          ]
         },
         "layout": {
          "annotationdefaults": {
           "arrowcolor": "#2a3f5f",
           "arrowhead": 0,
           "arrowwidth": 1
          },
          "autotypenumbers": "strict",
          "coloraxis": {
           "colorbar": {
            "outlinewidth": 0,
            "ticks": ""
           }
          },
          "colorscale": {
           "diverging": [
            [
             0,
             "#8e0152"
            ],
            [
             0.1,
             "#c51b7d"
            ],
            [
             0.2,
             "#de77ae"
            ],
            [
             0.3,
             "#f1b6da"
            ],
            [
             0.4,
             "#fde0ef"
            ],
            [
             0.5,
             "#f7f7f7"
            ],
            [
             0.6,
             "#e6f5d0"
            ],
            [
             0.7,
             "#b8e186"
            ],
            [
             0.8,
             "#7fbc41"
            ],
            [
             0.9,
             "#4d9221"
            ],
            [
             1,
             "#276419"
            ]
           ],
           "sequential": [
            [
             0,
             "#0d0887"
            ],
            [
             0.1111111111111111,
             "#46039f"
            ],
            [
             0.2222222222222222,
             "#7201a8"
            ],
            [
             0.3333333333333333,
             "#9c179e"
            ],
            [
             0.4444444444444444,
             "#bd3786"
            ],
            [
             0.5555555555555556,
             "#d8576b"
            ],
            [
             0.6666666666666666,
             "#ed7953"
            ],
            [
             0.7777777777777778,
             "#fb9f3a"
            ],
            [
             0.8888888888888888,
             "#fdca26"
            ],
            [
             1,
             "#f0f921"
            ]
           ],
           "sequentialminus": [
            [
             0,
             "#0d0887"
            ],
            [
             0.1111111111111111,
             "#46039f"
            ],
            [
             0.2222222222222222,
             "#7201a8"
            ],
            [
             0.3333333333333333,
             "#9c179e"
            ],
            [
             0.4444444444444444,
             "#bd3786"
            ],
            [
             0.5555555555555556,
             "#d8576b"
            ],
            [
             0.6666666666666666,
             "#ed7953"
            ],
            [
             0.7777777777777778,
             "#fb9f3a"
            ],
            [
             0.8888888888888888,
             "#fdca26"
            ],
            [
             1,
             "#f0f921"
            ]
           ]
          },
          "colorway": [
           "#636efa",
           "#EF553B",
           "#00cc96",
           "#ab63fa",
           "#FFA15A",
           "#19d3f3",
           "#FF6692",
           "#B6E880",
           "#FF97FF",
           "#FECB52"
          ],
          "font": {
           "color": "#2a3f5f"
          },
          "geo": {
           "bgcolor": "white",
           "lakecolor": "white",
           "landcolor": "#E5ECF6",
           "showlakes": true,
           "showland": true,
           "subunitcolor": "white"
          },
          "hoverlabel": {
           "align": "left"
          },
          "hovermode": "closest",
          "mapbox": {
           "style": "light"
          },
          "paper_bgcolor": "white",
          "plot_bgcolor": "#E5ECF6",
          "polar": {
           "angularaxis": {
            "gridcolor": "white",
            "linecolor": "white",
            "ticks": ""
           },
           "bgcolor": "#E5ECF6",
           "radialaxis": {
            "gridcolor": "white",
            "linecolor": "white",
            "ticks": ""
           }
          },
          "scene": {
           "xaxis": {
            "backgroundcolor": "#E5ECF6",
            "gridcolor": "white",
            "gridwidth": 2,
            "linecolor": "white",
            "showbackground": true,
            "ticks": "",
            "zerolinecolor": "white"
           },
           "yaxis": {
            "backgroundcolor": "#E5ECF6",
            "gridcolor": "white",
            "gridwidth": 2,
            "linecolor": "white",
            "showbackground": true,
            "ticks": "",
            "zerolinecolor": "white"
           },
           "zaxis": {
            "backgroundcolor": "#E5ECF6",
            "gridcolor": "white",
            "gridwidth": 2,
            "linecolor": "white",
            "showbackground": true,
            "ticks": "",
            "zerolinecolor": "white"
           }
          },
          "shapedefaults": {
           "line": {
            "color": "#2a3f5f"
           }
          },
          "ternary": {
           "aaxis": {
            "gridcolor": "white",
            "linecolor": "white",
            "ticks": ""
           },
           "baxis": {
            "gridcolor": "white",
            "linecolor": "white",
            "ticks": ""
           },
           "bgcolor": "#E5ECF6",
           "caxis": {
            "gridcolor": "white",
            "linecolor": "white",
            "ticks": ""
           }
          },
          "title": {
           "x": 0.05
          },
          "xaxis": {
           "automargin": true,
           "gridcolor": "white",
           "linecolor": "white",
           "ticks": "",
           "title": {
            "standoff": 15
           },
           "zerolinecolor": "white",
           "zerolinewidth": 2
          },
          "yaxis": {
           "automargin": true,
           "gridcolor": "white",
           "linecolor": "white",
           "ticks": "",
           "title": {
            "standoff": 15
           },
           "zerolinecolor": "white",
           "zerolinewidth": 2
          }
         }
        },
        "title": {
         "text": "Expenditures by Committee Type from 2018"
        },
        "xaxis": {
         "anchor": "y",
         "categoryorder": "total ascending",
         "domain": [
          0,
          1
         ],
         "title": {
          "text": "Committee Types"
         }
        },
        "yaxis": {
         "anchor": "x",
         "domain": [
          0,
          1
         ],
         "title": {
          "text": "2018 Count"
         }
        }
       }
      }
     },
     "metadata": {},
     "output_type": "display_data"
    },
    {
     "data": {
      "application/vnd.plotly.v1+json": {
       "config": {
        "plotlyServerURL": "https://plot.ly"
       },
       "data": [
        {
         "alignmentgroup": "True",
         "hovertemplate": "Schedule_Type=%{x}<br>Count=%{text}<extra></extra>",
         "legendgroup": "",
         "marker": {
          "color": "#636efa",
          "pattern": {
           "shape": ""
          }
         },
         "name": "",
         "offsetgroup": "",
         "orientation": "v",
         "showlegend": false,
         "text": [
          90271,
          17813,
          8148,
          2916,
          2462,
          619
         ],
         "textposition": "auto",
         "type": "bar",
         "x": [
          "DIRECT",
          "SUPP",
          "INDEPENDEN",
          "OFFICE",
          "INKIND",
          "GOTV"
         ],
         "xaxis": "x",
         "y": [
          90271,
          17813,
          8148,
          2916,
          2462,
          619
         ],
         "yaxis": "y"
        }
       ],
       "layout": {
        "barmode": "relative",
        "legend": {
         "tracegroupgap": 0
        },
        "template": {
         "data": {
          "bar": [
           {
            "error_x": {
             "color": "#2a3f5f"
            },
            "error_y": {
             "color": "#2a3f5f"
            },
            "marker": {
             "line": {
              "color": "#E5ECF6",
              "width": 0.5
             },
             "pattern": {
              "fillmode": "overlay",
              "size": 10,
              "solidity": 0.2
             }
            },
            "type": "bar"
           }
          ],
          "barpolar": [
           {
            "marker": {
             "line": {
              "color": "#E5ECF6",
              "width": 0.5
             },
             "pattern": {
              "fillmode": "overlay",
              "size": 10,
              "solidity": 0.2
             }
            },
            "type": "barpolar"
           }
          ],
          "carpet": [
           {
            "aaxis": {
             "endlinecolor": "#2a3f5f",
             "gridcolor": "white",
             "linecolor": "white",
             "minorgridcolor": "white",
             "startlinecolor": "#2a3f5f"
            },
            "baxis": {
             "endlinecolor": "#2a3f5f",
             "gridcolor": "white",
             "linecolor": "white",
             "minorgridcolor": "white",
             "startlinecolor": "#2a3f5f"
            },
            "type": "carpet"
           }
          ],
          "choropleth": [
           {
            "colorbar": {
             "outlinewidth": 0,
             "ticks": ""
            },
            "type": "choropleth"
           }
          ],
          "contour": [
           {
            "colorbar": {
             "outlinewidth": 0,
             "ticks": ""
            },
            "colorscale": [
             [
              0,
              "#0d0887"
             ],
             [
              0.1111111111111111,
              "#46039f"
             ],
             [
              0.2222222222222222,
              "#7201a8"
             ],
             [
              0.3333333333333333,
              "#9c179e"
             ],
             [
              0.4444444444444444,
              "#bd3786"
             ],
             [
              0.5555555555555556,
              "#d8576b"
             ],
             [
              0.6666666666666666,
              "#ed7953"
             ],
             [
              0.7777777777777778,
              "#fb9f3a"
             ],
             [
              0.8888888888888888,
              "#fdca26"
             ],
             [
              1,
              "#f0f921"
             ]
            ],
            "type": "contour"
           }
          ],
          "contourcarpet": [
           {
            "colorbar": {
             "outlinewidth": 0,
             "ticks": ""
            },
            "type": "contourcarpet"
           }
          ],
          "heatmap": [
           {
            "colorbar": {
             "outlinewidth": 0,
             "ticks": ""
            },
            "colorscale": [
             [
              0,
              "#0d0887"
             ],
             [
              0.1111111111111111,
              "#46039f"
             ],
             [
              0.2222222222222222,
              "#7201a8"
             ],
             [
              0.3333333333333333,
              "#9c179e"
             ],
             [
              0.4444444444444444,
              "#bd3786"
             ],
             [
              0.5555555555555556,
              "#d8576b"
             ],
             [
              0.6666666666666666,
              "#ed7953"
             ],
             [
              0.7777777777777778,
              "#fb9f3a"
             ],
             [
              0.8888888888888888,
              "#fdca26"
             ],
             [
              1,
              "#f0f921"
             ]
            ],
            "type": "heatmap"
           }
          ],
          "heatmapgl": [
           {
            "colorbar": {
             "outlinewidth": 0,
             "ticks": ""
            },
            "colorscale": [
             [
              0,
              "#0d0887"
             ],
             [
              0.1111111111111111,
              "#46039f"
             ],
             [
              0.2222222222222222,
              "#7201a8"
             ],
             [
              0.3333333333333333,
              "#9c179e"
             ],
             [
              0.4444444444444444,
              "#bd3786"
             ],
             [
              0.5555555555555556,
              "#d8576b"
             ],
             [
              0.6666666666666666,
              "#ed7953"
             ],
             [
              0.7777777777777778,
              "#fb9f3a"
             ],
             [
              0.8888888888888888,
              "#fdca26"
             ],
             [
              1,
              "#f0f921"
             ]
            ],
            "type": "heatmapgl"
           }
          ],
          "histogram": [
           {
            "marker": {
             "pattern": {
              "fillmode": "overlay",
              "size": 10,
              "solidity": 0.2
             }
            },
            "type": "histogram"
           }
          ],
          "histogram2d": [
           {
            "colorbar": {
             "outlinewidth": 0,
             "ticks": ""
            },
            "colorscale": [
             [
              0,
              "#0d0887"
             ],
             [
              0.1111111111111111,
              "#46039f"
             ],
             [
              0.2222222222222222,
              "#7201a8"
             ],
             [
              0.3333333333333333,
              "#9c179e"
             ],
             [
              0.4444444444444444,
              "#bd3786"
             ],
             [
              0.5555555555555556,
              "#d8576b"
             ],
             [
              0.6666666666666666,
              "#ed7953"
             ],
             [
              0.7777777777777778,
              "#fb9f3a"
             ],
             [
              0.8888888888888888,
              "#fdca26"
             ],
             [
              1,
              "#f0f921"
             ]
            ],
            "type": "histogram2d"
           }
          ],
          "histogram2dcontour": [
           {
            "colorbar": {
             "outlinewidth": 0,
             "ticks": ""
            },
            "colorscale": [
             [
              0,
              "#0d0887"
             ],
             [
              0.1111111111111111,
              "#46039f"
             ],
             [
              0.2222222222222222,
              "#7201a8"
             ],
             [
              0.3333333333333333,
              "#9c179e"
             ],
             [
              0.4444444444444444,
              "#bd3786"
             ],
             [
              0.5555555555555556,
              "#d8576b"
             ],
             [
              0.6666666666666666,
              "#ed7953"
             ],
             [
              0.7777777777777778,
              "#fb9f3a"
             ],
             [
              0.8888888888888888,
              "#fdca26"
             ],
             [
              1,
              "#f0f921"
             ]
            ],
            "type": "histogram2dcontour"
           }
          ],
          "mesh3d": [
           {
            "colorbar": {
             "outlinewidth": 0,
             "ticks": ""
            },
            "type": "mesh3d"
           }
          ],
          "parcoords": [
           {
            "line": {
             "colorbar": {
              "outlinewidth": 0,
              "ticks": ""
             }
            },
            "type": "parcoords"
           }
          ],
          "pie": [
           {
            "automargin": true,
            "type": "pie"
           }
          ],
          "scatter": [
           {
            "fillpattern": {
             "fillmode": "overlay",
             "size": 10,
             "solidity": 0.2
            },
            "type": "scatter"
           }
          ],
          "scatter3d": [
           {
            "line": {
             "colorbar": {
              "outlinewidth": 0,
              "ticks": ""
             }
            },
            "marker": {
             "colorbar": {
              "outlinewidth": 0,
              "ticks": ""
             }
            },
            "type": "scatter3d"
           }
          ],
          "scattercarpet": [
           {
            "marker": {
             "colorbar": {
              "outlinewidth": 0,
              "ticks": ""
             }
            },
            "type": "scattercarpet"
           }
          ],
          "scattergeo": [
           {
            "marker": {
             "colorbar": {
              "outlinewidth": 0,
              "ticks": ""
             }
            },
            "type": "scattergeo"
           }
          ],
          "scattergl": [
           {
            "marker": {
             "colorbar": {
              "outlinewidth": 0,
              "ticks": ""
             }
            },
            "type": "scattergl"
           }
          ],
          "scattermapbox": [
           {
            "marker": {
             "colorbar": {
              "outlinewidth": 0,
              "ticks": ""
             }
            },
            "type": "scattermapbox"
           }
          ],
          "scatterpolar": [
           {
            "marker": {
             "colorbar": {
              "outlinewidth": 0,
              "ticks": ""
             }
            },
            "type": "scatterpolar"
           }
          ],
          "scatterpolargl": [
           {
            "marker": {
             "colorbar": {
              "outlinewidth": 0,
              "ticks": ""
             }
            },
            "type": "scatterpolargl"
           }
          ],
          "scatterternary": [
           {
            "marker": {
             "colorbar": {
              "outlinewidth": 0,
              "ticks": ""
             }
            },
            "type": "scatterternary"
           }
          ],
          "surface": [
           {
            "colorbar": {
             "outlinewidth": 0,
             "ticks": ""
            },
            "colorscale": [
             [
              0,
              "#0d0887"
             ],
             [
              0.1111111111111111,
              "#46039f"
             ],
             [
              0.2222222222222222,
              "#7201a8"
             ],
             [
              0.3333333333333333,
              "#9c179e"
             ],
             [
              0.4444444444444444,
              "#bd3786"
             ],
             [
              0.5555555555555556,
              "#d8576b"
             ],
             [
              0.6666666666666666,
              "#ed7953"
             ],
             [
              0.7777777777777778,
              "#fb9f3a"
             ],
             [
              0.8888888888888888,
              "#fdca26"
             ],
             [
              1,
              "#f0f921"
             ]
            ],
            "type": "surface"
           }
          ],
          "table": [
           {
            "cells": {
             "fill": {
              "color": "#EBF0F8"
             },
             "line": {
              "color": "white"
             }
            },
            "header": {
             "fill": {
              "color": "#C8D4E3"
             },
             "line": {
              "color": "white"
             }
            },
            "type": "table"
           }
          ]
         },
         "layout": {
          "annotationdefaults": {
           "arrowcolor": "#2a3f5f",
           "arrowhead": 0,
           "arrowwidth": 1
          },
          "autotypenumbers": "strict",
          "coloraxis": {
           "colorbar": {
            "outlinewidth": 0,
            "ticks": ""
           }
          },
          "colorscale": {
           "diverging": [
            [
             0,
             "#8e0152"
            ],
            [
             0.1,
             "#c51b7d"
            ],
            [
             0.2,
             "#de77ae"
            ],
            [
             0.3,
             "#f1b6da"
            ],
            [
             0.4,
             "#fde0ef"
            ],
            [
             0.5,
             "#f7f7f7"
            ],
            [
             0.6,
             "#e6f5d0"
            ],
            [
             0.7,
             "#b8e186"
            ],
            [
             0.8,
             "#7fbc41"
            ],
            [
             0.9,
             "#4d9221"
            ],
            [
             1,
             "#276419"
            ]
           ],
           "sequential": [
            [
             0,
             "#0d0887"
            ],
            [
             0.1111111111111111,
             "#46039f"
            ],
            [
             0.2222222222222222,
             "#7201a8"
            ],
            [
             0.3333333333333333,
             "#9c179e"
            ],
            [
             0.4444444444444444,
             "#bd3786"
            ],
            [
             0.5555555555555556,
             "#d8576b"
            ],
            [
             0.6666666666666666,
             "#ed7953"
            ],
            [
             0.7777777777777778,
             "#fb9f3a"
            ],
            [
             0.8888888888888888,
             "#fdca26"
            ],
            [
             1,
             "#f0f921"
            ]
           ],
           "sequentialminus": [
            [
             0,
             "#0d0887"
            ],
            [
             0.1111111111111111,
             "#46039f"
            ],
            [
             0.2222222222222222,
             "#7201a8"
            ],
            [
             0.3333333333333333,
             "#9c179e"
            ],
            [
             0.4444444444444444,
             "#bd3786"
            ],
            [
             0.5555555555555556,
             "#d8576b"
            ],
            [
             0.6666666666666666,
             "#ed7953"
            ],
            [
             0.7777777777777778,
             "#fb9f3a"
            ],
            [
             0.8888888888888888,
             "#fdca26"
            ],
            [
             1,
             "#f0f921"
            ]
           ]
          },
          "colorway": [
           "#636efa",
           "#EF553B",
           "#00cc96",
           "#ab63fa",
           "#FFA15A",
           "#19d3f3",
           "#FF6692",
           "#B6E880",
           "#FF97FF",
           "#FECB52"
          ],
          "font": {
           "color": "#2a3f5f"
          },
          "geo": {
           "bgcolor": "white",
           "lakecolor": "white",
           "landcolor": "#E5ECF6",
           "showlakes": true,
           "showland": true,
           "subunitcolor": "white"
          },
          "hoverlabel": {
           "align": "left"
          },
          "hovermode": "closest",
          "mapbox": {
           "style": "light"
          },
          "paper_bgcolor": "white",
          "plot_bgcolor": "#E5ECF6",
          "polar": {
           "angularaxis": {
            "gridcolor": "white",
            "linecolor": "white",
            "ticks": ""
           },
           "bgcolor": "#E5ECF6",
           "radialaxis": {
            "gridcolor": "white",
            "linecolor": "white",
            "ticks": ""
           }
          },
          "scene": {
           "xaxis": {
            "backgroundcolor": "#E5ECF6",
            "gridcolor": "white",
            "gridwidth": 2,
            "linecolor": "white",
            "showbackground": true,
            "ticks": "",
            "zerolinecolor": "white"
           },
           "yaxis": {
            "backgroundcolor": "#E5ECF6",
            "gridcolor": "white",
            "gridwidth": 2,
            "linecolor": "white",
            "showbackground": true,
            "ticks": "",
            "zerolinecolor": "white"
           },
           "zaxis": {
            "backgroundcolor": "#E5ECF6",
            "gridcolor": "white",
            "gridwidth": 2,
            "linecolor": "white",
            "showbackground": true,
            "ticks": "",
            "zerolinecolor": "white"
           }
          },
          "shapedefaults": {
           "line": {
            "color": "#2a3f5f"
           }
          },
          "ternary": {
           "aaxis": {
            "gridcolor": "white",
            "linecolor": "white",
            "ticks": ""
           },
           "baxis": {
            "gridcolor": "white",
            "linecolor": "white",
            "ticks": ""
           },
           "bgcolor": "#E5ECF6",
           "caxis": {
            "gridcolor": "white",
            "linecolor": "white",
            "ticks": ""
           }
          },
          "title": {
           "x": 0.05
          },
          "xaxis": {
           "automargin": true,
           "gridcolor": "white",
           "linecolor": "white",
           "ticks": "",
           "title": {
            "standoff": 15
           },
           "zerolinecolor": "white",
           "zerolinewidth": 2
          },
          "yaxis": {
           "automargin": true,
           "gridcolor": "white",
           "linecolor": "white",
           "ticks": "",
           "title": {
            "standoff": 15
           },
           "zerolinecolor": "white",
           "zerolinewidth": 2
          }
         }
        },
        "title": {
         "text": "Expenditures by Schedule Type from 2018"
        },
        "xaxis": {
         "anchor": "y",
         "categoryorder": "total ascending",
         "domain": [
          0,
          1
         ],
         "title": {
          "text": "Schedule Types"
         }
        },
        "yaxis": {
         "anchor": "x",
         "domain": [
          0,
          1
         ],
         "title": {
          "text": "2018 Count"
         }
        }
       }
      }
     },
     "metadata": {},
     "output_type": "display_data"
    }
   ],
   "source": [
    "update_expenditure_plots(expenditure_year_selector, merged_expenditure_df)"
   ]
  },
  {
   "cell_type": "markdown",
   "metadata": {},
   "source": [
    "---"
   ]
  },
  {
   "cell_type": "code",
   "execution_count": null,
   "metadata": {},
   "outputs": [],
   "source": [
    "# bar chart with contribution type\n",
    "contribution_type_count = (\n",
    "    merged_contribution_df[\"contribtype\"].value_counts().reset_index()\n",
    ")\n",
    "contribution_type_count.columns = [\"Cont_Type\", \"Count\"]"
   ]
  },
  {
   "cell_type": "code",
   "execution_count": null,
   "metadata": {},
   "outputs": [],
   "source": [
    "# Plot 2018-2023 Contributions by Type\n",
    "fig = px.bar(\n",
    "    contribution_type_count,\n",
    "    x=\"Cont_Type\",\n",
    "    y=\"Count\",\n",
    "    title=\"Michigan Committee Contributions Type\",\n",
    "    text=\"Count\",\n",
    ")\n",
    "fig.update_layout(\n",
    "    xaxis_title=\"Contribution Types\",\n",
    "    yaxis_title=\"2018-2023 Count\",\n",
    "    xaxis={\"categoryorder\": \"total ascending\"},\n",
    ")\n",
    "fig.show()"
   ]
  },
  {
   "cell_type": "markdown",
   "metadata": {},
   "source": [
    "#### Select a year below and rerun the cells"
   ]
  },
  {
   "cell_type": "code",
   "execution_count": null,
   "metadata": {},
   "outputs": [],
   "source": [
    "# Create the dropdown\n",
    "\n",
    "years = sorted(merged_contribution_df[\"doc_stmnt_year\"].unique())\n",
    "\n",
    "# Create a toggle widget\n",
    "contribution_year_selector = widgets.Dropdown(\n",
    "    options=years,\n",
    "    value=years[0],\n",
    "    description=\"Select Year: \",\n",
    "    button_style=\"primary\",\n",
    "    disabled=False,\n",
    ")"
   ]
  },
  {
   "cell_type": "code",
   "execution_count": null,
   "metadata": {},
   "outputs": [],
   "source": [
    "# Select a year\n",
    "display(contribution_year_selector)"
   ]
  },
  {
   "cell_type": "code",
   "execution_count": null,
   "metadata": {},
   "outputs": [],
   "source": [
    "# Graph by Year\n",
    "update_contribution_plots(contribution_year_selector, merged_contribution_df)"
   ]
  }
 ],
 "metadata": {
  "kernelspec": {
   "display_name": "Python 3",
   "language": "python",
   "name": "python3"
  },
  "language_info": {
   "codemirror_mode": {
    "name": "ipython",
    "version": 3
   },
   "file_extension": ".py",
   "mimetype": "text/x-python",
   "name": "python",
   "nbconvert_exporter": "python",
   "pygments_lexer": "ipython3",
   "version": "3.11.2"
  }
 },
 "nbformat": 4,
 "nbformat_minor": 2
}
