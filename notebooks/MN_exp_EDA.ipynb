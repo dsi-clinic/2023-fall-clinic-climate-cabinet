{
 "cells": [
  {
   "cell_type": "code",
   "execution_count": 29,
   "metadata": {},
   "outputs": [],
   "source": [
    "import pandas as pd\n",
    "import plotly.express as px\n",
    "import warnings\n",
    "warnings.filterwarnings('ignore')"
   ]
  },
  {
   "cell_type": "markdown",
   "metadata": {},
   "source": [
    "### Preliminary EDA on column content, combine into expenditure dataset"
   ]
  },
  {
   "cell_type": "code",
   "execution_count": 30,
   "metadata": {},
   "outputs": [],
   "source": [
    "df_general = pd.read_csv('/project/data/general_exp_con.csv')\n",
    "df_independent = pd.read_csv('/project/data/independent_exp.csv')"
   ]
  },
  {
   "cell_type": "code",
   "execution_count": 31,
   "metadata": {},
   "outputs": [
    {
     "data": {
      "text/plain": [
       "Index(['Committee reg num', 'Committee name', 'Entity type', 'Entity sub-type',\n",
       "       'Vendor name', 'Vendor address 1', 'Vendor address 2', 'Vendor city',\n",
       "       'Vendor state', 'Vendor zip', 'Amount', 'Unpaid amount', 'Date',\n",
       "       'Purpose', 'Year', 'Type', 'In-kind descr', 'In-kind?',\n",
       "       'Affected committee name', 'Affected committee reg num'],\n",
       "      dtype='object')"
      ]
     },
     "execution_count": 31,
     "metadata": {},
     "output_type": "execute_result"
    }
   ],
   "source": [
    "df_general.columns"
   ]
  },
  {
   "cell_type": "code",
   "execution_count": 32,
   "metadata": {},
   "outputs": [
    {
     "data": {
      "text/plain": [
       "Index(['Spender', 'Spender Reg Num', 'Spender type', 'Spender sub-type',\n",
       "       'Affected Comte Name', 'Affected Cmte Reg Num', 'For /Against', 'Year',\n",
       "       'Date', 'Type', 'Amount', 'Unpaid amount', 'In kind?', 'In kind descr',\n",
       "       'Purpose', 'Vendor name', 'Vendor address 1', 'Vendor address 2',\n",
       "       'Vendor city', 'Vendor State', 'Vendor zip'],\n",
       "      dtype='object')"
      ]
     },
     "execution_count": 32,
     "metadata": {},
     "output_type": "execute_result"
    }
   ],
   "source": [
    "df_independent.columns"
   ]
  },
  {
   "cell_type": "markdown",
   "metadata": {},
   "source": [
    "Columns to keep:\n",
    "- Year\n",
    "- Spender Reg Num: Committee reg num, Spender Reg Num\n",
    "- Spender Name: Committee name, Spender Name\n",
    "- Spender type: Entity type, Spender type\n",
    "- Spender sub-type: Entity sub-type, Spender sub-type\n",
    "- Vendor name\n",
    "- Vendor State: Vendor state, Vendor State\n",
    "- Vendor City: Vendor city, Vendor city\n",
    "- Amount\n",
    "- Unpaid amount\n",
    "- In kind?\n",
    "- In kind descr\n",
    "- Type\n",
    "- Purpose\n",
    "- Affected committee name\n",
    "- Affected committee reg num"
   ]
  },
  {
   "cell_type": "code",
   "execution_count": 33,
   "metadata": {},
   "outputs": [],
   "source": [
    "columns_to_keep = ['Year', 'Committee reg num', 'Committee name', 'Entity type', \n",
    "     'Entity sub-type', 'Vendor name', 'Vendor state', 'Vendor city', 'Amount', \n",
    "     'Unpaid amount', 'In-kind?', 'In-kind descr', 'Type', 'Purpose', \n",
    "     'Affected committee name', 'Affected committee reg num']\n",
    "df_general = df_general[columns_to_keep]\n",
    "column_mapping = {'Committee reg num': 'Spender Reg Num', 'Committee name': 'Spender Name',\n",
    "                    'Entity type': 'Spender type', 'Entity sub-type': 'Spender sub-type'}\n",
    "df_general.rename(columns=column_mapping, inplace=True)"
   ]
  },
  {
   "cell_type": "code",
   "execution_count": 34,
   "metadata": {},
   "outputs": [],
   "source": [
    "columns_to_keep1 = ['Year', 'Spender Reg Num', 'Spender', 'Spender type', \n",
    "     'Spender sub-type', 'Vendor name', 'Vendor State', 'Vendor city', 'Amount', \n",
    "     'Unpaid amount', 'In kind?', 'In kind descr', 'Type', 'Purpose', \n",
    "     'Affected Comte Name', 'Affected Cmte Reg Num']\n",
    "df_independent = df_independent[columns_to_keep1]\n",
    "column_mapping1 = {'Spender': 'Spender Name', 'Affected Comte Name': 'Affected committee name', \n",
    "                   'Affected Cmte Reg Num': 'Affected committee reg num',\n",
    "                    'Vendor State': 'Vendor state', 'In kind?': 'In-kind?', 'In kind descr': 'In-kind descr'}\n",
    "df_independent.rename(columns=column_mapping1, inplace=True)"
   ]
  },
  {
   "cell_type": "code",
   "execution_count": 35,
   "metadata": {},
   "outputs": [
    {
     "data": {
      "text/plain": [
       "array([ True,  True,  True,  True,  True,  True,  True,  True,  True,\n",
       "        True,  True,  True,  True,  True,  True,  True])"
      ]
     },
     "execution_count": 35,
     "metadata": {},
     "output_type": "execute_result"
    }
   ],
   "source": [
    "df_general.columns == df_independent.columns"
   ]
  },
  {
   "cell_type": "code",
   "execution_count": 36,
   "metadata": {},
   "outputs": [
    {
     "data": {
      "text/plain": [
       "array(['PCF'], dtype=object)"
      ]
     },
     "execution_count": 36,
     "metadata": {},
     "output_type": "execute_result"
    }
   ],
   "source": [
    "df_independent[df_independent['Year']==2023]['Spender type'].unique()"
   ]
  },
  {
   "cell_type": "code",
   "execution_count": 37,
   "metadata": {},
   "outputs": [
    {
     "data": {
      "text/plain": [
       "664190"
      ]
     },
     "execution_count": 37,
     "metadata": {},
     "output_type": "execute_result"
    }
   ],
   "source": [
    "df_expenditure = pd.concat([df_general, df_independent])\n",
    "len(df_expenditure)"
   ]
  },
  {
   "cell_type": "code",
   "execution_count": 38,
   "metadata": {},
   "outputs": [],
   "source": [
    "df_expenditure = df_expenditure.sort_values(by='Year', ascending=False)\n",
    "df_expenditure['TotalAmount'] = df_expenditure['Amount'] + df_expenditure['Unpaid amount']"
   ]
  },
  {
   "cell_type": "code",
   "execution_count": 39,
   "metadata": {},
   "outputs": [
    {
     "data": {
      "text/plain": [
       "Index(['Year', 'Spender Reg Num', 'Spender Name', 'Spender type',\n",
       "       'Spender sub-type', 'Vendor name', 'Vendor state', 'Vendor city',\n",
       "       'Amount', 'Unpaid amount', 'In-kind?', 'In-kind descr', 'Type',\n",
       "       'Purpose', 'Affected committee name', 'Affected committee reg num',\n",
       "       'TotalAmount'],\n",
       "      dtype='object')"
      ]
     },
     "execution_count": 39,
     "metadata": {},
     "output_type": "execute_result"
    }
   ],
   "source": [
    "df_expenditure.columns"
   ]
  },
  {
   "cell_type": "code",
   "execution_count": 40,
   "metadata": {},
   "outputs": [
    {
     "data": {
      "text/plain": [
       "array(['PCF', 'PTU', 'PCC'], dtype=object)"
      ]
     },
     "execution_count": 40,
     "metadata": {},
     "output_type": "execute_result"
    }
   ],
   "source": [
    "df_expenditure['Spender type'].unique()"
   ]
  },
  {
   "cell_type": "code",
   "execution_count": 41,
   "metadata": {},
   "outputs": [
    {
     "data": {
      "text/plain": [
       "array(['PF', 'PC', 'IEC', 'IEF', 'PFN', nan, 'PCN', 'BF', 'CAU', 'SPU',\n",
       "       'BC', 'BCN'], dtype=object)"
      ]
     },
     "execution_count": 41,
     "metadata": {},
     "output_type": "execute_result"
    }
   ],
   "source": [
    "df_expenditure['Spender sub-type'].unique()"
   ]
  },
  {
   "cell_type": "code",
   "execution_count": 42,
   "metadata": {},
   "outputs": [
    {
     "data": {
      "text/plain": [
       "Year                               0\n",
       "Spender Reg Num                    0\n",
       "Spender Name                      81\n",
       "Spender type                       0\n",
       "Spender sub-type              156052\n",
       "Vendor name                    38386\n",
       "Vendor state                   67437\n",
       "Vendor city                    67540\n",
       "Amount                             0\n",
       "Unpaid amount                      0\n",
       "In-kind?                           0\n",
       "In-kind descr                 639990\n",
       "Type                               0\n",
       "Purpose                        66290\n",
       "Affected committee name       236995\n",
       "Affected committee reg num    236693\n",
       "TotalAmount                        0\n",
       "dtype: int64"
      ]
     },
     "execution_count": 42,
     "metadata": {},
     "output_type": "execute_result"
    }
   ],
   "source": [
    "df_expenditure.isna().sum()"
   ]
  },
  {
   "cell_type": "markdown",
   "metadata": {},
   "source": [
    "Based on our definition of un-classifiable expenditure, missing values are 81 records with no spender name and 38386 records with no vendor name"
   ]
  },
  {
   "cell_type": "code",
   "execution_count": 43,
   "metadata": {},
   "outputs": [],
   "source": [
    "df_expenditure = df_expenditure.dropna(subset=['Spender Name'], how='any')\n",
    "df_expenditure = df_expenditure.dropna(subset=['Vendor name'], how='any')\n",
    "df_expenditure = df_expenditure.reset_index(drop=True)"
   ]
  },
  {
   "cell_type": "markdown",
   "metadata": {},
   "source": [
    "### Top 10 spenders and vendors"
   ]
  },
  {
   "cell_type": "code",
   "execution_count": 44,
   "metadata": {},
   "outputs": [
    {
     "data": {
      "text/plain": [
       "Year\n",
       "2015    1.826150e+07\n",
       "2016    5.248286e+07\n",
       "2017    1.539622e+07\n",
       "2018    9.433445e+07\n",
       "2019    1.809889e+07\n",
       "2020    7.093164e+07\n",
       "2021    1.910696e+07\n",
       "2022    2.783699e+09\n",
       "2023    4.029574e+06\n",
       "Name: Amount, dtype: float64"
      ]
     },
     "execution_count": 44,
     "metadata": {},
     "output_type": "execute_result"
    }
   ],
   "source": [
    "# Each year's total expenditure\n",
    "expenditure_by_year = df_expenditure.groupby('Year') \n",
    "expenditure_by_year['Amount'].sum()"
   ]
  },
  {
   "cell_type": "code",
   "execution_count": 45,
   "metadata": {},
   "outputs": [
    {
     "data": {
      "text/plain": [
       "Year\n",
       "2015    1.862398e+07\n",
       "2016    5.289815e+07\n",
       "2017    1.567732e+07\n",
       "2018    9.499453e+07\n",
       "2019    1.817134e+07\n",
       "2020    7.180199e+07\n",
       "2021    1.927631e+07\n",
       "2022    2.797621e+09\n",
       "2023    4.039811e+06\n",
       "Name: TotalAmount, dtype: float64"
      ]
     },
     "execution_count": 45,
     "metadata": {},
     "output_type": "execute_result"
    }
   ],
   "source": [
    "expenditure_by_year['TotalAmount'].sum()"
   ]
  },
  {
   "cell_type": "code",
   "execution_count": 46,
   "metadata": {},
   "outputs": [],
   "source": [
    "exp_by_year_spender = df_expenditure.groupby(\n",
    "    ['Year', 'Spender Name'])['TotalAmount'].sum().reset_index()\n",
    "\n",
    "top_10_spender = exp_by_year_spender.groupby('Year').apply(\n",
    "    lambda group: group.nlargest(10, 'TotalAmount')).reset_index(drop=True)"
   ]
  },
  {
   "cell_type": "code",
   "execution_count": 47,
   "metadata": {},
   "outputs": [
    {
     "data": {
      "text/html": [
       "<div>\n",
       "<style scoped>\n",
       "    .dataframe tbody tr th:only-of-type {\n",
       "        vertical-align: middle;\n",
       "    }\n",
       "\n",
       "    .dataframe tbody tr th {\n",
       "        vertical-align: top;\n",
       "    }\n",
       "\n",
       "    .dataframe thead th {\n",
       "        text-align: right;\n",
       "    }\n",
       "</style>\n",
       "<table border=\"1\" class=\"dataframe\">\n",
       "  <thead>\n",
       "    <tr style=\"text-align: right;\">\n",
       "      <th></th>\n",
       "      <th>Year</th>\n",
       "      <th>Spender Name</th>\n",
       "      <th>TotalAmount</th>\n",
       "    </tr>\n",
       "  </thead>\n",
       "  <tbody>\n",
       "    <tr>\n",
       "      <th>80</th>\n",
       "      <td>2023</td>\n",
       "      <td>All of Mpls</td>\n",
       "      <td>687248.70</td>\n",
       "    </tr>\n",
       "    <tr>\n",
       "      <th>81</th>\n",
       "      <td>2023</td>\n",
       "      <td>North Central States Carpenters PAC</td>\n",
       "      <td>464725.00</td>\n",
       "    </tr>\n",
       "    <tr>\n",
       "      <th>82</th>\n",
       "      <td>2023</td>\n",
       "      <td>TakeAction Political Fund</td>\n",
       "      <td>463045.58</td>\n",
       "    </tr>\n",
       "    <tr>\n",
       "      <th>83</th>\n",
       "      <td>2023</td>\n",
       "      <td>Laborers District Council of Minn &amp; ND Pol Fund</td>\n",
       "      <td>431124.75</td>\n",
       "    </tr>\n",
       "    <tr>\n",
       "      <th>84</th>\n",
       "      <td>2023</td>\n",
       "      <td>AFSCME Council 5 PEOPLE Fund</td>\n",
       "      <td>217654.19</td>\n",
       "    </tr>\n",
       "    <tr>\n",
       "      <th>85</th>\n",
       "      <td>2023</td>\n",
       "      <td>Sheet Metal Workers PAC 10</td>\n",
       "      <td>181700.00</td>\n",
       "    </tr>\n",
       "    <tr>\n",
       "      <th>86</th>\n",
       "      <td>2023</td>\n",
       "      <td>Joint Council 32 DRIVE</td>\n",
       "      <td>158782.34</td>\n",
       "    </tr>\n",
       "    <tr>\n",
       "      <th>87</th>\n",
       "      <td>2023</td>\n",
       "      <td>IBEW Local 292 Political Education Fund</td>\n",
       "      <td>137814.66</td>\n",
       "    </tr>\n",
       "    <tr>\n",
       "      <th>88</th>\n",
       "      <td>2023</td>\n",
       "      <td>MN State Bldg &amp; Construction Trades Cncl Pol Fund</td>\n",
       "      <td>123150.00</td>\n",
       "    </tr>\n",
       "    <tr>\n",
       "      <th>89</th>\n",
       "      <td>2023</td>\n",
       "      <td>International Union of Operating Engineers</td>\n",
       "      <td>121200.00</td>\n",
       "    </tr>\n",
       "  </tbody>\n",
       "</table>\n",
       "</div>"
      ],
      "text/plain": [
       "    Year                                       Spender Name  TotalAmount\n",
       "80  2023                                        All of Mpls    687248.70\n",
       "81  2023                North Central States Carpenters PAC    464725.00\n",
       "82  2023                          TakeAction Political Fund    463045.58\n",
       "83  2023    Laborers District Council of Minn & ND Pol Fund    431124.75\n",
       "84  2023                       AFSCME Council 5 PEOPLE Fund    217654.19\n",
       "85  2023                         Sheet Metal Workers PAC 10    181700.00\n",
       "86  2023                             Joint Council 32 DRIVE    158782.34\n",
       "87  2023            IBEW Local 292 Political Education Fund    137814.66\n",
       "88  2023  MN State Bldg & Construction Trades Cncl Pol Fund    123150.00\n",
       "89  2023         International Union of Operating Engineers    121200.00"
      ]
     },
     "execution_count": 47,
     "metadata": {},
     "output_type": "execute_result"
    }
   ],
   "source": [
    "top_10_spender[-10:]"
   ]
  },
  {
   "cell_type": "code",
   "execution_count": 48,
   "metadata": {},
   "outputs": [
    {
     "data": {
      "text/html": [
       "<div>\n",
       "<style scoped>\n",
       "    .dataframe tbody tr th:only-of-type {\n",
       "        vertical-align: middle;\n",
       "    }\n",
       "\n",
       "    .dataframe tbody tr th {\n",
       "        vertical-align: top;\n",
       "    }\n",
       "\n",
       "    .dataframe thead th {\n",
       "        text-align: right;\n",
       "    }\n",
       "</style>\n",
       "<table border=\"1\" class=\"dataframe\">\n",
       "  <thead>\n",
       "    <tr style=\"text-align: right;\">\n",
       "      <th></th>\n",
       "      <th>Year</th>\n",
       "      <th>Spender Name</th>\n",
       "      <th>TotalAmount</th>\n",
       "    </tr>\n",
       "  </thead>\n",
       "  <tbody>\n",
       "    <tr>\n",
       "      <th>70</th>\n",
       "      <td>2022</td>\n",
       "      <td>MN DFL State Central Committee</td>\n",
       "      <td>5.363193e+08</td>\n",
       "    </tr>\n",
       "    <tr>\n",
       "      <th>71</th>\n",
       "      <td>2022</td>\n",
       "      <td>Alliance for a Better Minnesota Action Fund</td>\n",
       "      <td>4.077091e+08</td>\n",
       "    </tr>\n",
       "    <tr>\n",
       "      <th>72</th>\n",
       "      <td>2022</td>\n",
       "      <td>DFL House Caucus</td>\n",
       "      <td>2.170411e+08</td>\n",
       "    </tr>\n",
       "    <tr>\n",
       "      <th>73</th>\n",
       "      <td>2022</td>\n",
       "      <td>MN for Freedom</td>\n",
       "      <td>1.541938e+08</td>\n",
       "    </tr>\n",
       "    <tr>\n",
       "      <th>74</th>\n",
       "      <td>2022</td>\n",
       "      <td>Safe Accessible Fair Elections Minnesota</td>\n",
       "      <td>1.314013e+08</td>\n",
       "    </tr>\n",
       "    <tr>\n",
       "      <th>75</th>\n",
       "      <td>2022</td>\n",
       "      <td>DAGA MN People's Lawyer Project</td>\n",
       "      <td>1.109740e+08</td>\n",
       "    </tr>\n",
       "    <tr>\n",
       "      <th>76</th>\n",
       "      <td>2022</td>\n",
       "      <td>Advance Minnesota Independent Expenditure Comm...</td>\n",
       "      <td>9.911244e+07</td>\n",
       "    </tr>\n",
       "    <tr>\n",
       "      <th>77</th>\n",
       "      <td>2022</td>\n",
       "      <td>HRCC</td>\n",
       "      <td>9.192176e+07</td>\n",
       "    </tr>\n",
       "    <tr>\n",
       "      <th>78</th>\n",
       "      <td>2022</td>\n",
       "      <td>MN Jobs Coalition Legislative Fund</td>\n",
       "      <td>9.078141e+07</td>\n",
       "    </tr>\n",
       "    <tr>\n",
       "      <th>79</th>\n",
       "      <td>2022</td>\n",
       "      <td>iVote Fund MN</td>\n",
       "      <td>7.980807e+07</td>\n",
       "    </tr>\n",
       "  </tbody>\n",
       "</table>\n",
       "</div>"
      ],
      "text/plain": [
       "    Year                                       Spender Name   TotalAmount\n",
       "70  2022                     MN DFL State Central Committee  5.363193e+08\n",
       "71  2022        Alliance for a Better Minnesota Action Fund  4.077091e+08\n",
       "72  2022                                   DFL House Caucus  2.170411e+08\n",
       "73  2022                                     MN for Freedom  1.541938e+08\n",
       "74  2022           Safe Accessible Fair Elections Minnesota  1.314013e+08\n",
       "75  2022                    DAGA MN People's Lawyer Project  1.109740e+08\n",
       "76  2022  Advance Minnesota Independent Expenditure Comm...  9.911244e+07\n",
       "77  2022                                               HRCC  9.192176e+07\n",
       "78  2022                 MN Jobs Coalition Legislative Fund  9.078141e+07\n",
       "79  2022                                      iVote Fund MN  7.980807e+07"
      ]
     },
     "execution_count": 48,
     "metadata": {},
     "output_type": "execute_result"
    }
   ],
   "source": [
    "top_10_spender[-20:-10]"
   ]
  },
  {
   "cell_type": "code",
   "execution_count": 49,
   "metadata": {},
   "outputs": [],
   "source": [
    "exp_by_year_vendor = df_expenditure.groupby(\n",
    "    ['Year', 'Vendor name'])['TotalAmount'].sum().reset_index()\n",
    "\n",
    "top_10_vendor = exp_by_year_vendor.groupby('Year').apply(\n",
    "    lambda group: group.nlargest(10, 'TotalAmount')).reset_index(drop=True)"
   ]
  },
  {
   "cell_type": "code",
   "execution_count": 50,
   "metadata": {},
   "outputs": [
    {
     "data": {
      "text/html": [
       "<div>\n",
       "<style scoped>\n",
       "    .dataframe tbody tr th:only-of-type {\n",
       "        vertical-align: middle;\n",
       "    }\n",
       "\n",
       "    .dataframe tbody tr th {\n",
       "        vertical-align: top;\n",
       "    }\n",
       "\n",
       "    .dataframe thead th {\n",
       "        text-align: right;\n",
       "    }\n",
       "</style>\n",
       "<table border=\"1\" class=\"dataframe\">\n",
       "  <thead>\n",
       "    <tr style=\"text-align: right;\">\n",
       "      <th></th>\n",
       "      <th>Year</th>\n",
       "      <th>Vendor name</th>\n",
       "      <th>TotalAmount</th>\n",
       "    </tr>\n",
       "  </thead>\n",
       "  <tbody>\n",
       "    <tr>\n",
       "      <th>80</th>\n",
       "      <td>2023</td>\n",
       "      <td>MN DFL State Central Committee</td>\n",
       "      <td>782845.00</td>\n",
       "    </tr>\n",
       "    <tr>\n",
       "      <th>81</th>\n",
       "      <td>2023</td>\n",
       "      <td>GRSG Company</td>\n",
       "      <td>500000.00</td>\n",
       "    </tr>\n",
       "    <tr>\n",
       "      <th>82</th>\n",
       "      <td>2023</td>\n",
       "      <td>The People's Canvass</td>\n",
       "      <td>423097.61</td>\n",
       "    </tr>\n",
       "    <tr>\n",
       "      <th>83</th>\n",
       "      <td>2023</td>\n",
       "      <td>MN DFL Senate Caucus</td>\n",
       "      <td>249643.88</td>\n",
       "    </tr>\n",
       "    <tr>\n",
       "      <th>84</th>\n",
       "      <td>2023</td>\n",
       "      <td>MN DFL House Caucus</td>\n",
       "      <td>242777.25</td>\n",
       "    </tr>\n",
       "    <tr>\n",
       "      <th>85</th>\n",
       "      <td>2023</td>\n",
       "      <td>AGC of MN</td>\n",
       "      <td>134346.02</td>\n",
       "    </tr>\n",
       "    <tr>\n",
       "      <th>86</th>\n",
       "      <td>2023</td>\n",
       "      <td>SMART PAL-Education</td>\n",
       "      <td>120000.00</td>\n",
       "    </tr>\n",
       "    <tr>\n",
       "      <th>87</th>\n",
       "      <td>2023</td>\n",
       "      <td>Teamsters Joint Council 32</td>\n",
       "      <td>88938.21</td>\n",
       "    </tr>\n",
       "    <tr>\n",
       "      <th>88</th>\n",
       "      <td>2023</td>\n",
       "      <td>All of Mpls</td>\n",
       "      <td>86214.53</td>\n",
       "    </tr>\n",
       "    <tr>\n",
       "      <th>89</th>\n",
       "      <td>2023</td>\n",
       "      <td>Apparatus</td>\n",
       "      <td>70000.00</td>\n",
       "    </tr>\n",
       "  </tbody>\n",
       "</table>\n",
       "</div>"
      ],
      "text/plain": [
       "    Year                     Vendor name  TotalAmount\n",
       "80  2023  MN DFL State Central Committee    782845.00\n",
       "81  2023                    GRSG Company    500000.00\n",
       "82  2023            The People's Canvass    423097.61\n",
       "83  2023            MN DFL Senate Caucus    249643.88\n",
       "84  2023             MN DFL House Caucus    242777.25\n",
       "85  2023                       AGC of MN    134346.02\n",
       "86  2023             SMART PAL-Education    120000.00\n",
       "87  2023      Teamsters Joint Council 32     88938.21\n",
       "88  2023                     All of Mpls     86214.53\n",
       "89  2023                       Apparatus     70000.00"
      ]
     },
     "execution_count": 50,
     "metadata": {},
     "output_type": "execute_result"
    }
   ],
   "source": [
    "top_10_vendor[-10:]"
   ]
  },
  {
   "cell_type": "code",
   "execution_count": 51,
   "metadata": {},
   "outputs": [
    {
     "data": {
      "text/html": [
       "<div>\n",
       "<style scoped>\n",
       "    .dataframe tbody tr th:only-of-type {\n",
       "        vertical-align: middle;\n",
       "    }\n",
       "\n",
       "    .dataframe tbody tr th {\n",
       "        vertical-align: top;\n",
       "    }\n",
       "\n",
       "    .dataframe thead th {\n",
       "        text-align: right;\n",
       "    }\n",
       "</style>\n",
       "<table border=\"1\" class=\"dataframe\">\n",
       "  <thead>\n",
       "    <tr style=\"text-align: right;\">\n",
       "      <th></th>\n",
       "      <th>Year</th>\n",
       "      <th>Vendor name</th>\n",
       "      <th>TotalAmount</th>\n",
       "    </tr>\n",
       "  </thead>\n",
       "  <tbody>\n",
       "    <tr>\n",
       "      <th>70</th>\n",
       "      <td>2022</td>\n",
       "      <td>Clarify Agency</td>\n",
       "      <td>2.647481e+08</td>\n",
       "    </tr>\n",
       "    <tr>\n",
       "      <th>71</th>\n",
       "      <td>2022</td>\n",
       "      <td>Great American Media</td>\n",
       "      <td>2.582326e+08</td>\n",
       "    </tr>\n",
       "    <tr>\n",
       "      <th>72</th>\n",
       "      <td>2022</td>\n",
       "      <td>Canal Partners Media</td>\n",
       "      <td>1.593249e+08</td>\n",
       "    </tr>\n",
       "    <tr>\n",
       "      <th>73</th>\n",
       "      <td>2022</td>\n",
       "      <td>Berlin Rosen LTD</td>\n",
       "      <td>1.105615e+08</td>\n",
       "    </tr>\n",
       "    <tr>\n",
       "      <th>74</th>\n",
       "      <td>2022</td>\n",
       "      <td>Red Eagle Media</td>\n",
       "      <td>1.082093e+08</td>\n",
       "    </tr>\n",
       "    <tr>\n",
       "      <th>75</th>\n",
       "      <td>2022</td>\n",
       "      <td>Deliver Strategies</td>\n",
       "      <td>1.074506e+08</td>\n",
       "    </tr>\n",
       "    <tr>\n",
       "      <th>76</th>\n",
       "      <td>2022</td>\n",
       "      <td>Nebo Media</td>\n",
       "      <td>8.849665e+07</td>\n",
       "    </tr>\n",
       "    <tr>\n",
       "      <th>77</th>\n",
       "      <td>2022</td>\n",
       "      <td>Sage Media Planning  Placement</td>\n",
       "      <td>8.776352e+07</td>\n",
       "    </tr>\n",
       "    <tr>\n",
       "      <th>78</th>\n",
       "      <td>2022</td>\n",
       "      <td>FP1 Digital LLC</td>\n",
       "      <td>8.138634e+07</td>\n",
       "    </tr>\n",
       "    <tr>\n",
       "      <th>79</th>\n",
       "      <td>2022</td>\n",
       "      <td>Schultz, Jennifer House Committee</td>\n",
       "      <td>8.062409e+07</td>\n",
       "    </tr>\n",
       "  </tbody>\n",
       "</table>\n",
       "</div>"
      ],
      "text/plain": [
       "    Year                        Vendor name   TotalAmount\n",
       "70  2022                     Clarify Agency  2.647481e+08\n",
       "71  2022               Great American Media  2.582326e+08\n",
       "72  2022               Canal Partners Media  1.593249e+08\n",
       "73  2022                   Berlin Rosen LTD  1.105615e+08\n",
       "74  2022                    Red Eagle Media  1.082093e+08\n",
       "75  2022                 Deliver Strategies  1.074506e+08\n",
       "76  2022                         Nebo Media  8.849665e+07\n",
       "77  2022     Sage Media Planning  Placement  8.776352e+07\n",
       "78  2022                    FP1 Digital LLC  8.138634e+07\n",
       "79  2022  Schultz, Jennifer House Committee  8.062409e+07"
      ]
     },
     "execution_count": 51,
     "metadata": {},
     "output_type": "execute_result"
    }
   ],
   "source": [
    "top_10_vendor[-20:-10]"
   ]
  },
  {
   "cell_type": "markdown",
   "metadata": {},
   "source": [
    "### 3. Compare donation by donor and recipient types\n"
   ]
  },
  {
   "cell_type": "code",
   "execution_count": 52,
   "metadata": {},
   "outputs": [],
   "source": [
    "spendor_type_mapping = {\n",
    "    'PCC': 'Candidate', \n",
    "    'PCF': 'Political Committee and Fund', \n",
    "    'PTU': 'Political Party Unit'\n",
    "}"
   ]
  },
  {
   "cell_type": "code",
   "execution_count": 53,
   "metadata": {},
   "outputs": [
    {
     "data": {
      "text/html": [
       "<div>\n",
       "<style scoped>\n",
       "    .dataframe tbody tr th:only-of-type {\n",
       "        vertical-align: middle;\n",
       "    }\n",
       "\n",
       "    .dataframe tbody tr th {\n",
       "        vertical-align: top;\n",
       "    }\n",
       "\n",
       "    .dataframe thead th {\n",
       "        text-align: right;\n",
       "    }\n",
       "</style>\n",
       "<table border=\"1\" class=\"dataframe\">\n",
       "  <thead>\n",
       "    <tr style=\"text-align: right;\">\n",
       "      <th></th>\n",
       "      <th>Spender type</th>\n",
       "      <th>TotalAmount</th>\n",
       "    </tr>\n",
       "  </thead>\n",
       "  <tbody>\n",
       "    <tr>\n",
       "      <th>0</th>\n",
       "      <td>PCF</td>\n",
       "      <td>4007007.67</td>\n",
       "    </tr>\n",
       "    <tr>\n",
       "      <th>1</th>\n",
       "      <td>PTU</td>\n",
       "      <td>32803.71</td>\n",
       "    </tr>\n",
       "  </tbody>\n",
       "</table>\n",
       "</div>"
      ],
      "text/plain": [
       "  Spender type  TotalAmount\n",
       "0          PCF   4007007.67\n",
       "1          PTU     32803.71"
      ]
     },
     "execution_count": 53,
     "metadata": {},
     "output_type": "execute_result"
    }
   ],
   "source": [
    "df_2023 = df_expenditure[df_expenditure['Year'] == 2023]\n",
    "grouped_2023 = df_2023.groupby('Spender type')['TotalAmount'].sum().reset_index()\n",
    "grouped_2023"
   ]
  },
  {
   "cell_type": "code",
   "execution_count": 54,
   "metadata": {},
   "outputs": [
    {
     "data": {
      "text/html": [
       "<div>\n",
       "<style scoped>\n",
       "    .dataframe tbody tr th:only-of-type {\n",
       "        vertical-align: middle;\n",
       "    }\n",
       "\n",
       "    .dataframe tbody tr th {\n",
       "        vertical-align: top;\n",
       "    }\n",
       "\n",
       "    .dataframe thead th {\n",
       "        text-align: right;\n",
       "    }\n",
       "</style>\n",
       "<table border=\"1\" class=\"dataframe\">\n",
       "  <thead>\n",
       "    <tr style=\"text-align: right;\">\n",
       "      <th></th>\n",
       "      <th>Year</th>\n",
       "      <th>Spender Reg Num</th>\n",
       "      <th>Spender Name</th>\n",
       "      <th>Spender type</th>\n",
       "      <th>Spender sub-type</th>\n",
       "      <th>Vendor name</th>\n",
       "      <th>Vendor state</th>\n",
       "      <th>Vendor city</th>\n",
       "      <th>Amount</th>\n",
       "      <th>Unpaid amount</th>\n",
       "      <th>In-kind?</th>\n",
       "      <th>In-kind descr</th>\n",
       "      <th>Type</th>\n",
       "      <th>Purpose</th>\n",
       "      <th>Affected committee name</th>\n",
       "      <th>Affected committee reg num</th>\n",
       "      <th>TotalAmount</th>\n",
       "    </tr>\n",
       "  </thead>\n",
       "  <tbody>\n",
       "    <tr>\n",
       "      <th>0</th>\n",
       "      <td>2023</td>\n",
       "      <td>30119</td>\n",
       "      <td>IBEW Local 292 Political Education Fund</td>\n",
       "      <td>PCF</td>\n",
       "      <td>PF</td>\n",
       "      <td>Walz Tim Gov Committee</td>\n",
       "      <td>NaN</td>\n",
       "      <td>NaN</td>\n",
       "      <td>2000.00</td>\n",
       "      <td>0.00</td>\n",
       "      <td>No</td>\n",
       "      <td>NaN</td>\n",
       "      <td>Contribution</td>\n",
       "      <td>NaN</td>\n",
       "      <td>Walz, Tim Gov Committee</td>\n",
       "      <td>18135.0</td>\n",
       "      <td>2000.00</td>\n",
       "    </tr>\n",
       "    <tr>\n",
       "      <th>1</th>\n",
       "      <td>2023</td>\n",
       "      <td>30012</td>\n",
       "      <td>Minneapolis Bldg &amp; Construct Trades Council</td>\n",
       "      <td>PCF</td>\n",
       "      <td>PF</td>\n",
       "      <td>Rainville Michael Minneapolis City Councilor</td>\n",
       "      <td>NaN</td>\n",
       "      <td>NaN</td>\n",
       "      <td>350.00</td>\n",
       "      <td>0.00</td>\n",
       "      <td>No</td>\n",
       "      <td>NaN</td>\n",
       "      <td>Contribution</td>\n",
       "      <td>NaN</td>\n",
       "      <td>NaN</td>\n",
       "      <td>NaN</td>\n",
       "      <td>350.00</td>\n",
       "    </tr>\n",
       "    <tr>\n",
       "      <th>2</th>\n",
       "      <td>2023</td>\n",
       "      <td>41345</td>\n",
       "      <td>Greater Than</td>\n",
       "      <td>PCF</td>\n",
       "      <td>PC</td>\n",
       "      <td>ActBlue Technical Services</td>\n",
       "      <td>MA</td>\n",
       "      <td>West Somerville</td>\n",
       "      <td>12.84</td>\n",
       "      <td>0.00</td>\n",
       "      <td>No</td>\n",
       "      <td>NaN</td>\n",
       "      <td>General Expenditure</td>\n",
       "      <td>Bank Service Charges and checks: PAC E-Merchan...</td>\n",
       "      <td>NaN</td>\n",
       "      <td>NaN</td>\n",
       "      <td>12.84</td>\n",
       "    </tr>\n",
       "    <tr>\n",
       "      <th>3</th>\n",
       "      <td>2023</td>\n",
       "      <td>30588</td>\n",
       "      <td>Sheet Metal Workers PAC 10</td>\n",
       "      <td>PCF</td>\n",
       "      <td>PF</td>\n",
       "      <td>Johnson Cheniqua Neighbors for</td>\n",
       "      <td>MN</td>\n",
       "      <td>St. Paul</td>\n",
       "      <td>600.00</td>\n",
       "      <td>0.00</td>\n",
       "      <td>No</td>\n",
       "      <td>NaN</td>\n",
       "      <td>General Expenditure</td>\n",
       "      <td>Contribution to local committee</td>\n",
       "      <td>NaN</td>\n",
       "      <td>NaN</td>\n",
       "      <td>600.00</td>\n",
       "    </tr>\n",
       "    <tr>\n",
       "      <th>4</th>\n",
       "      <td>2023</td>\n",
       "      <td>30588</td>\n",
       "      <td>Sheet Metal Workers PAC 10</td>\n",
       "      <td>PCF</td>\n",
       "      <td>PF</td>\n",
       "      <td>Koski Emily Minneapolis City Councilor</td>\n",
       "      <td>NaN</td>\n",
       "      <td>NaN</td>\n",
       "      <td>600.00</td>\n",
       "      <td>0.00</td>\n",
       "      <td>No</td>\n",
       "      <td>NaN</td>\n",
       "      <td>Contribution</td>\n",
       "      <td>NaN</td>\n",
       "      <td>NaN</td>\n",
       "      <td>NaN</td>\n",
       "      <td>600.00</td>\n",
       "    </tr>\n",
       "    <tr>\n",
       "      <th>...</th>\n",
       "      <td>...</td>\n",
       "      <td>...</td>\n",
       "      <td>...</td>\n",
       "      <td>...</td>\n",
       "      <td>...</td>\n",
       "      <td>...</td>\n",
       "      <td>...</td>\n",
       "      <td>...</td>\n",
       "      <td>...</td>\n",
       "      <td>...</td>\n",
       "      <td>...</td>\n",
       "      <td>...</td>\n",
       "      <td>...</td>\n",
       "      <td>...</td>\n",
       "      <td>...</td>\n",
       "      <td>...</td>\n",
       "      <td>...</td>\n",
       "    </tr>\n",
       "    <tr>\n",
       "      <th>1750</th>\n",
       "      <td>2023</td>\n",
       "      <td>30013</td>\n",
       "      <td>Joint Council 32 DRIVE</td>\n",
       "      <td>PCF</td>\n",
       "      <td>PF</td>\n",
       "      <td>Senate Victory Fund (SVF)</td>\n",
       "      <td>NaN</td>\n",
       "      <td>NaN</td>\n",
       "      <td>2500.00</td>\n",
       "      <td>0.00</td>\n",
       "      <td>No</td>\n",
       "      <td>NaN</td>\n",
       "      <td>Contribution</td>\n",
       "      <td>NaN</td>\n",
       "      <td>Senate Victory Fund (SVF)</td>\n",
       "      <td>20013.0</td>\n",
       "      <td>2500.00</td>\n",
       "    </tr>\n",
       "    <tr>\n",
       "      <th>1751</th>\n",
       "      <td>2023</td>\n",
       "      <td>40712</td>\n",
       "      <td>Laborers District Council of Minn &amp; ND Pol Fund</td>\n",
       "      <td>PCF</td>\n",
       "      <td>PF</td>\n",
       "      <td>Do-Goodbiz Inc</td>\n",
       "      <td>MN</td>\n",
       "      <td>St Paul</td>\n",
       "      <td>330.44</td>\n",
       "      <td>330.44</td>\n",
       "      <td>No</td>\n",
       "      <td>NaN</td>\n",
       "      <td>Independent Expenditure</td>\n",
       "      <td>Mailing / Voter List Rent/Purchase: Mailing Se...</td>\n",
       "      <td>NaN</td>\n",
       "      <td>NaN</td>\n",
       "      <td>660.88</td>\n",
       "    </tr>\n",
       "    <tr>\n",
       "      <th>1752</th>\n",
       "      <td>2023</td>\n",
       "      <td>30588</td>\n",
       "      <td>Sheet Metal Workers PAC 10</td>\n",
       "      <td>PCF</td>\n",
       "      <td>PF</td>\n",
       "      <td>Acomb Acomb Patty House Committee Acomb Patty ...</td>\n",
       "      <td>NaN</td>\n",
       "      <td>NaN</td>\n",
       "      <td>1000.00</td>\n",
       "      <td>0.00</td>\n",
       "      <td>No</td>\n",
       "      <td>NaN</td>\n",
       "      <td>Contribution</td>\n",
       "      <td>NaN</td>\n",
       "      <td>Acomb, Patty House Committee</td>\n",
       "      <td>18272.0</td>\n",
       "      <td>1000.00</td>\n",
       "    </tr>\n",
       "    <tr>\n",
       "      <th>1753</th>\n",
       "      <td>2023</td>\n",
       "      <td>30154</td>\n",
       "      <td>St Paul Firefighters Local 21 Political Action...</td>\n",
       "      <td>PCF</td>\n",
       "      <td>PF</td>\n",
       "      <td>Thornberg, Kyle</td>\n",
       "      <td>MN</td>\n",
       "      <td>NaN</td>\n",
       "      <td>1893.80</td>\n",
       "      <td>0.00</td>\n",
       "      <td>No</td>\n",
       "      <td>NaN</td>\n",
       "      <td>General Expenditure</td>\n",
       "      <td>Conference and meeting fees: Conference Reimbu...</td>\n",
       "      <td>NaN</td>\n",
       "      <td>NaN</td>\n",
       "      <td>1893.80</td>\n",
       "    </tr>\n",
       "    <tr>\n",
       "      <th>1754</th>\n",
       "      <td>2023</td>\n",
       "      <td>40712</td>\n",
       "      <td>Laborers District Council of Minn &amp; ND Pol Fund</td>\n",
       "      <td>PCF</td>\n",
       "      <td>PF</td>\n",
       "      <td>Busse Tim Bloomington Mayor</td>\n",
       "      <td>NaN</td>\n",
       "      <td>NaN</td>\n",
       "      <td>500.00</td>\n",
       "      <td>0.00</td>\n",
       "      <td>No</td>\n",
       "      <td>NaN</td>\n",
       "      <td>Contribution</td>\n",
       "      <td>NaN</td>\n",
       "      <td>NaN</td>\n",
       "      <td>NaN</td>\n",
       "      <td>500.00</td>\n",
       "    </tr>\n",
       "  </tbody>\n",
       "</table>\n",
       "<p>1755 rows × 17 columns</p>\n",
       "</div>"
      ],
      "text/plain": [
       "      Year  Spender Reg Num  \\\n",
       "0     2023            30119   \n",
       "1     2023            30012   \n",
       "2     2023            41345   \n",
       "3     2023            30588   \n",
       "4     2023            30588   \n",
       "...    ...              ...   \n",
       "1750  2023            30013   \n",
       "1751  2023            40712   \n",
       "1752  2023            30588   \n",
       "1753  2023            30154   \n",
       "1754  2023            40712   \n",
       "\n",
       "                                           Spender Name Spender type  \\\n",
       "0               IBEW Local 292 Political Education Fund          PCF   \n",
       "1           Minneapolis Bldg & Construct Trades Council          PCF   \n",
       "2                                          Greater Than          PCF   \n",
       "3                            Sheet Metal Workers PAC 10          PCF   \n",
       "4                            Sheet Metal Workers PAC 10          PCF   \n",
       "...                                                 ...          ...   \n",
       "1750                             Joint Council 32 DRIVE          PCF   \n",
       "1751    Laborers District Council of Minn & ND Pol Fund          PCF   \n",
       "1752                         Sheet Metal Workers PAC 10          PCF   \n",
       "1753  St Paul Firefighters Local 21 Political Action...          PCF   \n",
       "1754    Laborers District Council of Minn & ND Pol Fund          PCF   \n",
       "\n",
       "     Spender sub-type                                        Vendor name  \\\n",
       "0                  PF                             Walz Tim Gov Committee   \n",
       "1                  PF       Rainville Michael Minneapolis City Councilor   \n",
       "2                  PC                         ActBlue Technical Services   \n",
       "3                  PF                     Johnson Cheniqua Neighbors for   \n",
       "4                  PF             Koski Emily Minneapolis City Councilor   \n",
       "...               ...                                                ...   \n",
       "1750               PF                          Senate Victory Fund (SVF)   \n",
       "1751               PF                                     Do-Goodbiz Inc   \n",
       "1752               PF  Acomb Acomb Patty House Committee Acomb Patty ...   \n",
       "1753               PF                                    Thornberg, Kyle   \n",
       "1754               PF                        Busse Tim Bloomington Mayor   \n",
       "\n",
       "     Vendor state      Vendor city   Amount  Unpaid amount In-kind?  \\\n",
       "0             NaN              NaN  2000.00           0.00       No   \n",
       "1             NaN              NaN   350.00           0.00       No   \n",
       "2              MA  West Somerville    12.84           0.00       No   \n",
       "3              MN         St. Paul   600.00           0.00       No   \n",
       "4             NaN              NaN   600.00           0.00       No   \n",
       "...           ...              ...      ...            ...      ...   \n",
       "1750          NaN              NaN  2500.00           0.00       No   \n",
       "1751           MN          St Paul   330.44         330.44       No   \n",
       "1752          NaN              NaN  1000.00           0.00       No   \n",
       "1753           MN              NaN  1893.80           0.00       No   \n",
       "1754          NaN              NaN   500.00           0.00       No   \n",
       "\n",
       "     In-kind descr                     Type  \\\n",
       "0              NaN             Contribution   \n",
       "1              NaN             Contribution   \n",
       "2              NaN      General Expenditure   \n",
       "3              NaN      General Expenditure   \n",
       "4              NaN             Contribution   \n",
       "...            ...                      ...   \n",
       "1750           NaN             Contribution   \n",
       "1751           NaN  Independent Expenditure   \n",
       "1752           NaN             Contribution   \n",
       "1753           NaN      General Expenditure   \n",
       "1754           NaN             Contribution   \n",
       "\n",
       "                                                Purpose  \\\n",
       "0                                                   NaN   \n",
       "1                                                   NaN   \n",
       "2     Bank Service Charges and checks: PAC E-Merchan...   \n",
       "3                       Contribution to local committee   \n",
       "4                                                   NaN   \n",
       "...                                                 ...   \n",
       "1750                                                NaN   \n",
       "1751  Mailing / Voter List Rent/Purchase: Mailing Se...   \n",
       "1752                                                NaN   \n",
       "1753  Conference and meeting fees: Conference Reimbu...   \n",
       "1754                                                NaN   \n",
       "\n",
       "           Affected committee name  Affected committee reg num  TotalAmount  \n",
       "0          Walz, Tim Gov Committee                     18135.0      2000.00  \n",
       "1                              NaN                         NaN       350.00  \n",
       "2                              NaN                         NaN        12.84  \n",
       "3                              NaN                         NaN       600.00  \n",
       "4                              NaN                         NaN       600.00  \n",
       "...                            ...                         ...          ...  \n",
       "1750     Senate Victory Fund (SVF)                     20013.0      2500.00  \n",
       "1751                           NaN                         NaN       660.88  \n",
       "1752  Acomb, Patty House Committee                     18272.0      1000.00  \n",
       "1753                           NaN                         NaN      1893.80  \n",
       "1754                           NaN                         NaN       500.00  \n",
       "\n",
       "[1755 rows x 17 columns]"
      ]
     },
     "execution_count": 54,
     "metadata": {},
     "output_type": "execute_result"
    }
   ],
   "source": [
    "df_2023"
   ]
  },
  {
   "cell_type": "code",
   "execution_count": 55,
   "metadata": {},
   "outputs": [
    {
     "data": {
      "application/vnd.plotly.v1+json": {
       "config": {
        "plotlyServerURL": "https://plot.ly"
       },
       "data": [
        {
         "alignmentgroup": "True",
         "hovertemplate": "Spender type=Candidate<br>Year=%{x}<br>Total Expenditure Log=%{y}<extra></extra>",
         "legendgroup": "Candidate",
         "marker": {
          "color": "#636efa",
          "pattern": {
           "shape": ""
          }
         },
         "name": "Candidate",
         "offsetgroup": "Candidate",
         "orientation": "v",
         "showlegend": true,
         "textposition": "auto",
         "type": "bar",
         "x": [
          2015,
          2016,
          2017,
          2018,
          2019,
          2020,
          2021,
          2022
         ],
         "xaxis": "x",
         "y": [
          1872357.6300000001,
          12202305.87,
          4645729.5,
          24822794.61,
          2509649.32,
          14291474.18,
          4363010.58,
          56673722.95
         ],
         "yaxis": "y"
        },
        {
         "alignmentgroup": "True",
         "hovertemplate": "Spender type=Political Committee and Fund<br>Year=%{x}<br>Total Expenditure Log=%{y}<extra></extra>",
         "legendgroup": "Political Committee and Fund",
         "marker": {
          "color": "#EF553B",
          "pattern": {
           "shape": ""
          }
         },
         "name": "Political Committee and Fund",
         "offsetgroup": "Political Committee and Fund",
         "orientation": "v",
         "showlegend": true,
         "textposition": "auto",
         "type": "bar",
         "x": [
          2015,
          2016,
          2017,
          2018,
          2019,
          2020,
          2021,
          2022,
          2023
         ],
         "xaxis": "x",
         "y": [
          11987522.85,
          22221198.87,
          6419548.32,
          48089439.75,
          9271282.7,
          33063222.92,
          8686374.42,
          1805455240.03,
          4007007.67
         ],
         "yaxis": "y"
        },
        {
         "alignmentgroup": "True",
         "hovertemplate": "Spender type=Political Party Unit<br>Year=%{x}<br>Total Expenditure Log=%{y}<extra></extra>",
         "legendgroup": "Political Party Unit",
         "marker": {
          "color": "#00cc96",
          "pattern": {
           "shape": ""
          }
         },
         "name": "Political Party Unit",
         "offsetgroup": "Political Party Unit",
         "orientation": "v",
         "showlegend": true,
         "textposition": "auto",
         "type": "bar",
         "x": [
          2015,
          2016,
          2017,
          2018,
          2019,
          2020,
          2021,
          2022,
          2023
         ],
         "xaxis": "x",
         "y": [
          4764100.75,
          18474648.23,
          4612037.62,
          22082298.96,
          6390412.7422,
          24447296.627,
          6226926.8,
          935491592.005,
          32803.71
         ],
         "yaxis": "y"
        }
       ],
       "layout": {
        "barmode": "relative",
        "legend": {
         "title": {
          "text": "Spender type"
         },
         "tracegroupgap": 0
        },
        "template": {
         "data": {
          "bar": [
           {
            "error_x": {
             "color": "#2a3f5f"
            },
            "error_y": {
             "color": "#2a3f5f"
            },
            "marker": {
             "line": {
              "color": "#E5ECF6",
              "width": 0.5
             },
             "pattern": {
              "fillmode": "overlay",
              "size": 10,
              "solidity": 0.2
             }
            },
            "type": "bar"
           }
          ],
          "barpolar": [
           {
            "marker": {
             "line": {
              "color": "#E5ECF6",
              "width": 0.5
             },
             "pattern": {
              "fillmode": "overlay",
              "size": 10,
              "solidity": 0.2
             }
            },
            "type": "barpolar"
           }
          ],
          "carpet": [
           {
            "aaxis": {
             "endlinecolor": "#2a3f5f",
             "gridcolor": "white",
             "linecolor": "white",
             "minorgridcolor": "white",
             "startlinecolor": "#2a3f5f"
            },
            "baxis": {
             "endlinecolor": "#2a3f5f",
             "gridcolor": "white",
             "linecolor": "white",
             "minorgridcolor": "white",
             "startlinecolor": "#2a3f5f"
            },
            "type": "carpet"
           }
          ],
          "choropleth": [
           {
            "colorbar": {
             "outlinewidth": 0,
             "ticks": ""
            },
            "type": "choropleth"
           }
          ],
          "contour": [
           {
            "colorbar": {
             "outlinewidth": 0,
             "ticks": ""
            },
            "colorscale": [
             [
              0,
              "#0d0887"
             ],
             [
              0.1111111111111111,
              "#46039f"
             ],
             [
              0.2222222222222222,
              "#7201a8"
             ],
             [
              0.3333333333333333,
              "#9c179e"
             ],
             [
              0.4444444444444444,
              "#bd3786"
             ],
             [
              0.5555555555555556,
              "#d8576b"
             ],
             [
              0.6666666666666666,
              "#ed7953"
             ],
             [
              0.7777777777777778,
              "#fb9f3a"
             ],
             [
              0.8888888888888888,
              "#fdca26"
             ],
             [
              1,
              "#f0f921"
             ]
            ],
            "type": "contour"
           }
          ],
          "contourcarpet": [
           {
            "colorbar": {
             "outlinewidth": 0,
             "ticks": ""
            },
            "type": "contourcarpet"
           }
          ],
          "heatmap": [
           {
            "colorbar": {
             "outlinewidth": 0,
             "ticks": ""
            },
            "colorscale": [
             [
              0,
              "#0d0887"
             ],
             [
              0.1111111111111111,
              "#46039f"
             ],
             [
              0.2222222222222222,
              "#7201a8"
             ],
             [
              0.3333333333333333,
              "#9c179e"
             ],
             [
              0.4444444444444444,
              "#bd3786"
             ],
             [
              0.5555555555555556,
              "#d8576b"
             ],
             [
              0.6666666666666666,
              "#ed7953"
             ],
             [
              0.7777777777777778,
              "#fb9f3a"
             ],
             [
              0.8888888888888888,
              "#fdca26"
             ],
             [
              1,
              "#f0f921"
             ]
            ],
            "type": "heatmap"
           }
          ],
          "heatmapgl": [
           {
            "colorbar": {
             "outlinewidth": 0,
             "ticks": ""
            },
            "colorscale": [
             [
              0,
              "#0d0887"
             ],
             [
              0.1111111111111111,
              "#46039f"
             ],
             [
              0.2222222222222222,
              "#7201a8"
             ],
             [
              0.3333333333333333,
              "#9c179e"
             ],
             [
              0.4444444444444444,
              "#bd3786"
             ],
             [
              0.5555555555555556,
              "#d8576b"
             ],
             [
              0.6666666666666666,
              "#ed7953"
             ],
             [
              0.7777777777777778,
              "#fb9f3a"
             ],
             [
              0.8888888888888888,
              "#fdca26"
             ],
             [
              1,
              "#f0f921"
             ]
            ],
            "type": "heatmapgl"
           }
          ],
          "histogram": [
           {
            "marker": {
             "pattern": {
              "fillmode": "overlay",
              "size": 10,
              "solidity": 0.2
             }
            },
            "type": "histogram"
           }
          ],
          "histogram2d": [
           {
            "colorbar": {
             "outlinewidth": 0,
             "ticks": ""
            },
            "colorscale": [
             [
              0,
              "#0d0887"
             ],
             [
              0.1111111111111111,
              "#46039f"
             ],
             [
              0.2222222222222222,
              "#7201a8"
             ],
             [
              0.3333333333333333,
              "#9c179e"
             ],
             [
              0.4444444444444444,
              "#bd3786"
             ],
             [
              0.5555555555555556,
              "#d8576b"
             ],
             [
              0.6666666666666666,
              "#ed7953"
             ],
             [
              0.7777777777777778,
              "#fb9f3a"
             ],
             [
              0.8888888888888888,
              "#fdca26"
             ],
             [
              1,
              "#f0f921"
             ]
            ],
            "type": "histogram2d"
           }
          ],
          "histogram2dcontour": [
           {
            "colorbar": {
             "outlinewidth": 0,
             "ticks": ""
            },
            "colorscale": [
             [
              0,
              "#0d0887"
             ],
             [
              0.1111111111111111,
              "#46039f"
             ],
             [
              0.2222222222222222,
              "#7201a8"
             ],
             [
              0.3333333333333333,
              "#9c179e"
             ],
             [
              0.4444444444444444,
              "#bd3786"
             ],
             [
              0.5555555555555556,
              "#d8576b"
             ],
             [
              0.6666666666666666,
              "#ed7953"
             ],
             [
              0.7777777777777778,
              "#fb9f3a"
             ],
             [
              0.8888888888888888,
              "#fdca26"
             ],
             [
              1,
              "#f0f921"
             ]
            ],
            "type": "histogram2dcontour"
           }
          ],
          "mesh3d": [
           {
            "colorbar": {
             "outlinewidth": 0,
             "ticks": ""
            },
            "type": "mesh3d"
           }
          ],
          "parcoords": [
           {
            "line": {
             "colorbar": {
              "outlinewidth": 0,
              "ticks": ""
             }
            },
            "type": "parcoords"
           }
          ],
          "pie": [
           {
            "automargin": true,
            "type": "pie"
           }
          ],
          "scatter": [
           {
            "fillpattern": {
             "fillmode": "overlay",
             "size": 10,
             "solidity": 0.2
            },
            "type": "scatter"
           }
          ],
          "scatter3d": [
           {
            "line": {
             "colorbar": {
              "outlinewidth": 0,
              "ticks": ""
             }
            },
            "marker": {
             "colorbar": {
              "outlinewidth": 0,
              "ticks": ""
             }
            },
            "type": "scatter3d"
           }
          ],
          "scattercarpet": [
           {
            "marker": {
             "colorbar": {
              "outlinewidth": 0,
              "ticks": ""
             }
            },
            "type": "scattercarpet"
           }
          ],
          "scattergeo": [
           {
            "marker": {
             "colorbar": {
              "outlinewidth": 0,
              "ticks": ""
             }
            },
            "type": "scattergeo"
           }
          ],
          "scattergl": [
           {
            "marker": {
             "colorbar": {
              "outlinewidth": 0,
              "ticks": ""
             }
            },
            "type": "scattergl"
           }
          ],
          "scattermapbox": [
           {
            "marker": {
             "colorbar": {
              "outlinewidth": 0,
              "ticks": ""
             }
            },
            "type": "scattermapbox"
           }
          ],
          "scatterpolar": [
           {
            "marker": {
             "colorbar": {
              "outlinewidth": 0,
              "ticks": ""
             }
            },
            "type": "scatterpolar"
           }
          ],
          "scatterpolargl": [
           {
            "marker": {
             "colorbar": {
              "outlinewidth": 0,
              "ticks": ""
             }
            },
            "type": "scatterpolargl"
           }
          ],
          "scatterternary": [
           {
            "marker": {
             "colorbar": {
              "outlinewidth": 0,
              "ticks": ""
             }
            },
            "type": "scatterternary"
           }
          ],
          "surface": [
           {
            "colorbar": {
             "outlinewidth": 0,
             "ticks": ""
            },
            "colorscale": [
             [
              0,
              "#0d0887"
             ],
             [
              0.1111111111111111,
              "#46039f"
             ],
             [
              0.2222222222222222,
              "#7201a8"
             ],
             [
              0.3333333333333333,
              "#9c179e"
             ],
             [
              0.4444444444444444,
              "#bd3786"
             ],
             [
              0.5555555555555556,
              "#d8576b"
             ],
             [
              0.6666666666666666,
              "#ed7953"
             ],
             [
              0.7777777777777778,
              "#fb9f3a"
             ],
             [
              0.8888888888888888,
              "#fdca26"
             ],
             [
              1,
              "#f0f921"
             ]
            ],
            "type": "surface"
           }
          ],
          "table": [
           {
            "cells": {
             "fill": {
              "color": "#EBF0F8"
             },
             "line": {
              "color": "white"
             }
            },
            "header": {
             "fill": {
              "color": "#C8D4E3"
             },
             "line": {
              "color": "white"
             }
            },
            "type": "table"
           }
          ]
         },
         "layout": {
          "annotationdefaults": {
           "arrowcolor": "#2a3f5f",
           "arrowhead": 0,
           "arrowwidth": 1
          },
          "autotypenumbers": "strict",
          "coloraxis": {
           "colorbar": {
            "outlinewidth": 0,
            "ticks": ""
           }
          },
          "colorscale": {
           "diverging": [
            [
             0,
             "#8e0152"
            ],
            [
             0.1,
             "#c51b7d"
            ],
            [
             0.2,
             "#de77ae"
            ],
            [
             0.3,
             "#f1b6da"
            ],
            [
             0.4,
             "#fde0ef"
            ],
            [
             0.5,
             "#f7f7f7"
            ],
            [
             0.6,
             "#e6f5d0"
            ],
            [
             0.7,
             "#b8e186"
            ],
            [
             0.8,
             "#7fbc41"
            ],
            [
             0.9,
             "#4d9221"
            ],
            [
             1,
             "#276419"
            ]
           ],
           "sequential": [
            [
             0,
             "#0d0887"
            ],
            [
             0.1111111111111111,
             "#46039f"
            ],
            [
             0.2222222222222222,
             "#7201a8"
            ],
            [
             0.3333333333333333,
             "#9c179e"
            ],
            [
             0.4444444444444444,
             "#bd3786"
            ],
            [
             0.5555555555555556,
             "#d8576b"
            ],
            [
             0.6666666666666666,
             "#ed7953"
            ],
            [
             0.7777777777777778,
             "#fb9f3a"
            ],
            [
             0.8888888888888888,
             "#fdca26"
            ],
            [
             1,
             "#f0f921"
            ]
           ],
           "sequentialminus": [
            [
             0,
             "#0d0887"
            ],
            [
             0.1111111111111111,
             "#46039f"
            ],
            [
             0.2222222222222222,
             "#7201a8"
            ],
            [
             0.3333333333333333,
             "#9c179e"
            ],
            [
             0.4444444444444444,
             "#bd3786"
            ],
            [
             0.5555555555555556,
             "#d8576b"
            ],
            [
             0.6666666666666666,
             "#ed7953"
            ],
            [
             0.7777777777777778,
             "#fb9f3a"
            ],
            [
             0.8888888888888888,
             "#fdca26"
            ],
            [
             1,
             "#f0f921"
            ]
           ]
          },
          "colorway": [
           "#636efa",
           "#EF553B",
           "#00cc96",
           "#ab63fa",
           "#FFA15A",
           "#19d3f3",
           "#FF6692",
           "#B6E880",
           "#FF97FF",
           "#FECB52"
          ],
          "font": {
           "color": "#2a3f5f"
          },
          "geo": {
           "bgcolor": "white",
           "lakecolor": "white",
           "landcolor": "#E5ECF6",
           "showlakes": true,
           "showland": true,
           "subunitcolor": "white"
          },
          "hoverlabel": {
           "align": "left"
          },
          "hovermode": "closest",
          "mapbox": {
           "style": "light"
          },
          "paper_bgcolor": "white",
          "plot_bgcolor": "#E5ECF6",
          "polar": {
           "angularaxis": {
            "gridcolor": "white",
            "linecolor": "white",
            "ticks": ""
           },
           "bgcolor": "#E5ECF6",
           "radialaxis": {
            "gridcolor": "white",
            "linecolor": "white",
            "ticks": ""
           }
          },
          "scene": {
           "xaxis": {
            "backgroundcolor": "#E5ECF6",
            "gridcolor": "white",
            "gridwidth": 2,
            "linecolor": "white",
            "showbackground": true,
            "ticks": "",
            "zerolinecolor": "white"
           },
           "yaxis": {
            "backgroundcolor": "#E5ECF6",
            "gridcolor": "white",
            "gridwidth": 2,
            "linecolor": "white",
            "showbackground": true,
            "ticks": "",
            "zerolinecolor": "white"
           },
           "zaxis": {
            "backgroundcolor": "#E5ECF6",
            "gridcolor": "white",
            "gridwidth": 2,
            "linecolor": "white",
            "showbackground": true,
            "ticks": "",
            "zerolinecolor": "white"
           }
          },
          "shapedefaults": {
           "line": {
            "color": "#2a3f5f"
           }
          },
          "ternary": {
           "aaxis": {
            "gridcolor": "white",
            "linecolor": "white",
            "ticks": ""
           },
           "baxis": {
            "gridcolor": "white",
            "linecolor": "white",
            "ticks": ""
           },
           "bgcolor": "#E5ECF6",
           "caxis": {
            "gridcolor": "white",
            "linecolor": "white",
            "ticks": ""
           }
          },
          "title": {
           "x": 0.05
          },
          "xaxis": {
           "automargin": true,
           "gridcolor": "white",
           "linecolor": "white",
           "ticks": "",
           "title": {
            "standoff": 15
           },
           "zerolinecolor": "white",
           "zerolinewidth": 2
          },
          "yaxis": {
           "automargin": true,
           "gridcolor": "white",
           "linecolor": "white",
           "ticks": "",
           "title": {
            "standoff": 15
           },
           "zerolinecolor": "white",
           "zerolinewidth": 2
          }
         }
        },
        "title": {
         "text": "Expenditure by Spender Type from 2015 to 2022"
        },
        "xaxis": {
         "anchor": "y",
         "domain": [
          0,
          1
         ],
         "title": {
          "text": "Year"
         }
        },
        "yaxis": {
         "anchor": "x",
         "domain": [
          0,
          1
         ],
         "title": {
          "text": "Total Expenditure Log"
         },
         "type": "log"
        }
       }
      },
      "text/html": [
       "<div>                            <div id=\"4954fccb-8944-4b9e-96fe-950b1d0c5d97\" class=\"plotly-graph-div\" style=\"height:525px; width:100%;\"></div>            <script type=\"text/javascript\">                require([\"plotly\"], function(Plotly) {                    window.PLOTLYENV=window.PLOTLYENV || {};                                    if (document.getElementById(\"4954fccb-8944-4b9e-96fe-950b1d0c5d97\")) {                    Plotly.newPlot(                        \"4954fccb-8944-4b9e-96fe-950b1d0c5d97\",                        [{\"alignmentgroup\":\"True\",\"hovertemplate\":\"Spender type=Candidate\\u003cbr\\u003eYear=%{x}\\u003cbr\\u003eTotal Expenditure Log=%{y}\\u003cextra\\u003e\\u003c\\u002fextra\\u003e\",\"legendgroup\":\"Candidate\",\"marker\":{\"color\":\"#636efa\",\"pattern\":{\"shape\":\"\"}},\"name\":\"Candidate\",\"offsetgroup\":\"Candidate\",\"orientation\":\"v\",\"showlegend\":true,\"textposition\":\"auto\",\"x\":[2015,2016,2017,2018,2019,2020,2021,2022],\"xaxis\":\"x\",\"y\":[1872357.6300000001,12202305.87,4645729.5,24822794.61,2509649.32,14291474.18,4363010.58,56673722.95],\"yaxis\":\"y\",\"type\":\"bar\"},{\"alignmentgroup\":\"True\",\"hovertemplate\":\"Spender type=Political Committee and Fund\\u003cbr\\u003eYear=%{x}\\u003cbr\\u003eTotal Expenditure Log=%{y}\\u003cextra\\u003e\\u003c\\u002fextra\\u003e\",\"legendgroup\":\"Political Committee and Fund\",\"marker\":{\"color\":\"#EF553B\",\"pattern\":{\"shape\":\"\"}},\"name\":\"Political Committee and Fund\",\"offsetgroup\":\"Political Committee and Fund\",\"orientation\":\"v\",\"showlegend\":true,\"textposition\":\"auto\",\"x\":[2015,2016,2017,2018,2019,2020,2021,2022,2023],\"xaxis\":\"x\",\"y\":[11987522.85,22221198.87,6419548.32,48089439.75,9271282.7,33063222.92,8686374.42,1805455240.03,4007007.67],\"yaxis\":\"y\",\"type\":\"bar\"},{\"alignmentgroup\":\"True\",\"hovertemplate\":\"Spender type=Political Party Unit\\u003cbr\\u003eYear=%{x}\\u003cbr\\u003eTotal Expenditure Log=%{y}\\u003cextra\\u003e\\u003c\\u002fextra\\u003e\",\"legendgroup\":\"Political Party Unit\",\"marker\":{\"color\":\"#00cc96\",\"pattern\":{\"shape\":\"\"}},\"name\":\"Political Party Unit\",\"offsetgroup\":\"Political Party Unit\",\"orientation\":\"v\",\"showlegend\":true,\"textposition\":\"auto\",\"x\":[2015,2016,2017,2018,2019,2020,2021,2022,2023],\"xaxis\":\"x\",\"y\":[4764100.75,18474648.23,4612037.62,22082298.96,6390412.7422,24447296.627,6226926.8,935491592.005,32803.71],\"yaxis\":\"y\",\"type\":\"bar\"}],                        {\"template\":{\"data\":{\"histogram2dcontour\":[{\"type\":\"histogram2dcontour\",\"colorbar\":{\"outlinewidth\":0,\"ticks\":\"\"},\"colorscale\":[[0.0,\"#0d0887\"],[0.1111111111111111,\"#46039f\"],[0.2222222222222222,\"#7201a8\"],[0.3333333333333333,\"#9c179e\"],[0.4444444444444444,\"#bd3786\"],[0.5555555555555556,\"#d8576b\"],[0.6666666666666666,\"#ed7953\"],[0.7777777777777778,\"#fb9f3a\"],[0.8888888888888888,\"#fdca26\"],[1.0,\"#f0f921\"]]}],\"choropleth\":[{\"type\":\"choropleth\",\"colorbar\":{\"outlinewidth\":0,\"ticks\":\"\"}}],\"histogram2d\":[{\"type\":\"histogram2d\",\"colorbar\":{\"outlinewidth\":0,\"ticks\":\"\"},\"colorscale\":[[0.0,\"#0d0887\"],[0.1111111111111111,\"#46039f\"],[0.2222222222222222,\"#7201a8\"],[0.3333333333333333,\"#9c179e\"],[0.4444444444444444,\"#bd3786\"],[0.5555555555555556,\"#d8576b\"],[0.6666666666666666,\"#ed7953\"],[0.7777777777777778,\"#fb9f3a\"],[0.8888888888888888,\"#fdca26\"],[1.0,\"#f0f921\"]]}],\"heatmap\":[{\"type\":\"heatmap\",\"colorbar\":{\"outlinewidth\":0,\"ticks\":\"\"},\"colorscale\":[[0.0,\"#0d0887\"],[0.1111111111111111,\"#46039f\"],[0.2222222222222222,\"#7201a8\"],[0.3333333333333333,\"#9c179e\"],[0.4444444444444444,\"#bd3786\"],[0.5555555555555556,\"#d8576b\"],[0.6666666666666666,\"#ed7953\"],[0.7777777777777778,\"#fb9f3a\"],[0.8888888888888888,\"#fdca26\"],[1.0,\"#f0f921\"]]}],\"heatmapgl\":[{\"type\":\"heatmapgl\",\"colorbar\":{\"outlinewidth\":0,\"ticks\":\"\"},\"colorscale\":[[0.0,\"#0d0887\"],[0.1111111111111111,\"#46039f\"],[0.2222222222222222,\"#7201a8\"],[0.3333333333333333,\"#9c179e\"],[0.4444444444444444,\"#bd3786\"],[0.5555555555555556,\"#d8576b\"],[0.6666666666666666,\"#ed7953\"],[0.7777777777777778,\"#fb9f3a\"],[0.8888888888888888,\"#fdca26\"],[1.0,\"#f0f921\"]]}],\"contourcarpet\":[{\"type\":\"contourcarpet\",\"colorbar\":{\"outlinewidth\":0,\"ticks\":\"\"}}],\"contour\":[{\"type\":\"contour\",\"colorbar\":{\"outlinewidth\":0,\"ticks\":\"\"},\"colorscale\":[[0.0,\"#0d0887\"],[0.1111111111111111,\"#46039f\"],[0.2222222222222222,\"#7201a8\"],[0.3333333333333333,\"#9c179e\"],[0.4444444444444444,\"#bd3786\"],[0.5555555555555556,\"#d8576b\"],[0.6666666666666666,\"#ed7953\"],[0.7777777777777778,\"#fb9f3a\"],[0.8888888888888888,\"#fdca26\"],[1.0,\"#f0f921\"]]}],\"surface\":[{\"type\":\"surface\",\"colorbar\":{\"outlinewidth\":0,\"ticks\":\"\"},\"colorscale\":[[0.0,\"#0d0887\"],[0.1111111111111111,\"#46039f\"],[0.2222222222222222,\"#7201a8\"],[0.3333333333333333,\"#9c179e\"],[0.4444444444444444,\"#bd3786\"],[0.5555555555555556,\"#d8576b\"],[0.6666666666666666,\"#ed7953\"],[0.7777777777777778,\"#fb9f3a\"],[0.8888888888888888,\"#fdca26\"],[1.0,\"#f0f921\"]]}],\"mesh3d\":[{\"type\":\"mesh3d\",\"colorbar\":{\"outlinewidth\":0,\"ticks\":\"\"}}],\"scatter\":[{\"fillpattern\":{\"fillmode\":\"overlay\",\"size\":10,\"solidity\":0.2},\"type\":\"scatter\"}],\"parcoords\":[{\"type\":\"parcoords\",\"line\":{\"colorbar\":{\"outlinewidth\":0,\"ticks\":\"\"}}}],\"scatterpolargl\":[{\"type\":\"scatterpolargl\",\"marker\":{\"colorbar\":{\"outlinewidth\":0,\"ticks\":\"\"}}}],\"bar\":[{\"error_x\":{\"color\":\"#2a3f5f\"},\"error_y\":{\"color\":\"#2a3f5f\"},\"marker\":{\"line\":{\"color\":\"#E5ECF6\",\"width\":0.5},\"pattern\":{\"fillmode\":\"overlay\",\"size\":10,\"solidity\":0.2}},\"type\":\"bar\"}],\"scattergeo\":[{\"type\":\"scattergeo\",\"marker\":{\"colorbar\":{\"outlinewidth\":0,\"ticks\":\"\"}}}],\"scatterpolar\":[{\"type\":\"scatterpolar\",\"marker\":{\"colorbar\":{\"outlinewidth\":0,\"ticks\":\"\"}}}],\"histogram\":[{\"marker\":{\"pattern\":{\"fillmode\":\"overlay\",\"size\":10,\"solidity\":0.2}},\"type\":\"histogram\"}],\"scattergl\":[{\"type\":\"scattergl\",\"marker\":{\"colorbar\":{\"outlinewidth\":0,\"ticks\":\"\"}}}],\"scatter3d\":[{\"type\":\"scatter3d\",\"line\":{\"colorbar\":{\"outlinewidth\":0,\"ticks\":\"\"}},\"marker\":{\"colorbar\":{\"outlinewidth\":0,\"ticks\":\"\"}}}],\"scattermapbox\":[{\"type\":\"scattermapbox\",\"marker\":{\"colorbar\":{\"outlinewidth\":0,\"ticks\":\"\"}}}],\"scatterternary\":[{\"type\":\"scatterternary\",\"marker\":{\"colorbar\":{\"outlinewidth\":0,\"ticks\":\"\"}}}],\"scattercarpet\":[{\"type\":\"scattercarpet\",\"marker\":{\"colorbar\":{\"outlinewidth\":0,\"ticks\":\"\"}}}],\"carpet\":[{\"aaxis\":{\"endlinecolor\":\"#2a3f5f\",\"gridcolor\":\"white\",\"linecolor\":\"white\",\"minorgridcolor\":\"white\",\"startlinecolor\":\"#2a3f5f\"},\"baxis\":{\"endlinecolor\":\"#2a3f5f\",\"gridcolor\":\"white\",\"linecolor\":\"white\",\"minorgridcolor\":\"white\",\"startlinecolor\":\"#2a3f5f\"},\"type\":\"carpet\"}],\"table\":[{\"cells\":{\"fill\":{\"color\":\"#EBF0F8\"},\"line\":{\"color\":\"white\"}},\"header\":{\"fill\":{\"color\":\"#C8D4E3\"},\"line\":{\"color\":\"white\"}},\"type\":\"table\"}],\"barpolar\":[{\"marker\":{\"line\":{\"color\":\"#E5ECF6\",\"width\":0.5},\"pattern\":{\"fillmode\":\"overlay\",\"size\":10,\"solidity\":0.2}},\"type\":\"barpolar\"}],\"pie\":[{\"automargin\":true,\"type\":\"pie\"}]},\"layout\":{\"autotypenumbers\":\"strict\",\"colorway\":[\"#636efa\",\"#EF553B\",\"#00cc96\",\"#ab63fa\",\"#FFA15A\",\"#19d3f3\",\"#FF6692\",\"#B6E880\",\"#FF97FF\",\"#FECB52\"],\"font\":{\"color\":\"#2a3f5f\"},\"hovermode\":\"closest\",\"hoverlabel\":{\"align\":\"left\"},\"paper_bgcolor\":\"white\",\"plot_bgcolor\":\"#E5ECF6\",\"polar\":{\"bgcolor\":\"#E5ECF6\",\"angularaxis\":{\"gridcolor\":\"white\",\"linecolor\":\"white\",\"ticks\":\"\"},\"radialaxis\":{\"gridcolor\":\"white\",\"linecolor\":\"white\",\"ticks\":\"\"}},\"ternary\":{\"bgcolor\":\"#E5ECF6\",\"aaxis\":{\"gridcolor\":\"white\",\"linecolor\":\"white\",\"ticks\":\"\"},\"baxis\":{\"gridcolor\":\"white\",\"linecolor\":\"white\",\"ticks\":\"\"},\"caxis\":{\"gridcolor\":\"white\",\"linecolor\":\"white\",\"ticks\":\"\"}},\"coloraxis\":{\"colorbar\":{\"outlinewidth\":0,\"ticks\":\"\"}},\"colorscale\":{\"sequential\":[[0.0,\"#0d0887\"],[0.1111111111111111,\"#46039f\"],[0.2222222222222222,\"#7201a8\"],[0.3333333333333333,\"#9c179e\"],[0.4444444444444444,\"#bd3786\"],[0.5555555555555556,\"#d8576b\"],[0.6666666666666666,\"#ed7953\"],[0.7777777777777778,\"#fb9f3a\"],[0.8888888888888888,\"#fdca26\"],[1.0,\"#f0f921\"]],\"sequentialminus\":[[0.0,\"#0d0887\"],[0.1111111111111111,\"#46039f\"],[0.2222222222222222,\"#7201a8\"],[0.3333333333333333,\"#9c179e\"],[0.4444444444444444,\"#bd3786\"],[0.5555555555555556,\"#d8576b\"],[0.6666666666666666,\"#ed7953\"],[0.7777777777777778,\"#fb9f3a\"],[0.8888888888888888,\"#fdca26\"],[1.0,\"#f0f921\"]],\"diverging\":[[0,\"#8e0152\"],[0.1,\"#c51b7d\"],[0.2,\"#de77ae\"],[0.3,\"#f1b6da\"],[0.4,\"#fde0ef\"],[0.5,\"#f7f7f7\"],[0.6,\"#e6f5d0\"],[0.7,\"#b8e186\"],[0.8,\"#7fbc41\"],[0.9,\"#4d9221\"],[1,\"#276419\"]]},\"xaxis\":{\"gridcolor\":\"white\",\"linecolor\":\"white\",\"ticks\":\"\",\"title\":{\"standoff\":15},\"zerolinecolor\":\"white\",\"automargin\":true,\"zerolinewidth\":2},\"yaxis\":{\"gridcolor\":\"white\",\"linecolor\":\"white\",\"ticks\":\"\",\"title\":{\"standoff\":15},\"zerolinecolor\":\"white\",\"automargin\":true,\"zerolinewidth\":2},\"scene\":{\"xaxis\":{\"backgroundcolor\":\"#E5ECF6\",\"gridcolor\":\"white\",\"linecolor\":\"white\",\"showbackground\":true,\"ticks\":\"\",\"zerolinecolor\":\"white\",\"gridwidth\":2},\"yaxis\":{\"backgroundcolor\":\"#E5ECF6\",\"gridcolor\":\"white\",\"linecolor\":\"white\",\"showbackground\":true,\"ticks\":\"\",\"zerolinecolor\":\"white\",\"gridwidth\":2},\"zaxis\":{\"backgroundcolor\":\"#E5ECF6\",\"gridcolor\":\"white\",\"linecolor\":\"white\",\"showbackground\":true,\"ticks\":\"\",\"zerolinecolor\":\"white\",\"gridwidth\":2}},\"shapedefaults\":{\"line\":{\"color\":\"#2a3f5f\"}},\"annotationdefaults\":{\"arrowcolor\":\"#2a3f5f\",\"arrowhead\":0,\"arrowwidth\":1},\"geo\":{\"bgcolor\":\"white\",\"landcolor\":\"#E5ECF6\",\"subunitcolor\":\"white\",\"showland\":true,\"showlakes\":true,\"lakecolor\":\"white\"},\"title\":{\"x\":0.05},\"mapbox\":{\"style\":\"light\"}}},\"xaxis\":{\"anchor\":\"y\",\"domain\":[0.0,1.0],\"title\":{\"text\":\"Year\"}},\"yaxis\":{\"anchor\":\"x\",\"domain\":[0.0,1.0],\"title\":{\"text\":\"Total Expenditure Log\"},\"type\":\"log\"},\"legend\":{\"title\":{\"text\":\"Spender type\"},\"tracegroupgap\":0},\"title\":{\"text\":\"Expenditure by Spender Type from 2015 to 2022\"},\"barmode\":\"relative\"},                        {\"responsive\": true}                    ).then(function(){\n",
       "                            \n",
       "var gd = document.getElementById('4954fccb-8944-4b9e-96fe-950b1d0c5d97');\n",
       "var x = new MutationObserver(function (mutations, observer) {{\n",
       "        var display = window.getComputedStyle(gd).display;\n",
       "        if (!display || display === 'none') {{\n",
       "            console.log([gd, 'removed!']);\n",
       "            Plotly.purge(gd);\n",
       "            observer.disconnect();\n",
       "        }}\n",
       "}});\n",
       "\n",
       "// Listen for the removal of the full notebook cells\n",
       "var notebookContainer = gd.closest('#notebook-container');\n",
       "if (notebookContainer) {{\n",
       "    x.observe(notebookContainer, {childList: true});\n",
       "}}\n",
       "\n",
       "// Listen for the clearing of the current output cell\n",
       "var outputEl = gd.closest('.output');\n",
       "if (outputEl) {{\n",
       "    x.observe(outputEl, {childList: true});\n",
       "}}\n",
       "\n",
       "                        })                };                });            </script>        </div>"
      ]
     },
     "metadata": {},
     "output_type": "display_data"
    }
   ],
   "source": [
    "grouped = df_expenditure.groupby(['Year', 'Spender type'])['TotalAmount'].sum().reset_index()\n",
    "grouped['Full Spender Type'] = grouped['Spender type'].map(spendor_type_mapping)\n",
    "\n",
    "fig = px.bar(\n",
    "    grouped,\n",
    "    x='Year',\n",
    "    y='TotalAmount',\n",
    "    color='Full Spender Type',\n",
    "    title='Expenditure by Spender Type from 2015 to 2022',\n",
    "    labels={\"Year\": \"Year\", \"TotalAmount\": \"Total Expenditure Log\", \"Full Spender Type\": \"Spender type\"},\n",
    "    category_orders={\"Full Spender Type\": sorted(spendor_type_mapping.values())}\n",
    ")\n",
    "fig.update_yaxes(type='log')\n",
    "fig.show()"
   ]
  },
  {
   "cell_type": "code",
   "execution_count": 56,
   "metadata": {},
   "outputs": [
    {
     "data": {
      "text/plain": [
       "Year                            int64\n",
       "Spender Reg Num                 int64\n",
       "Spender Name                   object\n",
       "Spender type                   object\n",
       "Spender sub-type               object\n",
       "Vendor name                    object\n",
       "Vendor state                   object\n",
       "Vendor city                    object\n",
       "Amount                        float64\n",
       "Unpaid amount                 float64\n",
       "In-kind?                       object\n",
       "In-kind descr                  object\n",
       "Type                           object\n",
       "Purpose                        object\n",
       "Affected committee name        object\n",
       "Affected committee reg num    float64\n",
       "TotalAmount                   float64\n",
       "dtype: object"
      ]
     },
     "execution_count": 56,
     "metadata": {},
     "output_type": "execute_result"
    }
   ],
   "source": [
    "df_expenditure.dtypes"
   ]
  }
 ],
 "metadata": {
  "kernelspec": {
   "display_name": "base",
   "language": "python",
   "name": "python3"
  },
  "language_info": {
   "codemirror_mode": {
    "name": "ipython",
    "version": 3
   },
   "file_extension": ".py",
   "mimetype": "text/x-python",
   "name": "python",
   "nbconvert_exporter": "python",
   "pygments_lexer": "ipython3",
   "version": "3.11.6"
  }
 },
 "nbformat": 4,
 "nbformat_minor": 2
}
